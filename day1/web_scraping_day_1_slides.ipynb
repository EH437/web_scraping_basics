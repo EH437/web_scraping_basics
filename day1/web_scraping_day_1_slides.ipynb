{
 "cells": [
  {
   "cell_type": "markdown",
   "id": "b7e57141",
   "metadata": {
    "slideshow": {
     "slide_type": "slide"
    },
    "tags": []
   },
   "source": [
    "# Python을 활용한 web scraping 기초\n",
    "\n",
    "2021.08.11"
   ]
  },
  {
   "cell_type": "markdown",
   "id": "b508dbfb-3dd6-498d-97af-5ab8a7be660f",
   "metadata": {
    "slideshow": {
     "slide_type": "-"
    }
   },
   "source": [
    "---"
   ]
  },
  {
   "cell_type": "markdown",
   "id": "07ec712f-8491-481e-9846-97c2e9e55ce9",
   "metadata": {
    "slideshow": {
     "slide_type": "slide"
    },
    "tags": []
   },
   "source": [
    "# 목차 "
   ]
  },
  {
   "cell_type": "markdown",
   "id": "e440b6e7",
   "metadata": {
    "slideshow": {
     "slide_type": "fragment"
    }
   },
   "source": [
    "0. 개요\n",
    "\n",
    "1. Web Crawling vs Web Scraping\n",
    "\n",
    "2. 웹스크래핑 문제\n",
    "\n",
    "3. 환경 설정  \n",
    "3-1. anaconda / miniconda 설치  \n",
    "3-2. 가상환경 설정  \n",
    "3-3. Packages  \n",
    "3-4. Chrome & chromedriver  \n",
    "3-5. jupyter lab / jupyter notebook  \n",
    "\n",
    "4. Python 소개  \n",
    "4-1. 데이터 타입  \n",
    "4-2. 데이터 구조  \n",
    "4-3. 조건문  \n",
    "4-4. 반복문  \n",
    "\n",
    "5. Web 구조와 웹페이지 이해    \n",
    "5-1. Internet Protocol   \n",
    "5-2. 웹페이지 기본 구조  "
   ]
  },
  {
   "cell_type": "markdown",
   "id": "aea80ca8",
   "metadata": {
    "slideshow": {
     "slide_type": "subslide"
    }
   },
   "source": [
    "6. 웹페이지 데이터 가져오기    \n",
    "6-0. Open API?  \n",
    "6-1. 과정  \n",
    "6-2. 예제 1: 대통령 연설문  \n",
    "6-2-1. 웹페이지 가져오기 - Selenium  \n",
    "6-2-2. 페이지 구조 분석  \n",
    "6-2-3. 필요한 부분 추출  \n",
    "6-2-4. 데이터 저장  \n",
    "6-2-5. 정리  \n",
    "\n",
    "7. 연결된 웹페이지 데이터 가져오기      \n",
    "7-1. 연결된 웹페이지 분석  \n",
    "7-2. 추출 자동화  \n",
    "\n",
    "8. 다음 페이지로 넘어가는 방법: Pagination  "
   ]
  },
  {
   "cell_type": "markdown",
   "id": "f04b17dd-b03d-4715-b890-7f32c74c3c7a",
   "metadata": {
    "slideshow": {
     "slide_type": "skip"
    }
   },
   "source": [
    "---"
   ]
  },
  {
   "cell_type": "markdown",
   "id": "bdefbf05-13b9-4f4c-b4c7-20f7f30c68cb",
   "metadata": {
    "slideshow": {
     "slide_type": "slide"
    },
    "tags": []
   },
   "source": [
    "# 0. 개요"
   ]
  },
  {
   "cell_type": "markdown",
   "id": "84cf9662",
   "metadata": {
    "slideshow": {
     "slide_type": "fragment"
    }
   },
   "source": [
    "* 초보자 대상\n",
    "* 기본 구조를 이해하고 활용하기 위한 기초 단계 \n",
    "* 가장 기본적인 방법을 통해 데이터를 가져오기\n"
   ]
  },
  {
   "cell_type": "markdown",
   "id": "d7539eef",
   "metadata": {
    "slideshow": {
     "slide_type": "subslide"
    }
   },
   "source": [
    "![enough_for_today](https://tutorial.eyehunts.com/wp-content/uploads/2021/07/208073311_1453256311692332_8313631719648907675_n.jpg)"
   ]
  },
  {
   "cell_type": "markdown",
   "id": "e834d96a",
   "metadata": {
    "slideshow": {
     "slide_type": "subslide"
    }
   },
   "source": [
    "> ( 데이터 수집 > 저장 ) > 정리 > 분석 > 시각화/리포트"
   ]
  },
  {
   "cell_type": "markdown",
   "id": "68f8b5ac-bcf8-45c0-95e1-bddae9b63cc0",
   "metadata": {
    "slideshow": {
     "slide_type": "skip"
    }
   },
   "source": [
    "---"
   ]
  },
  {
   "cell_type": "markdown",
   "id": "b6149624-e172-4b5d-8ab1-ad924e8a7ef8",
   "metadata": {
    "slideshow": {
     "slide_type": "slide"
    }
   },
   "source": [
    "# 1. Web Crawling vs Web Scraping"
   ]
  },
  {
   "cell_type": "markdown",
   "id": "72fe31e0",
   "metadata": {
    "slideshow": {
     "slide_type": "fragment"
    }
   },
   "source": [
    "![data_meme](https://memecreator.org/static/images/memes/5065598.jpg)"
   ]
  },
  {
   "cell_type": "markdown",
   "id": "49b839bb",
   "metadata": {
    "slideshow": {
     "slide_type": "fragment"
    }
   },
   "source": [
    "웹크롤링과 웹스크래핑은 밀접하게 관련되어 있고 두 용어를 혼용하는 경우도 많지만 둘 간에는 차이가 존재  "
   ]
  },
  {
   "cell_type": "markdown",
   "id": "1a9aae34",
   "metadata": {
    "slideshow": {
     "slide_type": "fragment"
    }
   },
   "source": [
    "* 웹 상에 존재하는 데이터를 자동으로 탐색하여 데이터를 수집하는 경우: 웹크롤링  \n",
    "검색엔진에서 링크 내 컨텐츠를 추출하고 다른 링크를 확인하는 등 웹사이트의 구조를 파악하거나 복사본 등을 만들 때 활용"
   ]
  },
  {
   "cell_type": "markdown",
   "id": "9ec70fb6",
   "metadata": {
    "slideshow": {
     "slide_type": "fragment"
    }
   },
   "source": [
    "* 웹페이지에서 원하는 특정 데이터를 추출하는 경우: 웹스크래핑   \n",
    "필요한 데이터를 중심으로 가공  "
   ]
  },
  {
   "cell_type": "markdown",
   "id": "7cb64e2b-8cd9-459e-bb4f-97ee3e29b75c",
   "metadata": {
    "slideshow": {
     "slide_type": "skip"
    }
   },
   "source": [
    "---"
   ]
  },
  {
   "cell_type": "markdown",
   "id": "2a319c74-9405-490c-a895-bf69ec586763",
   "metadata": {
    "slideshow": {
     "slide_type": "slide"
    }
   },
   "source": [
    "# 2. 웹스크래핑이 문제 되는 경우"
   ]
  },
  {
   "cell_type": "markdown",
   "id": "c83732c3",
   "metadata": {
    "slideshow": {
     "slide_type": "fragment"
    }
   },
   "source": [
    "웹사이트에서 원하는 데이터를 추출하기 위해 서버에 요청을 **반복적**으로 보냄  \n",
    "* 자동화된 프로그램으로 정보를 요청하기 때문에 서버에 지나치게 많은 요청을 보내게 되면 서버 부하가 발생할 수 있음  \n",
    "* 더 빠르게 데이터를 수집하기 위해 서버에 부하를 줄 정도로 반복하는 경우 문제  "
   ]
  },
  {
   "cell_type": "markdown",
   "id": "80a0ef9a",
   "metadata": {
    "slideshow": {
     "slide_type": "fragment"
    }
   },
   "source": [
    "웹사이트 별로 자동화 프로그램에 대한 정책을 명시해놓는 경우가 많음  "
   ]
  },
  {
   "cell_type": "markdown",
   "id": "8961b346",
   "metadata": {
    "slideshow": {
     "slide_type": "subslide"
    }
   },
   "source": [
    "## robots.txt  \n",
    "robots.txt의 내용이 강제성이 있는 것은 아닌 권고안 정도의 의미\n",
    "\n",
    "* User-agent:* 모든 접속자가 아래 내용을 따라달라는 의미  \n",
    "* Disallow: / 모든 페이지에 대해 접근을 허용하지 않음  \n",
    "* Allow: /$ 첫 페이지에 대해서는 접근을 허용  \n",
    "\n",
    "> https://www.google.com/robots.txt\n",
    "\n",
    "이외에도 요청 빈도 등에 대해 별도로 명시해 놓은 경우도 있음"
   ]
  },
  {
   "cell_type": "markdown",
   "id": "e4843dd3-ab31-4c28-b267-1ab59dcd95d5",
   "metadata": {
    "slideshow": {
     "slide_type": "skip"
    }
   },
   "source": [
    "---"
   ]
  },
  {
   "cell_type": "markdown",
   "id": "981d474c-604d-4acd-8330-d028c4324df9",
   "metadata": {
    "slideshow": {
     "slide_type": "slide"
    }
   },
   "source": [
    "# 3. Python 환경 설정"
   ]
  },
  {
   "cell_type": "markdown",
   "id": "0c9b39b0",
   "metadata": {
    "slideshow": {
     "slide_type": "subslide"
    }
   },
   "source": [
    "## 3-1. anaconda / miniconda 설치\n",
    "\n",
    "* anaconda: https://www.anaconda.com/products/individual\n",
    "* miniconda: https://docs.conda.io/en/latest/miniconda.html"
   ]
  },
  {
   "cell_type": "markdown",
   "id": "ec4967ac",
   "metadata": {
    "slideshow": {
     "slide_type": "subslide"
    }
   },
   "source": [
    "## 3-2. 가상환경 설정\n",
    "\n",
    "https://conda.io/projects/conda/en/latest/user-guide/tasks/manage-environments.html#\n",
    "\n",
    "```python\n",
    "conda create -n web python=3.8\n",
    "conda activate web\n",
    "```"
   ]
  },
  {
   "cell_type": "markdown",
   "id": "40012d2a",
   "metadata": {
    "slideshow": {
     "slide_type": "subslide"
    }
   },
   "source": [
    "## 3-3. Packages\n",
    "\n",
    "* jupyter lab: https://jupyter.org/\n",
    "* pandas: https://pandas.pydata.org/  \n",
    "* selenium: https://www.selenium.dev/\n",
    "* requests: https://docs.python-requests.org/en/master/\n",
    "* beautifulsoup: https://www.crummy.com/software/BeautifulSoup/bs4/doc/\n",
    "\n",
    "```python\n",
    "conda install jupyterlab\n",
    "conda install pandas\n",
    "conda install selenium\n",
    "\n",
    "conda install requests\n",
    "conda install beautifulsoup4\n",
    "\n",
    "```"
   ]
  },
  {
   "cell_type": "markdown",
   "id": "33c5f62e-0482-4cef-a56c-5f61d88dcef7",
   "metadata": {
    "slideshow": {
     "slide_type": "subslide"
    }
   },
   "source": [
    "## 3-4. Chrome & chromedriver\n",
    "\n",
    "* google chrome: https://www.google.com/chrome/\n",
    "* chromedriver: https://chromedriver.chromium.org/downloads\n",
    "  * webdriver-manager: https://github.com/SergeyPirogov/webdriver_manager"
   ]
  },
  {
   "cell_type": "markdown",
   "id": "0abf80a9-8cc4-451c-9ff0-b234885b7f99",
   "metadata": {
    "slideshow": {
     "slide_type": "slide"
    }
   },
   "source": [
    "## 3-5. jupyter lab / notebook"
   ]
  },
  {
   "cell_type": "markdown",
   "id": "29f59ee4",
   "metadata": {
    "slideshow": {
     "slide_type": "fragment"
    }
   },
   "source": [
    "* markdown: https://www.markdownguide.org/basic-syntax/\n",
    "* code"
   ]
  },
  {
   "cell_type": "code",
   "execution_count": null,
   "id": "a9b4e251",
   "metadata": {
    "slideshow": {
     "slide_type": "fragment"
    }
   },
   "outputs": [],
   "source": [
    "print('python')"
   ]
  },
  {
   "cell_type": "code",
   "execution_count": null,
   "id": "952ed215",
   "metadata": {
    "slideshow": {
     "slide_type": "fragment"
    }
   },
   "outputs": [],
   "source": [
    "print(8+11)"
   ]
  },
  {
   "cell_type": "code",
   "execution_count": null,
   "id": "aa446602",
   "metadata": {
    "slideshow": {
     "slide_type": "fragment"
    }
   },
   "outputs": [],
   "source": [
    "num1 = 8\n",
    "num2 = 11\n",
    "print(num1 + num2)\n",
    "print(num1 * num2)"
   ]
  },
  {
   "cell_type": "code",
   "execution_count": null,
   "id": "736017cc",
   "metadata": {
    "slideshow": {
     "slide_type": "fragment"
    }
   },
   "outputs": [],
   "source": [
    "name = input('name: ')\n",
    "print('hello, ', name)"
   ]
  },
  {
   "cell_type": "markdown",
   "id": "aae36586-717d-4f12-a47b-41b4cd8d189f",
   "metadata": {
    "slideshow": {
     "slide_type": "skip"
    }
   },
   "source": [
    "---"
   ]
  },
  {
   "cell_type": "markdown",
   "id": "b82f1aee-6995-4c05-b315-ae4cbf5d358c",
   "metadata": {
    "slideshow": {
     "slide_type": "slide"
    }
   },
   "source": [
    "# 4. Python 소개"
   ]
  },
  {
   "cell_type": "markdown",
   "id": "1965c6d4",
   "metadata": {
    "slideshow": {
     "slide_type": "subslide"
    }
   },
   "source": [
    "## 4-1. 데이터 타입\n",
    "\n",
    "* int\n",
    "* float\n",
    "* str\n",
    "* bool"
   ]
  },
  {
   "cell_type": "markdown",
   "id": "e57035c3",
   "metadata": {
    "slideshow": {
     "slide_type": "subslide"
    }
   },
   "source": [
    "### string"
   ]
  },
  {
   "cell_type": "code",
   "execution_count": 2,
   "id": "173f53e3",
   "metadata": {
    "slideshow": {
     "slide_type": "fragment"
    }
   },
   "outputs": [
    {
     "data": {
      "text/plain": [
       "6"
      ]
     },
     "execution_count": 2,
     "metadata": {},
     "output_type": "execute_result"
    }
   ],
   "source": [
    "name = 'python'\n",
    "len(name)"
   ]
  },
  {
   "cell_type": "code",
   "execution_count": 3,
   "id": "9aad13c4",
   "metadata": {
    "slideshow": {
     "slide_type": "fragment"
    }
   },
   "outputs": [
    {
     "data": {
      "text/plain": [
       "10"
      ]
     },
     "execution_count": 3,
     "metadata": {},
     "output_type": "execute_result"
    }
   ],
   "source": [
    "name_with_space = '  python  '\n",
    "len(name_with_space)"
   ]
  },
  {
   "cell_type": "code",
   "execution_count": 5,
   "id": "9d358ad5",
   "metadata": {
    "slideshow": {
     "slide_type": "fragment"
    }
   },
   "outputs": [
    {
     "name": "stdout",
     "output_type": "stream",
     "text": [
      "print variable1:python, print variable2:  python  \n"
     ]
    }
   ],
   "source": [
    "print('print variable1:{}, print variable2:{}'.format(name, name_with_space))"
   ]
  },
  {
   "cell_type": "code",
   "execution_count": 6,
   "id": "b2be9e7a",
   "metadata": {
    "scrolled": true,
    "slideshow": {
     "slide_type": "fragment"
    }
   },
   "outputs": [
    {
     "data": {
      "text/plain": [
       "'python'"
      ]
     },
     "execution_count": 6,
     "metadata": {},
     "output_type": "execute_result"
    }
   ],
   "source": [
    "name_with_space.strip()"
   ]
  },
  {
   "cell_type": "code",
   "execution_count": 7,
   "id": "24970a31",
   "metadata": {
    "slideshow": {
     "slide_type": "subslide"
    }
   },
   "outputs": [],
   "source": [
    "split_string = 'section1|section2|section3'\n",
    "section = split_string.split('|')"
   ]
  },
  {
   "cell_type": "code",
   "execution_count": 8,
   "id": "4d44bf4c",
   "metadata": {
    "slideshow": {
     "slide_type": "fragment"
    }
   },
   "outputs": [
    {
     "name": "stdout",
     "output_type": "stream",
     "text": [
      "section1\n"
     ]
    }
   ],
   "source": [
    "print(section[0]) "
   ]
  },
  {
   "cell_type": "code",
   "execution_count": 9,
   "id": "310fd8aa",
   "metadata": {
    "slideshow": {
     "slide_type": "fragment"
    }
   },
   "outputs": [
    {
     "name": "stdout",
     "output_type": "stream",
     "text": [
      "section3\n"
     ]
    }
   ],
   "source": [
    "print(section[2])"
   ]
  },
  {
   "cell_type": "markdown",
   "id": "0ec0de94-fd5c-4157-a659-ff83925a78f4",
   "metadata": {
    "slideshow": {
     "slide_type": "subslide"
    }
   },
   "source": [
    "## 4-2. 데이터구조\n",
    "\n",
    "* list\n",
    "* dictionary\n",
    "* tuple\n",
    "* set"
   ]
  },
  {
   "cell_type": "markdown",
   "id": "14f5c2de",
   "metadata": {
    "slideshow": {
     "slide_type": "subslide"
    }
   },
   "source": [
    "### list"
   ]
  },
  {
   "cell_type": "code",
   "execution_count": 10,
   "id": "293ae0b6",
   "metadata": {
    "slideshow": {
     "slide_type": "fragment"
    }
   },
   "outputs": [
    {
     "name": "stdout",
     "output_type": "stream",
     "text": [
      "['name1', 'name2', 'name3']\n"
     ]
    }
   ],
   "source": [
    "list1 = ['name1', 'name2', 'name3']\n",
    "print(list1)"
   ]
  },
  {
   "cell_type": "code",
   "execution_count": 11,
   "id": "ab8bc3c4",
   "metadata": {
    "slideshow": {
     "slide_type": "fragment"
    }
   },
   "outputs": [
    {
     "name": "stdout",
     "output_type": "stream",
     "text": [
      "name1\n"
     ]
    }
   ],
   "source": [
    "print(list1[0])"
   ]
  },
  {
   "cell_type": "code",
   "execution_count": 12,
   "id": "2d56d172",
   "metadata": {},
   "outputs": [
    {
     "name": "stdout",
     "output_type": "stream",
     "text": [
      "name2\n"
     ]
    }
   ],
   "source": [
    "print(list1[1])"
   ]
  },
  {
   "cell_type": "code",
   "execution_count": 13,
   "id": "de16edc1",
   "metadata": {
    "slideshow": {
     "slide_type": "fragment"
    }
   },
   "outputs": [
    {
     "name": "stdout",
     "output_type": "stream",
     "text": [
      "['name1', 'name2', 'name3', 'name4']\n"
     ]
    }
   ],
   "source": [
    "list1.append('name4')\n",
    "print(list1)"
   ]
  },
  {
   "cell_type": "code",
   "execution_count": 14,
   "id": "db35be47",
   "metadata": {},
   "outputs": [
    {
     "name": "stdout",
     "output_type": "stream",
     "text": [
      "name4\n"
     ]
    }
   ],
   "source": [
    "print(list1[3])"
   ]
  },
  {
   "cell_type": "code",
   "execution_count": 17,
   "id": "3c2e7993",
   "metadata": {},
   "outputs": [
    {
     "name": "stdout",
     "output_type": "stream",
     "text": [
      "5\n"
     ]
    }
   ],
   "source": [
    "print(len('name1'))"
   ]
  },
  {
   "cell_type": "code",
   "execution_count": 18,
   "id": "415c3c04",
   "metadata": {
    "slideshow": {
     "slide_type": "fragment"
    }
   },
   "outputs": [
    {
     "name": "stdout",
     "output_type": "stream",
     "text": [
      "5\n"
     ]
    }
   ],
   "source": [
    "print(len(list1[0]))"
   ]
  },
  {
   "cell_type": "markdown",
   "id": "df1ccbcc",
   "metadata": {
    "slideshow": {
     "slide_type": "subslide"
    }
   },
   "source": [
    "### dictionary\n",
    "\n",
    "dictionary는 key와 value로 이루어져있음"
   ]
  },
  {
   "cell_type": "code",
   "execution_count": 19,
   "id": "20481328",
   "metadata": {
    "slideshow": {
     "slide_type": "fragment"
    }
   },
   "outputs": [
    {
     "name": "stdout",
     "output_type": "stream",
     "text": [
      "{'key1': 'value1', 'key2': 'value2'}\n"
     ]
    }
   ],
   "source": [
    "dict1 = {'key1':'value1', 'key2':'value2'}\n",
    "print(dict1)"
   ]
  },
  {
   "cell_type": "code",
   "execution_count": 20,
   "id": "21c5251f",
   "metadata": {
    "slideshow": {
     "slide_type": "fragment"
    }
   },
   "outputs": [
    {
     "name": "stdout",
     "output_type": "stream",
     "text": [
      "value1\n"
     ]
    }
   ],
   "source": [
    "print(dict1['key1'])"
   ]
  },
  {
   "cell_type": "code",
   "execution_count": 21,
   "id": "242f8bfe",
   "metadata": {
    "slideshow": {
     "slide_type": "fragment"
    }
   },
   "outputs": [
    {
     "name": "stdout",
     "output_type": "stream",
     "text": [
      "dict_keys(['key1', 'key2'])\n"
     ]
    }
   ],
   "source": [
    "print(dict1.keys())"
   ]
  },
  {
   "cell_type": "code",
   "execution_count": 22,
   "id": "b30245ae",
   "metadata": {
    "slideshow": {
     "slide_type": "fragment"
    }
   },
   "outputs": [
    {
     "name": "stdout",
     "output_type": "stream",
     "text": [
      "dict_values(['value1', 'value2'])\n"
     ]
    }
   ],
   "source": [
    "print(dict1.values())"
   ]
  },
  {
   "cell_type": "code",
   "execution_count": 23,
   "id": "53bf7dd9",
   "metadata": {
    "slideshow": {
     "slide_type": "fragment"
    }
   },
   "outputs": [
    {
     "name": "stdout",
     "output_type": "stream",
     "text": [
      "{'key1': 'value1', 'key2': 'value2', 'key3': 'value3'}\n"
     ]
    }
   ],
   "source": [
    "dict1['key3']='value3'\n",
    "print(dict1)"
   ]
  },
  {
   "cell_type": "markdown",
   "id": "01756ece-d342-43fc-9913-a998560adb9f",
   "metadata": {
    "slideshow": {
     "slide_type": "subslide"
    }
   },
   "source": [
    "## 4-3. 조건문"
   ]
  },
  {
   "cell_type": "markdown",
   "id": "7b3bc986",
   "metadata": {
    "slideshow": {
     "slide_type": "fragment"
    }
   },
   "source": [
    "```python\n",
    "if 조건1:\n",
    "    실행1\n",
    "elif 조건2:\n",
    "    실행2\n",
    "else:\n",
    "    실행3\n",
    "```"
   ]
  },
  {
   "cell_type": "markdown",
   "id": "3b6c507c",
   "metadata": {
    "slideshow": {
     "slide_type": "subslide"
    }
   },
   "source": [
    "### comparison operators\n",
    "\n",
    "* a == b  \n",
    "* a != b  \n",
    "* a < b  \n",
    "* a > b  \n",
    "* a <= b  \n",
    "* a >= b  "
   ]
  },
  {
   "cell_type": "code",
   "execution_count": 28,
   "id": "f89401a4",
   "metadata": {
    "slideshow": {
     "slide_type": "fragment"
    }
   },
   "outputs": [
    {
     "ename": "IndentationError",
     "evalue": "expected an indented block (<ipython-input-28-6f912c1da355>, line 4)",
     "output_type": "error",
     "traceback": [
      "\u001b[1;36m  File \u001b[1;32m\"<ipython-input-28-6f912c1da355>\"\u001b[1;36m, line \u001b[1;32m4\u001b[0m\n\u001b[1;33m    print('a < b')\u001b[0m\n\u001b[1;37m    ^\u001b[0m\n\u001b[1;31mIndentationError\u001b[0m\u001b[1;31m:\u001b[0m expected an indented block\n"
     ]
    }
   ],
   "source": [
    "a = 1\n",
    "b = 2\n",
    "if a < b:\n",
    "    print('a < b')\n",
    "else:\n",
    "    print('a >= b')"
   ]
  },
  {
   "cell_type": "markdown",
   "id": "c2acf442-e00e-4e43-8c38-6ae81ffb69a1",
   "metadata": {
    "slideshow": {
     "slide_type": "subslide"
    }
   },
   "source": [
    "## 4-4. 반복문\n",
    "\n",
    "* for\n",
    "* while"
   ]
  },
  {
   "cell_type": "markdown",
   "id": "2cfb72f3",
   "metadata": {
    "slideshow": {
     "slide_type": "subslide"
    }
   },
   "source": [
    "### for\n",
    "\n",
    "```python \n",
    "for var in list:\n",
    "    run1\n",
    "```"
   ]
  },
  {
   "cell_type": "markdown",
   "id": "5d16bfc9",
   "metadata": {
    "slideshow": {
     "slide_type": "fragment"
    }
   },
   "source": [
    "* 리스트 내용 출력하기"
   ]
  },
  {
   "cell_type": "code",
   "execution_count": 30,
   "id": "15d20315",
   "metadata": {
    "slideshow": {
     "slide_type": "fragment"
    }
   },
   "outputs": [
    {
     "name": "stdout",
     "output_type": "stream",
     "text": [
      "name1\n",
      "name2\n",
      "name3\n"
     ]
    }
   ],
   "source": [
    "list1 = ['name1', 'name2', 'name3']\n",
    "for q in list1:\n",
    "    print(q)"
   ]
  },
  {
   "cell_type": "markdown",
   "id": "8766055d",
   "metadata": {
    "slideshow": {
     "slide_type": "fragment"
    }
   },
   "source": [
    "* 1~10 출력하기"
   ]
  },
  {
   "cell_type": "code",
   "execution_count": 33,
   "id": "d9034fee",
   "metadata": {
    "slideshow": {
     "slide_type": "fragment"
    }
   },
   "outputs": [
    {
     "name": "stdout",
     "output_type": "stream",
     "text": [
      "1\n",
      "2\n",
      "3\n",
      "4\n",
      "5\n",
      "6\n",
      "7\n",
      "8\n",
      "9\n",
      "10\n"
     ]
    }
   ],
   "source": [
    "for n in range(1,11):\n",
    "    print(n)"
   ]
  },
  {
   "cell_type": "markdown",
   "id": "6d0851d7",
   "metadata": {
    "slideshow": {
     "slide_type": "subslide"
    }
   },
   "source": [
    "* 1~10 더하기"
   ]
  },
  {
   "cell_type": "code",
   "execution_count": 34,
   "id": "e2d71f26",
   "metadata": {},
   "outputs": [
    {
     "name": "stdout",
     "output_type": "stream",
     "text": [
      "55\n"
     ]
    }
   ],
   "source": [
    "result = 0\n",
    "for n in range(1,11):\n",
    "    result = result + n\n",
    "print(result)"
   ]
  },
  {
   "cell_type": "code",
   "execution_count": 35,
   "id": "1ed9fb29",
   "metadata": {
    "slideshow": {
     "slide_type": "fragment"
    }
   },
   "outputs": [
    {
     "name": "stdout",
     "output_type": "stream",
     "text": [
      "result1:  55\n",
      "result2:  55\n"
     ]
    }
   ],
   "source": [
    "result1 = 0\n",
    "result2 = 0\n",
    "for n in range(1,11):\n",
    "    result1 = result1 + n\n",
    "    result2 += n\n",
    "print('result1: ', result1)\n",
    "print('result2: ', result2)"
   ]
  },
  {
   "cell_type": "markdown",
   "id": "fc9e7f59",
   "metadata": {
    "slideshow": {
     "slide_type": "subslide"
    }
   },
   "source": [
    "### while\n",
    "\n",
    "```python\n",
    "while 조건1:\n",
    "    실행1\n",
    "```"
   ]
  },
  {
   "cell_type": "markdown",
   "id": "273b0add",
   "metadata": {
    "slideshow": {
     "slide_type": "fragment"
    }
   },
   "source": [
    "* 1~10 출력하기"
   ]
  },
  {
   "cell_type": "code",
   "execution_count": 36,
   "id": "cad4fc9c",
   "metadata": {
    "collapsed": true,
    "slideshow": {
     "slide_type": "fragment"
    }
   },
   "outputs": [
    {
     "name": "stdout",
     "output_type": "stream",
     "text": [
      "1\n",
      "2\n",
      "3\n",
      "4\n",
      "5\n",
      "6\n",
      "7\n",
      "8\n",
      "9\n",
      "10\n"
     ]
    }
   ],
   "source": [
    "n = 0\n",
    "while n < 10:\n",
    "    n += 1\n",
    "    print(n)"
   ]
  },
  {
   "cell_type": "markdown",
   "id": "2128bc07",
   "metadata": {
    "slideshow": {
     "slide_type": "fragment"
    }
   },
   "source": [
    "* 리스트에 1~10 입력하기"
   ]
  },
  {
   "cell_type": "code",
   "execution_count": 38,
   "id": "1ce79054",
   "metadata": {
    "slideshow": {
     "slide_type": "fragment"
    }
   },
   "outputs": [
    {
     "name": "stdout",
     "output_type": "stream",
     "text": [
      "[1, 2, 3, 4, 5, 6, 7, 8, 9, 10]\n"
     ]
    }
   ],
   "source": [
    "list1 = []\n",
    "n = 1\n",
    "while n <= 10:\n",
    "    list1.append(n)\n",
    "    n += 1 \n",
    "print(list1)"
   ]
  },
  {
   "cell_type": "markdown",
   "id": "3a612e70",
   "metadata": {
    "slideshow": {
     "slide_type": "skip"
    }
   },
   "source": [
    "---"
   ]
  },
  {
   "cell_type": "markdown",
   "id": "9feb5ca6-9a3f-4b98-b2ba-9462ce7a1303",
   "metadata": {
    "slideshow": {
     "slide_type": "slide"
    }
   },
   "source": [
    "# 5. Web에 대한 기초"
   ]
  },
  {
   "cell_type": "markdown",
   "id": "e9d11ab4-ecaf-40b8-806e-58723859928e",
   "metadata": {
    "slideshow": {
     "slide_type": "subslide"
    }
   },
   "source": [
    "![network image1](./img/network_1.jpg)"
   ]
  },
  {
   "cell_type": "markdown",
   "id": "3beacff0-704d-42be-b8bf-0fdbcd0db878",
   "metadata": {
    "slideshow": {
     "slide_type": "fragment"
    }
   },
   "source": [
    "## 5-1. Internet Protocol\n",
    "\n",
    "* 서로 연결하기 위한 프로토콜 - 어떻게 동작할 것인가에 대해 합의: 어떠한 요청을 할 수 있는지, 정보는 어떠한 형식으로 교환할 것인지 등  \n",
    "\n",
    "* Internet Protocol\n",
    "  * Physical Layer  \n",
    "  * Network Layer: 예)IP Address\n",
    "  * Transport Layer: 예)TCP(Transmission Control Protocol)\n",
    "  * Application Layer: 예)HTTP(Hypertext Transport Protocol), FTP"
   ]
  },
  {
   "cell_type": "markdown",
   "id": "bf0f1456-51a4-4c66-9a23-17f7aeccec33",
   "metadata": {
    "slideshow": {
     "slide_type": "subslide"
    }
   },
   "source": [
    "![network image2](./img/network_2.jpg)"
   ]
  },
  {
   "cell_type": "markdown",
   "id": "d4a8bd44",
   "metadata": {
    "slideshow": {
     "slide_type": "fragment"
    }
   },
   "source": [
    "웹페이지 동작\n",
    "\n",
    "* 주소로 접속하여 해당 컴퓨터에 특정 요청을 함\n",
    "* 요청 받은 파일을 전달함\n",
    "* 웹브라우저가 코드를 변환하여 화면에 표시함"
   ]
  },
  {
   "cell_type": "markdown",
   "id": "0fc2546b-6d29-4e63-8ade-deb025c54db7",
   "metadata": {
    "slideshow": {
     "slide_type": "subslide"
    }
   },
   "source": [
    "## 5-2. 웹페이지 기본 구조\n"
   ]
  },
  {
   "cell_type": "markdown",
   "id": "3c0dc554",
   "metadata": {
    "slideshow": {
     "slide_type": "fragment"
    }
   },
   "source": [
    "* HTML: 구조\n",
    "* CSS: 디자인\n",
    "* javascript: 기능"
   ]
  },
  {
   "cell_type": "markdown",
   "id": "ecc32aa0-8f08-4799-bf58-92a29f4af851",
   "metadata": {
    "slideshow": {
     "slide_type": "subslide"
    },
    "tags": []
   },
   "source": [
    "### HTML - Hypertext Markup Language"
   ]
  },
  {
   "cell_type": "markdown",
   "id": "5ea69601",
   "metadata": {
    "slideshow": {
     "slide_type": "fragment"
    },
    "tags": []
   },
   "source": [
    "Hypertext: Linked documents  \n",
    "Markup: Instruction text (Publishing)"
   ]
  },
  {
   "cell_type": "markdown",
   "id": "2c5f74ca",
   "metadata": {
    "slideshow": {
     "slide_type": "fragment"
    }
   },
   "source": [
    "- 우클릭 > 페이지 소스보기\n",
    "\n",
    "```html\n",
    "<!DOCTYPE html>\n",
    "<html>\n",
    "    <head>\n",
    "        <title>Title</title>\n",
    "    </head>\n",
    "    <body>\n",
    "        Body\n",
    "        <a href=\"http://\">link</a>\n",
    "        <a href=\"\">link2</a>\n",
    "    </body>\n",
    "</html>\n",
    "```\n"
   ]
  },
  {
   "cell_type": "markdown",
   "id": "61a027ad",
   "metadata": {
    "slideshow": {
     "slide_type": "subslide"
    }
   },
   "source": [
    "* tag\n",
    "```html\n",
    "<a> anchor </a> \n",
    "```\n",
    "* attribute, value\n",
    "```html\n",
    "<a href=\"http://naver.com\">hypertext reference</a>\n",
    "<body class=\"bodyclass\">body</body>\n",
    "```"
   ]
  },
  {
   "cell_type": "markdown",
   "id": "364433a6-7cbe-44fd-a31c-cc529b622761",
   "metadata": {
    "slideshow": {
     "slide_type": "subslide"
    }
   },
   "source": [
    "### CSS - Cascading Style Sheets\n",
    "\n",
    "font size, color 등 웹페이지의 디자인을 담당  \n",
    "\n",
    "property와 value로 구성\n",
    "\n",
    "```css\n",
    "h1 {\n",
    "    color: red;\n",
    "}\n",
    ".bodyclass {\n",
    "    color: blue;\n",
    "    font-style: bold;\n",
    "}\n",
    "```"
   ]
  },
  {
   "cell_type": "markdown",
   "id": "b6339b3b-f21c-41cb-8087-a3dd2cb458a0",
   "metadata": {
    "slideshow": {
     "slide_type": "skip"
    }
   },
   "source": [
    "---"
   ]
  },
  {
   "cell_type": "markdown",
   "id": "3e49e1a1-be56-470b-bbce-fd59219ec881",
   "metadata": {
    "slideshow": {
     "slide_type": "slide"
    }
   },
   "source": [
    "# 6. Web Scraping 기초"
   ]
  },
  {
   "cell_type": "markdown",
   "id": "16ab7fcb-c072-462f-b8ea-60f571b9e7ca",
   "metadata": {
    "slideshow": {
     "slide_type": "subslide"
    }
   },
   "source": [
    "## 6-0. Open API?\n",
    "\n",
    "외부에서 누구나 사용할 수 있도록 공개된 프로그래밍 인터페이스  \n",
    "\n",
    "\n",
    "* 공공데이터포털: https://www.data.go.kr/\n",
    "* 네이버: https://developers.naver.com/products/intro/plan/plan.md  \n",
    "  네이버 뉴스: https://developers.naver.com/docs/serviceapi/search/news/news.md#%EB%89%B4%EC%8A%A4\n",
    "* 카카오: https://developers.kakao.com/product\n"
   ]
  },
  {
   "cell_type": "markdown",
   "id": "d1563016",
   "metadata": {
    "slideshow": {
     "slide_type": "fragment"
    }
   },
   "source": [
    "1. API 이용신청\n",
    "2. Application 등록 - localhost / 127.0.0.1\n",
    "3. Documentation 활용"
   ]
  },
  {
   "cell_type": "markdown",
   "id": "043da4e8-9e75-419f-8d9c-fe13f9316340",
   "metadata": {
    "slideshow": {
     "slide_type": "subslide"
    }
   },
   "source": [
    "## 6-1. 과정\n",
    "\n",
    "1. 웹페이지 가져오기 - selenium / requests\n",
    "2. 페이지 구조 분석 - selenium / beautifulsoup \n",
    "3. 필요한 부분 추출 - css selector / xpath\n",
    "4. 데이터 저장 - pandas"
   ]
  },
  {
   "cell_type": "markdown",
   "id": "7838d1fe-dc7a-4f2a-ab1b-5f76f71f931f",
   "metadata": {
    "slideshow": {
     "slide_type": "subslide"
    }
   },
   "source": [
    "## 6-2. 예제 1: 대통령 연설문"
   ]
  },
  {
   "cell_type": "markdown",
   "id": "287337a7-a104-48f4-b7f8-d3b1daaa0ba8",
   "metadata": {
    "slideshow": {
     "slide_type": "subslide"
    }
   },
   "source": [
    "### 6-2-1. 웹페이지 가져오기 - Selenium\n",
    "\n",
    "청와대 홈페이지 연설문: https://www1.president.go.kr/c/president-speeches"
   ]
  },
  {
   "cell_type": "code",
   "execution_count": 1,
   "id": "9405dd21-e524-4f5e-a0b3-7556744e6e60",
   "metadata": {
    "slideshow": {
     "slide_type": "fragment"
    }
   },
   "outputs": [],
   "source": [
    "from selenium import webdriver"
   ]
  },
  {
   "cell_type": "code",
   "execution_count": 2,
   "id": "a2080ff9-4f85-4624-b7ae-5f645018606f",
   "metadata": {
    "slideshow": {
     "slide_type": "fragment"
    }
   },
   "outputs": [],
   "source": [
    "driver = webdriver.Chrome('./chromedriver')"
   ]
  },
  {
   "cell_type": "code",
   "execution_count": 3,
   "id": "38e126bd",
   "metadata": {},
   "outputs": [],
   "source": [
    "url = 'https://www1.president.go.kr/c/president-speeches'\n",
    "driver.get(url)"
   ]
  },
  {
   "cell_type": "markdown",
   "id": "9b5c0821",
   "metadata": {
    "slideshow": {
     "slide_type": "subslide"
    }
   },
   "source": [
    "#### Selenium 소개"
   ]
  },
  {
   "cell_type": "code",
   "execution_count": 42,
   "id": "151a9098",
   "metadata": {
    "slideshow": {
     "slide_type": "fragment"
    }
   },
   "outputs": [],
   "source": [
    "more_button = driver.find_element_by_xpath('//*[@id=\"cont_view\"]/div[2]/div/div[3]/div/div[1]/div/div[1]/a/div[1]/div')\n",
    "more_button.click()"
   ]
  },
  {
   "cell_type": "code",
   "execution_count": 43,
   "id": "589309df",
   "metadata": {
    "slideshow": {
     "slide_type": "fragment"
    }
   },
   "outputs": [],
   "source": [
    "driver.back()"
   ]
  },
  {
   "cell_type": "code",
   "execution_count": 45,
   "id": "0326e0ff",
   "metadata": {
    "slideshow": {
     "slide_type": "fragment"
    }
   },
   "outputs": [],
   "source": [
    "search_button = driver.find_element_by_css_selector('#webNavi > p > a')\n",
    "search_button.click()"
   ]
  },
  {
   "cell_type": "code",
   "execution_count": 46,
   "id": "db441f33",
   "metadata": {
    "slideshow": {
     "slide_type": "fragment"
    }
   },
   "outputs": [],
   "source": [
    "search_field = driver.find_element_by_id('query')\n",
    "search_field.send_keys('연설문')"
   ]
  },
  {
   "cell_type": "code",
   "execution_count": 47,
   "id": "13188ada",
   "metadata": {
    "slideshow": {
     "slide_type": "fragment"
    }
   },
   "outputs": [],
   "source": [
    "from selenium.webdriver.common.keys import Keys\n",
    "search_field.send_keys(Keys.ENTER)"
   ]
  },
  {
   "cell_type": "code",
   "execution_count": 48,
   "id": "0816d8b2",
   "metadata": {
    "slideshow": {
     "slide_type": "fragment"
    }
   },
   "outputs": [],
   "source": [
    "driver.execute_script(\"window.scrollTo(0, document.body.scrollHeight)\")"
   ]
  },
  {
   "cell_type": "code",
   "execution_count": 49,
   "id": "b14c2cc2",
   "metadata": {
    "slideshow": {
     "slide_type": "fragment"
    }
   },
   "outputs": [],
   "source": [
    "driver.quit()"
   ]
  },
  {
   "cell_type": "code",
   "execution_count": 50,
   "id": "4a2d344a",
   "metadata": {
    "slideshow": {
     "slide_type": "subslide"
    }
   },
   "outputs": [],
   "source": [
    "from selenium import webdriver\n",
    "\n",
    "driver = webdriver.Chrome('./chromedriver')\n",
    "url = 'https://www1.president.go.kr/c/president-speeches'\n",
    "driver.get(url)"
   ]
  },
  {
   "cell_type": "markdown",
   "id": "aed16ea0-2005-4037-a8f9-6d099eea8d7b",
   "metadata": {
    "slideshow": {
     "slide_type": "subslide"
    }
   },
   "source": [
    "### 6-2-2. 페이지 구조 분석"
   ]
  },
  {
   "cell_type": "markdown",
   "id": "52842f16",
   "metadata": {
    "slideshow": {
     "slide_type": "fragment"
    }
   },
   "source": [
    "웹페이지에서 필요한 부분만을 추출하기 위해 해당 페이지의 대략적인 구조 파악  \n",
    "\n",
    "div, p 등 동일한 tag가 반복적으로 사용되기 때문에 상대적인 위치, tag의 속성과 속성값까지 활용하여 필요한 부분을 특정함  "
   ]
  },
  {
   "cell_type": "markdown",
   "id": "b850b120",
   "metadata": {
    "slideshow": {
     "slide_type": "subslide"
    }
   },
   "source": [
    "#### CSS Selector\n",
    "\n",
    "* element 우클릭 > Copy selector\n",
    "  * #cont_view > div.cs_area > div > div.sub_container1.fff > div > div:nth-child(1) > div > div.list_txt > a > div.list_txt_title > h3\n"
   ]
  },
  {
   "cell_type": "markdown",
   "id": "801466c1",
   "metadata": {
    "slideshow": {
     "slide_type": "fragment"
    }
   },
   "source": [
    "#### XPath\n",
    "\n",
    "* element 우클릭 > Copy XPath\n",
    "  * //*[@id=\"cont_view\"]/div[2]/div/div[3]/div/div[1]/div/div[1]/a/div[1]/h3\n",
    "  * /html/body/div[2]/div[2]/section[2]/div[2]/div/div[3]/div/div[1]/div/div[1]/a/div[1]/h3\n",
    "* / : 절대경로\n",
    "* // : 문서 내에서 검색\n",
    "* //@href : href 속성이 있는 모든 태그 선택\n",
    "* //*[@id='id1'] : 'id' 속성에 'id1' 속성값을 가진 모든 태그 선택 "
   ]
  },
  {
   "cell_type": "markdown",
   "id": "924e4543-16ab-416f-9734-1cd6fe5fed7a",
   "metadata": {
    "slideshow": {
     "slide_type": "subslide"
    }
   },
   "source": [
    "### 6-2-3. 필요한 부분 추출"
   ]
  },
  {
   "cell_type": "markdown",
   "id": "d942eb7a",
   "metadata": {
    "slideshow": {
     "slide_type": "fragment"
    }
   },
   "source": [
    "#### Selenium\n",
    "\n",
    "* find_element_by_id\n",
    "* find_element_by_name\n",
    "* find_element_by_tag_name\n",
    "* find_element_by_class_name\n",
    "* find_element_by_css_selector\n",
    "* find_element_by_xpath\n",
    "\n",
    "https://selenium-python.readthedocs.io/locating-elements.html"
   ]
  },
  {
   "cell_type": "code",
   "execution_count": 53,
   "id": "201e1ceb",
   "metadata": {
    "slideshow": {
     "slide_type": "fragment"
    }
   },
   "outputs": [
    {
     "name": "stdout",
     "output_type": "stream",
     "text": [
      "수석보좌관회의 모두발언\n"
     ]
    }
   ],
   "source": [
    "#cont_view > div.cs_area > div > div.sub_container1.fff > div > div:nth-child(1) > div > div.list_txt > a > div.list_txt_title > h3\n",
    "\n",
    "speech_title = driver.find_element_by_css_selector('#cont_view > div.cs_area > div > div.sub_container1.fff > div > div:nth-child(1) > div > div.list_txt > a > div.list_txt_title > h3')\n",
    "speech_title\n",
    "\n",
    "\n",
    "# # 제목 1:\n",
    "# speech_title = driver.find_element_by_css_selector('#cont_view > div.cs_area > div > div.sub_container1.fff > div > div:nth-child(1) > div > div.list_txt > a > div.list_txt_title > h3')\n",
    "print(speech_title.text)"
   ]
  },
  {
   "cell_type": "code",
   "execution_count": 71,
   "id": "4aa7ebaa",
   "metadata": {
    "slideshow": {
     "slide_type": "subslide"
    }
   },
   "outputs": [
    {
     "name": "stdout",
     "output_type": "stream",
     "text": [
      "0 메뉴\n",
      "1 \n",
      "2 \n",
      "3 \n",
      "4 \n",
      "5 \n",
      "6 \n",
      "7 \n",
      "8 문재인 대통령 연설문집\n",
      "9 수석보좌관회의 모두발언\n",
      "10 갈고닦은 기량을 마음껏 펼쳐준 대한민국 선수들과 코치진 그리고 아낌없는 응원을 보내주신 국민들께 깊이 감사드립니다\n",
      "11 근대5종 남자 개인전 전웅태 선수 축전\n",
      "12 우리 여자 배구 선수들이 도쿄올림픽에서 특별한 감동을 주었습니다\n",
      "13 폭염 대응 소방관서 격려 방문 모두발언\n",
      "14 K-글로벌 백신 허브화 비전 및 전략 보고대회 모두발언\n",
      "15 배드민턴 여자 복식 국가대표 선수 축전\n",
      "16 기계체조 남자 도마 신재환 선수 축전\n",
      "17 제34회 국무회의 모두발언\n",
      "18 수석보좌관회의 모두발언\n",
      "19 기계체조 여자 도마 여서정 선수 축전\n",
      "20 펜싱 사브르 여자 단체 축전\n",
      "21 양궁 여자 개인 안 산 선수 축전\n",
      "22 펜싱 에페 남자 단체 축전\n",
      "23 사격 여자 권총 김민정 선수 축전\n",
      "24 문재인 대통령\n",
      "25 청와대 뉴스룸\n",
      "26 정책정보\n",
      "27 국민소통 광장\n",
      "28 청와대 알림판\n"
     ]
    }
   ],
   "source": [
    "speech_titles = driver.find_elements_by_css_selector('h3')\n",
    "# print(speech_titles.text)\n",
    "\n",
    "\n",
    "# for title in speech_titles:\n",
    "#     print(title.text)\n",
    "\n",
    "\n",
    "for num, title in enumerate(speech_titles):\n",
    "    print(num, title.text)"
   ]
  },
  {
   "cell_type": "code",
   "execution_count": 72,
   "id": "2befa639-44c1-44b4-908e-96982106c998",
   "metadata": {
    "slideshow": {
     "slide_type": "subslide"
    }
   },
   "outputs": [
    {
     "name": "stdout",
     "output_type": "stream",
     "text": [
      "0 수석보좌관회의 모두발언\n",
      "1 갈고닦은 기량을 마음껏 펼쳐준 대한민국 선수들과 코치진 그리고 아낌없는 응원을 보내주신 국민들께 깊이 감사드립니다\n",
      "2 근대5종 남자 개인전 전웅태 선수 축전\n",
      "3 우리 여자 배구 선수들이 도쿄올림픽에서 특별한 감동을 주었습니다\n",
      "4 폭염 대응 소방관서 격려 방문 모두발언\n",
      "5 K-글로벌 백신 허브화 비전 및 전략 보고대회 모두발언\n",
      "6 배드민턴 여자 복식 국가대표 선수 축전\n",
      "7 기계체조 남자 도마 신재환 선수 축전\n",
      "8 제34회 국무회의 모두발언\n",
      "9 수석보좌관회의 모두발언\n",
      "10 기계체조 여자 도마 여서정 선수 축전\n",
      "11 펜싱 사브르 여자 단체 축전\n",
      "12 양궁 여자 개인 안 산 선수 축전\n",
      "13 펜싱 에페 남자 단체 축전\n",
      "14 사격 여자 권총 김민정 선수 축전\n"
     ]
    }
   ],
   "source": [
    "# div.list_txt_title > h3\n",
    "\n",
    "speech_titles = driver.find_elements_by_css_selector('div.list_txt_title > h3')\n",
    "for num, title in enumerate(speech_titles):\n",
    "    print(num, title.text)"
   ]
  },
  {
   "cell_type": "code",
   "execution_count": 73,
   "id": "a31901dc-7d06-4387-9b58-adc0a08b87f0",
   "metadata": {
    "slideshow": {
     "slide_type": "subslide"
    }
   },
   "outputs": [],
   "source": [
    "speech_summaries = driver.find_elements_by_css_selector('div.list_txt_cont')\n",
    "speech_dates = driver.find_elements_by_css_selector('p.list_txt_date')"
   ]
  },
  {
   "cell_type": "code",
   "execution_count": 74,
   "id": "b58ab74b",
   "metadata": {},
   "outputs": [
    {
     "name": "stdout",
     "output_type": "stream",
     "text": [
      "  오늘 외부 전문가로 김용익 건보공단 이사장님, 그다음에 김선민 건보심사평가원 원장님이 참석해서 토론에 함께해 주시겠습니다. 감사합니다. 박수로 맞아주시기 바랍니다. 코로나 확산세가 좀처럼 꺾이지 않고, 강화된 거리두기 단계를 연장하게 되어 매우 안타까운 마음입니다. 국민 ...\n",
      "도쿄올림픽이 끝났습니다.  갈고닦은 기량을 마음껏 펼쳐준 대한민국 선수들과 코치진 그리고 아낌없는 응원을 보내주신 국민들께 깊이 감사드립니다. 여전히 어려운 시기에 열린 이번 올림픽에서 우리 선수들은 정직한 땀방울을 통해 국민들에게 위로와 희망의 메시지를 전해주었습니다.  메달 소식도 자주 들려주었습니다.  첫 메달이었던...\n",
      "  근대5종 남자 개인전 전웅태 선수   2020 도쿄올림픽 동메달 획득을 축하합니다. 대한민국 근대5종 사상 최초의 올림픽 메달입니다. 정진화 선수와 함께 말로 표현할 수 없이 멋진 경기를 펼쳐주었고, 두 선수가 경기 후 나눈 우정의 포옹은 뭉클한 감동을 주었습니다. 이제 전 선수의 희망처럼 대한민국 근대5종은 국...\n",
      "우리 여자 배구 선수들이 도쿄올림픽에서 특별한 감동을 주었습니다.  원팀의 힘으로 세계 강호들과 대등하게 맞섰고, 매 경기 모든 걸 쏟아내는 모습에 국민 모두 자부심을 느꼈습니다.  아름다운 도전이었습니다.  아쉬워하지 말기 바랍니다.  또 하면 됩니다.  지금까지처럼 자신감을 가져주길 바랍니다. ...\n",
      "인력 2만 명 증원, 그리고 지금 진행되고 있습니다만 국립소방병원 건립 이런 약속들을 제가 차근차근 다 이렇게 지킬 수 있어서 아주 다행스럽게 생각합니다. 그런데 오늘은 그 때문에 온 것은 아니고, 정말 요즘 아주 역대급 폭염이죠. 연일 계속되고 있어서 여러분들 정말 고생이 많습니다. 원래...\n",
      "국무총리를 위원장으로 하는 민관합동 ‘글로벌 백신 허브화 추진위원회’가 출범해 오늘 첫 회의를 열게 되었습니다. 관련 부처들과 함께, 백신 분야 최고의 전문가들이 민간위원으로 참여하고 있습니다. 오늘 회의에는 백신 개발과 생산 기업 대표들도 함께해 주셨습니다. 감사합니다.  전파력이 강한 델타 변이바이러스가 확산하며 ...\n",
      "2020 도쿄올림픽 동메달 획득을 축하합니다. 함께 경기한 네 선수 모두 최선을 다한 아름다운 승부였습니다. 파트너인 김소영 선수와 함께 시상대에 오르고 싶다던 소망이 이루어져 기쁩니다. 김소영 선수와 공희용 선수가 서로를 믿고 함께 만든 성과에 큰 박수를 보냅니다. 경기 후 네 선수가 나눈 위로와 우정의 포옹은 올림픽 정신을 온전히 보여 줬습니다....\n",
      "2020 도쿄올림픽 금메달 획득을 축하합니다. 대한민국을 가장 높은 지점에서 빛내 주었습니다. 신 선수의 환상적인 금빛 착지에 세계가 환호했습니다. 새로운 ‘도마 황제’의 출현에 박수를 보냅니다. 우리 체조의 자부심을 더욱 드높여 주길 바랍니다. 신 선수의 열정과 도전을 국민과 함께 응원하겠습니다.   2021년...\n",
      "제34회 국무회의를 시작하겠습니다. 코로나 위기 속에서 국민들은 여전히 힘겨운 시기를 견디고 있습니다. 방역과 민생에 전념하며 국민의 삶을 지키는 것이 우리 정부 남은 임기 동안 피할 수 없는 책무가 되었습니다. 4차 산업혁명과 기후변화에 대응해야 하는 대전환기에 국가의 미래를 준비하고 개척하는 과업 또한 미룰 수 없는 시대적 소명이 되었습니...\n",
      "오늘 외부 전문가로 우리 권기홍 동반성장위원회 위원장님 그리고 또 정중교 주식회사 프레시지 대표이사님 참석을 해 주셨습니다. 민간 기업의 대표이사가 우리 청와대 수보회의에 참석한 것은 거의 처음이 아닌가 싶은데, 기업 현장에서 느끼는 생생한 의견들 기탄없이 말씀해 주시기 바랍니다. 환영해 주시기 바랍니다. 여름이 더욱 깊어지고 있습니다. 국민들께...\n",
      "2020 도쿄올림픽 체조 동메달 획득을 축하합니다. 우리 여자 체조 사상 최초의 올림픽 메달 쾌거입니다. 강한 정신력과 탁월한 기량으로 만든 최고난도의 ‘여서정’ 기술이 아주 멋졌습니다. 여 선수가 장하고 자랑스럽습니다. ‘부녀 올림픽 메달리스트’ 탄생을 축하합니다. 국민들께 새로운 자부심을 선사해 주...\n",
      "2020 도쿄올림픽 동메달 획득을 축하합니다. 국민들께 큰 기쁨과 용기를 주었습니다. 김 선수는 든든한 맏언니로서, ‘살아있는 전설’다운 최정상의 기량을 보여 주었습니다. 최 선수의 큰 부상을 이겨내고 이뤄낸 성취여서 더욱 값집니다. 윤 선수가 보여 준 놀라운 경기력에 국민들은 아낌없는 박수를 보냈습니다. 서 선수의 승리를 향한...\n",
      "2020 도쿄올림픽 3관왕을 축하합니다. 하계 올림픽 한국 선수 최초 3관왕의 첫 역사를 세계 앞에서 썼습니다. 안 선수가 보여 준 경기력과 정신력에 국민들 모두 감격하고 아낌없는 박수를 보냈습니다. 안 선수의 자부심이 우리의 자부심입니다. 더 큰 박수로 국민과 함께 응원하겠습니다. 장하고 또 장합니다. 2021년 7월 31일 대통령 문 재 인\n",
      "2020 도쿄올림픽 동메달 획득을 축하합니다. 팀의 든든한 맏형으로 빛나는 결과를 이끌어낸 권 선수가 자랑스럽습니다. 송 선수의 민첩한 경기력에 국민들은 아낌없는 박수를 보냈습니다. 마 선수의 저돌적인 경기력이 시원한 승리를 만들어냈습니다. 박 선수의 ‘할 수 있다’는 자신감이 승리를 이끌었습니다. 권 선수, 송 선수, 마 선...\n",
      "2020 도쿄올림픽 사격 은메달 획득을 축하합니다. 김 선수가 보여 준 경기력과, 긍정과 낙관으로 만든 빛나는 성과에 국민들은 큰 박수를 보냈습니다. 자랑스럽습니다. 앞으로의 도전도 국민과 함께 응원하겠습니다.   2021년 7월 31일 대통령 문 재 인\n"
     ]
    }
   ],
   "source": [
    "for a in speech_summaries:\n",
    "    print(a.text)"
   ]
  },
  {
   "cell_type": "code",
   "execution_count": 75,
   "id": "8688d30a-6cda-499d-96e1-a47c994b9cb4",
   "metadata": {
    "slideshow": {
     "slide_type": "subslide"
    }
   },
   "outputs": [
    {
     "name": "stdout",
     "output_type": "stream",
     "text": [
      "0 수석보좌관회의 모두발언\n",
      "more\n",
      "  오늘 외부 전문가로 김용익 건보공단 이사장님, 그다음에 김선민 건보심사평가원 원장님이 참석해서 토론에 함께해 주시겠습니다. 감사합니다. 박수로 맞아주시기 바랍니다. 코로나 확산세가 좀처럼 꺾이지 않고, 강화된 거리두기 단계를 연장하게 되어 매우 안타까운 마음입니다. 국민 ...\n",
      "2021-08-09\n",
      "1 갈고닦은 기량을 마음껏 펼쳐준 대한민국 선수들과 코치진 그리고 아낌없는 응원을 보내주신 국민들께 깊이 감사드립니다\n",
      "more\n",
      "도쿄올림픽이 끝났습니다.  갈고닦은 기량을 마음껏 펼쳐준 대한민국 선수들과 코치진 그리고 아낌없는 응원을 보내주신 국민들께 깊이 감사드립니다. 여전히 어려운 시기에 열린 이번 올림픽에서 우리 선수들은 정직한 땀방울을 통해 국민들에게 위로와 희망의 메시지를 전해주었습니다.  메달 소식도 자주 들려주었습니다.  첫 메달이었던...\n",
      "2021-08-08\n",
      "2 근대5종 남자 개인전 전웅태 선수 축전\n",
      "more\n",
      "  근대5종 남자 개인전 전웅태 선수   2020 도쿄올림픽 동메달 획득을 축하합니다. 대한민국 근대5종 사상 최초의 올림픽 메달입니다. 정진화 선수와 함께 말로 표현할 수 없이 멋진 경기를 펼쳐주었고, 두 선수가 경기 후 나눈 우정의 포옹은 뭉클한 감동을 주었습니다. 이제 전 선수의 희망처럼 대한민국 근대5종은 국...\n",
      "2021-08-08\n",
      "3 우리 여자 배구 선수들이 도쿄올림픽에서 특별한 감동을 주었습니다\n",
      "more\n",
      "우리 여자 배구 선수들이 도쿄올림픽에서 특별한 감동을 주었습니다.  원팀의 힘으로 세계 강호들과 대등하게 맞섰고, 매 경기 모든 걸 쏟아내는 모습에 국민 모두 자부심을 느꼈습니다.  아름다운 도전이었습니다.  아쉬워하지 말기 바랍니다.  또 하면 됩니다.  지금까지처럼 자신감을 가져주길 바랍니다. ...\n",
      "2021-08-08\n",
      "4 폭염 대응 소방관서 격려 방문 모두발언\n",
      "more\n",
      "인력 2만 명 증원, 그리고 지금 진행되고 있습니다만 국립소방병원 건립 이런 약속들을 제가 차근차근 다 이렇게 지킬 수 있어서 아주 다행스럽게 생각합니다. 그런데 오늘은 그 때문에 온 것은 아니고, 정말 요즘 아주 역대급 폭염이죠. 연일 계속되고 있어서 여러분들 정말 고생이 많습니다. 원래...\n",
      "2021-08-06\n",
      "5 K-글로벌 백신 허브화 비전 및 전략 보고대회 모두발언\n",
      "more\n",
      "국무총리를 위원장으로 하는 민관합동 ‘글로벌 백신 허브화 추진위원회’가 출범해 오늘 첫 회의를 열게 되었습니다. 관련 부처들과 함께, 백신 분야 최고의 전문가들이 민간위원으로 참여하고 있습니다. 오늘 회의에는 백신 개발과 생산 기업 대표들도 함께해 주셨습니다. 감사합니다.  전파력이 강한 델타 변이바이러스가 확산하며 ...\n",
      "2021-08-05\n",
      "6 배드민턴 여자 복식 국가대표 선수 축전\n",
      "more\n",
      "2020 도쿄올림픽 동메달 획득을 축하합니다. 함께 경기한 네 선수 모두 최선을 다한 아름다운 승부였습니다. 파트너인 김소영 선수와 함께 시상대에 오르고 싶다던 소망이 이루어져 기쁩니다. 김소영 선수와 공희용 선수가 서로를 믿고 함께 만든 성과에 큰 박수를 보냅니다. 경기 후 네 선수가 나눈 위로와 우정의 포옹은 올림픽 정신을 온전히 보여 줬습니다....\n",
      "2021-08-03\n",
      "7 기계체조 남자 도마 신재환 선수 축전\n",
      "more\n",
      "2020 도쿄올림픽 금메달 획득을 축하합니다. 대한민국을 가장 높은 지점에서 빛내 주었습니다. 신 선수의 환상적인 금빛 착지에 세계가 환호했습니다. 새로운 ‘도마 황제’의 출현에 박수를 보냅니다. 우리 체조의 자부심을 더욱 드높여 주길 바랍니다. 신 선수의 열정과 도전을 국민과 함께 응원하겠습니다.   2021년...\n",
      "2021-08-03\n",
      "8 제34회 국무회의 모두발언\n",
      "more\n",
      "제34회 국무회의를 시작하겠습니다. 코로나 위기 속에서 국민들은 여전히 힘겨운 시기를 견디고 있습니다. 방역과 민생에 전념하며 국민의 삶을 지키는 것이 우리 정부 남은 임기 동안 피할 수 없는 책무가 되었습니다. 4차 산업혁명과 기후변화에 대응해야 하는 대전환기에 국가의 미래를 준비하고 개척하는 과업 또한 미룰 수 없는 시대적 소명이 되었습니...\n",
      "2021-08-03\n",
      "9 수석보좌관회의 모두발언\n",
      "more\n",
      "오늘 외부 전문가로 우리 권기홍 동반성장위원회 위원장님 그리고 또 정중교 주식회사 프레시지 대표이사님 참석을 해 주셨습니다. 민간 기업의 대표이사가 우리 청와대 수보회의에 참석한 것은 거의 처음이 아닌가 싶은데, 기업 현장에서 느끼는 생생한 의견들 기탄없이 말씀해 주시기 바랍니다. 환영해 주시기 바랍니다. 여름이 더욱 깊어지고 있습니다. 국민들께...\n",
      "2021-08-02\n",
      "10 기계체조 여자 도마 여서정 선수 축전\n",
      "more\n",
      "2020 도쿄올림픽 체조 동메달 획득을 축하합니다. 우리 여자 체조 사상 최초의 올림픽 메달 쾌거입니다. 강한 정신력과 탁월한 기량으로 만든 최고난도의 ‘여서정’ 기술이 아주 멋졌습니다. 여 선수가 장하고 자랑스럽습니다. ‘부녀 올림픽 메달리스트’ 탄생을 축하합니다. 국민들께 새로운 자부심을 선사해 주...\n",
      "2021-08-02\n",
      "11 펜싱 사브르 여자 단체 축전\n",
      "more\n",
      "2020 도쿄올림픽 동메달 획득을 축하합니다. 국민들께 큰 기쁨과 용기를 주었습니다. 김 선수는 든든한 맏언니로서, ‘살아있는 전설’다운 최정상의 기량을 보여 주었습니다. 최 선수의 큰 부상을 이겨내고 이뤄낸 성취여서 더욱 값집니다. 윤 선수가 보여 준 놀라운 경기력에 국민들은 아낌없는 박수를 보냈습니다. 서 선수의 승리를 향한...\n",
      "2021-08-01\n",
      "12 양궁 여자 개인 안 산 선수 축전\n",
      "more\n",
      "2020 도쿄올림픽 3관왕을 축하합니다. 하계 올림픽 한국 선수 최초 3관왕의 첫 역사를 세계 앞에서 썼습니다. 안 선수가 보여 준 경기력과 정신력에 국민들 모두 감격하고 아낌없는 박수를 보냈습니다. 안 선수의 자부심이 우리의 자부심입니다. 더 큰 박수로 국민과 함께 응원하겠습니다. 장하고 또 장합니다. 2021년 7월 31일 대통령 문 재 인\n",
      "2021-07-31\n",
      "13 펜싱 에페 남자 단체 축전\n",
      "more\n",
      "2020 도쿄올림픽 동메달 획득을 축하합니다. 팀의 든든한 맏형으로 빛나는 결과를 이끌어낸 권 선수가 자랑스럽습니다. 송 선수의 민첩한 경기력에 국민들은 아낌없는 박수를 보냈습니다. 마 선수의 저돌적인 경기력이 시원한 승리를 만들어냈습니다. 박 선수의 ‘할 수 있다’는 자신감이 승리를 이끌었습니다. 권 선수, 송 선수, 마 선...\n",
      "2021-07-31\n",
      "14 사격 여자 권총 김민정 선수 축전\n",
      "more\n",
      "2020 도쿄올림픽 사격 은메달 획득을 축하합니다. 김 선수가 보여 준 경기력과, 긍정과 낙관으로 만든 빛나는 성과에 국민들은 큰 박수를 보냈습니다. 자랑스럽습니다. 앞으로의 도전도 국민과 함께 응원하겠습니다.   2021년 7월 31일 대통령 문 재 인\n",
      "2021-07-31\n"
     ]
    }
   ],
   "source": [
    "speech_urls = driver.find_elements_by_css_selector('div.list_txt > a')\n",
    "for num, url in enumerate(speech_urls):\n",
    "    print(num, url.text)"
   ]
  },
  {
   "cell_type": "code",
   "execution_count": 76,
   "id": "b409b012-9e61-46b2-84cb-8a330866051d",
   "metadata": {
    "slideshow": {
     "slide_type": "subslide"
    }
   },
   "outputs": [
    {
     "name": "stdout",
     "output_type": "stream",
     "text": [
      "0 https://www1.president.go.kr/articles/10852\n",
      "1 https://www1.president.go.kr/articles/10849\n",
      "2 https://www1.president.go.kr/articles/10848\n",
      "3 https://www1.president.go.kr/articles/10847\n",
      "4 https://www1.president.go.kr/articles/10843\n",
      "5 https://www1.president.go.kr/articles/10834\n",
      "6 https://www1.president.go.kr/articles/10826\n",
      "7 https://www1.president.go.kr/articles/10825\n",
      "8 https://www1.president.go.kr/articles/10821\n",
      "9 https://www1.president.go.kr/articles/10815\n",
      "10 https://www1.president.go.kr/articles/10814\n",
      "11 https://www1.president.go.kr/articles/10813\n",
      "12 https://www1.president.go.kr/articles/10812\n",
      "13 https://www1.president.go.kr/articles/10811\n",
      "14 https://www1.president.go.kr/articles/10810\n"
     ]
    }
   ],
   "source": [
    "speech_urls = driver.find_elements_by_css_selector('div.list_txt > a')\n",
    "for num, url in enumerate(speech_urls):\n",
    "    print(num, url.get_attribute('href'))"
   ]
  },
  {
   "cell_type": "markdown",
   "id": "b8ada891-943a-43b6-90d6-039dc620f5e3",
   "metadata": {
    "slideshow": {
     "slide_type": "subslide"
    }
   },
   "source": [
    "### 6-2-4. 데이터 저장"
   ]
  },
  {
   "cell_type": "code",
   "execution_count": 78,
   "id": "375439cf",
   "metadata": {},
   "outputs": [
    {
     "name": "stdout",
     "output_type": "stream",
     "text": [
      "갈고닦은 기량을 마음껏 펼쳐준 대한민국 선수들과 코치진 그리고 아낌없는 응원을 보내주신 국민들께 깊이 감사드립니다\n",
      "도쿄올림픽이 끝났습니다.  갈고닦은 기량을 마음껏 펼쳐준 대한민국 선수들과 코치진 그리고 아낌없는 응원을 보내주신 국민들께 깊이 감사드립니다. 여전히 어려운 시기에 열린 이번 올림픽에서 우리 선수들은 정직한 땀방울을 통해 국민들에게 위로와 희망의 메시지를 전해주었습니다.  메달 소식도 자주 들려주었습니다.  첫 메달이었던...\n",
      "2021-08-08\n",
      "https://www1.president.go.kr/articles/10849\n"
     ]
    }
   ],
   "source": [
    "print(speech_titles[1].text)\n",
    "print(speech_summaries[1].text)\n",
    "print(speech_dates[1].text)\n",
    "print(speech_urls[1].get_attribute('href'))"
   ]
  },
  {
   "cell_type": "code",
   "execution_count": null,
   "id": "d0d6cbb9",
   "metadata": {},
   "outputs": [],
   "source": []
  },
  {
   "cell_type": "code",
   "execution_count": 79,
   "id": "9e2013b7-eb46-4b89-b98f-4868ff7e13d5",
   "metadata": {
    "slideshow": {
     "slide_type": "fragment"
    }
   },
   "outputs": [],
   "source": [
    "speech_list = []\n",
    "for n in range(len(speech_dates)):\n",
    "    speech_list.append(\n",
    "        {\n",
    "            'title': speech_titles[n].text,\n",
    "            'summary': speech_summaries[n].text,\n",
    "            'date': speech_dates[n].text,\n",
    "            'url': speech_urls[n].get_attribute('href')\n",
    "        })"
   ]
  },
  {
   "cell_type": "code",
   "execution_count": 80,
   "id": "f7aa19d7",
   "metadata": {},
   "outputs": [
    {
     "data": {
      "text/plain": [
       "[{'title': '수석보좌관회의 모두발언',\n",
       "  'summary': '  오늘 외부 전문가로 김용익 건보공단 이사장님, 그다음에 김선민 건보심사평가원 원장님이 참석해서 토론에 함께해 주시겠습니다. 감사합니다. 박수로 맞아주시기 바랍니다. 코로나 확산세가 좀처럼 꺾이지 않고, 강화된 거리두기 단계를 연장하게 되어 매우 안타까운 마음입니다. 국민 ...',\n",
       "  'date': '2021-08-09',\n",
       "  'url': 'https://www1.president.go.kr/articles/10852'},\n",
       " {'title': '갈고닦은 기량을 마음껏 펼쳐준 대한민국 선수들과 코치진 그리고 아낌없는 응원을 보내주신 국민들께 깊이 감사드립니다',\n",
       "  'summary': '도쿄올림픽이 끝났습니다.  갈고닦은 기량을 마음껏 펼쳐준 대한민국 선수들과 코치진 그리고 아낌없는 응원을 보내주신 국민들께 깊이 감사드립니다. 여전히 어려운 시기에 열린 이번 올림픽에서 우리 선수들은 정직한 땀방울을 통해 국민들에게 위로와 희망의 메시지를 전해주었습니다.  메달 소식도 자주 들려주었습니다.  첫 메달이었던...',\n",
       "  'date': '2021-08-08',\n",
       "  'url': 'https://www1.president.go.kr/articles/10849'},\n",
       " {'title': '근대5종 남자 개인전 전웅태 선수 축전',\n",
       "  'summary': '  근대5종 남자 개인전 전웅태 선수   2020 도쿄올림픽 동메달 획득을 축하합니다. 대한민국 근대5종 사상 최초의 올림픽 메달입니다. 정진화 선수와 함께 말로 표현할 수 없이 멋진 경기를 펼쳐주었고, 두 선수가 경기 후 나눈 우정의 포옹은 뭉클한 감동을 주었습니다. 이제 전 선수의 희망처럼 대한민국 근대5종은 국...',\n",
       "  'date': '2021-08-08',\n",
       "  'url': 'https://www1.president.go.kr/articles/10848'},\n",
       " {'title': '우리 여자 배구 선수들이 도쿄올림픽에서 특별한 감동을 주었습니다',\n",
       "  'summary': '우리 여자 배구 선수들이 도쿄올림픽에서 특별한 감동을 주었습니다.  원팀의 힘으로 세계 강호들과 대등하게 맞섰고, 매 경기 모든 걸 쏟아내는 모습에 국민 모두 자부심을 느꼈습니다.  아름다운 도전이었습니다.  아쉬워하지 말기 바랍니다.  또 하면 됩니다.  지금까지처럼 자신감을 가져주길 바랍니다. ...',\n",
       "  'date': '2021-08-08',\n",
       "  'url': 'https://www1.president.go.kr/articles/10847'},\n",
       " {'title': '폭염 대응 소방관서 격려 방문 모두발언',\n",
       "  'summary': '인력 2만 명 증원, 그리고 지금 진행되고 있습니다만 국립소방병원 건립 이런 약속들을 제가 차근차근 다 이렇게 지킬 수 있어서 아주 다행스럽게 생각합니다. 그런데 오늘은 그 때문에 온 것은 아니고, 정말 요즘 아주 역대급 폭염이죠. 연일 계속되고 있어서 여러분들 정말 고생이 많습니다. 원래...',\n",
       "  'date': '2021-08-06',\n",
       "  'url': 'https://www1.president.go.kr/articles/10843'},\n",
       " {'title': 'K-글로벌 백신 허브화 비전 및 전략 보고대회 모두발언',\n",
       "  'summary': '국무총리를 위원장으로 하는 민관합동 ‘글로벌 백신 허브화 추진위원회’가 출범해 오늘 첫 회의를 열게 되었습니다. 관련 부처들과 함께, 백신 분야 최고의 전문가들이 민간위원으로 참여하고 있습니다. 오늘 회의에는 백신 개발과 생산 기업 대표들도 함께해 주셨습니다. 감사합니다.  전파력이 강한 델타 변이바이러스가 확산하며 ...',\n",
       "  'date': '2021-08-05',\n",
       "  'url': 'https://www1.president.go.kr/articles/10834'},\n",
       " {'title': '배드민턴 여자 복식 국가대표 선수 축전',\n",
       "  'summary': '2020 도쿄올림픽 동메달 획득을 축하합니다. 함께 경기한 네 선수 모두 최선을 다한 아름다운 승부였습니다. 파트너인 김소영 선수와 함께 시상대에 오르고 싶다던 소망이 이루어져 기쁩니다. 김소영 선수와 공희용 선수가 서로를 믿고 함께 만든 성과에 큰 박수를 보냅니다. 경기 후 네 선수가 나눈 위로와 우정의 포옹은 올림픽 정신을 온전히 보여 줬습니다....',\n",
       "  'date': '2021-08-03',\n",
       "  'url': 'https://www1.president.go.kr/articles/10826'},\n",
       " {'title': '기계체조 남자 도마 신재환 선수 축전',\n",
       "  'summary': '2020 도쿄올림픽 금메달 획득을 축하합니다. 대한민국을 가장 높은 지점에서 빛내 주었습니다. 신 선수의 환상적인 금빛 착지에 세계가 환호했습니다. 새로운 ‘도마 황제’의 출현에 박수를 보냅니다. 우리 체조의 자부심을 더욱 드높여 주길 바랍니다. 신 선수의 열정과 도전을 국민과 함께 응원하겠습니다.   2021년...',\n",
       "  'date': '2021-08-03',\n",
       "  'url': 'https://www1.president.go.kr/articles/10825'},\n",
       " {'title': '제34회 국무회의 모두발언',\n",
       "  'summary': '제34회 국무회의를 시작하겠습니다. 코로나 위기 속에서 국민들은 여전히 힘겨운 시기를 견디고 있습니다. 방역과 민생에 전념하며 국민의 삶을 지키는 것이 우리 정부 남은 임기 동안 피할 수 없는 책무가 되었습니다. 4차 산업혁명과 기후변화에 대응해야 하는 대전환기에 국가의 미래를 준비하고 개척하는 과업 또한 미룰 수 없는 시대적 소명이 되었습니...',\n",
       "  'date': '2021-08-03',\n",
       "  'url': 'https://www1.president.go.kr/articles/10821'},\n",
       " {'title': '수석보좌관회의 모두발언',\n",
       "  'summary': '오늘 외부 전문가로 우리 권기홍 동반성장위원회 위원장님 그리고 또 정중교 주식회사 프레시지 대표이사님 참석을 해 주셨습니다. 민간 기업의 대표이사가 우리 청와대 수보회의에 참석한 것은 거의 처음이 아닌가 싶은데, 기업 현장에서 느끼는 생생한 의견들 기탄없이 말씀해 주시기 바랍니다. 환영해 주시기 바랍니다. 여름이 더욱 깊어지고 있습니다. 국민들께...',\n",
       "  'date': '2021-08-02',\n",
       "  'url': 'https://www1.president.go.kr/articles/10815'},\n",
       " {'title': '기계체조 여자 도마 여서정 선수 축전',\n",
       "  'summary': '2020 도쿄올림픽 체조 동메달 획득을 축하합니다. 우리 여자 체조 사상 최초의 올림픽 메달 쾌거입니다. 강한 정신력과 탁월한 기량으로 만든 최고난도의 ‘여서정’ 기술이 아주 멋졌습니다. 여 선수가 장하고 자랑스럽습니다. ‘부녀 올림픽 메달리스트’ 탄생을 축하합니다. 국민들께 새로운 자부심을 선사해 주...',\n",
       "  'date': '2021-08-02',\n",
       "  'url': 'https://www1.president.go.kr/articles/10814'},\n",
       " {'title': '펜싱 사브르 여자 단체 축전',\n",
       "  'summary': '2020 도쿄올림픽 동메달 획득을 축하합니다. 국민들께 큰 기쁨과 용기를 주었습니다. 김 선수는 든든한 맏언니로서, ‘살아있는 전설’다운 최정상의 기량을 보여 주었습니다. 최 선수의 큰 부상을 이겨내고 이뤄낸 성취여서 더욱 값집니다. 윤 선수가 보여 준 놀라운 경기력에 국민들은 아낌없는 박수를 보냈습니다. 서 선수의 승리를 향한...',\n",
       "  'date': '2021-08-01',\n",
       "  'url': 'https://www1.president.go.kr/articles/10813'},\n",
       " {'title': '양궁 여자 개인 안 산 선수 축전',\n",
       "  'summary': '2020 도쿄올림픽 3관왕을 축하합니다. 하계 올림픽 한국 선수 최초 3관왕의 첫 역사를 세계 앞에서 썼습니다. 안 선수가 보여 준 경기력과 정신력에 국민들 모두 감격하고 아낌없는 박수를 보냈습니다. 안 선수의 자부심이 우리의 자부심입니다. 더 큰 박수로 국민과 함께 응원하겠습니다. 장하고 또 장합니다. 2021년 7월 31일 대통령 문 재 인',\n",
       "  'date': '2021-07-31',\n",
       "  'url': 'https://www1.president.go.kr/articles/10812'},\n",
       " {'title': '펜싱 에페 남자 단체 축전',\n",
       "  'summary': '2020 도쿄올림픽 동메달 획득을 축하합니다. 팀의 든든한 맏형으로 빛나는 결과를 이끌어낸 권 선수가 자랑스럽습니다. 송 선수의 민첩한 경기력에 국민들은 아낌없는 박수를 보냈습니다. 마 선수의 저돌적인 경기력이 시원한 승리를 만들어냈습니다. 박 선수의 ‘할 수 있다’는 자신감이 승리를 이끌었습니다. 권 선수, 송 선수, 마 선...',\n",
       "  'date': '2021-07-31',\n",
       "  'url': 'https://www1.president.go.kr/articles/10811'},\n",
       " {'title': '사격 여자 권총 김민정 선수 축전',\n",
       "  'summary': '2020 도쿄올림픽 사격 은메달 획득을 축하합니다. 김 선수가 보여 준 경기력과, 긍정과 낙관으로 만든 빛나는 성과에 국민들은 큰 박수를 보냈습니다. 자랑스럽습니다. 앞으로의 도전도 국민과 함께 응원하겠습니다.   2021년 7월 31일 대통령 문 재 인',\n",
       "  'date': '2021-07-31',\n",
       "  'url': 'https://www1.president.go.kr/articles/10810'}]"
      ]
     },
     "execution_count": 80,
     "metadata": {},
     "output_type": "execute_result"
    }
   ],
   "source": [
    "speech_list"
   ]
  },
  {
   "cell_type": "code",
   "execution_count": 81,
   "id": "7a954d73-bdd5-4320-b4d3-1deb1680f15b",
   "metadata": {
    "slideshow": {
     "slide_type": "fragment"
    }
   },
   "outputs": [],
   "source": [
    "import pandas as pd"
   ]
  },
  {
   "cell_type": "code",
   "execution_count": 82,
   "id": "7f0155e2-3c58-40b8-b53b-1ed4a86edf17",
   "metadata": {
    "slideshow": {
     "slide_type": "fragment"
    }
   },
   "outputs": [],
   "source": [
    "speech_df = pd.DataFrame(speech_list)"
   ]
  },
  {
   "cell_type": "code",
   "execution_count": 83,
   "id": "d035b8d6",
   "metadata": {},
   "outputs": [
    {
     "data": {
      "text/html": [
       "<div>\n",
       "<style scoped>\n",
       "    .dataframe tbody tr th:only-of-type {\n",
       "        vertical-align: middle;\n",
       "    }\n",
       "\n",
       "    .dataframe tbody tr th {\n",
       "        vertical-align: top;\n",
       "    }\n",
       "\n",
       "    .dataframe thead th {\n",
       "        text-align: right;\n",
       "    }\n",
       "</style>\n",
       "<table border=\"1\" class=\"dataframe\">\n",
       "  <thead>\n",
       "    <tr style=\"text-align: right;\">\n",
       "      <th></th>\n",
       "      <th>title</th>\n",
       "      <th>summary</th>\n",
       "      <th>date</th>\n",
       "      <th>url</th>\n",
       "    </tr>\n",
       "  </thead>\n",
       "  <tbody>\n",
       "    <tr>\n",
       "      <th>0</th>\n",
       "      <td>수석보좌관회의 모두발언</td>\n",
       "      <td>오늘 외부 전문가로 김용익 건보공단 이사장님, 그다음에 김선민 건보심사평가원 원...</td>\n",
       "      <td>2021-08-09</td>\n",
       "      <td>https://www1.president.go.kr/articles/10852</td>\n",
       "    </tr>\n",
       "    <tr>\n",
       "      <th>1</th>\n",
       "      <td>갈고닦은 기량을 마음껏 펼쳐준 대한민국 선수들과 코치진 그리고 아낌없는 응원을 보내...</td>\n",
       "      <td>도쿄올림픽이 끝났습니다.  갈고닦은 기량을 마음껏 펼쳐준 대한민국 선수들과 코치진 ...</td>\n",
       "      <td>2021-08-08</td>\n",
       "      <td>https://www1.president.go.kr/articles/10849</td>\n",
       "    </tr>\n",
       "    <tr>\n",
       "      <th>2</th>\n",
       "      <td>근대5종 남자 개인전 전웅태 선수 축전</td>\n",
       "      <td>근대5종 남자 개인전 전웅태 선수   2020 도쿄올림픽 동메달 획득을 축하합니...</td>\n",
       "      <td>2021-08-08</td>\n",
       "      <td>https://www1.president.go.kr/articles/10848</td>\n",
       "    </tr>\n",
       "    <tr>\n",
       "      <th>3</th>\n",
       "      <td>우리 여자 배구 선수들이 도쿄올림픽에서 특별한 감동을 주었습니다</td>\n",
       "      <td>우리 여자 배구 선수들이 도쿄올림픽에서 특별한 감동을 주었습니다.  원팀의 힘으로 ...</td>\n",
       "      <td>2021-08-08</td>\n",
       "      <td>https://www1.president.go.kr/articles/10847</td>\n",
       "    </tr>\n",
       "    <tr>\n",
       "      <th>4</th>\n",
       "      <td>폭염 대응 소방관서 격려 방문 모두발언</td>\n",
       "      <td>인력 2만 명 증원, 그리고 지금 진행되고 있습니다만 국립소방병원 건립 이런 약속들...</td>\n",
       "      <td>2021-08-06</td>\n",
       "      <td>https://www1.president.go.kr/articles/10843</td>\n",
       "    </tr>\n",
       "    <tr>\n",
       "      <th>5</th>\n",
       "      <td>K-글로벌 백신 허브화 비전 및 전략 보고대회 모두발언</td>\n",
       "      <td>국무총리를 위원장으로 하는 민관합동 ‘글로벌 백신 허브화 추진위원회’가 출범해 오늘...</td>\n",
       "      <td>2021-08-05</td>\n",
       "      <td>https://www1.president.go.kr/articles/10834</td>\n",
       "    </tr>\n",
       "    <tr>\n",
       "      <th>6</th>\n",
       "      <td>배드민턴 여자 복식 국가대표 선수 축전</td>\n",
       "      <td>2020 도쿄올림픽 동메달 획득을 축하합니다. 함께 경기한 네 선수 모두 최선을 다...</td>\n",
       "      <td>2021-08-03</td>\n",
       "      <td>https://www1.president.go.kr/articles/10826</td>\n",
       "    </tr>\n",
       "    <tr>\n",
       "      <th>7</th>\n",
       "      <td>기계체조 남자 도마 신재환 선수 축전</td>\n",
       "      <td>2020 도쿄올림픽 금메달 획득을 축하합니다. 대한민국을 가장 높은 지점에서 빛내 ...</td>\n",
       "      <td>2021-08-03</td>\n",
       "      <td>https://www1.president.go.kr/articles/10825</td>\n",
       "    </tr>\n",
       "    <tr>\n",
       "      <th>8</th>\n",
       "      <td>제34회 국무회의 모두발언</td>\n",
       "      <td>제34회 국무회의를 시작하겠습니다. 코로나 위기 속에서 국민들은 여전히 힘겨운 시기...</td>\n",
       "      <td>2021-08-03</td>\n",
       "      <td>https://www1.president.go.kr/articles/10821</td>\n",
       "    </tr>\n",
       "    <tr>\n",
       "      <th>9</th>\n",
       "      <td>수석보좌관회의 모두발언</td>\n",
       "      <td>오늘 외부 전문가로 우리 권기홍 동반성장위원회 위원장님 그리고 또 정중교 주식회사 ...</td>\n",
       "      <td>2021-08-02</td>\n",
       "      <td>https://www1.president.go.kr/articles/10815</td>\n",
       "    </tr>\n",
       "    <tr>\n",
       "      <th>10</th>\n",
       "      <td>기계체조 여자 도마 여서정 선수 축전</td>\n",
       "      <td>2020 도쿄올림픽 체조 동메달 획득을 축하합니다. 우리 여자 체조 사상 최초의 올...</td>\n",
       "      <td>2021-08-02</td>\n",
       "      <td>https://www1.president.go.kr/articles/10814</td>\n",
       "    </tr>\n",
       "    <tr>\n",
       "      <th>11</th>\n",
       "      <td>펜싱 사브르 여자 단체 축전</td>\n",
       "      <td>2020 도쿄올림픽 동메달 획득을 축하합니다. 국민들께 큰 기쁨과 용기를 주었습니다...</td>\n",
       "      <td>2021-08-01</td>\n",
       "      <td>https://www1.president.go.kr/articles/10813</td>\n",
       "    </tr>\n",
       "    <tr>\n",
       "      <th>12</th>\n",
       "      <td>양궁 여자 개인 안 산 선수 축전</td>\n",
       "      <td>2020 도쿄올림픽 3관왕을 축하합니다. 하계 올림픽 한국 선수 최초 3관왕의 첫 ...</td>\n",
       "      <td>2021-07-31</td>\n",
       "      <td>https://www1.president.go.kr/articles/10812</td>\n",
       "    </tr>\n",
       "    <tr>\n",
       "      <th>13</th>\n",
       "      <td>펜싱 에페 남자 단체 축전</td>\n",
       "      <td>2020 도쿄올림픽 동메달 획득을 축하합니다. 팀의 든든한 맏형으로 빛나는 결과를 ...</td>\n",
       "      <td>2021-07-31</td>\n",
       "      <td>https://www1.president.go.kr/articles/10811</td>\n",
       "    </tr>\n",
       "    <tr>\n",
       "      <th>14</th>\n",
       "      <td>사격 여자 권총 김민정 선수 축전</td>\n",
       "      <td>2020 도쿄올림픽 사격 은메달 획득을 축하합니다. 김 선수가 보여 준 경기력과, ...</td>\n",
       "      <td>2021-07-31</td>\n",
       "      <td>https://www1.president.go.kr/articles/10810</td>\n",
       "    </tr>\n",
       "  </tbody>\n",
       "</table>\n",
       "</div>"
      ],
      "text/plain": [
       "                                                title  \\\n",
       "0                                        수석보좌관회의 모두발언   \n",
       "1   갈고닦은 기량을 마음껏 펼쳐준 대한민국 선수들과 코치진 그리고 아낌없는 응원을 보내...   \n",
       "2                               근대5종 남자 개인전 전웅태 선수 축전   \n",
       "3                 우리 여자 배구 선수들이 도쿄올림픽에서 특별한 감동을 주었습니다   \n",
       "4                               폭염 대응 소방관서 격려 방문 모두발언   \n",
       "5                      K-글로벌 백신 허브화 비전 및 전략 보고대회 모두발언   \n",
       "6                               배드민턴 여자 복식 국가대표 선수 축전   \n",
       "7                                기계체조 남자 도마 신재환 선수 축전   \n",
       "8                                      제34회 국무회의 모두발언   \n",
       "9                                        수석보좌관회의 모두발언   \n",
       "10                               기계체조 여자 도마 여서정 선수 축전   \n",
       "11                                    펜싱 사브르 여자 단체 축전   \n",
       "12                                 양궁 여자 개인 안 산 선수 축전   \n",
       "13                                     펜싱 에페 남자 단체 축전   \n",
       "14                                 사격 여자 권총 김민정 선수 축전   \n",
       "\n",
       "                                              summary        date  \\\n",
       "0     오늘 외부 전문가로 김용익 건보공단 이사장님, 그다음에 김선민 건보심사평가원 원...  2021-08-09   \n",
       "1   도쿄올림픽이 끝났습니다.  갈고닦은 기량을 마음껏 펼쳐준 대한민국 선수들과 코치진 ...  2021-08-08   \n",
       "2     근대5종 남자 개인전 전웅태 선수   2020 도쿄올림픽 동메달 획득을 축하합니...  2021-08-08   \n",
       "3   우리 여자 배구 선수들이 도쿄올림픽에서 특별한 감동을 주었습니다.  원팀의 힘으로 ...  2021-08-08   \n",
       "4   인력 2만 명 증원, 그리고 지금 진행되고 있습니다만 국립소방병원 건립 이런 약속들...  2021-08-06   \n",
       "5   국무총리를 위원장으로 하는 민관합동 ‘글로벌 백신 허브화 추진위원회’가 출범해 오늘...  2021-08-05   \n",
       "6   2020 도쿄올림픽 동메달 획득을 축하합니다. 함께 경기한 네 선수 모두 최선을 다...  2021-08-03   \n",
       "7   2020 도쿄올림픽 금메달 획득을 축하합니다. 대한민국을 가장 높은 지점에서 빛내 ...  2021-08-03   \n",
       "8   제34회 국무회의를 시작하겠습니다. 코로나 위기 속에서 국민들은 여전히 힘겨운 시기...  2021-08-03   \n",
       "9   오늘 외부 전문가로 우리 권기홍 동반성장위원회 위원장님 그리고 또 정중교 주식회사 ...  2021-08-02   \n",
       "10  2020 도쿄올림픽 체조 동메달 획득을 축하합니다. 우리 여자 체조 사상 최초의 올...  2021-08-02   \n",
       "11  2020 도쿄올림픽 동메달 획득을 축하합니다. 국민들께 큰 기쁨과 용기를 주었습니다...  2021-08-01   \n",
       "12  2020 도쿄올림픽 3관왕을 축하합니다. 하계 올림픽 한국 선수 최초 3관왕의 첫 ...  2021-07-31   \n",
       "13  2020 도쿄올림픽 동메달 획득을 축하합니다. 팀의 든든한 맏형으로 빛나는 결과를 ...  2021-07-31   \n",
       "14  2020 도쿄올림픽 사격 은메달 획득을 축하합니다. 김 선수가 보여 준 경기력과, ...  2021-07-31   \n",
       "\n",
       "                                            url  \n",
       "0   https://www1.president.go.kr/articles/10852  \n",
       "1   https://www1.president.go.kr/articles/10849  \n",
       "2   https://www1.president.go.kr/articles/10848  \n",
       "3   https://www1.president.go.kr/articles/10847  \n",
       "4   https://www1.president.go.kr/articles/10843  \n",
       "5   https://www1.president.go.kr/articles/10834  \n",
       "6   https://www1.president.go.kr/articles/10826  \n",
       "7   https://www1.president.go.kr/articles/10825  \n",
       "8   https://www1.president.go.kr/articles/10821  \n",
       "9   https://www1.president.go.kr/articles/10815  \n",
       "10  https://www1.president.go.kr/articles/10814  \n",
       "11  https://www1.president.go.kr/articles/10813  \n",
       "12  https://www1.president.go.kr/articles/10812  \n",
       "13  https://www1.president.go.kr/articles/10811  \n",
       "14  https://www1.president.go.kr/articles/10810  "
      ]
     },
     "execution_count": 83,
     "metadata": {},
     "output_type": "execute_result"
    }
   ],
   "source": [
    "speech_df"
   ]
  },
  {
   "cell_type": "code",
   "execution_count": null,
   "id": "d2ae5ce2",
   "metadata": {
    "slideshow": {
     "slide_type": "fragment"
    }
   },
   "outputs": [],
   "source": [
    "speech_df.head()"
   ]
  },
  {
   "cell_type": "code",
   "execution_count": 84,
   "id": "6dbbbe3b-1acf-433d-b371-18b5453ca227",
   "metadata": {
    "slideshow": {
     "slide_type": "fragment"
    }
   },
   "outputs": [],
   "source": [
    "speech_df.to_csv('president_speech_ex1.csv', encoding='utf-8-sig')"
   ]
  },
  {
   "cell_type": "markdown",
   "id": "61ef98c8-0122-4ae4-b906-58ebf83d0ce7",
   "metadata": {
    "slideshow": {
     "slide_type": "subslide"
    }
   },
   "source": [
    "### 6-2-5. 정리"
   ]
  },
  {
   "cell_type": "markdown",
   "id": "7a12ba57",
   "metadata": {
    "slideshow": {
     "slide_type": "subslide"
    }
   },
   "source": [
    "#### 방식 1"
   ]
  },
  {
   "cell_type": "code",
   "execution_count": 5,
   "id": "92387b44-fcc2-4228-9502-ff95db92ebd6",
   "metadata": {
    "slideshow": {
     "slide_type": "fragment"
    }
   },
   "outputs": [],
   "source": [
    "from selenium import webdriver\n",
    "import pandas as pd\n",
    "\n",
    "driver = webdriver.Chrome('./chromedriver')\n",
    "url = 'https://www1.president.go.kr/c/president-speeches'\n",
    "driver.get(url)\n",
    "\n",
    "speech_titles = driver.find_elements_by_css_selector('div.list_txt_title > h3')\n",
    "speech_summaries = driver.find_elements_by_css_selector('div.list_txt_cont')\n",
    "speech_dates = driver.find_elements_by_css_selector('p.list_txt_date')\n",
    "speech_urls = driver.find_elements_by_css_selector('div.list_txt > a')\n",
    "\n",
    "speech_list = []\n",
    "for n in range(len(speech_dates)):\n",
    "    speech_list.append(\n",
    "        {\n",
    "            'title': speech_titles[n].text,\n",
    "            'summary': speech_summaries[n].text,\n",
    "            'date': speech_dates[n].text,\n",
    "            'url': speech_urls[n].get_attribute('href')\n",
    "        })\n",
    "    \n",
    "driver.quit()\n",
    "\n",
    "speech_df = pd.DataFrame(speech_list)\n",
    "speech_df.to_csv('president_speech_ex1.csv', encoding='utf-8-sig')"
   ]
  },
  {
   "cell_type": "code",
   "execution_count": 6,
   "id": "1ca93b7a",
   "metadata": {},
   "outputs": [
    {
     "data": {
      "text/html": [
       "<div>\n",
       "<style scoped>\n",
       "    .dataframe tbody tr th:only-of-type {\n",
       "        vertical-align: middle;\n",
       "    }\n",
       "\n",
       "    .dataframe tbody tr th {\n",
       "        vertical-align: top;\n",
       "    }\n",
       "\n",
       "    .dataframe thead th {\n",
       "        text-align: right;\n",
       "    }\n",
       "</style>\n",
       "<table border=\"1\" class=\"dataframe\">\n",
       "  <thead>\n",
       "    <tr style=\"text-align: right;\">\n",
       "      <th></th>\n",
       "      <th>title</th>\n",
       "      <th>summary</th>\n",
       "      <th>date</th>\n",
       "      <th>url</th>\n",
       "    </tr>\n",
       "  </thead>\n",
       "  <tbody>\n",
       "    <tr>\n",
       "      <th>0</th>\n",
       "      <td>건강보험 보장성 강화대책 4주년 성과 보고대회</td>\n",
       "      <td>존경하는 국민 여러분,  ‘문재인 케어’라고 불린 건강보험 보장성 강화대책 발표 4...</td>\n",
       "      <td>2021-08-12</td>\n",
       "      <td>https://www1.president.go.kr/articles/10865</td>\n",
       "    </tr>\n",
       "    <tr>\n",
       "      <th>1</th>\n",
       "      <td>수석보좌관회의 모두발언</td>\n",
       "      <td>오늘 외부 전문가로 김용익 건보공단 이사장님, 그다음에 김선민 건보심사평가원 원...</td>\n",
       "      <td>2021-08-09</td>\n",
       "      <td>https://www1.president.go.kr/articles/10852</td>\n",
       "    </tr>\n",
       "    <tr>\n",
       "      <th>2</th>\n",
       "      <td>갈고닦은 기량을 마음껏 펼쳐준 대한민국 선수들과 코치진 그리고 아낌없는 응원을 보내...</td>\n",
       "      <td>도쿄올림픽이 끝났습니다.  갈고닦은 기량을 마음껏 펼쳐준 대한민국 선수들과 코치진 ...</td>\n",
       "      <td>2021-08-08</td>\n",
       "      <td>https://www1.president.go.kr/articles/10849</td>\n",
       "    </tr>\n",
       "    <tr>\n",
       "      <th>3</th>\n",
       "      <td>근대5종 남자 개인전 전웅태 선수 축전</td>\n",
       "      <td>근대5종 남자 개인전 전웅태 선수   2020 도쿄올림픽 동메달 획득을 축하합니...</td>\n",
       "      <td>2021-08-08</td>\n",
       "      <td>https://www1.president.go.kr/articles/10848</td>\n",
       "    </tr>\n",
       "    <tr>\n",
       "      <th>4</th>\n",
       "      <td>우리 여자 배구 선수들이 도쿄올림픽에서 특별한 감동을 주었습니다</td>\n",
       "      <td>우리 여자 배구 선수들이 도쿄올림픽에서 특별한 감동을 주었습니다.  원팀의 힘으로 ...</td>\n",
       "      <td>2021-08-08</td>\n",
       "      <td>https://www1.president.go.kr/articles/10847</td>\n",
       "    </tr>\n",
       "    <tr>\n",
       "      <th>5</th>\n",
       "      <td>폭염 대응 소방관서 격려 방문 모두발언</td>\n",
       "      <td>인력 2만 명 증원, 그리고 지금 진행되고 있습니다만 국립소방병원 건립 이런 약속들...</td>\n",
       "      <td>2021-08-06</td>\n",
       "      <td>https://www1.president.go.kr/articles/10843</td>\n",
       "    </tr>\n",
       "    <tr>\n",
       "      <th>6</th>\n",
       "      <td>K-글로벌 백신 허브화 비전 및 전략 보고대회 모두발언</td>\n",
       "      <td>국무총리를 위원장으로 하는 민관합동 ‘글로벌 백신 허브화 추진위원회’가 출범해 오늘...</td>\n",
       "      <td>2021-08-05</td>\n",
       "      <td>https://www1.president.go.kr/articles/10834</td>\n",
       "    </tr>\n",
       "    <tr>\n",
       "      <th>7</th>\n",
       "      <td>배드민턴 여자 복식 국가대표 선수 축전</td>\n",
       "      <td>2020 도쿄올림픽 동메달 획득을 축하합니다. 함께 경기한 네 선수 모두 최선을 다...</td>\n",
       "      <td>2021-08-03</td>\n",
       "      <td>https://www1.president.go.kr/articles/10826</td>\n",
       "    </tr>\n",
       "    <tr>\n",
       "      <th>8</th>\n",
       "      <td>기계체조 남자 도마 신재환 선수 축전</td>\n",
       "      <td>2020 도쿄올림픽 금메달 획득을 축하합니다. 대한민국을 가장 높은 지점에서 빛내 ...</td>\n",
       "      <td>2021-08-03</td>\n",
       "      <td>https://www1.president.go.kr/articles/10825</td>\n",
       "    </tr>\n",
       "    <tr>\n",
       "      <th>9</th>\n",
       "      <td>제34회 국무회의 모두발언</td>\n",
       "      <td>제34회 국무회의를 시작하겠습니다. 코로나 위기 속에서 국민들은 여전히 힘겨운 시기...</td>\n",
       "      <td>2021-08-03</td>\n",
       "      <td>https://www1.president.go.kr/articles/10821</td>\n",
       "    </tr>\n",
       "    <tr>\n",
       "      <th>10</th>\n",
       "      <td>수석보좌관회의 모두발언</td>\n",
       "      <td>오늘 외부 전문가로 우리 권기홍 동반성장위원회 위원장님 그리고 또 정중교 주식회사 ...</td>\n",
       "      <td>2021-08-02</td>\n",
       "      <td>https://www1.president.go.kr/articles/10815</td>\n",
       "    </tr>\n",
       "    <tr>\n",
       "      <th>11</th>\n",
       "      <td>기계체조 여자 도마 여서정 선수 축전</td>\n",
       "      <td>2020 도쿄올림픽 체조 동메달 획득을 축하합니다. 우리 여자 체조 사상 최초의 올...</td>\n",
       "      <td>2021-08-02</td>\n",
       "      <td>https://www1.president.go.kr/articles/10814</td>\n",
       "    </tr>\n",
       "    <tr>\n",
       "      <th>12</th>\n",
       "      <td>펜싱 사브르 여자 단체 축전</td>\n",
       "      <td>2020 도쿄올림픽 동메달 획득을 축하합니다. 국민들께 큰 기쁨과 용기를 주었습니다...</td>\n",
       "      <td>2021-08-01</td>\n",
       "      <td>https://www1.president.go.kr/articles/10813</td>\n",
       "    </tr>\n",
       "    <tr>\n",
       "      <th>13</th>\n",
       "      <td>양궁 여자 개인 안 산 선수 축전</td>\n",
       "      <td>2020 도쿄올림픽 3관왕을 축하합니다. 하계 올림픽 한국 선수 최초 3관왕의 첫 ...</td>\n",
       "      <td>2021-07-31</td>\n",
       "      <td>https://www1.president.go.kr/articles/10812</td>\n",
       "    </tr>\n",
       "    <tr>\n",
       "      <th>14</th>\n",
       "      <td>펜싱 에페 남자 단체 축전</td>\n",
       "      <td>2020 도쿄올림픽 동메달 획득을 축하합니다. 팀의 든든한 맏형으로 빛나는 결과를 ...</td>\n",
       "      <td>2021-07-31</td>\n",
       "      <td>https://www1.president.go.kr/articles/10811</td>\n",
       "    </tr>\n",
       "  </tbody>\n",
       "</table>\n",
       "</div>"
      ],
      "text/plain": [
       "                                                title  \\\n",
       "0                           건강보험 보장성 강화대책 4주년 성과 보고대회   \n",
       "1                                        수석보좌관회의 모두발언   \n",
       "2   갈고닦은 기량을 마음껏 펼쳐준 대한민국 선수들과 코치진 그리고 아낌없는 응원을 보내...   \n",
       "3                               근대5종 남자 개인전 전웅태 선수 축전   \n",
       "4                 우리 여자 배구 선수들이 도쿄올림픽에서 특별한 감동을 주었습니다   \n",
       "5                               폭염 대응 소방관서 격려 방문 모두발언   \n",
       "6                      K-글로벌 백신 허브화 비전 및 전략 보고대회 모두발언   \n",
       "7                               배드민턴 여자 복식 국가대표 선수 축전   \n",
       "8                                기계체조 남자 도마 신재환 선수 축전   \n",
       "9                                      제34회 국무회의 모두발언   \n",
       "10                                       수석보좌관회의 모두발언   \n",
       "11                               기계체조 여자 도마 여서정 선수 축전   \n",
       "12                                    펜싱 사브르 여자 단체 축전   \n",
       "13                                 양궁 여자 개인 안 산 선수 축전   \n",
       "14                                     펜싱 에페 남자 단체 축전   \n",
       "\n",
       "                                              summary        date  \\\n",
       "0   존경하는 국민 여러분,  ‘문재인 케어’라고 불린 건강보험 보장성 강화대책 발표 4...  2021-08-12   \n",
       "1     오늘 외부 전문가로 김용익 건보공단 이사장님, 그다음에 김선민 건보심사평가원 원...  2021-08-09   \n",
       "2   도쿄올림픽이 끝났습니다.  갈고닦은 기량을 마음껏 펼쳐준 대한민국 선수들과 코치진 ...  2021-08-08   \n",
       "3     근대5종 남자 개인전 전웅태 선수   2020 도쿄올림픽 동메달 획득을 축하합니...  2021-08-08   \n",
       "4   우리 여자 배구 선수들이 도쿄올림픽에서 특별한 감동을 주었습니다.  원팀의 힘으로 ...  2021-08-08   \n",
       "5   인력 2만 명 증원, 그리고 지금 진행되고 있습니다만 국립소방병원 건립 이런 약속들...  2021-08-06   \n",
       "6   국무총리를 위원장으로 하는 민관합동 ‘글로벌 백신 허브화 추진위원회’가 출범해 오늘...  2021-08-05   \n",
       "7   2020 도쿄올림픽 동메달 획득을 축하합니다. 함께 경기한 네 선수 모두 최선을 다...  2021-08-03   \n",
       "8   2020 도쿄올림픽 금메달 획득을 축하합니다. 대한민국을 가장 높은 지점에서 빛내 ...  2021-08-03   \n",
       "9   제34회 국무회의를 시작하겠습니다. 코로나 위기 속에서 국민들은 여전히 힘겨운 시기...  2021-08-03   \n",
       "10  오늘 외부 전문가로 우리 권기홍 동반성장위원회 위원장님 그리고 또 정중교 주식회사 ...  2021-08-02   \n",
       "11  2020 도쿄올림픽 체조 동메달 획득을 축하합니다. 우리 여자 체조 사상 최초의 올...  2021-08-02   \n",
       "12  2020 도쿄올림픽 동메달 획득을 축하합니다. 국민들께 큰 기쁨과 용기를 주었습니다...  2021-08-01   \n",
       "13  2020 도쿄올림픽 3관왕을 축하합니다. 하계 올림픽 한국 선수 최초 3관왕의 첫 ...  2021-07-31   \n",
       "14  2020 도쿄올림픽 동메달 획득을 축하합니다. 팀의 든든한 맏형으로 빛나는 결과를 ...  2021-07-31   \n",
       "\n",
       "                                            url  \n",
       "0   https://www1.president.go.kr/articles/10865  \n",
       "1   https://www1.president.go.kr/articles/10852  \n",
       "2   https://www1.president.go.kr/articles/10849  \n",
       "3   https://www1.president.go.kr/articles/10848  \n",
       "4   https://www1.president.go.kr/articles/10847  \n",
       "5   https://www1.president.go.kr/articles/10843  \n",
       "6   https://www1.president.go.kr/articles/10834  \n",
       "7   https://www1.president.go.kr/articles/10826  \n",
       "8   https://www1.president.go.kr/articles/10825  \n",
       "9   https://www1.president.go.kr/articles/10821  \n",
       "10  https://www1.president.go.kr/articles/10815  \n",
       "11  https://www1.president.go.kr/articles/10814  \n",
       "12  https://www1.president.go.kr/articles/10813  \n",
       "13  https://www1.president.go.kr/articles/10812  \n",
       "14  https://www1.president.go.kr/articles/10811  "
      ]
     },
     "execution_count": 6,
     "metadata": {},
     "output_type": "execute_result"
    }
   ],
   "source": [
    "speech_df"
   ]
  },
  {
   "cell_type": "markdown",
   "id": "277bf24b",
   "metadata": {
    "slideshow": {
     "slide_type": "subslide"
    }
   },
   "source": [
    "#### 방식 2"
   ]
  },
  {
   "cell_type": "code",
   "execution_count": null,
   "id": "805af0bf-a463-44e4-a89b-951524a08bad",
   "metadata": {
    "scrolled": true,
    "slideshow": {
     "slide_type": "fragment"
    }
   },
   "outputs": [],
   "source": [
    "from selenium import webdriver\n",
    "import pandas as pd\n",
    "\n",
    "driver = webdriver.Chrome('./chromedriver')\n",
    "url = 'https://www1.president.go.kr/c/president-speeches'\n",
    "driver.get(url)\n",
    "\n",
    "speeches = driver.find_elements_by_xpath('//*[@id=\"cont_view\"]/div[2]/div/div[3]/div/div')\n",
    "\n",
    "speech_list = []\n",
    "for speech in speeches:\n",
    "    title = speech.find_element_by_xpath('div/div[1]/a/div[1]/h3').text\n",
    "    summary = speech.find_element_by_xpath('div/div[1]/a/div[2]').text\n",
    "    date = speech.find_element_by_xpath('div/div[1]/a/p').text\n",
    "    url = speech.find_element_by_xpath('div/div[1]/a').get_attribute('href')\n",
    "    speech_list.append({'title':title, 'summary':summary, 'date':date, 'url':url})\n",
    "    \n",
    "driver.quit()\n",
    "\n",
    "speech_df = pd.DataFrame(speech_list)\n",
    "speech_df.to_csv('president_speech_ex2.csv', encoding='utf-8-sig')"
   ]
  },
  {
   "cell_type": "markdown",
   "id": "06a624a0",
   "metadata": {
    "slideshow": {
     "slide_type": "subslide"
    }
   },
   "source": [
    "#### 방식 3"
   ]
  },
  {
   "cell_type": "code",
   "execution_count": null,
   "id": "f5b246e2-ebd7-4729-9b2e-4bcfff11dfaf",
   "metadata": {
    "slideshow": {
     "slide_type": "subslide"
    }
   },
   "outputs": [],
   "source": [
    "from selenium import webdriver\n",
    "import csv\n",
    "\n",
    "driver = webdriver.Chrome('./chromedriver')\n",
    "url = 'https://www1.president.go.kr/c/president-speeches'\n",
    "driver.get(url)\n",
    "\n",
    "speech_titles = driver.find_elements_by_css_selector('div.list_txt_title > h3')\n",
    "speech_summaries = driver.find_elements_by_css_selector('div.list_txt_cont')\n",
    "speech_dates = driver.find_elements_by_css_selector('p.list_txt_date')\n",
    "speech_urls = driver.find_elements_by_css_selector('div.list_txt > a')\n",
    "\n",
    "with open('president_speech_csv.csv', 'a', newline='') as f:\n",
    "    writer = csv.writer(f)\n",
    "    for n in range(len(speech_dates)):\n",
    "        writer.writerow([speech_titles[n].text, speech_summaries[n].text, speech_dates[n].text, speech_urls[n].get_attribute('href')])\n",
    "driver.quit()"
   ]
  },
  {
   "cell_type": "markdown",
   "id": "f818c4b0",
   "metadata": {
    "slideshow": {
     "slide_type": "slide"
    }
   },
   "source": [
    "# 7. 연결된 웹페이지 데이터 가져오기"
   ]
  },
  {
   "cell_type": "markdown",
   "id": "ac71fd04",
   "metadata": {
    "slideshow": {
     "slide_type": "fragment"
    }
   },
   "source": [
    "* 연설문 목록의 일부를 가져왔지만, 연설문 전문이 필요"
   ]
  },
  {
   "cell_type": "markdown",
   "id": "58568dae",
   "metadata": {
    "slideshow": {
     "slide_type": "fragment"
    }
   },
   "source": [
    "* 연설문 전문이 있는 웹페이지 링크는 이미 가져옴"
   ]
  },
  {
   "cell_type": "code",
   "execution_count": 85,
   "id": "fe795624",
   "metadata": {
    "slideshow": {
     "slide_type": "fragment"
    }
   },
   "outputs": [
    {
     "data": {
      "text/plain": [
       "[{'title': '수석보좌관회의 모두발언',\n",
       "  'summary': '  오늘 외부 전문가로 김용익 건보공단 이사장님, 그다음에 김선민 건보심사평가원 원장님이 참석해서 토론에 함께해 주시겠습니다. 감사합니다. 박수로 맞아주시기 바랍니다. 코로나 확산세가 좀처럼 꺾이지 않고, 강화된 거리두기 단계를 연장하게 되어 매우 안타까운 마음입니다. 국민 ...',\n",
       "  'date': '2021-08-09',\n",
       "  'url': 'https://www1.president.go.kr/articles/10852'},\n",
       " {'title': '갈고닦은 기량을 마음껏 펼쳐준 대한민국 선수들과 코치진 그리고 아낌없는 응원을 보내주신 국민들께 깊이 감사드립니다',\n",
       "  'summary': '도쿄올림픽이 끝났습니다.  갈고닦은 기량을 마음껏 펼쳐준 대한민국 선수들과 코치진 그리고 아낌없는 응원을 보내주신 국민들께 깊이 감사드립니다. 여전히 어려운 시기에 열린 이번 올림픽에서 우리 선수들은 정직한 땀방울을 통해 국민들에게 위로와 희망의 메시지를 전해주었습니다.  메달 소식도 자주 들려주었습니다.  첫 메달이었던...',\n",
       "  'date': '2021-08-08',\n",
       "  'url': 'https://www1.president.go.kr/articles/10849'},\n",
       " {'title': '근대5종 남자 개인전 전웅태 선수 축전',\n",
       "  'summary': '  근대5종 남자 개인전 전웅태 선수   2020 도쿄올림픽 동메달 획득을 축하합니다. 대한민국 근대5종 사상 최초의 올림픽 메달입니다. 정진화 선수와 함께 말로 표현할 수 없이 멋진 경기를 펼쳐주었고, 두 선수가 경기 후 나눈 우정의 포옹은 뭉클한 감동을 주었습니다. 이제 전 선수의 희망처럼 대한민국 근대5종은 국...',\n",
       "  'date': '2021-08-08',\n",
       "  'url': 'https://www1.president.go.kr/articles/10848'},\n",
       " {'title': '우리 여자 배구 선수들이 도쿄올림픽에서 특별한 감동을 주었습니다',\n",
       "  'summary': '우리 여자 배구 선수들이 도쿄올림픽에서 특별한 감동을 주었습니다.  원팀의 힘으로 세계 강호들과 대등하게 맞섰고, 매 경기 모든 걸 쏟아내는 모습에 국민 모두 자부심을 느꼈습니다.  아름다운 도전이었습니다.  아쉬워하지 말기 바랍니다.  또 하면 됩니다.  지금까지처럼 자신감을 가져주길 바랍니다. ...',\n",
       "  'date': '2021-08-08',\n",
       "  'url': 'https://www1.president.go.kr/articles/10847'},\n",
       " {'title': '폭염 대응 소방관서 격려 방문 모두발언',\n",
       "  'summary': '인력 2만 명 증원, 그리고 지금 진행되고 있습니다만 국립소방병원 건립 이런 약속들을 제가 차근차근 다 이렇게 지킬 수 있어서 아주 다행스럽게 생각합니다. 그런데 오늘은 그 때문에 온 것은 아니고, 정말 요즘 아주 역대급 폭염이죠. 연일 계속되고 있어서 여러분들 정말 고생이 많습니다. 원래...',\n",
       "  'date': '2021-08-06',\n",
       "  'url': 'https://www1.president.go.kr/articles/10843'},\n",
       " {'title': 'K-글로벌 백신 허브화 비전 및 전략 보고대회 모두발언',\n",
       "  'summary': '국무총리를 위원장으로 하는 민관합동 ‘글로벌 백신 허브화 추진위원회’가 출범해 오늘 첫 회의를 열게 되었습니다. 관련 부처들과 함께, 백신 분야 최고의 전문가들이 민간위원으로 참여하고 있습니다. 오늘 회의에는 백신 개발과 생산 기업 대표들도 함께해 주셨습니다. 감사합니다.  전파력이 강한 델타 변이바이러스가 확산하며 ...',\n",
       "  'date': '2021-08-05',\n",
       "  'url': 'https://www1.president.go.kr/articles/10834'},\n",
       " {'title': '배드민턴 여자 복식 국가대표 선수 축전',\n",
       "  'summary': '2020 도쿄올림픽 동메달 획득을 축하합니다. 함께 경기한 네 선수 모두 최선을 다한 아름다운 승부였습니다. 파트너인 김소영 선수와 함께 시상대에 오르고 싶다던 소망이 이루어져 기쁩니다. 김소영 선수와 공희용 선수가 서로를 믿고 함께 만든 성과에 큰 박수를 보냅니다. 경기 후 네 선수가 나눈 위로와 우정의 포옹은 올림픽 정신을 온전히 보여 줬습니다....',\n",
       "  'date': '2021-08-03',\n",
       "  'url': 'https://www1.president.go.kr/articles/10826'},\n",
       " {'title': '기계체조 남자 도마 신재환 선수 축전',\n",
       "  'summary': '2020 도쿄올림픽 금메달 획득을 축하합니다. 대한민국을 가장 높은 지점에서 빛내 주었습니다. 신 선수의 환상적인 금빛 착지에 세계가 환호했습니다. 새로운 ‘도마 황제’의 출현에 박수를 보냅니다. 우리 체조의 자부심을 더욱 드높여 주길 바랍니다. 신 선수의 열정과 도전을 국민과 함께 응원하겠습니다.   2021년...',\n",
       "  'date': '2021-08-03',\n",
       "  'url': 'https://www1.president.go.kr/articles/10825'},\n",
       " {'title': '제34회 국무회의 모두발언',\n",
       "  'summary': '제34회 국무회의를 시작하겠습니다. 코로나 위기 속에서 국민들은 여전히 힘겨운 시기를 견디고 있습니다. 방역과 민생에 전념하며 국민의 삶을 지키는 것이 우리 정부 남은 임기 동안 피할 수 없는 책무가 되었습니다. 4차 산업혁명과 기후변화에 대응해야 하는 대전환기에 국가의 미래를 준비하고 개척하는 과업 또한 미룰 수 없는 시대적 소명이 되었습니...',\n",
       "  'date': '2021-08-03',\n",
       "  'url': 'https://www1.president.go.kr/articles/10821'},\n",
       " {'title': '수석보좌관회의 모두발언',\n",
       "  'summary': '오늘 외부 전문가로 우리 권기홍 동반성장위원회 위원장님 그리고 또 정중교 주식회사 프레시지 대표이사님 참석을 해 주셨습니다. 민간 기업의 대표이사가 우리 청와대 수보회의에 참석한 것은 거의 처음이 아닌가 싶은데, 기업 현장에서 느끼는 생생한 의견들 기탄없이 말씀해 주시기 바랍니다. 환영해 주시기 바랍니다. 여름이 더욱 깊어지고 있습니다. 국민들께...',\n",
       "  'date': '2021-08-02',\n",
       "  'url': 'https://www1.president.go.kr/articles/10815'},\n",
       " {'title': '기계체조 여자 도마 여서정 선수 축전',\n",
       "  'summary': '2020 도쿄올림픽 체조 동메달 획득을 축하합니다. 우리 여자 체조 사상 최초의 올림픽 메달 쾌거입니다. 강한 정신력과 탁월한 기량으로 만든 최고난도의 ‘여서정’ 기술이 아주 멋졌습니다. 여 선수가 장하고 자랑스럽습니다. ‘부녀 올림픽 메달리스트’ 탄생을 축하합니다. 국민들께 새로운 자부심을 선사해 주...',\n",
       "  'date': '2021-08-02',\n",
       "  'url': 'https://www1.president.go.kr/articles/10814'},\n",
       " {'title': '펜싱 사브르 여자 단체 축전',\n",
       "  'summary': '2020 도쿄올림픽 동메달 획득을 축하합니다. 국민들께 큰 기쁨과 용기를 주었습니다. 김 선수는 든든한 맏언니로서, ‘살아있는 전설’다운 최정상의 기량을 보여 주었습니다. 최 선수의 큰 부상을 이겨내고 이뤄낸 성취여서 더욱 값집니다. 윤 선수가 보여 준 놀라운 경기력에 국민들은 아낌없는 박수를 보냈습니다. 서 선수의 승리를 향한...',\n",
       "  'date': '2021-08-01',\n",
       "  'url': 'https://www1.president.go.kr/articles/10813'},\n",
       " {'title': '양궁 여자 개인 안 산 선수 축전',\n",
       "  'summary': '2020 도쿄올림픽 3관왕을 축하합니다. 하계 올림픽 한국 선수 최초 3관왕의 첫 역사를 세계 앞에서 썼습니다. 안 선수가 보여 준 경기력과 정신력에 국민들 모두 감격하고 아낌없는 박수를 보냈습니다. 안 선수의 자부심이 우리의 자부심입니다. 더 큰 박수로 국민과 함께 응원하겠습니다. 장하고 또 장합니다. 2021년 7월 31일 대통령 문 재 인',\n",
       "  'date': '2021-07-31',\n",
       "  'url': 'https://www1.president.go.kr/articles/10812'},\n",
       " {'title': '펜싱 에페 남자 단체 축전',\n",
       "  'summary': '2020 도쿄올림픽 동메달 획득을 축하합니다. 팀의 든든한 맏형으로 빛나는 결과를 이끌어낸 권 선수가 자랑스럽습니다. 송 선수의 민첩한 경기력에 국민들은 아낌없는 박수를 보냈습니다. 마 선수의 저돌적인 경기력이 시원한 승리를 만들어냈습니다. 박 선수의 ‘할 수 있다’는 자신감이 승리를 이끌었습니다. 권 선수, 송 선수, 마 선...',\n",
       "  'date': '2021-07-31',\n",
       "  'url': 'https://www1.president.go.kr/articles/10811'},\n",
       " {'title': '사격 여자 권총 김민정 선수 축전',\n",
       "  'summary': '2020 도쿄올림픽 사격 은메달 획득을 축하합니다. 김 선수가 보여 준 경기력과, 긍정과 낙관으로 만든 빛나는 성과에 국민들은 큰 박수를 보냈습니다. 자랑스럽습니다. 앞으로의 도전도 국민과 함께 응원하겠습니다.   2021년 7월 31일 대통령 문 재 인',\n",
       "  'date': '2021-07-31',\n",
       "  'url': 'https://www1.president.go.kr/articles/10810'}]"
      ]
     },
     "execution_count": 85,
     "metadata": {},
     "output_type": "execute_result"
    }
   ],
   "source": [
    "speech_list"
   ]
  },
  {
   "cell_type": "code",
   "execution_count": 87,
   "id": "0c9dac35-bb8f-48e6-aea2-46a512f63f95",
   "metadata": {
    "slideshow": {
     "slide_type": "subslide"
    }
   },
   "outputs": [
    {
     "data": {
      "text/plain": [
       "'https://www1.president.go.kr/articles/10852'"
      ]
     },
     "execution_count": 87,
     "metadata": {},
     "output_type": "execute_result"
    }
   ],
   "source": [
    "speech_list[0]['url']"
   ]
  },
  {
   "cell_type": "code",
   "execution_count": 88,
   "id": "7e728ba7",
   "metadata": {
    "slideshow": {
     "slide_type": "fragment"
    }
   },
   "outputs": [
    {
     "name": "stdout",
     "output_type": "stream",
     "text": [
      "https://www1.president.go.kr/articles/10852\n",
      "https://www1.president.go.kr/articles/10849\n",
      "https://www1.president.go.kr/articles/10848\n",
      "https://www1.president.go.kr/articles/10847\n",
      "https://www1.president.go.kr/articles/10843\n",
      "https://www1.president.go.kr/articles/10834\n",
      "https://www1.president.go.kr/articles/10826\n",
      "https://www1.president.go.kr/articles/10825\n",
      "https://www1.president.go.kr/articles/10821\n",
      "https://www1.president.go.kr/articles/10815\n",
      "https://www1.president.go.kr/articles/10814\n",
      "https://www1.president.go.kr/articles/10813\n",
      "https://www1.president.go.kr/articles/10812\n",
      "https://www1.president.go.kr/articles/10811\n",
      "https://www1.president.go.kr/articles/10810\n"
     ]
    }
   ],
   "source": [
    "for speech in speech_list:\n",
    "    print(speech['url'])"
   ]
  },
  {
   "cell_type": "code",
   "execution_count": null,
   "id": "aa40859c",
   "metadata": {
    "slideshow": {
     "slide_type": "subslide"
    }
   },
   "outputs": [],
   "source": [
    "speech_df"
   ]
  },
  {
   "cell_type": "markdown",
   "id": "93f04ffe",
   "metadata": {
    "slideshow": {
     "slide_type": "subslide"
    }
   },
   "source": [
    "## 7-1. 연결된 웹페이지 분석  "
   ]
  },
  {
   "cell_type": "markdown",
   "id": "df6938d7",
   "metadata": {
    "slideshow": {
     "slide_type": "fragment"
    }
   },
   "source": [
    "가져오고자 하는 연설문 전문 웹페이지에서 패턴 분석\n",
    "#cont_view > div > div > div.cs_view.cs_v1.wrap.text.left > div.text.left.cb.text_wrap.motion.fadeIn.visible > p > table > tbody > tr > td > \n",
    "\n",
    "#cont_view > div > div > div.cs_view.cs_v1.wrap.text.left > \n",
    "div.text.left.cb.text_wrap.motion.fadeIn.visible\n",
    "\n",
    "#cont_view > div > div > div.cs_view.cs_v1.wrap.text.left > div.text.left.cb.text_wrap.motion.fadeIn.visible\n",
    "\n",
    "* #cont_view > div > div > div.cs_view.cs_v1.wrap.text.left > div.text.left.cb.text_wrap.motion.fadeIn.visible > table > tbody\n",
    "* #cont_view > div > div > div.cs_view.cs_v1.wrap.text.left > div.text.left.cb.text_wrap.motion.fadeIn.visible\n",
    "* #cont_view > div > div > div.cs_view.cs_v1.wrap.text.left > div.text.left.cb.text_wrap.motion.fadeIn.visible\n",
    "* #cont_view > div > div > div.cs_view.cs_v1.wrap.text.left > div.text.left.cb.text_wrap.motion.fadeIn.visible\n",
    "* #cont_view > div > div > div.cs_view.cs_v1.wrap.text.left > div.text.left.cb.text_wrap.motion.fadeIn.visible"
   ]
  },
  {
   "cell_type": "code",
   "execution_count": 11,
   "id": "dd760949",
   "metadata": {},
   "outputs": [
    {
     "data": {
      "text/plain": [
       "[{'title': '건강보험 보장성 강화대책 4주년 성과 보고대회',\n",
       "  'summary': '존경하는 국민 여러분,  ‘문재인 케어’라고 불린 건강보험 보장성 강화대책 발표 4주년을 맞아 그동안의 성과와 보완 과제를 살펴보는 자리를 마련했습니다. 직접 경험한 사례를 들려주기 위해 도쿄올림픽 태권도 동메달리스트 인교돈 선수와 김성준, 곽동훈, 조은영, 정원희 님이 함께해주셨습니다. 김민석 국회 보건복지위...',\n",
       "  'date': '2021-08-12',\n",
       "  'url': 'https://www1.president.go.kr/articles/10865'},\n",
       " {'title': '수석보좌관회의 모두발언',\n",
       "  'summary': '  오늘 외부 전문가로 김용익 건보공단 이사장님, 그다음에 김선민 건보심사평가원 원장님이 참석해서 토론에 함께해 주시겠습니다. 감사합니다. 박수로 맞아주시기 바랍니다. 코로나 확산세가 좀처럼 꺾이지 않고, 강화된 거리두기 단계를 연장하게 되어 매우 안타까운 마음입니다. 국민 ...',\n",
       "  'date': '2021-08-09',\n",
       "  'url': 'https://www1.president.go.kr/articles/10852'},\n",
       " {'title': '갈고닦은 기량을 마음껏 펼쳐준 대한민국 선수들과 코치진 그리고 아낌없는 응원을 보내주신 국민들께 깊이 감사드립니다',\n",
       "  'summary': '도쿄올림픽이 끝났습니다.  갈고닦은 기량을 마음껏 펼쳐준 대한민국 선수들과 코치진 그리고 아낌없는 응원을 보내주신 국민들께 깊이 감사드립니다. 여전히 어려운 시기에 열린 이번 올림픽에서 우리 선수들은 정직한 땀방울을 통해 국민들에게 위로와 희망의 메시지를 전해주었습니다.  메달 소식도 자주 들려주었습니다.  첫 메달이었던...',\n",
       "  'date': '2021-08-08',\n",
       "  'url': 'https://www1.president.go.kr/articles/10849'},\n",
       " {'title': '근대5종 남자 개인전 전웅태 선수 축전',\n",
       "  'summary': '  근대5종 남자 개인전 전웅태 선수   2020 도쿄올림픽 동메달 획득을 축하합니다. 대한민국 근대5종 사상 최초의 올림픽 메달입니다. 정진화 선수와 함께 말로 표현할 수 없이 멋진 경기를 펼쳐주었고, 두 선수가 경기 후 나눈 우정의 포옹은 뭉클한 감동을 주었습니다. 이제 전 선수의 희망처럼 대한민국 근대5종은 국...',\n",
       "  'date': '2021-08-08',\n",
       "  'url': 'https://www1.president.go.kr/articles/10848'},\n",
       " {'title': '우리 여자 배구 선수들이 도쿄올림픽에서 특별한 감동을 주었습니다',\n",
       "  'summary': '우리 여자 배구 선수들이 도쿄올림픽에서 특별한 감동을 주었습니다.  원팀의 힘으로 세계 강호들과 대등하게 맞섰고, 매 경기 모든 걸 쏟아내는 모습에 국민 모두 자부심을 느꼈습니다.  아름다운 도전이었습니다.  아쉬워하지 말기 바랍니다.  또 하면 됩니다.  지금까지처럼 자신감을 가져주길 바랍니다. ...',\n",
       "  'date': '2021-08-08',\n",
       "  'url': 'https://www1.president.go.kr/articles/10847'},\n",
       " {'title': '폭염 대응 소방관서 격려 방문 모두발언',\n",
       "  'summary': '인력 2만 명 증원, 그리고 지금 진행되고 있습니다만 국립소방병원 건립 이런 약속들을 제가 차근차근 다 이렇게 지킬 수 있어서 아주 다행스럽게 생각합니다. 그런데 오늘은 그 때문에 온 것은 아니고, 정말 요즘 아주 역대급 폭염이죠. 연일 계속되고 있어서 여러분들 정말 고생이 많습니다. 원래...',\n",
       "  'date': '2021-08-06',\n",
       "  'url': 'https://www1.president.go.kr/articles/10843'},\n",
       " {'title': 'K-글로벌 백신 허브화 비전 및 전략 보고대회 모두발언',\n",
       "  'summary': '국무총리를 위원장으로 하는 민관합동 ‘글로벌 백신 허브화 추진위원회’가 출범해 오늘 첫 회의를 열게 되었습니다. 관련 부처들과 함께, 백신 분야 최고의 전문가들이 민간위원으로 참여하고 있습니다. 오늘 회의에는 백신 개발과 생산 기업 대표들도 함께해 주셨습니다. 감사합니다.  전파력이 강한 델타 변이바이러스가 확산하며 ...',\n",
       "  'date': '2021-08-05',\n",
       "  'url': 'https://www1.president.go.kr/articles/10834'},\n",
       " {'title': '배드민턴 여자 복식 국가대표 선수 축전',\n",
       "  'summary': '2020 도쿄올림픽 동메달 획득을 축하합니다. 함께 경기한 네 선수 모두 최선을 다한 아름다운 승부였습니다. 파트너인 김소영 선수와 함께 시상대에 오르고 싶다던 소망이 이루어져 기쁩니다. 김소영 선수와 공희용 선수가 서로를 믿고 함께 만든 성과에 큰 박수를 보냅니다. 경기 후 네 선수가 나눈 위로와 우정의 포옹은 올림픽 정신을 온전히 보여 줬습니다....',\n",
       "  'date': '2021-08-03',\n",
       "  'url': 'https://www1.president.go.kr/articles/10826'},\n",
       " {'title': '기계체조 남자 도마 신재환 선수 축전',\n",
       "  'summary': '2020 도쿄올림픽 금메달 획득을 축하합니다. 대한민국을 가장 높은 지점에서 빛내 주었습니다. 신 선수의 환상적인 금빛 착지에 세계가 환호했습니다. 새로운 ‘도마 황제’의 출현에 박수를 보냅니다. 우리 체조의 자부심을 더욱 드높여 주길 바랍니다. 신 선수의 열정과 도전을 국민과 함께 응원하겠습니다.   2021년...',\n",
       "  'date': '2021-08-03',\n",
       "  'url': 'https://www1.president.go.kr/articles/10825'},\n",
       " {'title': '제34회 국무회의 모두발언',\n",
       "  'summary': '제34회 국무회의를 시작하겠습니다. 코로나 위기 속에서 국민들은 여전히 힘겨운 시기를 견디고 있습니다. 방역과 민생에 전념하며 국민의 삶을 지키는 것이 우리 정부 남은 임기 동안 피할 수 없는 책무가 되었습니다. 4차 산업혁명과 기후변화에 대응해야 하는 대전환기에 국가의 미래를 준비하고 개척하는 과업 또한 미룰 수 없는 시대적 소명이 되었습니...',\n",
       "  'date': '2021-08-03',\n",
       "  'url': 'https://www1.president.go.kr/articles/10821'},\n",
       " {'title': '수석보좌관회의 모두발언',\n",
       "  'summary': '오늘 외부 전문가로 우리 권기홍 동반성장위원회 위원장님 그리고 또 정중교 주식회사 프레시지 대표이사님 참석을 해 주셨습니다. 민간 기업의 대표이사가 우리 청와대 수보회의에 참석한 것은 거의 처음이 아닌가 싶은데, 기업 현장에서 느끼는 생생한 의견들 기탄없이 말씀해 주시기 바랍니다. 환영해 주시기 바랍니다. 여름이 더욱 깊어지고 있습니다. 국민들께...',\n",
       "  'date': '2021-08-02',\n",
       "  'url': 'https://www1.president.go.kr/articles/10815'},\n",
       " {'title': '기계체조 여자 도마 여서정 선수 축전',\n",
       "  'summary': '2020 도쿄올림픽 체조 동메달 획득을 축하합니다. 우리 여자 체조 사상 최초의 올림픽 메달 쾌거입니다. 강한 정신력과 탁월한 기량으로 만든 최고난도의 ‘여서정’ 기술이 아주 멋졌습니다. 여 선수가 장하고 자랑스럽습니다. ‘부녀 올림픽 메달리스트’ 탄생을 축하합니다. 국민들께 새로운 자부심을 선사해 주...',\n",
       "  'date': '2021-08-02',\n",
       "  'url': 'https://www1.president.go.kr/articles/10814'},\n",
       " {'title': '펜싱 사브르 여자 단체 축전',\n",
       "  'summary': '2020 도쿄올림픽 동메달 획득을 축하합니다. 국민들께 큰 기쁨과 용기를 주었습니다. 김 선수는 든든한 맏언니로서, ‘살아있는 전설’다운 최정상의 기량을 보여 주었습니다. 최 선수의 큰 부상을 이겨내고 이뤄낸 성취여서 더욱 값집니다. 윤 선수가 보여 준 놀라운 경기력에 국민들은 아낌없는 박수를 보냈습니다. 서 선수의 승리를 향한...',\n",
       "  'date': '2021-08-01',\n",
       "  'url': 'https://www1.president.go.kr/articles/10813'},\n",
       " {'title': '양궁 여자 개인 안 산 선수 축전',\n",
       "  'summary': '2020 도쿄올림픽 3관왕을 축하합니다. 하계 올림픽 한국 선수 최초 3관왕의 첫 역사를 세계 앞에서 썼습니다. 안 선수가 보여 준 경기력과 정신력에 국민들 모두 감격하고 아낌없는 박수를 보냈습니다. 안 선수의 자부심이 우리의 자부심입니다. 더 큰 박수로 국민과 함께 응원하겠습니다. 장하고 또 장합니다. 2021년 7월 31일 대통령 문 재 인',\n",
       "  'date': '2021-07-31',\n",
       "  'url': 'https://www1.president.go.kr/articles/10812'},\n",
       " {'title': '펜싱 에페 남자 단체 축전',\n",
       "  'summary': '2020 도쿄올림픽 동메달 획득을 축하합니다. 팀의 든든한 맏형으로 빛나는 결과를 이끌어낸 권 선수가 자랑스럽습니다. 송 선수의 민첩한 경기력에 국민들은 아낌없는 박수를 보냈습니다. 마 선수의 저돌적인 경기력이 시원한 승리를 만들어냈습니다. 박 선수의 ‘할 수 있다’는 자신감이 승리를 이끌었습니다. 권 선수, 송 선수, 마 선...',\n",
       "  'date': '2021-07-31',\n",
       "  'url': 'https://www1.president.go.kr/articles/10811'}]"
      ]
     },
     "execution_count": 11,
     "metadata": {},
     "output_type": "execute_result"
    }
   ],
   "source": [
    "speech_list"
   ]
  },
  {
   "cell_type": "code",
   "execution_count": 8,
   "id": "5cea5192",
   "metadata": {
    "slideshow": {
     "slide_type": "subslide"
    }
   },
   "outputs": [],
   "source": [
    "from selenium import webdriver\n",
    "import pandas as pd\n",
    "\n",
    "driver = webdriver.Chrome('./chromedriver')\n",
    "url = speech_list[0]['url']\n",
    "driver.get(url)"
   ]
  },
  {
   "cell_type": "code",
   "execution_count": 9,
   "id": "74726d4c",
   "metadata": {},
   "outputs": [],
   "source": [
    "url = speech_list[0]['url']\n",
    "driver.get(url)"
   ]
  },
  {
   "cell_type": "code",
   "execution_count": 10,
   "id": "94a97caa",
   "metadata": {
    "slideshow": {
     "slide_type": "fragment"
    }
   },
   "outputs": [
    {
     "name": "stdout",
     "output_type": "stream",
     "text": [
      "존경하는 국민 여러분, \n",
      "\n",
      "‘문재인 케어’라고 불린 건강보험 보장성 강화대책 발표 4주년을 맞아 그동안의 성과와 보완 과제를 살펴보는 자리를 마련했습니다.\n",
      "직접 경험한 사례를 들려주기 위해 도쿄올림픽 태권도 동메달리스트 인교돈 선수와 김성준, 곽동훈, 조은영, 정원희 님이 함께해주셨습니다.\n",
      "김민석 국회 보건복지위원장님도 참석하셨습니다. \n",
      "감사합니다.\n",
      "\n",
      "건보 보장성 강화는 ‘돈이 없어 치료받지 못하고, 치료비 때문에 가계가 파탄나는 일이 없도록 하자’는 정책입니다.\n",
      "우리 사회 전체의 회복력을 높여 민생과 경제 활력을 뒷받침하는 길이기도 합니다. \n",
      "그 정책에 의해 우리는 개인 질환뿐 아니라 코로나 예방과 진단, 치료비용부터 야간 간호료와 의료인력 지원 비용에 이르기까지 감염병과 연관되는 모든 분야에서 신속하고 적절하게 대응할 수 있었습니다.\n",
      "건강보험이 코로나 방역의 최후방 수비수 역할을 든든하게 해줬습니다. \n",
      "\n",
      "국민들의 지지 덕분에 정부는 ‘문재인 케어’를 과감하게 시행할 수 있었고, 국민들로부터 가장 좋은 평가를 받는 정책 중 하나가 되었습니다.\n",
      "건보 보장성 강화를 위해 노력해주신 건보공단과 의료진, 관계자들께 진심으로 감사드립니다.\n",
      "\n",
      "정부는 특히 의료비 부담이 큰 암을 비롯한 중증질환을 중심으로 보장성 강화에 노력해왔습니다. \n",
      "특진비로 불렸던 선택진료비를 폐지하고, 상급 병실료에 건강보험을 적용하였으며, 간호ㆍ간병 통합 서비스를 확대했습니다.\n",
      "MRI와 초음파 검사의 보장 범위를 확대하고, 응급실과 중환자실, 의약품 중 비급여 항목의 급여전환도 지속적으로 추진하고 있습니다.\n",
      "\n",
      "또한 의료비 때문에 생계가 어려워지는 것을 막기 위해 저소득층 4대 중증질환에 대해서는, 재난적 의료비 지원을 제도화했습니다.\n",
      "이제 모든 질환에 대해 최대 3,000만 원을 지원받을 수 있고, 연간 본인 부담 상한액을 인하하여 최대 150만 원 이내에서 진료비 걱정 없이 치료받으실 수 있게 되었습니다. \n",
      "\n",
      "특히, 병원 찾을 일이 많은 5세 이하 어린이와 65세 이상 어르신, 장애인들의 보장률이 크게 높아졌습니다. \n",
      "15세 이하 어린이 청소년 입원진료비는 본인 부담이 5%로 줄었고, 중증 치매는 68만 원, 어르신 틀니는 36만 원, 임플란트는 32만 원 이상 비용이 낮아졌습니다. \n",
      "장애인 보장구 의료보험 보장 범위도 넓혔습니다.\n",
      "\n",
      "그 결과 지난해 말까지 3,700만 명의 국민이 9조2천억 원의 의료비를 아낄 수 있었습니다. \n",
      "하지만, 가계의 의료비 부담을 더욱 줄여주기 위해서는 건강보험의 보장성이 더욱 강화되어야 합니다.\n",
      "진료기술이 발전하고 의료서비스가 세분화되면서 새로 생겨나는 비급여 항목도 많습니다.\n",
      "\n",
      "갑상선과 부비동 초음파 검사는 비용 부담에도 불구하고 자주 이용하는 검사입니다.\n",
      "당초 계획을 앞당겨 올 4분기부터 비용 부담을 줄여드릴 예정입니다.\n",
      "내년까지 중증 심장질환, 중증 건선, 치과 신경치료 등 필수 진료의 부담도 덜어드리겠습니다.\n",
      "\n",
      "어린이들을 위한 전문적인 진료도 빠르게 확충하겠습니다.\n",
      "어린이 공공전문진료센터에 지원을 확대하고, 내년에 중증소아 단기입원서비스센터를 설립할 것입니다.\n",
      "올 하반기에는 지역 중증거점병원을 지정하여 중증환자가 가까운 곳에서 치료받을 수 있도록 하겠습니다.\n",
      "소득이 낮을수록 재난적 의료비를 더 많이 지원받을 수 있도록 소득수준별 지원비율도 조정하겠습니다. \n",
      "\n",
      "4년 전, 건보 보장성 강화 정책을 마련할 때 건보 재정의 적자를 걱정하는 목소리가 적지 않았습니다.\n",
      "정부는 당시 20조 원의 적립금 중 10조 원을 보장성 강화에 사용하고 10조 원의 적립금을 남겨둘 것을 약속했습니다.\n",
      "그 약속대로 건보 보장 범위는 대폭 확대하면서 재정은 안정적으로 관리했습니다.\n",
      "지난해 말 기준으로 건보 적립금은 17조4천억 원으로, 2022년 말 목표인 10조 원을 훨씬 뛰어넘을 것으로 예상됩니다. \n",
      "\n",
      "국민들께서 손씻기, 마스크 착용과 같은 일상적인 건강수칙을 지키는 것으로 코로나뿐 아니라 다른 질병들도 잘 예방해주신 덕분입니다.\n",
      "우리 국민들의 수준 높은 시민의식이야말로 건강보험의 지속가능성을 뒷받침하는 중요한 축입니다. \n",
      "참으로 고맙고 자랑스럽게 생각합니다.\n",
      "\n",
      "정부 역시, 건보재정을 더욱 투명하고 철저하게 관리할 것입니다. \n",
      "건강보험이 의료기술 발전을 촉진하는 마중물이 되고, 건보의 지속가능성 확보와 보장성 확대라는 두 마리 토끼를 모두 잡을 수 있도록 더욱 노력해 나가겠습니다. \n",
      "\n",
      "건보 보장성 강화는 국민 건강의 토대이며, 포용적 회복과 도약을 위한 발판이 되어줄 것입니다.\n",
      "오늘, 다섯 분의 경험과 전문가들의 이야기를 통해 ‘문재인 케어’가 우리 삶에서 어떻게 작동하고 있는지 확인하실 수 있기를 기대합니다.\n",
      "정부는 ‘병원비 걱정 없는 든든한 나라’를 만들기 위해 앞으로도 최선을 다하겠습니다.\n",
      "\n",
      "감사합니다. \n",
      "\n",
      "  2021년 8월 12일\n",
      "대한민국 대통령 문재인\n"
     ]
    }
   ],
   "source": [
    "speech_body = driver.find_element_by_css_selector('#cont_view > div > div > div.cs_view.cs_v1.wrap.text.left > div.text.left.cb.text_wrap.motion.fadeIn.visible')\n",
    "print(speech_body.text)"
   ]
  },
  {
   "cell_type": "code",
   "execution_count": null,
   "id": "cac3ae42",
   "metadata": {},
   "outputs": [],
   "source": []
  },
  {
   "cell_type": "code",
   "execution_count": null,
   "id": "4c8fe46f",
   "metadata": {
    "slideshow": {
     "slide_type": "subslide"
    }
   },
   "outputs": [],
   "source": [
    "speech_list[0]['body'] = speech_body"
   ]
  },
  {
   "cell_type": "code",
   "execution_count": null,
   "id": "d6cb3bc6",
   "metadata": {
    "slideshow": {
     "slide_type": "fragment"
    }
   },
   "outputs": [],
   "source": [
    "speech_list[0]"
   ]
  },
  {
   "cell_type": "code",
   "execution_count": null,
   "id": "06f49f8b",
   "metadata": {
    "slideshow": {
     "slide_type": "fragment"
    }
   },
   "outputs": [],
   "source": [
    "speech_list[0]['body']"
   ]
  },
  {
   "cell_type": "markdown",
   "id": "e369b020",
   "metadata": {
    "slideshow": {
     "slide_type": "subslide"
    }
   },
   "source": [
    "## 7-2. 추출 자동화  "
   ]
  },
  {
   "cell_type": "code",
   "execution_count": 12,
   "id": "3fc39e32-a983-4ec3-9895-0ff2e08d0774",
   "metadata": {
    "slideshow": {
     "slide_type": "fragment"
    }
   },
   "outputs": [
    {
     "ename": "NoSuchElementException",
     "evalue": "Message: no such element: Unable to locate element: {\"method\":\"css selector\",\"selector\":\"div.text.left.cb.text_wrap.motion.fadeIn.visible\"}\n  (Session info: chrome=92.0.4515.131)\n",
     "output_type": "error",
     "traceback": [
      "\u001b[1;31m---------------------------------------------------------------------------\u001b[0m",
      "\u001b[1;31mNoSuchElementException\u001b[0m                    Traceback (most recent call last)",
      "\u001b[1;32m<ipython-input-12-c055051a6cff>\u001b[0m in \u001b[0;36m<module>\u001b[1;34m\u001b[0m\n\u001b[0;32m      2\u001b[0m     \u001b[0murl\u001b[0m \u001b[1;33m=\u001b[0m \u001b[0mspeech_list\u001b[0m\u001b[1;33m[\u001b[0m\u001b[0mn\u001b[0m\u001b[1;33m]\u001b[0m\u001b[1;33m[\u001b[0m\u001b[1;34m'url'\u001b[0m\u001b[1;33m]\u001b[0m\u001b[1;33m\u001b[0m\u001b[1;33m\u001b[0m\u001b[0m\n\u001b[0;32m      3\u001b[0m     \u001b[0mdriver\u001b[0m\u001b[1;33m.\u001b[0m\u001b[0mget\u001b[0m\u001b[1;33m(\u001b[0m\u001b[0murl\u001b[0m\u001b[1;33m)\u001b[0m\u001b[1;33m\u001b[0m\u001b[1;33m\u001b[0m\u001b[0m\n\u001b[1;32m----> 4\u001b[1;33m     \u001b[0mspeech_body\u001b[0m \u001b[1;33m=\u001b[0m \u001b[0mdriver\u001b[0m\u001b[1;33m.\u001b[0m\u001b[0mfind_element_by_css_selector\u001b[0m\u001b[1;33m(\u001b[0m\u001b[1;34m'div.text.left.cb.text_wrap.motion.fadeIn.visible'\u001b[0m\u001b[1;33m)\u001b[0m\u001b[1;33m.\u001b[0m\u001b[0mtext\u001b[0m\u001b[1;33m\u001b[0m\u001b[1;33m\u001b[0m\u001b[0m\n\u001b[0m\u001b[0;32m      5\u001b[0m     \u001b[0mspeech_list\u001b[0m\u001b[1;33m[\u001b[0m\u001b[0mn\u001b[0m\u001b[1;33m]\u001b[0m\u001b[1;33m[\u001b[0m\u001b[1;34m'body'\u001b[0m\u001b[1;33m]\u001b[0m \u001b[1;33m=\u001b[0m \u001b[0mspeech_body\u001b[0m\u001b[1;33m\u001b[0m\u001b[1;33m\u001b[0m\u001b[0m\n",
      "\u001b[1;32m~\\miniconda3\\envs\\web\\lib\\site-packages\\selenium\\webdriver\\remote\\webdriver.py\u001b[0m in \u001b[0;36mfind_element_by_css_selector\u001b[1;34m(self, css_selector)\u001b[0m\n\u001b[0;32m    596\u001b[0m             \u001b[0melement\u001b[0m \u001b[1;33m=\u001b[0m \u001b[0mdriver\u001b[0m\u001b[1;33m.\u001b[0m\u001b[0mfind_element_by_css_selector\u001b[0m\u001b[1;33m(\u001b[0m\u001b[1;34m'#foo'\u001b[0m\u001b[1;33m)\u001b[0m\u001b[1;33m\u001b[0m\u001b[1;33m\u001b[0m\u001b[0m\n\u001b[0;32m    597\u001b[0m         \"\"\"\n\u001b[1;32m--> 598\u001b[1;33m         \u001b[1;32mreturn\u001b[0m \u001b[0mself\u001b[0m\u001b[1;33m.\u001b[0m\u001b[0mfind_element\u001b[0m\u001b[1;33m(\u001b[0m\u001b[0mby\u001b[0m\u001b[1;33m=\u001b[0m\u001b[0mBy\u001b[0m\u001b[1;33m.\u001b[0m\u001b[0mCSS_SELECTOR\u001b[0m\u001b[1;33m,\u001b[0m \u001b[0mvalue\u001b[0m\u001b[1;33m=\u001b[0m\u001b[0mcss_selector\u001b[0m\u001b[1;33m)\u001b[0m\u001b[1;33m\u001b[0m\u001b[1;33m\u001b[0m\u001b[0m\n\u001b[0m\u001b[0;32m    599\u001b[0m \u001b[1;33m\u001b[0m\u001b[0m\n\u001b[0;32m    600\u001b[0m     \u001b[1;32mdef\u001b[0m \u001b[0mfind_elements_by_css_selector\u001b[0m\u001b[1;33m(\u001b[0m\u001b[0mself\u001b[0m\u001b[1;33m,\u001b[0m \u001b[0mcss_selector\u001b[0m\u001b[1;33m)\u001b[0m\u001b[1;33m:\u001b[0m\u001b[1;33m\u001b[0m\u001b[1;33m\u001b[0m\u001b[0m\n",
      "\u001b[1;32m~\\miniconda3\\envs\\web\\lib\\site-packages\\selenium\\webdriver\\remote\\webdriver.py\u001b[0m in \u001b[0;36mfind_element\u001b[1;34m(self, by, value)\u001b[0m\n\u001b[0;32m    974\u001b[0m                 \u001b[0mby\u001b[0m \u001b[1;33m=\u001b[0m \u001b[0mBy\u001b[0m\u001b[1;33m.\u001b[0m\u001b[0mCSS_SELECTOR\u001b[0m\u001b[1;33m\u001b[0m\u001b[1;33m\u001b[0m\u001b[0m\n\u001b[0;32m    975\u001b[0m                 \u001b[0mvalue\u001b[0m \u001b[1;33m=\u001b[0m \u001b[1;34m'[name=\"%s\"]'\u001b[0m \u001b[1;33m%\u001b[0m \u001b[0mvalue\u001b[0m\u001b[1;33m\u001b[0m\u001b[1;33m\u001b[0m\u001b[0m\n\u001b[1;32m--> 976\u001b[1;33m         return self.execute(Command.FIND_ELEMENT, {\n\u001b[0m\u001b[0;32m    977\u001b[0m             \u001b[1;34m'using'\u001b[0m\u001b[1;33m:\u001b[0m \u001b[0mby\u001b[0m\u001b[1;33m,\u001b[0m\u001b[1;33m\u001b[0m\u001b[1;33m\u001b[0m\u001b[0m\n\u001b[0;32m    978\u001b[0m             'value': value})['value']\n",
      "\u001b[1;32m~\\miniconda3\\envs\\web\\lib\\site-packages\\selenium\\webdriver\\remote\\webdriver.py\u001b[0m in \u001b[0;36mexecute\u001b[1;34m(self, driver_command, params)\u001b[0m\n\u001b[0;32m    319\u001b[0m         \u001b[0mresponse\u001b[0m \u001b[1;33m=\u001b[0m \u001b[0mself\u001b[0m\u001b[1;33m.\u001b[0m\u001b[0mcommand_executor\u001b[0m\u001b[1;33m.\u001b[0m\u001b[0mexecute\u001b[0m\u001b[1;33m(\u001b[0m\u001b[0mdriver_command\u001b[0m\u001b[1;33m,\u001b[0m \u001b[0mparams\u001b[0m\u001b[1;33m)\u001b[0m\u001b[1;33m\u001b[0m\u001b[1;33m\u001b[0m\u001b[0m\n\u001b[0;32m    320\u001b[0m         \u001b[1;32mif\u001b[0m \u001b[0mresponse\u001b[0m\u001b[1;33m:\u001b[0m\u001b[1;33m\u001b[0m\u001b[1;33m\u001b[0m\u001b[0m\n\u001b[1;32m--> 321\u001b[1;33m             \u001b[0mself\u001b[0m\u001b[1;33m.\u001b[0m\u001b[0merror_handler\u001b[0m\u001b[1;33m.\u001b[0m\u001b[0mcheck_response\u001b[0m\u001b[1;33m(\u001b[0m\u001b[0mresponse\u001b[0m\u001b[1;33m)\u001b[0m\u001b[1;33m\u001b[0m\u001b[1;33m\u001b[0m\u001b[0m\n\u001b[0m\u001b[0;32m    322\u001b[0m             response['value'] = self._unwrap_value(\n\u001b[0;32m    323\u001b[0m                 response.get('value', None))\n",
      "\u001b[1;32m~\\miniconda3\\envs\\web\\lib\\site-packages\\selenium\\webdriver\\remote\\errorhandler.py\u001b[0m in \u001b[0;36mcheck_response\u001b[1;34m(self, response)\u001b[0m\n\u001b[0;32m    240\u001b[0m                 \u001b[0malert_text\u001b[0m \u001b[1;33m=\u001b[0m \u001b[0mvalue\u001b[0m\u001b[1;33m[\u001b[0m\u001b[1;34m'alert'\u001b[0m\u001b[1;33m]\u001b[0m\u001b[1;33m.\u001b[0m\u001b[0mget\u001b[0m\u001b[1;33m(\u001b[0m\u001b[1;34m'text'\u001b[0m\u001b[1;33m)\u001b[0m\u001b[1;33m\u001b[0m\u001b[1;33m\u001b[0m\u001b[0m\n\u001b[0;32m    241\u001b[0m             \u001b[1;32mraise\u001b[0m \u001b[0mexception_class\u001b[0m\u001b[1;33m(\u001b[0m\u001b[0mmessage\u001b[0m\u001b[1;33m,\u001b[0m \u001b[0mscreen\u001b[0m\u001b[1;33m,\u001b[0m \u001b[0mstacktrace\u001b[0m\u001b[1;33m,\u001b[0m \u001b[0malert_text\u001b[0m\u001b[1;33m)\u001b[0m\u001b[1;33m\u001b[0m\u001b[1;33m\u001b[0m\u001b[0m\n\u001b[1;32m--> 242\u001b[1;33m         \u001b[1;32mraise\u001b[0m \u001b[0mexception_class\u001b[0m\u001b[1;33m(\u001b[0m\u001b[0mmessage\u001b[0m\u001b[1;33m,\u001b[0m \u001b[0mscreen\u001b[0m\u001b[1;33m,\u001b[0m \u001b[0mstacktrace\u001b[0m\u001b[1;33m)\u001b[0m\u001b[1;33m\u001b[0m\u001b[1;33m\u001b[0m\u001b[0m\n\u001b[0m\u001b[0;32m    243\u001b[0m \u001b[1;33m\u001b[0m\u001b[0m\n\u001b[0;32m    244\u001b[0m     \u001b[1;32mdef\u001b[0m \u001b[0m_value_or_default\u001b[0m\u001b[1;33m(\u001b[0m\u001b[0mself\u001b[0m\u001b[1;33m,\u001b[0m \u001b[0mobj\u001b[0m\u001b[1;33m,\u001b[0m \u001b[0mkey\u001b[0m\u001b[1;33m,\u001b[0m \u001b[0mdefault\u001b[0m\u001b[1;33m)\u001b[0m\u001b[1;33m:\u001b[0m\u001b[1;33m\u001b[0m\u001b[1;33m\u001b[0m\u001b[0m\n",
      "\u001b[1;31mNoSuchElementException\u001b[0m: Message: no such element: Unable to locate element: {\"method\":\"css selector\",\"selector\":\"div.text.left.cb.text_wrap.motion.fadeIn.visible\"}\n  (Session info: chrome=92.0.4515.131)\n"
     ]
    }
   ],
   "source": [
    "for n in range(len(speech_list)):\n",
    "    url = speech_list[n]['url']\n",
    "    driver.get(url)\n",
    "    speech_body = driver.find_element_by_css_selector('div.text.left.cb.text_wrap.motion.fadeIn.visible').text\n",
    "    speech_list[n]['body'] = speech_body"
   ]
  },
  {
   "cell_type": "code",
   "execution_count": 15,
   "id": "54fd3d1b",
   "metadata": {},
   "outputs": [
    {
     "name": "stdout",
     "output_type": "stream",
     "text": [
      "국무총리를 위원장으로 하는 민관합동 ‘글로벌 백신 허브화 추진위원회’가 출범해 오늘 첫 회의를 열게 되었습니다.\n",
      "관련 부처들과 함께, 백신 분야 최고의 전문가들이 민간위원으로 참여하고 있습니다.\n",
      "오늘 회의에는 백신 개발과 생산 기업 대표들도 함께해 주셨습니다.\n",
      "감사합니다. \n",
      "\n",
      "전파력이 강한 델타 변이바이러스가 확산하며 전 세계적으로 코로나 상황이 다시 악화하고 있습니다.\n",
      "끝이 잘 보이지 않는 코로나와의 전쟁에서 가장 효과적인 방어수단은 백신입니다.\n",
      "최근 발생한 확진자와 사망자 대부분이 백신 미접종자 중에서 나오고 있고, 백신 접종이 위중증률과 치명률을 크게 낮추는 등 백신은 코로나로부터 인류의 생명과 안전을 지켜 주는 핵심 역할을 하고 있습니다. \n",
      "\n",
      "하지만, 세계적인 백신 부족 상태가 지속되고 있고, 특히 백신 보급의 국가별 격차가 심각하여 일부 백신 부국들은 ‘부스터 샷’을 계획하는 반면 다수의 저소득 국가는 내년까지도 접종 완료가 어려운 백신 불평등이 심화되고 있습니다.\n",
      "모든 나라에 백신이 충분히 보급되지 않고서는 계속되는 변이의 발생과 코로나 확산을 막을 수 없습니다.\n",
      "결국 문제 해결의 근본 해법은 백신 공급을 획기적으로 늘리는 것일 수밖에 없습니다.\n",
      "\n",
      "대한민국이 문제 해결에 앞장서겠습니다.\n",
      "‘글로벌 백신 허브’를 국가전략으로 강력히 추진하여 인류 공동의 감염병 위기 극복에 기여하겠습니다.\n",
      "우리는 충분한 역량을 가지고 있습니다.\n",
      "세계 최고 수준의 바이오의약품 생산 능력을 갖추고 있고, 현재 세계적으로 안전성과 효과성을 인정받는 코로나 백신 네 종을 생산, 공급하고 있습니다.\n",
      "백신 산업에 대한 기업들의 도전 의지와 정부의 육성 의지도 확고합니다.\n",
      "\n",
      "바이오산업은 우리의 산업 혁신을 이끌 3대 신산업으로 성장하여 주력 수출 산업으로 도약하고 있습니다.\n",
      "그러나 백신 분야에 있어서는 여전히 기술 격차가 크고 해외 의존도가 높으며, 글로벌 시장 점유율도 낮습니다.\n",
      "지금이 글로벌 백신 허브를 향해 과감하게 도전해야 할 적기입니다.\n",
      "정부는 역량과 자원을 총동원하여 인류의 보건 위기 대응에 기여하고, 백신 산업을 우리 경제의 새로운 성장동력으로 힘 있게 육성하고자 합니다.\n",
      "앞으로 다가올 미래 신종 감염병의 출현에 대응하는 길이기도 합니다. \n",
      "\n",
      "2025년까지 ‘글로벌 백신 생산 5대 강국’으로 도약하겠습니다.\n",
      "정부는 백신을 반도체, 배터리와 함께 ‘3대 국가전략기술’ 분야로 선정하여 앞으로 5년간 2조2천억 원을 투입할 계획입니다.\n",
      "연구개발과 시설투자에 대한 세제 지원을 대폭 확대하고, 필수 소재·부품·장비의 생산과 기술을 자급화해 국내 기업들이 생산 역량을 극대화할 수 있도록 하겠습니다.\n",
      "\n",
      "백신 산업 생태계 조성도 중요합니다.\n",
      "연간 200명 이상의 의과학자를 새롭게 육성하고, 임상시험 전문인력 1만 명, 바이오 생산 전문인력 연간 2천 명 등 바이오의약품 산업 인력 양성에 힘쓰겠습니다.\n",
      "K-바이오랩 허브를 구축하고, 첨단투자지구도 지정하여 각종 인센티브를 제공하겠습니다.\n",
      "\n",
      "글로벌 협력체계도 더욱 강화하겠습니다.\n",
      "한미 정상회담에서 합의한 글로벌 백신 파트너십이 실질적 성과로 이어지도록 긴밀히 협력하면서 독일, 영국 등 다른 국가와도 백신 파트너십을 확대하겠습니다.\n",
      "WHO 등 국제기구, 글로벌 백신 연구소와 기업들과의 소통과 협력도 강화하겠습니다.\n",
      "외국인 투자를 활성화하고 글로벌 기업을 유치하는 등 글로벌 백신 허브로서의 발판을 마련하겠습니다. \n",
      "\n",
      " 백신 자주권 확보를 위한 국산 백신의 신속한 개발도 매우 중요합니다.\n",
      "이달 중에 국내 기업 개발 코로나 백신이 임상 3상에 진입할 예정이며, 내년 상반기까지 국산 1호 백신의 상용화가 기대되고 있습니다.\n",
      "차세대 백신인 mRNA백신 개발도 속도를 내고 있습니다.\n",
      "생산 핵심기술의 국산화가 이뤄지고 있으며, 올해 안에 임상시험 진입도 가시화되고 있습니다.\n",
      "정부는 국산 백신의 신속한 개발을 위해 임상에 필요한 비용을 지원하고, 원부자재 국산화, 특허 분석 지원 등 다방면의 지원체계를 가동하겠습니다.\n",
      "‘글로벌 백신 허브화 추진위원회’는 비록 늦더라도 이번 기회에 mRNA백신까지 반드시 개발하여 끝을 본다는 각오를 가져 주기 바랍니다. \n",
      "\n",
      "대한민국은 많은 위기를 겪었지만 그때마다 위기를 기회로 만들어내는 놀라운 힘을 보여 주었습니다.\n",
      "코로나 위기에서도 이런 면모를 유감없이 보여 주고 있습니다.\n",
      "이제는 더 나아가 글로벌 백신 허브로서 인류의 감염병 극복의 중추적 역할을 하면서, 백신 선도국가로 도약하는 기회를 만들어내도록 합시다.\n",
      "감사합니다.\n"
     ]
    }
   ],
   "source": [
    "driver.get('https://www1.president.go.kr/articles/10834')\n",
    "time.sleep(3)\n",
    "speech_body = driver.find_element_by_css_selector('div.text.left.cb.text_wrap.motion.fadeIn.visible').text\n",
    "\n",
    "print(speech_body)"
   ]
  },
  {
   "cell_type": "code",
   "execution_count": 16,
   "id": "4cd81316",
   "metadata": {
    "slideshow": {
     "slide_type": "subslide"
    }
   },
   "outputs": [
    {
     "name": "stdout",
     "output_type": "stream",
     "text": [
      "https://www1.president.go.kr/articles/10865\n",
      "https://www1.president.go.kr/articles/10852\n",
      "https://www1.president.go.kr/articles/10849\n",
      "https://www1.president.go.kr/articles/10848\n",
      "https://www1.president.go.kr/articles/10847\n",
      "https://www1.president.go.kr/articles/10843\n",
      "https://www1.president.go.kr/articles/10834\n",
      "https://www1.president.go.kr/articles/10826\n",
      "https://www1.president.go.kr/articles/10825\n",
      "https://www1.president.go.kr/articles/10821\n",
      "https://www1.president.go.kr/articles/10815\n",
      "https://www1.president.go.kr/articles/10814\n",
      "https://www1.president.go.kr/articles/10813\n",
      "https://www1.president.go.kr/articles/10812\n",
      "https://www1.president.go.kr/articles/10811\n"
     ]
    }
   ],
   "source": [
    "import time\n",
    "\n",
    "for n in range(len(speech_list)):\n",
    "    url = speech_list[n]['url']\n",
    "    driver.get(url)\n",
    "    time.sleep(5)\n",
    "    speech_body = driver.find_element_by_css_selector('div.text.left.cb.text_wrap.motion.fadeIn.visible').text\n",
    "    \n",
    "    #cont_view > div > div > div.cs_view.cs_v1.wrap.text.left > div.text.left.cb.text_wrap.motion.fadeIn.visible\n",
    "    speech_list[n]['body'] = speech_body\n",
    "    print(url)"
   ]
  },
  {
   "cell_type": "code",
   "execution_count": 93,
   "id": "8cc146ad-2e60-463f-818b-5a55d5dd9cff",
   "metadata": {
    "slideshow": {
     "slide_type": "fragment"
    }
   },
   "outputs": [
    {
     "data": {
      "text/plain": [
       "[{'title': '수석보좌관회의 모두발언',\n",
       "  'summary': '  오늘 외부 전문가로 김용익 건보공단 이사장님, 그다음에 김선민 건보심사평가원 원장님이 참석해서 토론에 함께해 주시겠습니다. 감사합니다. 박수로 맞아주시기 바랍니다. 코로나 확산세가 좀처럼 꺾이지 않고, 강화된 거리두기 단계를 연장하게 되어 매우 안타까운 마음입니다. 국민 ...',\n",
       "  'date': '2021-08-09',\n",
       "  'url': 'https://www1.president.go.kr/articles/10852',\n",
       "  'body': ' \\n\\n오늘 외부 전문가로 김용익 건보공단 이사장님, 그다음에 김선민 건보심사평가원 원장님이 참석해서 토론에 함께해 주시겠습니다.\\n감사합니다.\\n박수로 맞아주시기 바랍니다.\\n\\n코로나 확산세가 좀처럼 꺾이지 않고, 강화된 거리두기 단계를 연장하게 되어 매우 안타까운 마음입니다.\\n국민 여러분의 심정도 같을 것입니다.\\n하지만 그동안 시행한 고강도 방역 조치가 확산세를 꺾지는 못했어도, 급격한 확산세를 차단하는 데는 분명한 효과가 있었습니다.\\n백신 접종이 진행되는 데도 불구하고 무서운 기세로 확산하는 델타 변이로 인해 전 세계 확진자 수가 6주 연속 증가하고, 역대 최대 확진자 수를 기록하는 나라가 속출하는 등 또다시 새로운 위기를 맞고 있습니다.\\n이에 비하면 우리나라는 국민들께서 협조해 주신 덕분에 방역의 수위와 긴장도를 최고로 높이고 우리의 방역·의료체계 안에서 코로나를 관리해낼 수 있었습니다.\\n앞으로가 문제입니다.\\n여전히 중대한 고비가 지속되고 있습니다.\\n지금 국민의 생명과 안전을 지키기 위해 우리가 할 수 있는 방법은 두 가지밖에 없습니다.\\n하나는 코로나 확산을 차단하는 데 전력을 다하는 것이고, 다른 하나는 백신 접종률을 높이는 것입니다.\\n우선 코로나 상황을 진정시키는 것이 무엇보다 중요합니다.\\n특히 2학기 개학을 앞두고 아이들의 안전한 등교 수업을 위해서라도 방역의 고삐를 더욱 단단히 조여야 하겠습니다.\\n백신 접종률을 높이는 것도 매우 중요합니다.\\n최근 백신 접종에 다시 속도를 내면서 40% 이상의 국민들이 1차 접종을 끝냈고, 추석 전 3,600만 명 접종을 목표로 나아가고 있습니다.\\n집단 면역의 목표 시기도 앞당기고, 백신 접종의 목표 인원도 더 늘릴 것입니다.\\n\\n백신을 소수의 해외 기업에게 의존할 수밖에 없기 때문에 우리가 백신 수급을 마음대로 하지는 못하지만, 확보한 백신 물량을 최대한 효과적으로 활용하여 반드시 목표달성을 앞당길 것입니다.\\n세계적으로 백신 생산 부족과 공급의 불확실성이 여전히 큰 문제입니다.\\n해외 기업에 휘둘리지 않도록 국산 백신 개발에 더욱 속도를 내고 글로벌 허브 전략을 힘있게 추진하는 데 국가적 역량을 집중하겠습니다.\\n지금 같은 고강도의 방역 조치는 단기간에 한시적으로 쓸 수 있는 비상조치일 뿐 지속 가능한 방안이 될 수 없습니다.\\n코로나 확산세를 잡아나가면서 동시에 백신 접종률을 높여나가야만 고강도 방역 조치를 완화할 수 있을 것입니다.\\n방역과 경제와 민생 모두를 지켜내는 새로운 방역전략을 추진할 수도 있을 것입니다.\\n그 희망을 위해 코로나 확산 차단과 백신 접종률을 높이는 데 총력을 기울이겠습니다.\\n국민들께서도 힘드시지만, 조금만 더 힘을 내주시길 당부드립니다.\\n\\n가장 안타까운 것은 고강도 방역 조치가 연장되면서 소상공인들과 자영업자들이 생존 위기에 내몰리고 있는 것입니다.\\n우리 사회 전체가 함께 나눠야 할 무거운 짐으로 인식해 주시기 바랍니다.\\n정부는 다음 주부터 추경 집행을 통해 신속히 피해를 지원하고 금융 부담과 애로를 덜어드리는 등 다각도의 지원책을 강구하는 데 최선을 다하겠습니다.\\n지자체들도 다양한 방법으로 지역의 소상공인들과 자영업자들을 지원하기 위해 나서고 있습니다.\\n중앙 정부는 지자체의 지원 사업에 필요한 정보와 자료를 제공하는 등 적극적으로 뒷받침해 주기 바랍니다.\\n코로나 확산과 거리 두기 강화로 우리 경제의 회복세에 지장을 주지 않을까 하는 우려도 있습니다.\\n몇 달째 개선되던 경제 심리가 주춤하고, 나아지던 고용회복 흐름도 다시 둔화하고 있습니다.\\n서민 물가를 안정시키는 것도 민생경제에 아주 중요한 일입니다.\\n정부는 국민의 삶을 지키는 최후의 보루로서 각오를 새롭게 다지며 코로나 대응과 민생안정을 위해 범정부 총력체제로 임해 주기 바랍니다.'},\n",
       " {'title': '갈고닦은 기량을 마음껏 펼쳐준 대한민국 선수들과 코치진 그리고 아낌없는 응원을 보내주신 국민들께 깊이 감사드립니다',\n",
       "  'summary': '도쿄올림픽이 끝났습니다.  갈고닦은 기량을 마음껏 펼쳐준 대한민국 선수들과 코치진 그리고 아낌없는 응원을 보내주신 국민들께 깊이 감사드립니다. 여전히 어려운 시기에 열린 이번 올림픽에서 우리 선수들은 정직한 땀방울을 통해 국민들에게 위로와 희망의 메시지를 전해주었습니다.  메달 소식도 자주 들려주었습니다.  첫 메달이었던...',\n",
       "  'date': '2021-08-08',\n",
       "  'url': 'https://www1.president.go.kr/articles/10849',\n",
       "  'body': '도쿄올림픽이 끝났습니다. \\n갈고닦은 기량을 마음껏 펼쳐준 대한민국 선수들과 코치진 그리고 아낌없는 응원을 보내주신 국민들께 깊이 감사드립니다.\\n\\n여전히 어려운 시기에 열린 이번 올림픽에서 우리 선수들은 정직한 땀방울을 통해 국민들에게 위로와 희망의 메시지를 전해주었습니다. \\n\\n메달 소식도 자주 들려주었습니다. \\n첫 메달이었던 양궁 혼성단체부터, 대회 막판 감동을 준 남자 근대5종까지 우리 선수들이 획득한 스무 개의 메달은 세계에 우리의 실력을 증명해보였습니다. \\n\\n메달의 색깔은 중요하지 않습니다. \\n메달을 못 땄어도 최선을 다한 것만으로도 아름답습니다. \\n특히 이번 올림픽에는 경기 자체를 즐긴 젊은 선수들이 많았고, 긍정의 웃음 뒤엔 신기록까지 따라왔습니다. \\n\\n수영 황선우, 다이빙 우하람, 높이뛰기 우상혁, 역도 이선미, 배드민턴 안세영, 스포츠클라이밍 서채현 선수가 보여준 패기와 열정에 국민들은 아낌없는 박수를 보냈습니다. \\n한국 최초로 올림픽 메달레이스에 진출한 요트 하지민 선수와 럭비 대표팀의 투혼도 기억에 남습니다. \\n\\n탁구 신유빈, 역도 김수현, 레슬링 류한수 선수가 흘린 아쉬움의 눈물은, 곧 성취의 웃음으로 바뀔 것입니다. \\n유도 조구함, 태권도 이다빈 선수는 승리한 상대 선수를 존중하며 품격있는 패자의 모습을 보여주었습니다. \\n\\n어려움 속에 있는 국민들에게 위로와 감동을 선사한 대한민국 대표팀 29개 종목 354명의 선수단, 모두 수고 많았습니다. \\n앞으로도 대한민국 대표선수의 자부심으로 도전하고, 경기를 즐기며, 성취하는 모습을 기대합니다.\\n '},\n",
       " {'title': '근대5종 남자 개인전 전웅태 선수 축전',\n",
       "  'summary': '  근대5종 남자 개인전 전웅태 선수   2020 도쿄올림픽 동메달 획득을 축하합니다. 대한민국 근대5종 사상 최초의 올림픽 메달입니다. 정진화 선수와 함께 말로 표현할 수 없이 멋진 경기를 펼쳐주었고, 두 선수가 경기 후 나눈 우정의 포옹은 뭉클한 감동을 주었습니다. 이제 전 선수의 희망처럼 대한민국 근대5종은 국...',\n",
       "  'date': '2021-08-08',\n",
       "  'url': 'https://www1.president.go.kr/articles/10848',\n",
       "  'body': '  근대5종 남자 개인전 전웅태 선수\\n  2020 도쿄올림픽 동메달 획득을 축하합니다.\\n대한민국 근대5종 사상 최초의 올림픽 메달입니다.\\n\\n정진화 선수와 함께 말로 표현할 수 없이 멋진 경기를 펼쳐주었고, 두 선수가 경기 후 나눈 우정의 포옹은 뭉클한 감동을 주었습니다.\\n\\n이제 전 선수의 희망처럼 대한민국 근대5종은 국민들의 자부심이 될 것입니다.\\n\\n앞으로의 도전에도 언제나 국민과 함께 응원하겠습니다.\\n \\n2021년 8월 8일\\n대통령 문재인'},\n",
       " {'title': '우리 여자 배구 선수들이 도쿄올림픽에서 특별한 감동을 주었습니다',\n",
       "  'summary': '우리 여자 배구 선수들이 도쿄올림픽에서 특별한 감동을 주었습니다.  원팀의 힘으로 세계 강호들과 대등하게 맞섰고, 매 경기 모든 걸 쏟아내는 모습에 국민 모두 자부심을 느꼈습니다.  아름다운 도전이었습니다.  아쉬워하지 말기 바랍니다.  또 하면 됩니다.  지금까지처럼 자신감을 가져주길 바랍니다. ...',\n",
       "  'date': '2021-08-08',\n",
       "  'url': 'https://www1.president.go.kr/articles/10847',\n",
       "  'body': '우리 여자 배구 선수들이 도쿄올림픽에서 특별한 감동을 주었습니다. \\n원팀의 힘으로 세계 강호들과 대등하게 맞섰고, 매 경기 모든 걸 쏟아내는 모습에 국민 모두 자부심을 느꼈습니다. \\n\\n아름다운 도전이었습니다. \\n아쉬워하지 말기 바랍니다. \\n또 하면 됩니다. \\n지금까지처럼 자신감을 가져주길 바랍니다. \\n한 선수 한 선수 최선을 다하는 모습에 우리는 응원으로 함께했습니다. \\n아낌없는 박수를 보냅니다. \\n\\n덕분에 국민들은 많은 용기를 얻었습니다. \\n김연경, 김수지, 김희진, 박은진, 박정아, 안혜진, 양효진, 염혜선, 오지영, 이소영, 정지윤, 표승주. 우리의 자랑 열두 선수의 이름을 국민과 함께 불러주고 싶습니다. \\n끝까지 포기하지 않고 우리의 저력을 보여준 선수들과 라바리니 감독, 코치진에게 감사합니다. \\n특히 김연경 선수에게 각별한 격려의 말을 전합니다. \\n\\n끝까지 애써주신 배구협회에도 감사드리며 모두가 건강하게 돌아오길 기원합니다.'},\n",
       " {'title': '폭염 대응 소방관서 격려 방문 모두발언',\n",
       "  'summary': '인력 2만 명 증원, 그리고 지금 진행되고 있습니다만 국립소방병원 건립 이런 약속들을 제가 차근차근 다 이렇게 지킬 수 있어서 아주 다행스럽게 생각합니다. 그런데 오늘은 그 때문에 온 것은 아니고, 정말 요즘 아주 역대급 폭염이죠. 연일 계속되고 있어서 여러분들 정말 고생이 많습니다. 원래...',\n",
       "  'date': '2021-08-06',\n",
       "  'url': 'https://www1.president.go.kr/articles/10843',\n",
       "  'body': '인력 2만 명 증원, 그리고 지금 진행되고 있습니다만 국립소방병원 건립 이런 약속들을 제가 차근차근 다 이렇게 지킬 수 있어서 아주 다행스럽게 생각합니다.\\n\\n그런데 오늘은 그 때문에 온 것은 아니고, 정말 요즘 아주 역대급 폭염이죠.\\n연일 계속되고 있어서 여러분들 정말 고생이 많습니다.\\n원래 일자체가 아주 고되고 위험한 일인데, 이 폭염 때문에 훨씬 고생이 심하게 되었습니다.\\n그래도 여러분들 고생 덕분에 많은 온열질환자들을 아주 신속하게 이송이 돼서 필요한 처치를 받을 수 있게 되고, 또 폭염에 취약한 쪽방촌이나 고지대, 또는 축산농가 이런 쪽에도 출동해서 살수를 해 준다든지 생활용수를 공급해 준다든지 이렇게 해서 국민들을 폭염 피해로부터 국민들의 안전과 생명을 지키는데 아주 큰 역할을 해 주고 계십니다.\\n정말 감사하게 생각합니다.\\n\\n뿐만 아니라 코로나 대응에 있어서도 우리 소방의 그 역할이 너무나 큽니다.\\n검역, 공항 검역의 지원부터 (안 들림) 방역 활동에 대한 지원들 그리고 확진자나 의심환자들에 대한 신속한 이송 그리고 또 요즘은 심지어 백신 접종자 가운데 이상반응이 생기는 사람들을 빠르게 이송해서 필요한 치료를 받게 하는 그런 일들까지 정말 수고 많습니다.\\n\\n특히 근래에 더 아주 감동적으로 다가왔던 것은 선별진료소, 임시선별검사소 여기에, 일반 기왕에 있는 선별검사소의 경우에는 냉난방들이 충분히 갖추어져 있기 때문에 그나마 나은데, 임시선별검사소의 경우에는 폭염 속에 그냥 천막으로 그늘막치고 방역 작업을 하고 있기 때문에 우리가 얼음조끼를 제공하고 얼음팩을 제공하고, 그다음에 이동식 에어컨을 제공하기도 하고, 선풍기를 제공하기도 하고 많은 지원을 하고 있어도 역부족이었는데, 우리 소방청에서 회복지원차량을 지원해 주면서 아주 훌륭한 쉼터를 제공해 줬고, 그것이 정말 무더위에 고생하는 방역진에게 아주 큰 위로와 그다음에 또 감동을 주었습니다.\\n외신에서도 또 하나의 K-방역이라고 아주 칭찬이 많습니다.\\n정말 창의적인 방안이었다고 생각하고, 소방청이 그렇게 선도적인 역할을 해 주니까 경찰에서도 기동대 버스를 제공하고, 각 지자체에서도 여러 가지 다양한 냉방차량들을 제공해서 방역에 임하는 분들이 그래도 때때로 휴식을 취하면서 방역활동을 할 수 있도록 그렇게 되었습니다.\\n\\n지금 또 날씨가 더워지면 벌도 피해가 많아져서 심지어 벌 퇴치하는 작업까지도 해야 되고, 또 앞으로 태풍이나 비가 많이 오게 되면 그에 대한 질병, 여러 가지 구조, 구급 이런 일들을 해야 될 텐데, 끝까지 힘드시더라도 국민들의 건강과 안전을 위해서 최선을 다해 주시기를 바라고, 또 그러는 가운데에서도 우리 소방관들 자신의 안전도 많이 지켜 주시기를 바랍니다.\\n아까 여러 가지 더위를 피할 수 있는 그런 장비들을 보기는 했지만 현장에서 잘 그것이 운용되어야 하겠고, 특히 출동근무는 어쩔 수 없는 일이지만 자체적으로 교육이나 훈련하고 할 때에는 폭염 특보가 내려진 그런 상황에서는 야외훈련이나 교육은 일종에 금지하고 전부 실내 교육과 훈련으로 대체하고, 충분한 휴식시간을 제공하도록 그렇게 노력을 해 주시기를 바랍니다.\\n\\n소방국가직화하고 난 이후에 정부가 우리 소방관들의 근무 여건과 처우를 개선하기 위해서 많은 노력을 기울이고 있지만 여전히 아쉽고 부족한 것이 많을 것이라고 생각합니다.\\n정부가 여러분들이 보다 더 좋은 환경 속에서 근무할 수 있고, 소방 역량도 높여갈 수 있도록 정부는 지원에 최선을 다하겠습니다.\\n함께 우리 더 안전한 대한민국 만들어 가도록 합시다.\\n고맙습니다.'},\n",
       " {'title': 'K-글로벌 백신 허브화 비전 및 전략 보고대회 모두발언',\n",
       "  'summary': '국무총리를 위원장으로 하는 민관합동 ‘글로벌 백신 허브화 추진위원회’가 출범해 오늘 첫 회의를 열게 되었습니다. 관련 부처들과 함께, 백신 분야 최고의 전문가들이 민간위원으로 참여하고 있습니다. 오늘 회의에는 백신 개발과 생산 기업 대표들도 함께해 주셨습니다. 감사합니다.  전파력이 강한 델타 변이바이러스가 확산하며 ...',\n",
       "  'date': '2021-08-05',\n",
       "  'url': 'https://www1.president.go.kr/articles/10834',\n",
       "  'body': '국무총리를 위원장으로 하는 민관합동 ‘글로벌 백신 허브화 추진위원회’가 출범해 오늘 첫 회의를 열게 되었습니다.\\n관련 부처들과 함께, 백신 분야 최고의 전문가들이 민간위원으로 참여하고 있습니다.\\n오늘 회의에는 백신 개발과 생산 기업 대표들도 함께해 주셨습니다.\\n감사합니다. \\n\\n전파력이 강한 델타 변이바이러스가 확산하며 전 세계적으로 코로나 상황이 다시 악화하고 있습니다.\\n끝이 잘 보이지 않는 코로나와의 전쟁에서 가장 효과적인 방어수단은 백신입니다.\\n최근 발생한 확진자와 사망자 대부분이 백신 미접종자 중에서 나오고 있고, 백신 접종이 위중증률과 치명률을 크게 낮추는 등 백신은 코로나로부터 인류의 생명과 안전을 지켜 주는 핵심 역할을 하고 있습니다. \\n\\n하지만, 세계적인 백신 부족 상태가 지속되고 있고, 특히 백신 보급의 국가별 격차가 심각하여 일부 백신 부국들은 ‘부스터 샷’을 계획하는 반면 다수의 저소득 국가는 내년까지도 접종 완료가 어려운 백신 불평등이 심화되고 있습니다.\\n모든 나라에 백신이 충분히 보급되지 않고서는 계속되는 변이의 발생과 코로나 확산을 막을 수 없습니다.\\n결국 문제 해결의 근본 해법은 백신 공급을 획기적으로 늘리는 것일 수밖에 없습니다.\\n\\n대한민국이 문제 해결에 앞장서겠습니다.\\n‘글로벌 백신 허브’를 국가전략으로 강력히 추진하여 인류 공동의 감염병 위기 극복에 기여하겠습니다.\\n우리는 충분한 역량을 가지고 있습니다.\\n세계 최고 수준의 바이오의약품 생산 능력을 갖추고 있고, 현재 세계적으로 안전성과 효과성을 인정받는 코로나 백신 네 종을 생산, 공급하고 있습니다.\\n백신 산업에 대한 기업들의 도전 의지와 정부의 육성 의지도 확고합니다.\\n\\n바이오산업은 우리의 산업 혁신을 이끌 3대 신산업으로 성장하여 주력 수출 산업으로 도약하고 있습니다.\\n그러나 백신 분야에 있어서는 여전히 기술 격차가 크고 해외 의존도가 높으며, 글로벌 시장 점유율도 낮습니다.\\n지금이 글로벌 백신 허브를 향해 과감하게 도전해야 할 적기입니다.\\n정부는 역량과 자원을 총동원하여 인류의 보건 위기 대응에 기여하고, 백신 산업을 우리 경제의 새로운 성장동력으로 힘 있게 육성하고자 합니다.\\n앞으로 다가올 미래 신종 감염병의 출현에 대응하는 길이기도 합니다. \\n\\n2025년까지 ‘글로벌 백신 생산 5대 강국’으로 도약하겠습니다.\\n정부는 백신을 반도체, 배터리와 함께 ‘3대 국가전략기술’ 분야로 선정하여 앞으로 5년간 2조2천억 원을 투입할 계획입니다.\\n연구개발과 시설투자에 대한 세제 지원을 대폭 확대하고, 필수 소재·부품·장비의 생산과 기술을 자급화해 국내 기업들이 생산 역량을 극대화할 수 있도록 하겠습니다.\\n\\n백신 산업 생태계 조성도 중요합니다.\\n연간 200명 이상의 의과학자를 새롭게 육성하고, 임상시험 전문인력 1만 명, 바이오 생산 전문인력 연간 2천 명 등 바이오의약품 산업 인력 양성에 힘쓰겠습니다.\\nK-바이오랩 허브를 구축하고, 첨단투자지구도 지정하여 각종 인센티브를 제공하겠습니다.\\n\\n글로벌 협력체계도 더욱 강화하겠습니다.\\n한미 정상회담에서 합의한 글로벌 백신 파트너십이 실질적 성과로 이어지도록 긴밀히 협력하면서 독일, 영국 등 다른 국가와도 백신 파트너십을 확대하겠습니다.\\nWHO 등 국제기구, 글로벌 백신 연구소와 기업들과의 소통과 협력도 강화하겠습니다.\\n외국인 투자를 활성화하고 글로벌 기업을 유치하는 등 글로벌 백신 허브로서의 발판을 마련하겠습니다. \\n\\n 백신 자주권 확보를 위한 국산 백신의 신속한 개발도 매우 중요합니다.\\n이달 중에 국내 기업 개발 코로나 백신이 임상 3상에 진입할 예정이며, 내년 상반기까지 국산 1호 백신의 상용화가 기대되고 있습니다.\\n차세대 백신인 mRNA백신 개발도 속도를 내고 있습니다.\\n생산 핵심기술의 국산화가 이뤄지고 있으며, 올해 안에 임상시험 진입도 가시화되고 있습니다.\\n정부는 국산 백신의 신속한 개발을 위해 임상에 필요한 비용을 지원하고, 원부자재 국산화, 특허 분석 지원 등 다방면의 지원체계를 가동하겠습니다.\\n‘글로벌 백신 허브화 추진위원회’는 비록 늦더라도 이번 기회에 mRNA백신까지 반드시 개발하여 끝을 본다는 각오를 가져 주기 바랍니다. \\n\\n대한민국은 많은 위기를 겪었지만 그때마다 위기를 기회로 만들어내는 놀라운 힘을 보여 주었습니다.\\n코로나 위기에서도 이런 면모를 유감없이 보여 주고 있습니다.\\n이제는 더 나아가 글로벌 백신 허브로서 인류의 감염병 극복의 중추적 역할을 하면서, 백신 선도국가로 도약하는 기회를 만들어내도록 합시다.\\n감사합니다.'},\n",
       " {'title': '배드민턴 여자 복식 국가대표 선수 축전',\n",
       "  'summary': '2020 도쿄올림픽 동메달 획득을 축하합니다. 함께 경기한 네 선수 모두 최선을 다한 아름다운 승부였습니다. 파트너인 김소영 선수와 함께 시상대에 오르고 싶다던 소망이 이루어져 기쁩니다. 김소영 선수와 공희용 선수가 서로를 믿고 함께 만든 성과에 큰 박수를 보냅니다. 경기 후 네 선수가 나눈 위로와 우정의 포옹은 올림픽 정신을 온전히 보여 줬습니다....',\n",
       "  'date': '2021-08-03',\n",
       "  'url': 'https://www1.president.go.kr/articles/10826',\n",
       "  'body': '2020 도쿄올림픽 동메달 획득을 축하합니다.\\n함께 경기한 네 선수 모두 최선을 다한 아름다운 승부였습니다.\\n\\n파트너인 김소영 선수와 함께 시상대에 오르고 싶다던 소망이 이루어져 기쁩니다.\\n김소영 선수와 공희용 선수가 서로를 믿고 함께 만든 성과에 큰 박수를 보냅니다.\\n경기 후 네 선수가 나눈 위로와 우정의 포옹은 올림픽 정신을 온전히 보여 줬습니다.\\n\\n3·4위 전에서 김소영, 공희용 선수와 경기를 펼친 이소희, 신승찬 선수에게도 격려를 보냅니다.\\n멋진 경기였습니다.\\n\\n‘함께하는 힘’의 가치와 의미를 나눠 줘서 고맙습니다.\\n김 선수, 공 선수의 꿈과 도전을 국민과 함께 응원합니다.\\n\\n\\n2021년 8월 3일\\n대통령 문 재 인'},\n",
       " {'title': '기계체조 남자 도마 신재환 선수 축전',\n",
       "  'summary': '2020 도쿄올림픽 금메달 획득을 축하합니다. 대한민국을 가장 높은 지점에서 빛내 주었습니다. 신 선수의 환상적인 금빛 착지에 세계가 환호했습니다. 새로운 ‘도마 황제’의 출현에 박수를 보냅니다. 우리 체조의 자부심을 더욱 드높여 주길 바랍니다. 신 선수의 열정과 도전을 국민과 함께 응원하겠습니다.   2021년...',\n",
       "  'date': '2021-08-03',\n",
       "  'url': 'https://www1.president.go.kr/articles/10825',\n",
       "  'body': '2020 도쿄올림픽 금메달 획득을 축하합니다.\\n대한민국을 가장 높은 지점에서 빛내 주었습니다.\\n\\n신 선수의 환상적인 금빛 착지에 세계가 환호했습니다.\\n새로운 ‘도마 황제’의 출현에 박수를 보냅니다.\\n\\n우리 체조의 자부심을 더욱 드높여 주길 바랍니다.\\n신 선수의 열정과 도전을 국민과 함께 응원하겠습니다.\\n\\n  2021년 8월 3일 \\n대통령 문 재 인'},\n",
       " {'title': '제34회 국무회의 모두발언',\n",
       "  'summary': '제34회 국무회의를 시작하겠습니다. 코로나 위기 속에서 국민들은 여전히 힘겨운 시기를 견디고 있습니다. 방역과 민생에 전념하며 국민의 삶을 지키는 것이 우리 정부 남은 임기 동안 피할 수 없는 책무가 되었습니다. 4차 산업혁명과 기후변화에 대응해야 하는 대전환기에 국가의 미래를 준비하고 개척하는 과업 또한 미룰 수 없는 시대적 소명이 되었습니...',\n",
       "  'date': '2021-08-03',\n",
       "  'url': 'https://www1.president.go.kr/articles/10821',\n",
       "  'body': '제34회 국무회의를 시작하겠습니다.\\n\\n코로나 위기 속에서 국민들은 여전히 힘겨운 시기를 견디고 있습니다.\\n방역과 민생에 전념하며 국민의 삶을 지키는 것이 우리 정부 남은 임기 동안 피할 수 없는 책무가 되었습니다.\\n4차 산업혁명과 기후변화에 대응해야 하는 대전환기에 국가의 미래를 준비하고 개척하는 과업 또한 미룰 수 없는 시대적 소명이 되었습니다.\\n막중한 책임감을 느낍니다. \\n\\n무엇보다 국정의 최우선 과제는, 당면한 위기를 하루속히 극복하는 것입니다.\\n모든 부처는 코로나 상황을 조속히 진정시키는데 전력을 기울여 주기 바랍니다.\\n코로나 격차 해소와 민생 안정을 위한 추가 대책도 적극적으로 발굴하고 추진해야 할 것입니다.\\n특히 일자리 회복이 최우선 과제입니다.\\n정부는 일자리 창출의 마중물 역할을 하면서 민간 기업의 일자리 창출을 적극 지원하겠습니다.\\n소프트웨어, 인공지능, 빅데이터 등 신기술 분야가 민간 일자리의 보고입니다.\\n기업이 인력 양성을 주도하고, 정부는 과감하게 지원하는 방안을 적극적으로 강구해 주기 바랍니다.\\n기업과 정부의 협업모델이 확산된다면 기업에는 좋은 인력, 청년들에게는 양질의 일자리가 동시에 제공되는 일거양득의 효과를 거둘 수 있을 것입니다. \\n\\n또한, 각 부처는 대한민국의 미래를 위한 대전환에 사명감을 갖고 최선을 다해 임해 주기 바랍니다.\\n우리 정부는 지난해부터 한국판 뉴딜을 국가발전 전략으로 삼고 디지털 뉴딜, 그린 뉴딜을 강력히 추진하고 있습니다.\\n민간 확산, 지역 확산에 더욱 속도를 높여 국민들이 일상에서 변화를 체감할 수 있도록 노력해야 하겠습니다.\\n새롭게 추가한 휴먼 뉴딜을 성공적으로 추진하기 위한 노력도 강화해야 하겠습니다.\\n‘사람투자’를 대폭 확대하고, 신속한 산업구조 재편과 공정한 전환을 위한 정부의 지원을 확대해야 할 것입니다.\\n\\n탄소중립 실현과 에너지 전환도 중차대한 과제입니다.\\n국제사회의 일원으로 당연한 책무이고, 우리 경제의 미래와 직결되는 과제입니다.\\n정부는 신재생에너지 보급 확대와 수소경제 산업 생태계 조성 등 실천 프로그램을 더욱 주도적 자세로, 속도감 있게 추진해 주기 바랍니다.'},\n",
       " {'title': '수석보좌관회의 모두발언',\n",
       "  'summary': '오늘 외부 전문가로 우리 권기홍 동반성장위원회 위원장님 그리고 또 정중교 주식회사 프레시지 대표이사님 참석을 해 주셨습니다. 민간 기업의 대표이사가 우리 청와대 수보회의에 참석한 것은 거의 처음이 아닌가 싶은데, 기업 현장에서 느끼는 생생한 의견들 기탄없이 말씀해 주시기 바랍니다. 환영해 주시기 바랍니다. 여름이 더욱 깊어지고 있습니다. 국민들께...',\n",
       "  'date': '2021-08-02',\n",
       "  'url': 'https://www1.president.go.kr/articles/10815',\n",
       "  'body': '오늘 외부 전문가로 우리 권기홍 동반성장위원회 위원장님 그리고 또 정중교 주식회사 프레시지 대표이사님 참석을 해 주셨습니다.\\n민간 기업의 대표이사가 우리 청와대 수보회의에 참석한 것은 거의 처음이 아닌가 싶은데, 기업 현장에서 느끼는 생생한 의견들 기탄없이 말씀해 주시기 바랍니다.\\n환영해 주시기 바랍니다.\\n\\n여름이 더욱 깊어지고 있습니다.\\n국민들께서 기다렸던 휴가조차 맘 편히 보내지 못하는 상황에 무척 마음이 무겁습니다.\\n그런 가운데서도 방역에 적극적으로 협력해 주시는 국민들께 감사드리며, 특히 누적된 피로와 폭염 속에서도, 혼신의 힘을 다해 코로나를 통제하고 있는 방역진과 의료진, 일선 공무원들에 대한 감사는 이루 말할 수 없습니다.\\n덕분에 우리는 코로나의 더 큰 확산을 막아내고 있습니다. \\n코로나는 더욱 강해지고 있습니다.\\n지금 전파력이 강한 델타 변이바이러스의 확산으로 세계적으로 확진자 수가 5주 연속 증가하고 있습니다.\\n백신이 해결책이 될 줄 알았는데, 예상과 다른 양상이 나타나고 있습니다.\\n백신 접종에서 앞서가는 나라들도 방역 조치를 완화하자마자 다시 확산이 증가하고, 심지어 접종자 가운데서도 확진자가 증가하는 양상을 보여 방역 전선을 다시 강화하고 있습니다.\\n\\n아직도 인류는 코로나에 대해 모르는 부분이 많습니다.\\n변이도 어디까지 갈지 알 수 없습니다.\\n다만 지금 분명한 것은, 백신이 감염을 막아 주지 못할지라도 위중증률과 치명률을 크게 줄여 주기 때문에 백신 접종이 반드시 필요하다는 사실과 백신 접종과 적절한 방역 조치를 병행해 나가야만 코로나 확산을 억제할 수 있다는 사실입니다. \\n\\n다행히 우리 방역과 의료체계는 충분히 신뢰할 만합니다.\\n지금 이 순간에도 ‘빠르게 찾아내고, 빠르게 치료하는’ K-방역의 우수성은 현장에서 십분 발휘되고 있습니다.\\n숨은 감염자를 조기에 찾아내기 위해 더욱 광범위한 진단검사와 신속한 역학조사를 실시하고 있고, 생활치료센터와 병상 확보에 만전을 기하여 확진자를 신속히 치료하고 있습니다.\\n이 같은 K-방역의 장점이 흔들림 없이 작동되고 고령층 등 고위험군에 대한 백신 접종도 완료되면서 우리나라는 세계에서 가장 낮은 수준의 치명률을 보이고 있습니다.\\n정부는 앞으로도 철저하게 국민의 생명과 안전을 보호하겠습니다.\\n그 토대 위에서 코로나 확산세를 저지하고 상황을 하루속히 반전시키기 위해 총력을 기울이겠습니다.\\n\\n한편으로 백신 접종의 속도를 높이기 위해 최선을 다하겠습니다.\\n내일이면 1차 접종이 2,000만 명을 넘게 될 것입니다. 9월까지 3,600만 명에 대한 1차 접종을 마친다는 계획도 차질없이 진행되고 있습니다.\\n목표를 앞당겨, 추석 연휴 전까지 목표를 달성하고자 합니다.\\n  다음 주부터는 20대부터 40대까지 1,700만 명이 넘는 국민들을 대상으로 사전예약이 시작됩니다.\\n대규모로, 단기간에 예약을 마치기 위해 예약시스템을 정비하고, 10부제 예약으로 불편을 줄이면서 공평한 접종 기회가 보장되도록 최선을 다하겠습니다.\\n전 세계적으로 백신 수급에 불확실성이 있지만 8, 9월 접종을 위한 백신 물량은 차질 없이 도입될 것이며, 국민들께서 더 많이 예약할수록 접종의 속도를 더 낼 수 있을 것입니다.\\n국민들께서는 정부를 믿고 예약과 접종에 적극적으로, 또한 질서 있게 참여해 주시길 당부드립니다.\\n  도쿄올림픽에서 보여 주고 있는 국가대표 선수들의 선전과 아름다운 도전이 코로나 확산과 불볕더위로 지친 국민들께 큰 위로와 감동을 주고 있습니다.\\n메달이나 승패와 관계없이 한계에 도전하며 최선을 다하는 선수들의 모습이 매우 자랑스럽습니다.\\n진정한 스포츠 정신이 무엇인지 유감없이 보여 주고 있는 우리 선수들에게 아낌없는 박수를 보냅니다.\\n올림픽이 끝나는 마지막까지 최선을 다하고 건강하길 바랍니다.\\n\\n스포츠는 상대방에 대한 존중과 배려가 기본 정신입니다.\\n국적, 성별, 인종, 신분, 경제적 상황이나 신체적 조건 등 어떤 이유로도 차별받거나 배제되지 않고, 자유롭고 평등하게 향유할 수 있는 기본적 권리입니다.\\n이 같은 정신과 취지를 담은 ‘스포츠 기본법’이 국회를 통과하여 내일 국무회의에서 공포됩니다.\\n우리 사회의 스포츠 의식과 문화가 한 단계 성숙되는 계기가 되길 기대합니다.\\n스포츠가 어떤 장벽도 없이, 국민 개개인 모두의 건강하고 행복한 삶에 기여할 수 있도록 ‘스포츠 기본법’을 뒷받침하는 실효성 있는 정책을 다각도로 추진해 주기 바랍니다.\\n이것이 진정한 스포츠 강국으로 가는 길이라고 생각합니다.'},\n",
       " {'title': '기계체조 여자 도마 여서정 선수 축전',\n",
       "  'summary': '2020 도쿄올림픽 체조 동메달 획득을 축하합니다. 우리 여자 체조 사상 최초의 올림픽 메달 쾌거입니다. 강한 정신력과 탁월한 기량으로 만든 최고난도의 ‘여서정’ 기술이 아주 멋졌습니다. 여 선수가 장하고 자랑스럽습니다. ‘부녀 올림픽 메달리스트’ 탄생을 축하합니다. 국민들께 새로운 자부심을 선사해 주...',\n",
       "  'date': '2021-08-02',\n",
       "  'url': 'https://www1.president.go.kr/articles/10814',\n",
       "  'body': '2020 도쿄올림픽 체조 동메달 획득을 축하합니다.\\n우리 여자 체조 사상 최초의 올림픽 메달 쾌거입니다.\\n\\n강한 정신력과 탁월한 기량으로 만든 최고난도의 ‘여서정’ 기술이 아주 멋졌습니다.\\n여 선수가 장하고 자랑스럽습니다.\\n‘부녀 올림픽 메달리스트’ 탄생을 축하합니다.\\n\\n국민들께 새로운 자부심을 선사해 주어 고맙습니다.\\n앞으로의 활약을 기대하면서 국민과 함께 늘 응원하겠습니다.\\n\\n\\n2021년 8월 1일\\n대통령 문 재 인'},\n",
       " {'title': '펜싱 사브르 여자 단체 축전',\n",
       "  'summary': '2020 도쿄올림픽 동메달 획득을 축하합니다. 국민들께 큰 기쁨과 용기를 주었습니다. 김 선수는 든든한 맏언니로서, ‘살아있는 전설’다운 최정상의 기량을 보여 주었습니다. 최 선수의 큰 부상을 이겨내고 이뤄낸 성취여서 더욱 값집니다. 윤 선수가 보여 준 놀라운 경기력에 국민들은 아낌없는 박수를 보냈습니다. 서 선수의 승리를 향한...',\n",
       "  'date': '2021-08-01',\n",
       "  'url': 'https://www1.president.go.kr/articles/10813',\n",
       "  'body': '2020 도쿄올림픽 동메달 획득을 축하합니다.\\n국민들께 큰 기쁨과 용기를 주었습니다.\\n\\n김 선수는 든든한 맏언니로서, ‘살아있는 전설’다운 최정상의 기량을 보여 주었습니다.\\n최 선수의 큰 부상을 이겨내고 이뤄낸 성취여서 더욱 값집니다.\\n윤 선수가 보여 준 놀라운 경기력에 국민들은 아낌없는 박수를 보냈습니다.\\n서 선수의 승리를 향한 집념이 결국 대역전극을 만들어냈습니다.\\n\\n그동안의 땀과 노력에 큰 박수를 보냅니다.\\n건강한 모습으로 돌아오길 기원합니다.\\n\\n  2021년 8월 1일\\n대통령 문 재 인'},\n",
       " {'title': '양궁 여자 개인 안 산 선수 축전',\n",
       "  'summary': '2020 도쿄올림픽 3관왕을 축하합니다. 하계 올림픽 한국 선수 최초 3관왕의 첫 역사를 세계 앞에서 썼습니다. 안 선수가 보여 준 경기력과 정신력에 국민들 모두 감격하고 아낌없는 박수를 보냈습니다. 안 선수의 자부심이 우리의 자부심입니다. 더 큰 박수로 국민과 함께 응원하겠습니다. 장하고 또 장합니다. 2021년 7월 31일 대통령 문 재 인',\n",
       "  'date': '2021-07-31',\n",
       "  'url': 'https://www1.president.go.kr/articles/10812',\n",
       "  'body': '2020 도쿄올림픽 3관왕을 축하합니다.\\n하계 올림픽 한국 선수 최초 3관왕의 첫 역사를 세계 앞에서 썼습니다.\\n\\n안 선수가 보여 준 경기력과 정신력에 국민들 모두 감격하고 아낌없는 박수를 보냈습니다.\\n\\n안 선수의 자부심이 우리의 자부심입니다.\\n더 큰 박수로 국민과 함께 응원하겠습니다.\\n장하고 또 장합니다.\\n\\n\\n2021년 7월 31일\\n대통령 문 재 인'},\n",
       " {'title': '펜싱 에페 남자 단체 축전',\n",
       "  'summary': '2020 도쿄올림픽 동메달 획득을 축하합니다. 팀의 든든한 맏형으로 빛나는 결과를 이끌어낸 권 선수가 자랑스럽습니다. 송 선수의 민첩한 경기력에 국민들은 아낌없는 박수를 보냈습니다. 마 선수의 저돌적인 경기력이 시원한 승리를 만들어냈습니다. 박 선수의 ‘할 수 있다’는 자신감이 승리를 이끌었습니다. 권 선수, 송 선수, 마 선...',\n",
       "  'date': '2021-07-31',\n",
       "  'url': 'https://www1.president.go.kr/articles/10811',\n",
       "  'body': '2020 도쿄올림픽 동메달 획득을 축하합니다.\\n\\n팀의 든든한 맏형으로 빛나는 결과를 이끌어낸 권 선수가 자랑스럽습니다.\\n송 선수의 민첩한 경기력에 국민들은 아낌없는 박수를 보냈습니다.\\n마 선수의 저돌적인 경기력이 시원한 승리를 만들어냈습니다.\\n박 선수의 ‘할 수 있다’는 자신감이 승리를 이끌었습니다.\\n\\n권 선수, 송 선수, 마 선수, 박 선수의 열정과 도전을 국민과 함께 응원합니다.\\n\\n\\n2021년 7월 31일\\n대통령 문 재 인\\n '},\n",
       " {'title': '사격 여자 권총 김민정 선수 축전',\n",
       "  'summary': '2020 도쿄올림픽 사격 은메달 획득을 축하합니다. 김 선수가 보여 준 경기력과, 긍정과 낙관으로 만든 빛나는 성과에 국민들은 큰 박수를 보냈습니다. 자랑스럽습니다. 앞으로의 도전도 국민과 함께 응원하겠습니다.   2021년 7월 31일 대통령 문 재 인',\n",
       "  'date': '2021-07-31',\n",
       "  'url': 'https://www1.president.go.kr/articles/10810',\n",
       "  'body': '2020 도쿄올림픽 사격 은메달 획득을 축하합니다.\\n\\n김 선수가 보여 준 경기력과, 긍정과 낙관으로 만든 빛나는 성과에 국민들은 큰 박수를 보냈습니다.\\n\\n자랑스럽습니다. 앞으로의 도전도 국민과 함께 응원하겠습니다.\\n\\n  2021년 7월 31일\\n대통령 문 재 인'}]"
      ]
     },
     "execution_count": 93,
     "metadata": {},
     "output_type": "execute_result"
    }
   ],
   "source": [
    "speech_list"
   ]
  },
  {
   "cell_type": "code",
   "execution_count": 94,
   "id": "6df27e13-e4db-48d5-9981-6ef34e91f617",
   "metadata": {
    "slideshow": {
     "slide_type": "subslide"
    }
   },
   "outputs": [
    {
     "data": {
      "text/html": [
       "<div>\n",
       "<style scoped>\n",
       "    .dataframe tbody tr th:only-of-type {\n",
       "        vertical-align: middle;\n",
       "    }\n",
       "\n",
       "    .dataframe tbody tr th {\n",
       "        vertical-align: top;\n",
       "    }\n",
       "\n",
       "    .dataframe thead th {\n",
       "        text-align: right;\n",
       "    }\n",
       "</style>\n",
       "<table border=\"1\" class=\"dataframe\">\n",
       "  <thead>\n",
       "    <tr style=\"text-align: right;\">\n",
       "      <th></th>\n",
       "      <th>title</th>\n",
       "      <th>summary</th>\n",
       "      <th>date</th>\n",
       "      <th>url</th>\n",
       "      <th>body</th>\n",
       "    </tr>\n",
       "  </thead>\n",
       "  <tbody>\n",
       "    <tr>\n",
       "      <th>0</th>\n",
       "      <td>수석보좌관회의 모두발언</td>\n",
       "      <td>오늘 외부 전문가로 김용익 건보공단 이사장님, 그다음에 김선민 건보심사평가원 원...</td>\n",
       "      <td>2021-08-09</td>\n",
       "      <td>https://www1.president.go.kr/articles/10852</td>\n",
       "      <td>\\n\\n오늘 외부 전문가로 김용익 건보공단 이사장님, 그다음에 김선민 건보심사평가...</td>\n",
       "    </tr>\n",
       "    <tr>\n",
       "      <th>1</th>\n",
       "      <td>갈고닦은 기량을 마음껏 펼쳐준 대한민국 선수들과 코치진 그리고 아낌없는 응원을 보내...</td>\n",
       "      <td>도쿄올림픽이 끝났습니다.  갈고닦은 기량을 마음껏 펼쳐준 대한민국 선수들과 코치진 ...</td>\n",
       "      <td>2021-08-08</td>\n",
       "      <td>https://www1.president.go.kr/articles/10849</td>\n",
       "      <td>도쿄올림픽이 끝났습니다. \\n갈고닦은 기량을 마음껏 펼쳐준 대한민국 선수들과 코치진...</td>\n",
       "    </tr>\n",
       "    <tr>\n",
       "      <th>2</th>\n",
       "      <td>근대5종 남자 개인전 전웅태 선수 축전</td>\n",
       "      <td>근대5종 남자 개인전 전웅태 선수   2020 도쿄올림픽 동메달 획득을 축하합니...</td>\n",
       "      <td>2021-08-08</td>\n",
       "      <td>https://www1.president.go.kr/articles/10848</td>\n",
       "      <td>근대5종 남자 개인전 전웅태 선수\\n  2020 도쿄올림픽 동메달 획득을 축하합...</td>\n",
       "    </tr>\n",
       "    <tr>\n",
       "      <th>3</th>\n",
       "      <td>우리 여자 배구 선수들이 도쿄올림픽에서 특별한 감동을 주었습니다</td>\n",
       "      <td>우리 여자 배구 선수들이 도쿄올림픽에서 특별한 감동을 주었습니다.  원팀의 힘으로 ...</td>\n",
       "      <td>2021-08-08</td>\n",
       "      <td>https://www1.president.go.kr/articles/10847</td>\n",
       "      <td>우리 여자 배구 선수들이 도쿄올림픽에서 특별한 감동을 주었습니다. \\n원팀의 힘으로...</td>\n",
       "    </tr>\n",
       "    <tr>\n",
       "      <th>4</th>\n",
       "      <td>폭염 대응 소방관서 격려 방문 모두발언</td>\n",
       "      <td>인력 2만 명 증원, 그리고 지금 진행되고 있습니다만 국립소방병원 건립 이런 약속들...</td>\n",
       "      <td>2021-08-06</td>\n",
       "      <td>https://www1.president.go.kr/articles/10843</td>\n",
       "      <td>인력 2만 명 증원, 그리고 지금 진행되고 있습니다만 국립소방병원 건립 이런 약속들...</td>\n",
       "    </tr>\n",
       "    <tr>\n",
       "      <th>5</th>\n",
       "      <td>K-글로벌 백신 허브화 비전 및 전략 보고대회 모두발언</td>\n",
       "      <td>국무총리를 위원장으로 하는 민관합동 ‘글로벌 백신 허브화 추진위원회’가 출범해 오늘...</td>\n",
       "      <td>2021-08-05</td>\n",
       "      <td>https://www1.president.go.kr/articles/10834</td>\n",
       "      <td>국무총리를 위원장으로 하는 민관합동 ‘글로벌 백신 허브화 추진위원회’가 출범해 오늘...</td>\n",
       "    </tr>\n",
       "    <tr>\n",
       "      <th>6</th>\n",
       "      <td>배드민턴 여자 복식 국가대표 선수 축전</td>\n",
       "      <td>2020 도쿄올림픽 동메달 획득을 축하합니다. 함께 경기한 네 선수 모두 최선을 다...</td>\n",
       "      <td>2021-08-03</td>\n",
       "      <td>https://www1.president.go.kr/articles/10826</td>\n",
       "      <td>2020 도쿄올림픽 동메달 획득을 축하합니다.\\n함께 경기한 네 선수 모두 최선을 ...</td>\n",
       "    </tr>\n",
       "    <tr>\n",
       "      <th>7</th>\n",
       "      <td>기계체조 남자 도마 신재환 선수 축전</td>\n",
       "      <td>2020 도쿄올림픽 금메달 획득을 축하합니다. 대한민국을 가장 높은 지점에서 빛내 ...</td>\n",
       "      <td>2021-08-03</td>\n",
       "      <td>https://www1.president.go.kr/articles/10825</td>\n",
       "      <td>2020 도쿄올림픽 금메달 획득을 축하합니다.\\n대한민국을 가장 높은 지점에서 빛내...</td>\n",
       "    </tr>\n",
       "    <tr>\n",
       "      <th>8</th>\n",
       "      <td>제34회 국무회의 모두발언</td>\n",
       "      <td>제34회 국무회의를 시작하겠습니다. 코로나 위기 속에서 국민들은 여전히 힘겨운 시기...</td>\n",
       "      <td>2021-08-03</td>\n",
       "      <td>https://www1.president.go.kr/articles/10821</td>\n",
       "      <td>제34회 국무회의를 시작하겠습니다.\\n\\n코로나 위기 속에서 국민들은 여전히 힘겨운...</td>\n",
       "    </tr>\n",
       "    <tr>\n",
       "      <th>9</th>\n",
       "      <td>수석보좌관회의 모두발언</td>\n",
       "      <td>오늘 외부 전문가로 우리 권기홍 동반성장위원회 위원장님 그리고 또 정중교 주식회사 ...</td>\n",
       "      <td>2021-08-02</td>\n",
       "      <td>https://www1.president.go.kr/articles/10815</td>\n",
       "      <td>오늘 외부 전문가로 우리 권기홍 동반성장위원회 위원장님 그리고 또 정중교 주식회사 ...</td>\n",
       "    </tr>\n",
       "    <tr>\n",
       "      <th>10</th>\n",
       "      <td>기계체조 여자 도마 여서정 선수 축전</td>\n",
       "      <td>2020 도쿄올림픽 체조 동메달 획득을 축하합니다. 우리 여자 체조 사상 최초의 올...</td>\n",
       "      <td>2021-08-02</td>\n",
       "      <td>https://www1.president.go.kr/articles/10814</td>\n",
       "      <td>2020 도쿄올림픽 체조 동메달 획득을 축하합니다.\\n우리 여자 체조 사상 최초의 ...</td>\n",
       "    </tr>\n",
       "    <tr>\n",
       "      <th>11</th>\n",
       "      <td>펜싱 사브르 여자 단체 축전</td>\n",
       "      <td>2020 도쿄올림픽 동메달 획득을 축하합니다. 국민들께 큰 기쁨과 용기를 주었습니다...</td>\n",
       "      <td>2021-08-01</td>\n",
       "      <td>https://www1.president.go.kr/articles/10813</td>\n",
       "      <td>2020 도쿄올림픽 동메달 획득을 축하합니다.\\n국민들께 큰 기쁨과 용기를 주었습니...</td>\n",
       "    </tr>\n",
       "    <tr>\n",
       "      <th>12</th>\n",
       "      <td>양궁 여자 개인 안 산 선수 축전</td>\n",
       "      <td>2020 도쿄올림픽 3관왕을 축하합니다. 하계 올림픽 한국 선수 최초 3관왕의 첫 ...</td>\n",
       "      <td>2021-07-31</td>\n",
       "      <td>https://www1.president.go.kr/articles/10812</td>\n",
       "      <td>2020 도쿄올림픽 3관왕을 축하합니다.\\n하계 올림픽 한국 선수 최초 3관왕의 첫...</td>\n",
       "    </tr>\n",
       "    <tr>\n",
       "      <th>13</th>\n",
       "      <td>펜싱 에페 남자 단체 축전</td>\n",
       "      <td>2020 도쿄올림픽 동메달 획득을 축하합니다. 팀의 든든한 맏형으로 빛나는 결과를 ...</td>\n",
       "      <td>2021-07-31</td>\n",
       "      <td>https://www1.president.go.kr/articles/10811</td>\n",
       "      <td>2020 도쿄올림픽 동메달 획득을 축하합니다.\\n\\n팀의 든든한 맏형으로 빛나는 결...</td>\n",
       "    </tr>\n",
       "    <tr>\n",
       "      <th>14</th>\n",
       "      <td>사격 여자 권총 김민정 선수 축전</td>\n",
       "      <td>2020 도쿄올림픽 사격 은메달 획득을 축하합니다. 김 선수가 보여 준 경기력과, ...</td>\n",
       "      <td>2021-07-31</td>\n",
       "      <td>https://www1.president.go.kr/articles/10810</td>\n",
       "      <td>2020 도쿄올림픽 사격 은메달 획득을 축하합니다.\\n\\n김 선수가 보여 준 경기력...</td>\n",
       "    </tr>\n",
       "  </tbody>\n",
       "</table>\n",
       "</div>"
      ],
      "text/plain": [
       "                                                title  \\\n",
       "0                                        수석보좌관회의 모두발언   \n",
       "1   갈고닦은 기량을 마음껏 펼쳐준 대한민국 선수들과 코치진 그리고 아낌없는 응원을 보내...   \n",
       "2                               근대5종 남자 개인전 전웅태 선수 축전   \n",
       "3                 우리 여자 배구 선수들이 도쿄올림픽에서 특별한 감동을 주었습니다   \n",
       "4                               폭염 대응 소방관서 격려 방문 모두발언   \n",
       "5                      K-글로벌 백신 허브화 비전 및 전략 보고대회 모두발언   \n",
       "6                               배드민턴 여자 복식 국가대표 선수 축전   \n",
       "7                                기계체조 남자 도마 신재환 선수 축전   \n",
       "8                                      제34회 국무회의 모두발언   \n",
       "9                                        수석보좌관회의 모두발언   \n",
       "10                               기계체조 여자 도마 여서정 선수 축전   \n",
       "11                                    펜싱 사브르 여자 단체 축전   \n",
       "12                                 양궁 여자 개인 안 산 선수 축전   \n",
       "13                                     펜싱 에페 남자 단체 축전   \n",
       "14                                 사격 여자 권총 김민정 선수 축전   \n",
       "\n",
       "                                              summary        date  \\\n",
       "0     오늘 외부 전문가로 김용익 건보공단 이사장님, 그다음에 김선민 건보심사평가원 원...  2021-08-09   \n",
       "1   도쿄올림픽이 끝났습니다.  갈고닦은 기량을 마음껏 펼쳐준 대한민국 선수들과 코치진 ...  2021-08-08   \n",
       "2     근대5종 남자 개인전 전웅태 선수   2020 도쿄올림픽 동메달 획득을 축하합니...  2021-08-08   \n",
       "3   우리 여자 배구 선수들이 도쿄올림픽에서 특별한 감동을 주었습니다.  원팀의 힘으로 ...  2021-08-08   \n",
       "4   인력 2만 명 증원, 그리고 지금 진행되고 있습니다만 국립소방병원 건립 이런 약속들...  2021-08-06   \n",
       "5   국무총리를 위원장으로 하는 민관합동 ‘글로벌 백신 허브화 추진위원회’가 출범해 오늘...  2021-08-05   \n",
       "6   2020 도쿄올림픽 동메달 획득을 축하합니다. 함께 경기한 네 선수 모두 최선을 다...  2021-08-03   \n",
       "7   2020 도쿄올림픽 금메달 획득을 축하합니다. 대한민국을 가장 높은 지점에서 빛내 ...  2021-08-03   \n",
       "8   제34회 국무회의를 시작하겠습니다. 코로나 위기 속에서 국민들은 여전히 힘겨운 시기...  2021-08-03   \n",
       "9   오늘 외부 전문가로 우리 권기홍 동반성장위원회 위원장님 그리고 또 정중교 주식회사 ...  2021-08-02   \n",
       "10  2020 도쿄올림픽 체조 동메달 획득을 축하합니다. 우리 여자 체조 사상 최초의 올...  2021-08-02   \n",
       "11  2020 도쿄올림픽 동메달 획득을 축하합니다. 국민들께 큰 기쁨과 용기를 주었습니다...  2021-08-01   \n",
       "12  2020 도쿄올림픽 3관왕을 축하합니다. 하계 올림픽 한국 선수 최초 3관왕의 첫 ...  2021-07-31   \n",
       "13  2020 도쿄올림픽 동메달 획득을 축하합니다. 팀의 든든한 맏형으로 빛나는 결과를 ...  2021-07-31   \n",
       "14  2020 도쿄올림픽 사격 은메달 획득을 축하합니다. 김 선수가 보여 준 경기력과, ...  2021-07-31   \n",
       "\n",
       "                                            url  \\\n",
       "0   https://www1.president.go.kr/articles/10852   \n",
       "1   https://www1.president.go.kr/articles/10849   \n",
       "2   https://www1.president.go.kr/articles/10848   \n",
       "3   https://www1.president.go.kr/articles/10847   \n",
       "4   https://www1.president.go.kr/articles/10843   \n",
       "5   https://www1.president.go.kr/articles/10834   \n",
       "6   https://www1.president.go.kr/articles/10826   \n",
       "7   https://www1.president.go.kr/articles/10825   \n",
       "8   https://www1.president.go.kr/articles/10821   \n",
       "9   https://www1.president.go.kr/articles/10815   \n",
       "10  https://www1.president.go.kr/articles/10814   \n",
       "11  https://www1.president.go.kr/articles/10813   \n",
       "12  https://www1.president.go.kr/articles/10812   \n",
       "13  https://www1.president.go.kr/articles/10811   \n",
       "14  https://www1.president.go.kr/articles/10810   \n",
       "\n",
       "                                                 body  \n",
       "0    \\n\\n오늘 외부 전문가로 김용익 건보공단 이사장님, 그다음에 김선민 건보심사평가...  \n",
       "1   도쿄올림픽이 끝났습니다. \\n갈고닦은 기량을 마음껏 펼쳐준 대한민국 선수들과 코치진...  \n",
       "2     근대5종 남자 개인전 전웅태 선수\\n  2020 도쿄올림픽 동메달 획득을 축하합...  \n",
       "3   우리 여자 배구 선수들이 도쿄올림픽에서 특별한 감동을 주었습니다. \\n원팀의 힘으로...  \n",
       "4   인력 2만 명 증원, 그리고 지금 진행되고 있습니다만 국립소방병원 건립 이런 약속들...  \n",
       "5   국무총리를 위원장으로 하는 민관합동 ‘글로벌 백신 허브화 추진위원회’가 출범해 오늘...  \n",
       "6   2020 도쿄올림픽 동메달 획득을 축하합니다.\\n함께 경기한 네 선수 모두 최선을 ...  \n",
       "7   2020 도쿄올림픽 금메달 획득을 축하합니다.\\n대한민국을 가장 높은 지점에서 빛내...  \n",
       "8   제34회 국무회의를 시작하겠습니다.\\n\\n코로나 위기 속에서 국민들은 여전히 힘겨운...  \n",
       "9   오늘 외부 전문가로 우리 권기홍 동반성장위원회 위원장님 그리고 또 정중교 주식회사 ...  \n",
       "10  2020 도쿄올림픽 체조 동메달 획득을 축하합니다.\\n우리 여자 체조 사상 최초의 ...  \n",
       "11  2020 도쿄올림픽 동메달 획득을 축하합니다.\\n국민들께 큰 기쁨과 용기를 주었습니...  \n",
       "12  2020 도쿄올림픽 3관왕을 축하합니다.\\n하계 올림픽 한국 선수 최초 3관왕의 첫...  \n",
       "13  2020 도쿄올림픽 동메달 획득을 축하합니다.\\n\\n팀의 든든한 맏형으로 빛나는 결...  \n",
       "14  2020 도쿄올림픽 사격 은메달 획득을 축하합니다.\\n\\n김 선수가 보여 준 경기력...  "
      ]
     },
     "execution_count": 94,
     "metadata": {},
     "output_type": "execute_result"
    }
   ],
   "source": [
    "speech_df = pd.DataFrame(speech_list)\n",
    "speech_df"
   ]
  },
  {
   "cell_type": "code",
   "execution_count": 96,
   "id": "1cf4171f",
   "metadata": {
    "slideshow": {
     "slide_type": "fragment"
    }
   },
   "outputs": [],
   "source": [
    "speech_df = pd.DataFrame(speech_list)\n",
    "speech_df.to_csv('president_speech_fulltext.csv', encoding='utf-8')"
   ]
  },
  {
   "cell_type": "markdown",
   "id": "ba78c7f5",
   "metadata": {
    "slideshow": {
     "slide_type": "slide"
    }
   },
   "source": [
    "# 8. 다음 페이지로 넘어가는 방법: Pagination  \n",
    "\n"
   ]
  },
  {
   "cell_type": "markdown",
   "id": "3c20f9f2",
   "metadata": {
    "slideshow": {
     "slide_type": "fragment"
    }
   },
   "source": [
    "짧은 시간에 페이지 호출을 너무 많이 하게 되면 서버에서 접속을 차단할 수도 있음"
   ]
  },
  {
   "cell_type": "markdown",
   "id": "2884b2d4",
   "metadata": {
    "slideshow": {
     "slide_type": "subslide"
    }
   },
   "source": [
    "## 8-1. 비효율적인 방법"
   ]
  },
  {
   "cell_type": "code",
   "execution_count": 17,
   "id": "19bb1d40",
   "metadata": {
    "slideshow": {
     "slide_type": "fragment"
    }
   },
   "outputs": [],
   "source": [
    "from selenium import webdriver\n",
    "import pandas as pd\n",
    "\n",
    "driver = webdriver.Chrome('./chromedriver')\n",
    "url = 'https://www1.president.go.kr/c/president-speeches'\n",
    "driver.get(url)"
   ]
  },
  {
   "cell_type": "code",
   "execution_count": 18,
   "id": "6c366567",
   "metadata": {
    "slideshow": {
     "slide_type": "fragment"
    }
   },
   "outputs": [],
   "source": [
    "page_2_button = driver.find_element_by_xpath('//*[@id=\"cont_view\"]/div[2]/div/div[4]/div/div[1]/a[2]')\n",
    "page_2_button.click()"
   ]
  },
  {
   "cell_type": "code",
   "execution_count": 21,
   "id": "dfda5c6b",
   "metadata": {
    "slideshow": {
     "slide_type": "fragment"
    }
   },
   "outputs": [],
   "source": [
    "page_2_button = driver.find_element_by_xpath('//*[@id=\"cont_view\"]/div[2]/div/div[4]/div/div[1]/a[2]')\n",
    "page_2_button.click()\n",
    "driver.execute_script(\"window.scrollTo(0, document.body.scrollHeight)\")"
   ]
  },
  {
   "cell_type": "markdown",
   "id": "ccdeef41",
   "metadata": {
    "slideshow": {
     "slide_type": "fragment"
    }
   },
   "source": [
    "* page2: //*[@id=\"cont_view\"]/div[2]/div/div[4]/div/div[1]/a[2]\n",
    "\n",
    "//*[@id=\"cont_view\"]/div[2]/div/div[4]/div/div[2]/a[2]\n",
    "\n",
    "* page3: //*[@id=\"cont_view\"]/div[2]/div/div[4]/div/div[1]/a[3]\n",
    "* page3: //*[@id=\"cont_view\"]/div[2]/div/div[4]/div/div[1]/a[4]\n",
    "\n",
    "//*[@id=\"cont_view\"]/div[2]/div/div[4]/div/div[1]/a[4]\n",
    "//*[@id=\"cont_view\"]/div[2]/div/div[4]/div/div[3]/a\n",
    "\n",
    "\n",
    "* Next: //*[@id=\"cont_view\"]/div[2]/div/div[4]/div/div[2]/a"
   ]
  },
  {
   "cell_type": "code",
   "execution_count": 22,
   "id": "56f9d675",
   "metadata": {
    "slideshow": {
     "slide_type": "subslide"
    }
   },
   "outputs": [],
   "source": [
    "import time\n",
    "\n",
    "for page_n in range(2,11):\n",
    "    page_button = driver.find_element_by_xpath(f'//*[@id=\"cont_view\"]/div[2]/div/div[4]/div/div[1]/a[{page_n}]')\n",
    "    page_button.click()\n",
    "    driver.execute_script(\"window.scrollTo(0, document.body.scrollHeight)\")\n",
    "    time.sleep(2)"
   ]
  },
  {
   "cell_type": "code",
   "execution_count": 23,
   "id": "a9b91023",
   "metadata": {
    "slideshow": {
     "slide_type": "subslide"
    }
   },
   "outputs": [
    {
     "ename": "NoSuchElementException",
     "evalue": "Message: no such element: Unable to locate element: {\"method\":\"xpath\",\"selector\":\"//*[@id=\"cont_view\"]/div[2]/div/div[4]/div/div[1]/a[2]\"}\n  (Session info: chrome=92.0.4515.131)\n",
     "output_type": "error",
     "traceback": [
      "\u001b[1;31m---------------------------------------------------------------------------\u001b[0m",
      "\u001b[1;31mNoSuchElementException\u001b[0m                    Traceback (most recent call last)",
      "\u001b[1;32m<ipython-input-23-22f58d5cc4ab>\u001b[0m in \u001b[0;36m<module>\u001b[1;34m\u001b[0m\n\u001b[0;32m      1\u001b[0m \u001b[1;32mfor\u001b[0m \u001b[0mpage_10_n\u001b[0m \u001b[1;32min\u001b[0m \u001b[0mrange\u001b[0m\u001b[1;33m(\u001b[0m\u001b[1;36m1\u001b[0m\u001b[1;33m,\u001b[0m \u001b[1;36m3\u001b[0m\u001b[1;33m)\u001b[0m\u001b[1;33m:\u001b[0m\u001b[1;33m\u001b[0m\u001b[1;33m\u001b[0m\u001b[0m\n\u001b[0;32m      2\u001b[0m     \u001b[1;32mfor\u001b[0m \u001b[0mpage_n\u001b[0m \u001b[1;32min\u001b[0m \u001b[0mrange\u001b[0m\u001b[1;33m(\u001b[0m\u001b[1;36m2\u001b[0m\u001b[1;33m,\u001b[0m\u001b[1;36m11\u001b[0m\u001b[1;33m)\u001b[0m\u001b[1;33m:\u001b[0m\u001b[1;33m\u001b[0m\u001b[1;33m\u001b[0m\u001b[0m\n\u001b[1;32m----> 3\u001b[1;33m         \u001b[0mpage_button\u001b[0m \u001b[1;33m=\u001b[0m \u001b[0mdriver\u001b[0m\u001b[1;33m.\u001b[0m\u001b[0mfind_element_by_xpath\u001b[0m\u001b[1;33m(\u001b[0m\u001b[1;34mf'//*[@id=\"cont_view\"]/div[2]/div/div[4]/div/div[1]/a[{page_n}]'\u001b[0m\u001b[1;33m)\u001b[0m\u001b[1;33m\u001b[0m\u001b[1;33m\u001b[0m\u001b[0m\n\u001b[0m\u001b[0;32m      4\u001b[0m         \u001b[0mpage_button\u001b[0m\u001b[1;33m.\u001b[0m\u001b[0mclick\u001b[0m\u001b[1;33m(\u001b[0m\u001b[1;33m)\u001b[0m\u001b[1;33m\u001b[0m\u001b[1;33m\u001b[0m\u001b[0m\n\u001b[0;32m      5\u001b[0m         \u001b[0mdriver\u001b[0m\u001b[1;33m.\u001b[0m\u001b[0mexecute_script\u001b[0m\u001b[1;33m(\u001b[0m\u001b[1;34m\"window.scrollTo(0, document.body.scrollHeight)\"\u001b[0m\u001b[1;33m)\u001b[0m\u001b[1;33m\u001b[0m\u001b[1;33m\u001b[0m\u001b[0m\n",
      "\u001b[1;32m~\\miniconda3\\envs\\web\\lib\\site-packages\\selenium\\webdriver\\remote\\webdriver.py\u001b[0m in \u001b[0;36mfind_element_by_xpath\u001b[1;34m(self, xpath)\u001b[0m\n\u001b[0;32m    392\u001b[0m             \u001b[0melement\u001b[0m \u001b[1;33m=\u001b[0m \u001b[0mdriver\u001b[0m\u001b[1;33m.\u001b[0m\u001b[0mfind_element_by_xpath\u001b[0m\u001b[1;33m(\u001b[0m\u001b[1;34m'//div/td[1]'\u001b[0m\u001b[1;33m)\u001b[0m\u001b[1;33m\u001b[0m\u001b[1;33m\u001b[0m\u001b[0m\n\u001b[0;32m    393\u001b[0m         \"\"\"\n\u001b[1;32m--> 394\u001b[1;33m         \u001b[1;32mreturn\u001b[0m \u001b[0mself\u001b[0m\u001b[1;33m.\u001b[0m\u001b[0mfind_element\u001b[0m\u001b[1;33m(\u001b[0m\u001b[0mby\u001b[0m\u001b[1;33m=\u001b[0m\u001b[0mBy\u001b[0m\u001b[1;33m.\u001b[0m\u001b[0mXPATH\u001b[0m\u001b[1;33m,\u001b[0m \u001b[0mvalue\u001b[0m\u001b[1;33m=\u001b[0m\u001b[0mxpath\u001b[0m\u001b[1;33m)\u001b[0m\u001b[1;33m\u001b[0m\u001b[1;33m\u001b[0m\u001b[0m\n\u001b[0m\u001b[0;32m    395\u001b[0m \u001b[1;33m\u001b[0m\u001b[0m\n\u001b[0;32m    396\u001b[0m     \u001b[1;32mdef\u001b[0m \u001b[0mfind_elements_by_xpath\u001b[0m\u001b[1;33m(\u001b[0m\u001b[0mself\u001b[0m\u001b[1;33m,\u001b[0m \u001b[0mxpath\u001b[0m\u001b[1;33m)\u001b[0m\u001b[1;33m:\u001b[0m\u001b[1;33m\u001b[0m\u001b[1;33m\u001b[0m\u001b[0m\n",
      "\u001b[1;32m~\\miniconda3\\envs\\web\\lib\\site-packages\\selenium\\webdriver\\remote\\webdriver.py\u001b[0m in \u001b[0;36mfind_element\u001b[1;34m(self, by, value)\u001b[0m\n\u001b[0;32m    974\u001b[0m                 \u001b[0mby\u001b[0m \u001b[1;33m=\u001b[0m \u001b[0mBy\u001b[0m\u001b[1;33m.\u001b[0m\u001b[0mCSS_SELECTOR\u001b[0m\u001b[1;33m\u001b[0m\u001b[1;33m\u001b[0m\u001b[0m\n\u001b[0;32m    975\u001b[0m                 \u001b[0mvalue\u001b[0m \u001b[1;33m=\u001b[0m \u001b[1;34m'[name=\"%s\"]'\u001b[0m \u001b[1;33m%\u001b[0m \u001b[0mvalue\u001b[0m\u001b[1;33m\u001b[0m\u001b[1;33m\u001b[0m\u001b[0m\n\u001b[1;32m--> 976\u001b[1;33m         return self.execute(Command.FIND_ELEMENT, {\n\u001b[0m\u001b[0;32m    977\u001b[0m             \u001b[1;34m'using'\u001b[0m\u001b[1;33m:\u001b[0m \u001b[0mby\u001b[0m\u001b[1;33m,\u001b[0m\u001b[1;33m\u001b[0m\u001b[1;33m\u001b[0m\u001b[0m\n\u001b[0;32m    978\u001b[0m             'value': value})['value']\n",
      "\u001b[1;32m~\\miniconda3\\envs\\web\\lib\\site-packages\\selenium\\webdriver\\remote\\webdriver.py\u001b[0m in \u001b[0;36mexecute\u001b[1;34m(self, driver_command, params)\u001b[0m\n\u001b[0;32m    319\u001b[0m         \u001b[0mresponse\u001b[0m \u001b[1;33m=\u001b[0m \u001b[0mself\u001b[0m\u001b[1;33m.\u001b[0m\u001b[0mcommand_executor\u001b[0m\u001b[1;33m.\u001b[0m\u001b[0mexecute\u001b[0m\u001b[1;33m(\u001b[0m\u001b[0mdriver_command\u001b[0m\u001b[1;33m,\u001b[0m \u001b[0mparams\u001b[0m\u001b[1;33m)\u001b[0m\u001b[1;33m\u001b[0m\u001b[1;33m\u001b[0m\u001b[0m\n\u001b[0;32m    320\u001b[0m         \u001b[1;32mif\u001b[0m \u001b[0mresponse\u001b[0m\u001b[1;33m:\u001b[0m\u001b[1;33m\u001b[0m\u001b[1;33m\u001b[0m\u001b[0m\n\u001b[1;32m--> 321\u001b[1;33m             \u001b[0mself\u001b[0m\u001b[1;33m.\u001b[0m\u001b[0merror_handler\u001b[0m\u001b[1;33m.\u001b[0m\u001b[0mcheck_response\u001b[0m\u001b[1;33m(\u001b[0m\u001b[0mresponse\u001b[0m\u001b[1;33m)\u001b[0m\u001b[1;33m\u001b[0m\u001b[1;33m\u001b[0m\u001b[0m\n\u001b[0m\u001b[0;32m    322\u001b[0m             response['value'] = self._unwrap_value(\n\u001b[0;32m    323\u001b[0m                 response.get('value', None))\n",
      "\u001b[1;32m~\\miniconda3\\envs\\web\\lib\\site-packages\\selenium\\webdriver\\remote\\errorhandler.py\u001b[0m in \u001b[0;36mcheck_response\u001b[1;34m(self, response)\u001b[0m\n\u001b[0;32m    240\u001b[0m                 \u001b[0malert_text\u001b[0m \u001b[1;33m=\u001b[0m \u001b[0mvalue\u001b[0m\u001b[1;33m[\u001b[0m\u001b[1;34m'alert'\u001b[0m\u001b[1;33m]\u001b[0m\u001b[1;33m.\u001b[0m\u001b[0mget\u001b[0m\u001b[1;33m(\u001b[0m\u001b[1;34m'text'\u001b[0m\u001b[1;33m)\u001b[0m\u001b[1;33m\u001b[0m\u001b[1;33m\u001b[0m\u001b[0m\n\u001b[0;32m    241\u001b[0m             \u001b[1;32mraise\u001b[0m \u001b[0mexception_class\u001b[0m\u001b[1;33m(\u001b[0m\u001b[0mmessage\u001b[0m\u001b[1;33m,\u001b[0m \u001b[0mscreen\u001b[0m\u001b[1;33m,\u001b[0m \u001b[0mstacktrace\u001b[0m\u001b[1;33m,\u001b[0m \u001b[0malert_text\u001b[0m\u001b[1;33m)\u001b[0m\u001b[1;33m\u001b[0m\u001b[1;33m\u001b[0m\u001b[0m\n\u001b[1;32m--> 242\u001b[1;33m         \u001b[1;32mraise\u001b[0m \u001b[0mexception_class\u001b[0m\u001b[1;33m(\u001b[0m\u001b[0mmessage\u001b[0m\u001b[1;33m,\u001b[0m \u001b[0mscreen\u001b[0m\u001b[1;33m,\u001b[0m \u001b[0mstacktrace\u001b[0m\u001b[1;33m)\u001b[0m\u001b[1;33m\u001b[0m\u001b[1;33m\u001b[0m\u001b[0m\n\u001b[0m\u001b[0;32m    243\u001b[0m \u001b[1;33m\u001b[0m\u001b[0m\n\u001b[0;32m    244\u001b[0m     \u001b[1;32mdef\u001b[0m \u001b[0m_value_or_default\u001b[0m\u001b[1;33m(\u001b[0m\u001b[0mself\u001b[0m\u001b[1;33m,\u001b[0m \u001b[0mobj\u001b[0m\u001b[1;33m,\u001b[0m \u001b[0mkey\u001b[0m\u001b[1;33m,\u001b[0m \u001b[0mdefault\u001b[0m\u001b[1;33m)\u001b[0m\u001b[1;33m:\u001b[0m\u001b[1;33m\u001b[0m\u001b[1;33m\u001b[0m\u001b[0m\n",
      "\u001b[1;31mNoSuchElementException\u001b[0m: Message: no such element: Unable to locate element: {\"method\":\"xpath\",\"selector\":\"//*[@id=\"cont_view\"]/div[2]/div/div[4]/div/div[1]/a[2]\"}\n  (Session info: chrome=92.0.4515.131)\n"
     ]
    }
   ],
   "source": [
    "for page_10_n in range(1, 3):\n",
    "    for page_n in range(2,11):\n",
    "        page_button = driver.find_element_by_xpath(f'//*[@id=\"cont_view\"]/div[2]/div/div[4]/div/div[1]/a[{page_n}]')\n",
    "        page_button.click()\n",
    "        driver.execute_script(\"window.scrollTo(0, document.body.scrollHeight)\")\n",
    "        time.sleep(2)\n",
    "    page_next_button = driver.find_element_by_xpath('//*[@id=\"cont_view\"]/div[2]/div/div[4]/div/div[2]/a')\n",
    "    page_next_button.click()\n",
    "    driver.execute_script(\"window.scrollTo(0, document.body.scrollHeight)\")\n",
    "    time.sleep(2)"
   ]
  },
  {
   "cell_type": "code",
   "execution_count": null,
   "id": "80d00786",
   "metadata": {
    "slideshow": {
     "slide_type": "subslide"
    }
   },
   "outputs": [],
   "source": [
    "for page_10_n in range(1, 3):\n",
    "    for page_n in range(2,11):\n",
    "        if page_10_n == 1:\n",
    "            page_button = driver.find_element_by_xpath(f'//*[@id=\"cont_view\"]/div[2]/div/div[4]/div/div[1]/a[{page_n}]')\n",
    "        else:\n",
    "            page_button = driver.find_element_by_xpath(f'//*[@id=\"cont_view\"]/div[2]/div/div[4]/div/div[2]/a[{page_n}]')\n",
    "        page_button.click()\n",
    "        driver.execute_script(\"window.scrollTo(0, document.body.scrollHeight)\")\n",
    "        time.sleep(2)\n",
    "    if page_10_n == 1:\n",
    "        page_next_button = driver.find_element_by_xpath('//*[@id=\"cont_view\"]/div[2]/div/div[4]/div/div[2]/a')\n",
    "    else:\n",
    "        page_next_button = driver.find_element_by_xpath('//*[@id=\"cont_view\"]/div[2]/div/div[4]/div/div[3]/a')\n",
    "    page_next_button.click()\n",
    "    driver.execute_script(\"window.scrollTo(0, document.body.scrollHeight)\")\n",
    "    time.sleep(2)"
   ]
  },
  {
   "cell_type": "markdown",
   "id": "4e1c6adc",
   "metadata": {
    "slideshow": {
     "slide_type": "subslide"
    }
   },
   "source": [
    "## 8-2. 조금 더 효율적인 방법"
   ]
  },
  {
   "cell_type": "code",
   "execution_count": null,
   "id": "de1e8177-07a5-430b-b483-cd0aa00370ad",
   "metadata": {
    "slideshow": {
     "slide_type": "fragment"
    }
   },
   "outputs": [],
   "source": [
    "from selenium import webdriver\n",
    "import pandas as pd\n",
    "import time\n",
    "driver = webdriver.Chrome('./chromedriver')"
   ]
  },
  {
   "cell_type": "code",
   "execution_count": null,
   "id": "09e07c37",
   "metadata": {
    "slideshow": {
     "slide_type": "fragment"
    }
   },
   "outputs": [],
   "source": [
    "url = 'https://www1.president.go.kr/c/president-speeches'\n",
    "driver.get(url)"
   ]
  },
  {
   "cell_type": "code",
   "execution_count": 26,
   "id": "2aed425a",
   "metadata": {},
   "outputs": [
    {
     "ename": "TypeError",
     "evalue": "can only concatenate str (not \"int\") to str",
     "output_type": "error",
     "traceback": [
      "\u001b[1;31m---------------------------------------------------------------------------\u001b[0m",
      "\u001b[1;31mTypeError\u001b[0m                                 Traceback (most recent call last)",
      "\u001b[1;32m<ipython-input-26-b599a6d8425d>\u001b[0m in \u001b[0;36m<module>\u001b[1;34m\u001b[0m\n\u001b[0;32m      1\u001b[0m \u001b[0ma\u001b[0m \u001b[1;33m=\u001b[0m \u001b[1;34m'a'\u001b[0m\u001b[1;33m\u001b[0m\u001b[1;33m\u001b[0m\u001b[0m\n\u001b[0;32m      2\u001b[0m \u001b[0mb\u001b[0m \u001b[1;33m=\u001b[0m \u001b[1;36m2\u001b[0m\u001b[1;33m\u001b[0m\u001b[1;33m\u001b[0m\u001b[0m\n\u001b[1;32m----> 3\u001b[1;33m \u001b[0mprint\u001b[0m\u001b[1;33m(\u001b[0m\u001b[0ma\u001b[0m \u001b[1;33m+\u001b[0m \u001b[0mb\u001b[0m\u001b[1;33m)\u001b[0m\u001b[1;33m\u001b[0m\u001b[1;33m\u001b[0m\u001b[0m\n\u001b[0m",
      "\u001b[1;31mTypeError\u001b[0m: can only concatenate str (not \"int\") to str"
     ]
    }
   ],
   "source": [
    "a = 'a'\n",
    "b = 2\n",
    "print(a + b)"
   ]
  },
  {
   "cell_type": "code",
   "execution_count": 24,
   "id": "c4b1bcf1",
   "metadata": {
    "slideshow": {
     "slide_type": "fragment"
    }
   },
   "outputs": [
    {
     "name": "stdout",
     "output_type": "stream",
     "text": [
      "https://www1.president.go.kr/c/president-speeches?page=1\n",
      "https://www1.president.go.kr/c/president-speeches?page=2\n",
      "https://www1.president.go.kr/c/president-speeches?page=3\n"
     ]
    }
   ],
   "source": [
    "url_base = 'https://www1.president.go.kr/c/president-speeches?page='\n",
    "for page_number in range(1,4):\n",
    "    url = url_base + str(page_number)\n",
    "    print(url)"
   ]
  },
  {
   "cell_type": "code",
   "execution_count": 27,
   "id": "565bcb2a-2ccd-4b6f-987e-ab89610420f7",
   "metadata": {
    "slideshow": {
     "slide_type": "subslide"
    }
   },
   "outputs": [],
   "source": [
    "url_base = 'https://www1.president.go.kr/c/president-speeches?page='\n",
    "speech_list = []\n",
    "for page_number in range(1,4):\n",
    "    url = url_base + str(page_number)\n",
    "    driver.get(url)\n",
    "    time.sleep(2)\n",
    "    speech_urls = driver.find_elements_by_css_selector('div.list_txt > a')\n",
    "    speech_titles = driver.find_elements_by_css_selector('div.list_txt_title > h3')\n",
    "    speech_summaries = driver.find_elements_by_css_selector('div.list_txt_cont')\n",
    "    speech_dates = driver.find_elements_by_css_selector('p.list_txt_date')\n",
    "    for n in range(len(speech_dates)):\n",
    "        speech_list.append(\n",
    "            {\n",
    "                'title': speech_titles[n].text,\n",
    "                'summary': speech_summaries[n].text,\n",
    "                'date': speech_dates[n].text,\n",
    "                'url': speech_urls[n].get_attribute('href')\n",
    "            })"
   ]
  },
  {
   "cell_type": "code",
   "execution_count": 28,
   "id": "ce9b8694",
   "metadata": {
    "slideshow": {
     "slide_type": "fragment"
    }
   },
   "outputs": [
    {
     "data": {
      "text/plain": [
       "[{'title': '건강보험 보장성 강화대책 4주년 성과 보고대회 모두발언',\n",
       "  'summary': '존경하는 국민 여러분,  ‘문재인 케어’라고 불린 건강보험 보장성 강화대책 발표 4주년을 맞아 그동안의 성과와 보완 과제를 살펴보는 자리를 마련했습니다. 직접 경험한 사례를 들려주기 위해 도쿄올림픽 태권도 동메달리스트 인교돈 선수와 김성준, 곽동훈, 조은영, 정원희 님이 함께해주셨습니다. 김민석 국회 보건복지위...',\n",
       "  'date': '2021-08-12',\n",
       "  'url': 'https://www1.president.go.kr/articles/10865'},\n",
       " {'title': '수석보좌관회의 모두발언',\n",
       "  'summary': '  오늘 외부 전문가로 김용익 건보공단 이사장님, 그다음에 김선민 건보심사평가원 원장님이 참석해서 토론에 함께해 주시겠습니다. 감사합니다. 박수로 맞아주시기 바랍니다. 코로나 확산세가 좀처럼 꺾이지 않고, 강화된 거리두기 단계를 연장하게 되어 매우 안타까운 마음입니다. 국민 ...',\n",
       "  'date': '2021-08-09',\n",
       "  'url': 'https://www1.president.go.kr/articles/10852'},\n",
       " {'title': '갈고닦은 기량을 마음껏 펼쳐준 대한민국 선수들과 코치진 그리고 아낌없는 응원을 보내주신 국민들께 깊이 감사드립니다',\n",
       "  'summary': '도쿄올림픽이 끝났습니다.  갈고닦은 기량을 마음껏 펼쳐준 대한민국 선수들과 코치진 그리고 아낌없는 응원을 보내주신 국민들께 깊이 감사드립니다. 여전히 어려운 시기에 열린 이번 올림픽에서 우리 선수들은 정직한 땀방울을 통해 국민들에게 위로와 희망의 메시지를 전해주었습니다.  메달 소식도 자주 들려주었습니다.  첫 메달이었던...',\n",
       "  'date': '2021-08-08',\n",
       "  'url': 'https://www1.president.go.kr/articles/10849'},\n",
       " {'title': '근대5종 남자 개인전 전웅태 선수 축전',\n",
       "  'summary': '  근대5종 남자 개인전 전웅태 선수   2020 도쿄올림픽 동메달 획득을 축하합니다. 대한민국 근대5종 사상 최초의 올림픽 메달입니다. 정진화 선수와 함께 말로 표현할 수 없이 멋진 경기를 펼쳐주었고, 두 선수가 경기 후 나눈 우정의 포옹은 뭉클한 감동을 주었습니다. 이제 전 선수의 희망처럼 대한민국 근대5종은 국...',\n",
       "  'date': '2021-08-08',\n",
       "  'url': 'https://www1.president.go.kr/articles/10848'},\n",
       " {'title': '우리 여자 배구 선수들이 도쿄올림픽에서 특별한 감동을 주었습니다',\n",
       "  'summary': '우리 여자 배구 선수들이 도쿄올림픽에서 특별한 감동을 주었습니다.  원팀의 힘으로 세계 강호들과 대등하게 맞섰고, 매 경기 모든 걸 쏟아내는 모습에 국민 모두 자부심을 느꼈습니다.  아름다운 도전이었습니다.  아쉬워하지 말기 바랍니다.  또 하면 됩니다.  지금까지처럼 자신감을 가져주길 바랍니다. ...',\n",
       "  'date': '2021-08-08',\n",
       "  'url': 'https://www1.president.go.kr/articles/10847'},\n",
       " {'title': '폭염 대응 소방관서 격려 방문 모두발언',\n",
       "  'summary': '인력 2만 명 증원, 그리고 지금 진행되고 있습니다만 국립소방병원 건립 이런 약속들을 제가 차근차근 다 이렇게 지킬 수 있어서 아주 다행스럽게 생각합니다. 그런데 오늘은 그 때문에 온 것은 아니고, 정말 요즘 아주 역대급 폭염이죠. 연일 계속되고 있어서 여러분들 정말 고생이 많습니다. 원래...',\n",
       "  'date': '2021-08-06',\n",
       "  'url': 'https://www1.president.go.kr/articles/10843'},\n",
       " {'title': 'K-글로벌 백신 허브화 비전 및 전략 보고대회 모두발언',\n",
       "  'summary': '국무총리를 위원장으로 하는 민관합동 ‘글로벌 백신 허브화 추진위원회’가 출범해 오늘 첫 회의를 열게 되었습니다. 관련 부처들과 함께, 백신 분야 최고의 전문가들이 민간위원으로 참여하고 있습니다. 오늘 회의에는 백신 개발과 생산 기업 대표들도 함께해 주셨습니다. 감사합니다.  전파력이 강한 델타 변이바이러스가 확산하며 ...',\n",
       "  'date': '2021-08-05',\n",
       "  'url': 'https://www1.president.go.kr/articles/10834'},\n",
       " {'title': '배드민턴 여자 복식 국가대표 선수 축전',\n",
       "  'summary': '2020 도쿄올림픽 동메달 획득을 축하합니다. 함께 경기한 네 선수 모두 최선을 다한 아름다운 승부였습니다. 파트너인 김소영 선수와 함께 시상대에 오르고 싶다던 소망이 이루어져 기쁩니다. 김소영 선수와 공희용 선수가 서로를 믿고 함께 만든 성과에 큰 박수를 보냅니다. 경기 후 네 선수가 나눈 위로와 우정의 포옹은 올림픽 정신을 온전히 보여 줬습니다....',\n",
       "  'date': '2021-08-03',\n",
       "  'url': 'https://www1.president.go.kr/articles/10826'},\n",
       " {'title': '기계체조 남자 도마 신재환 선수 축전',\n",
       "  'summary': '2020 도쿄올림픽 금메달 획득을 축하합니다. 대한민국을 가장 높은 지점에서 빛내 주었습니다. 신 선수의 환상적인 금빛 착지에 세계가 환호했습니다. 새로운 ‘도마 황제’의 출현에 박수를 보냅니다. 우리 체조의 자부심을 더욱 드높여 주길 바랍니다. 신 선수의 열정과 도전을 국민과 함께 응원하겠습니다.   2021년...',\n",
       "  'date': '2021-08-03',\n",
       "  'url': 'https://www1.president.go.kr/articles/10825'},\n",
       " {'title': '제34회 국무회의 모두발언',\n",
       "  'summary': '제34회 국무회의를 시작하겠습니다. 코로나 위기 속에서 국민들은 여전히 힘겨운 시기를 견디고 있습니다. 방역과 민생에 전념하며 국민의 삶을 지키는 것이 우리 정부 남은 임기 동안 피할 수 없는 책무가 되었습니다. 4차 산업혁명과 기후변화에 대응해야 하는 대전환기에 국가의 미래를 준비하고 개척하는 과업 또한 미룰 수 없는 시대적 소명이 되었습니...',\n",
       "  'date': '2021-08-03',\n",
       "  'url': 'https://www1.president.go.kr/articles/10821'},\n",
       " {'title': '수석보좌관회의 모두발언',\n",
       "  'summary': '오늘 외부 전문가로 우리 권기홍 동반성장위원회 위원장님 그리고 또 정중교 주식회사 프레시지 대표이사님 참석을 해 주셨습니다. 민간 기업의 대표이사가 우리 청와대 수보회의에 참석한 것은 거의 처음이 아닌가 싶은데, 기업 현장에서 느끼는 생생한 의견들 기탄없이 말씀해 주시기 바랍니다. 환영해 주시기 바랍니다. 여름이 더욱 깊어지고 있습니다. 국민들께...',\n",
       "  'date': '2021-08-02',\n",
       "  'url': 'https://www1.president.go.kr/articles/10815'},\n",
       " {'title': '기계체조 여자 도마 여서정 선수 축전',\n",
       "  'summary': '2020 도쿄올림픽 체조 동메달 획득을 축하합니다. 우리 여자 체조 사상 최초의 올림픽 메달 쾌거입니다. 강한 정신력과 탁월한 기량으로 만든 최고난도의 ‘여서정’ 기술이 아주 멋졌습니다. 여 선수가 장하고 자랑스럽습니다. ‘부녀 올림픽 메달리스트’ 탄생을 축하합니다. 국민들께 새로운 자부심을 선사해 주...',\n",
       "  'date': '2021-08-02',\n",
       "  'url': 'https://www1.president.go.kr/articles/10814'},\n",
       " {'title': '펜싱 사브르 여자 단체 축전',\n",
       "  'summary': '2020 도쿄올림픽 동메달 획득을 축하합니다. 국민들께 큰 기쁨과 용기를 주었습니다. 김 선수는 든든한 맏언니로서, ‘살아있는 전설’다운 최정상의 기량을 보여 주었습니다. 최 선수의 큰 부상을 이겨내고 이뤄낸 성취여서 더욱 값집니다. 윤 선수가 보여 준 놀라운 경기력에 국민들은 아낌없는 박수를 보냈습니다. 서 선수의 승리를 향한...',\n",
       "  'date': '2021-08-01',\n",
       "  'url': 'https://www1.president.go.kr/articles/10813'},\n",
       " {'title': '양궁 여자 개인 안 산 선수 축전',\n",
       "  'summary': '2020 도쿄올림픽 3관왕을 축하합니다. 하계 올림픽 한국 선수 최초 3관왕의 첫 역사를 세계 앞에서 썼습니다. 안 선수가 보여 준 경기력과 정신력에 국민들 모두 감격하고 아낌없는 박수를 보냈습니다. 안 선수의 자부심이 우리의 자부심입니다. 더 큰 박수로 국민과 함께 응원하겠습니다. 장하고 또 장합니다. 2021년 7월 31일 대통령 문 재 인',\n",
       "  'date': '2021-07-31',\n",
       "  'url': 'https://www1.president.go.kr/articles/10812'},\n",
       " {'title': '펜싱 에페 남자 단체 축전',\n",
       "  'summary': '2020 도쿄올림픽 동메달 획득을 축하합니다. 팀의 든든한 맏형으로 빛나는 결과를 이끌어낸 권 선수가 자랑스럽습니다. 송 선수의 민첩한 경기력에 국민들은 아낌없는 박수를 보냈습니다. 마 선수의 저돌적인 경기력이 시원한 승리를 만들어냈습니다. 박 선수의 ‘할 수 있다’는 자신감이 승리를 이끌었습니다. 권 선수, 송 선수, 마 선...',\n",
       "  'date': '2021-07-31',\n",
       "  'url': 'https://www1.president.go.kr/articles/10811'},\n",
       " {'title': '사격 여자 권총 김민정 선수 축전',\n",
       "  'summary': '2020 도쿄올림픽 사격 은메달 획득을 축하합니다. 김 선수가 보여 준 경기력과, 긍정과 낙관으로 만든 빛나는 성과에 국민들은 큰 박수를 보냈습니다. 자랑스럽습니다. 앞으로의 도전도 국민과 함께 응원하겠습니다.   2021년 7월 31일 대통령 문 재 인',\n",
       "  'date': '2021-07-31',\n",
       "  'url': 'https://www1.president.go.kr/articles/10810'},\n",
       " {'title': '민생경제장관회의 모두발언',\n",
       "  'summary': '코로나 상황이 매우 엄중합니다.  수도권에서 시작된 4차 유행이 전국으로 확산되면서 민생경제 회복도 지연되지 않을까 걱정이 큽니다.  방역이 어려워질수록 더욱 민생을 살펴야 합니다.  오늘 ‘민생경제장관회의’는 고강도 방역 조치에 따른 민생경제의 피해를 신속하게 지원하기 위해 마련했습니다.  경...',\n",
       "  'date': '2021-07-29',\n",
       "  'url': 'https://www1.president.go.kr/articles/10803'},\n",
       " {'title': '태권도 남자 80kg급 인교돈 선수 축전',\n",
       "  'summary': \"태권도 남자 80kg급 인교돈 선수 2020 도쿄올림픽 동메달 획득을 축하합니다.  병마를 이겨내고 거둔 결과라 더욱 값집니다. '3회전의 승부사' 면모를 유감없이 발휘하며 생애 첫 올림픽에서 자랑스러운 메달을 목에 걸었습니다. 인 선수가 보여준 열정은 국민들 가슴속에 오래 기억될 것입니다. 언제나 국민과 함께 응원하겠습...\",\n",
       "  'date': '2021-07-28',\n",
       "  'url': 'https://www1.president.go.kr/articles/10800'},\n",
       " {'title': '태권도 여자 67kg급 이다빈 선수 축전',\n",
       "  'summary': '태권도 여자 67kg급 이다빈 선수 2020 도쿄올림픽 은메달 획득을 축하합니다.  생애 첫 올림픽에서 태권도 종주국의 위용을 드높였습니다. 이 선수의 역전 드라마는 더위도 잊을 만큼 통쾌한 기쁨을 안겨주었습니다. 오랫동안 국민들의 기억에 남아있을 것입니다. 이 선수의 지치지 않는 도전을 국민들과 함께 응원하겠습니다. 2021년 7...',\n",
       "  'date': '2021-07-28',\n",
       "  'url': 'https://www1.president.go.kr/articles/10799'},\n",
       " {'title': '펜싱 에페 여자단체 이혜인 선수 축전',\n",
       "  'summary': '펜싱 에페 여자단체 이혜인 선수 2020 도쿄올림픽 은메달 획득을 축하합니다.  런던올림픽 은메달에 이어 다시 한번 세계 최정상급 실력을 증명했습니다. 이혜인 선수는 두려움 없는 선전으로 생애 첫 올림픽에서 메달의 영광을 안았습니다. 펜싱선수였던 아버지의 꿈도 이루었습니다. 참으로 장합니다. 국민들께 기쁨을 선사해주어 고맙습니다. 앞으...',\n",
       "  'date': '2021-07-28',\n",
       "  'url': 'https://www1.president.go.kr/articles/10798'},\n",
       " {'title': '펜싱 에페 여자단체 송세라 선수 축전',\n",
       "  'summary': '펜싱 에페 여자단체 송세라 선수 2020 도쿄올림픽 은메달 획득을 축하합니다.  런던올림픽 은메달에 이어 다시 한번 세계 최정상급 실력을 증명했습니다. 중요한 고비마다 자신감과 집중력을 보여준 송 선수에게 박수를 보냅니다. 국민들께 기쁨을 선사해주어 고맙습니다. 앞으로의 도전에도 언제나 국민들과 응원하겠습니다. 2021년 7월 28...',\n",
       "  'date': '2021-07-28',\n",
       "  'url': 'https://www1.president.go.kr/articles/10797'},\n",
       " {'title': '펜싱 에페 여자단체 최인정 선수 축전',\n",
       "  'summary': '펜싱 에페 여자단체 최인정 선수 2020 도쿄올림픽 은메달 획득을 축하합니다.  런던올림픽 은메달에 이어 다시 한번 세계 최정상급 실력을 증명했습니다. 특히 준결승전 상대 선수의 엉킨 선을 정리해준 모습은 승패를 떠난 올림픽 정신으로 깊은 감동을 주었습니다. 앞으로의 도전도 언제나 국민들과 함께 응원하겠습니다. 2021년 7월 28...',\n",
       "  'date': '2021-07-28',\n",
       "  'url': 'https://www1.president.go.kr/articles/10796'},\n",
       " {'title': '펜싱 에페 여자단체 강영미 선수 축전',\n",
       "  'summary': '펜싱 에페 여자단체 강영미 선수 2020 도쿄올림픽 은메달 획득을 축하합니다.  런던올림픽 은메달에 이어 다시 한번 세계 최정상급 실력을 증명했습니다. 팀의 든든한 맏언니로서 매 순간 최선을 다하는 모습이 인상깊었습니다. 강 선수가 외친 기합 소리는 중요한 순간에 늘 힘이 되어주었습니다. 국민들께 기쁨을 선사해주어 고맙습니다. 앞으...',\n",
       "  'date': '2021-07-28',\n",
       "  'url': 'https://www1.president.go.kr/articles/10795'},\n",
       " {'title': '유도 남자 73kg급 안창림 선수 축전',\n",
       "  'summary': '2020 도쿄올림픽 유도 동메달 획득을 축하합니다. 부상을 딛고 기어이 감동적인 결과를 만들어냈습니다. 안 선수의 활약은 재일동포를 넘어 5천만 대한민국 국민들의 자부심이 되었습니다. 우리는 조국을 위한 안 선수의 투혼을 기억할 것입니다. 메달 획득을 다시 한번 축하하며 앞으로의 도전에도 언제나 국민들과 함께 응원하겠습니다.   20...',\n",
       "  'date': '2021-07-27',\n",
       "  'url': 'https://www1.president.go.kr/articles/10794'},\n",
       " {'title': '양궁 남자 단체 국가대표 선수 축전',\n",
       "  'summary': '양궁 여자단체전에 이은 남자단체전 금메달 획득을 축하합니다. 남자단체전 금메달은 지난 리우올림픽에 이은 2연패여서 더욱 뜻깊습니다. 오진혁, 김우진, 김제덕 세 선수에게 아낌없는 박수를 보냅니다. 오진혁 선수는 양궁대표팀의 ‘맏형’이라는 부담감과 어깨 통증을 이겨내고 값진 결과를 만들어냈습니다. ‘양궁 하면 떠오르는 ...',\n",
       "  'date': '2021-07-27',\n",
       "  'url': 'https://www1.president.go.kr/articles/10793'},\n",
       " {'title': '‘한국의 갯벌’이 유네스코 세계유산이 됐습니다',\n",
       "  'summary': '‘한국의 갯벌’이 유네스코 세계유산이 됐습니다. 매우 기쁜 소식입니다. 등재추진단과 관계 부처가 힘을 모아 우리 갯벌의 소중한 가치를 적극적으로 알리고 설득한 결과입니다. 이제 우리나라는 열다섯 곳의 세계유산을 보유하게 되었습니다. 자연유산으로는 2007년 ‘제주 화산섬과 용암동굴’ 이후 두 번째입니다. ...',\n",
       "  'date': '2021-07-27',\n",
       "  'url': 'https://www1.president.go.kr/articles/10791'},\n",
       " {'title': '유엔군 참전의 날 기념 유엔군 참전용사 훈장 수여식 모두발언',\n",
       "  'summary': '존경하는 국민 여러분, 유엔군 참전용사 가족과 내외 귀빈 여러분, 오늘은 한국전쟁 정전 68주년이자, 아홉 번째 맞는 ‘유엔군 참전의 날’입니다. 유엔은 창설 이후 처음으로 한국전쟁에 참전해 연대와 협력이 한 나라의 자유와 평화를 지킬 수 있다는 것을 세계 역사에 깊이 각인했습니다. 코로나로 인해 연대와 협력의 소중함을 더 ...',\n",
       "  'date': '2021-07-27',\n",
       "  'url': 'https://www1.president.go.kr/articles/10784'},\n",
       " {'title': '수석보좌관회의 모두발언',\n",
       "  'summary': '오늘 외부 전문가로 이광형 카이스트(KAIST) 총장님 그리고 김태만 한국특허전략개발원장님이 함께 토론에 참여해 주시겠습니다. 박수로 맞아주시기 바랍니다. 34조 9천억 규모의 2차 추경안이 국회를 통과했습니다. 국회에 각별한 감사의 말씀을 드립니다. 정부안 제출 이후, 코로나 재확산 상황까지 반영하여 초당적으로 심의하고 협력해 주셨습니다. 코로나로...',\n",
       "  'date': '2021-07-26',\n",
       "  'url': 'https://www1.president.go.kr/articles/10779'},\n",
       " {'title': '유도 남자 66kg급 안바울 선수 축전',\n",
       "  'summary': '안바울 선수의 동메달 획득을 축하합니다. 동메달 결정전에서 보여 준 업어치기 한판은 무더위에 지친 국민들의 가슴을 시원하게 뚫어 주었습니다. 턱 끝까지 숨이 차올라도 훈련을 멈출 수 없다던 집념 어린 노력이 5년 전 리우올림픽에 이어 또 한 번 국민들께 희망과 자부심을 안겨 주었습니다. 앞으로도 안 선수의 꿈과 도전을 응원하겠습니다. 202...',\n",
       "  'date': '2021-07-26',\n",
       "  'url': 'https://www1.president.go.kr/articles/10778'},\n",
       " {'title': '양궁 여자 단체 국가대표 선수 축전',\n",
       "  'summary': '올림픽 양궁 여자 단체전의 9회 연속 금메달 획득을 축하합니다. 기분 좋은 쾌거입니다. 한국 양궁 정말 잘합니다. 바람이 많이 부는 가운데서도 압도적인 실력을 보여 주었습니다. 1988 서울 올림픽에서 양궁 여자 단체전이 처음 도입된 이후 정상의 자리를 한 번도 놓치지 않았고, 올림픽 9연패의 대기록을 세웠습니다. 참으로 장하고 자랑스럽습니다. 최...',\n",
       "  'date': '2021-07-26',\n",
       "  'url': 'https://www1.president.go.kr/articles/10777'},\n",
       " {'title': '코로나19 중앙재난안전대책본부 회의 모두발언',\n",
       "  'summary': '코로나 유행 이후 가장 위기가 높아진 엄중한 상황에서, 범국가적 역량을 모아 총력 대응하기 위해 중앙재난안전대책본부 회의를 직접 주재하게 되었습니다.  지금 세계는 백신 접종률이 높아지고 있는 상황에서, 전파력이 강한 델타 변이가 급속히 확산되며 또다시 큰 몸살을 앓고 있습니다. 전 세계적으로 4주 연속 확진자수가 증가했고, 매일 60만여 ...',\n",
       "  'date': '2021-07-25',\n",
       "  'url': 'https://www1.president.go.kr/articles/10768'},\n",
       " {'title': '펜싱 사브르 김정환 선수 축전',\n",
       "  'summary': '펜싱 사브르 종목에서 동메달을 획득한 김정환 선수를 축하합니다. 오른쪽 발목 부상을 입은 상태에서도 과감한 공격으로 이룬 극적인 역전승이어서 더욱 값집니다. 김 선수는 한국 펜싱 선수 중 최초로 3회 연속 올림픽 메달을 획득해 대한민국 펜싱의 저력을 보여 줬습니다. 흔들림 없이 위기를 넘어서는 모습이 매우 인상적이었습니다. 국민들께도 큰 감동으로...',\n",
       "  'date': '2021-07-25',\n",
       "  'url': 'https://www1.president.go.kr/articles/10772'},\n",
       " {'title': '태권도 58kg급 장 준 선수 축전',\n",
       "  'summary': '2020 도쿄올림픽 태권도 종목 장 준 선수의 동메달 획득을 축하합니다. 동메달 결정전은 태권도 종주국의 저력을 보여 준 경기였습니다. 일곱 살에 태권도를 시작해 세계 랭킹 1위에 오르고, 올림픽 출전 때까지 흘린 땀방울이 낳은 값진 결과입니다. 그 시간과 노력이 자랑스럽습니다. 국민들은 장 선수의 역동적인 모습에서 힘을 얻었습니다. 돌아오는 ...',\n",
       "  'date': '2021-07-25',\n",
       "  'url': 'https://www1.president.go.kr/articles/10771'},\n",
       " {'title': '양궁 혼성 단체 김제덕 선수 축전',\n",
       "  'summary': '2020 도쿄올림픽 대한민국 첫 금메달을 축하합니다. 양궁의 새로운 종목에서 올린 쾌거이며, 양궁 역사상 최연소 메달리스트의 영예를 안아 더욱 자랑스럽습니다. 안산 선수와 함께 획득한 이번 메달은 다시 한번 우리나라 양궁의 저역을 세계에 보여 준 계기가 되었습니다. 젊고 파이팅 넘치는 김 선수의 모습에 지켜보는 국민들도 함께 신이 났습니다. 국...',\n",
       "  'date': '2021-07-25',\n",
       "  'url': 'https://www1.president.go.kr/articles/10770'},\n",
       " {'title': '양궁 혼성 단체 안 산 선수 축전',\n",
       "  'summary': '2020 도쿄올림픽 대한민국 첫 금메달을 축하합니다. 양궁의 새로운 종목에서 올린 쾌거이며, 압도적인 실력으로 이룬 성적이라 더욱 자랑스럽습니다. 김제덕 선수와 함께 획득한 이번 메달은 다시 한번 우리나라 양궁의 저력을 세계에 보여 준 계기가 되었습니다. “의지만 있으면 못할 것 없다”는 안산 선수의 흔들림 없는 정신이 역...',\n",
       "  'date': '2021-07-25',\n",
       "  'url': 'https://www1.president.go.kr/articles/10769'},\n",
       " {'title': '국가대표 선수단 여러분, 잊지 마십시오. 5천만 국민이 여러분과 함께 하고 있다는 사실을.',\n",
       "  'summary': '우여곡절 끝에 도쿄올림픽이 드디어 내일 개막됩니다. 여전히 염려가 적지 않지만 모든 어려움을 이겨내고 안전하고 성공적인 세계인의 축제가 되길 바라며, 올림픽을 통해 세계가 하나되고 연대와 협력의 가치를 되새기는 계기가 되길 기원합니다. 스포츠가 가진 치유와 화합의 힘을 믿습니다. 국가적으로 어려운 시기마다 우리 국민들은 스포츠를 통해 ...',\n",
       "  'date': '2021-07-23',\n",
       "  'url': 'https://www1.president.go.kr/articles/10765'},\n",
       " {'title': '제31회 국무회의 모두발언',\n",
       "  'summary': '제31회 국무회의를 시작하겠습니다. 최근 EU는 탄소중립을 달성하기 위한 구체적 실천방안으로 탄소 국경세를 도입하여 2026년부터 본격 시행하겠다고 밝혔습니다.  2035년부터는 내연기관차의 판매를 사실상 금지했습니다.  환경규제를 강화하는 국제 무역 환경의 변화는 먼 미래의 문제가 아닌, 눈앞에 닥친 현실의 문제가 되고 있습니다....',\n",
       "  'date': '2021-07-20',\n",
       "  'url': 'https://www1.president.go.kr/articles/10748'},\n",
       " {'title': '수석보좌관회의 모두발언',\n",
       "  'summary': '전 세계가 코로나 변이 확산과 자연 재난으로 어렵고 힘든 시기를 보내고 있습니다. 전파력이 강한 델타 변이 바이러스가 무서운 속도로 확산되며 세계의 코로나 대응에 비상이 걸린 가운데, 기상이변으로 인한 폭염과 폭우, 산사태, 대형 산불 등으로 지구촌 곳곳에서 피해가 속출하고 있습니다. 재해·재난으로 고통받고 희생당한 전 세계 모든 분들께 ...',\n",
       "  'date': '2021-07-19',\n",
       "  'url': 'https://www1.president.go.kr/articles/10743'},\n",
       " {'title': \"'짧고 굵은' 4단계를 위해서는 모두의 노력과 협력이 절실합니다\",\n",
       "  'summary': \"델타 변이의 확산이 무섭습니다. 그러나 우리의 삶이 바이러스에 휘둘릴 수는 없습니다.  우리는 어떤 변이라도 이겨내고 일상을 되찾아야 합니다.  이번 주말이 매우 중대한 기로가 되었습니다. '짧고 굵은' 4단계를 위해서는 모두의 노력과 협력이 절실합니다.  특히, 이번 주말을 잘 넘겨야 합니다.  불...\",\n",
       "  'date': '2021-07-16',\n",
       "  'url': 'https://www1.president.go.kr/articles/10736'},\n",
       " {'title': '한국판 뉴딜 2.0 모두발언',\n",
       "  'summary': '존경하는 국민 여러분, 오늘 한국판 뉴딜 선언 1주년을 맞아 그 성과와 함께 더 진화된 ‘한국판 뉴딜 2.0’ 추진계획을 국민들께 보고드리고자 합니다. 코로나의 위협이 여전하고, 수도권 거리두기 4단계의 엄중한 상황을 맞이했지만, 한국판 뉴딜은 계속 전진해야 합니다.  한국판 뉴딜은 위기의 한복판에서 시작한 프로젝...',\n",
       "  'date': '2021-07-14',\n",
       "  'url': 'https://www1.president.go.kr/articles/10724'},\n",
       " {'title': '코로나19 대응 수도권 특별방역점검회의 모두발언',\n",
       "  'summary': '코로나가 국내에 유입된 이래 최대 고비를 맞이했습니다. 특히 수도권의 확산이 크게 늘어난 가운데 확산세가 지속되고 있고, 나아가 전국적인 확산의 진원지가 되고 있는 상황이어서 긴급하게 수도권 세 분 단체장들과 함께 수도권 특별방역점검회의를 갖게 되었습니다. 수도권에서 오늘부터 2주 동안 사회적 거리두기 4단계 시행에 들어갔습니다. 봉쇄 없이 할 수 있...',\n",
       "  'date': '2021-07-12',\n",
       "  'url': 'https://www1.president.go.kr/articles/10713'},\n",
       " {'title': '美 의회 코리아스터디그룹(CSGK) 대표단 접견 모두발언',\n",
       "  'summary': '  여러분, 반갑습니다. 미 의회 코리아스터디그룹 대표단 방한과 청와대 방문을 환영합니다. 영 킴 의장님, 다시 만나게 되어 반갑습니다. 아미 베라 의장님도 2017년에 이어서 두 번째 청와대 방문으로 기억합니다.  지난 5월 미국 방문 때 미 의회가 베푼 환대를 잊지 못합니다. 상․하원 모두 나의 방문을 환영하는 결의안을...',\n",
       "  'date': '2021-07-09',\n",
       "  'url': 'https://www1.president.go.kr/articles/10704'},\n",
       " {'title': 'K-배터리 발전전략 보고 모두발언',\n",
       "  'summary': '  존경하는 국민 여러분, 반도체에 이어 배터리는 대한민국의 또 하나의 자랑입니다. 오늘날 우리는 배터리로 시공간의 제약을 극복하고 있습니다. 큰 에너지를 작은 공간에 담게 되면서 전기차부터 드론, 로봇, 공작 장비, 무선청소기, 노트북, 휴대전화, 스마트 워치까지 우리의 일상이 획기적으로 변화하고 있습니다. 선박도, 항공기도, 철도까지 배...',\n",
       "  'date': '2021-07-08',\n",
       "  'url': 'https://www1.president.go.kr/articles/10702'},\n",
       " {'title': '한-네덜란드 정상회담',\n",
       "  'summary': '루터 총리님, 반갑습니다. 먼저 지금 네덜란드가 겪고 있는 충격에 대해서 위로의 말씀을 드립니다. 지난 5월 P4G 정상회의에 이어 다시 만나게 되어 매우 기쁩니다. 양국 수교 60주년에 화상 정상회의를 갖게 되어 더욱 뜻깊습니다.  네덜란드와 한국은 2016년 총리님 방한을 계기로 포괄적 미래지향적 동반자 관계가 되었습니다. 총리님은 ...',\n",
       "  'date': '2021-07-07',\n",
       "  'url': 'https://www1.president.go.kr/articles/10696'},\n",
       " {'title': '제29회 국무회의 모두발언',\n",
       "  'summary': '제29회 국무회의를 시작하겠습니다. 유엔무역개발회의(UNCTAD)가 우리나라의 지위를 개도국 그룹에서 선진국 그룹으로 변경했습니다. 개도국에서 선진국으로의 지위 변경은 유엔무역개발회의가 설립된 1964년 이래 최초의 일로 매우 자랑스러운 일입니다. 유엔 회원국들의 만장일치 합의에 의해 우리나라는 명실상부하게 선진국임을 국제적으로 인정받게 되었습니다....',\n",
       "  'date': '2021-07-06',\n",
       "  'url': 'https://www1.president.go.kr/articles/10680'}]"
      ]
     },
     "execution_count": 28,
     "metadata": {},
     "output_type": "execute_result"
    }
   ],
   "source": [
    "speech_list"
   ]
  },
  {
   "cell_type": "code",
   "execution_count": 29,
   "id": "b42ab202",
   "metadata": {},
   "outputs": [
    {
     "data": {
      "text/plain": [
       "45"
      ]
     },
     "execution_count": 29,
     "metadata": {},
     "output_type": "execute_result"
    }
   ],
   "source": [
    "len(speech_list)"
   ]
  },
  {
   "cell_type": "code",
   "execution_count": 30,
   "id": "1f9929cc-ad78-424a-9d0a-53036477de87",
   "metadata": {
    "slideshow": {
     "slide_type": "subslide"
    }
   },
   "outputs": [],
   "source": [
    "for n in range(len(speech_list)):\n",
    "    url = speech_list[n]['url']\n",
    "    driver.get(url)\n",
    "    time.sleep(5)\n",
    "    speech_body = driver.find_element_by_css_selector('div.text.left.cb.text_wrap.motion.fadeIn.visible').text\n",
    "    speech_list[n]['body'] = speech_body"
   ]
  },
  {
   "cell_type": "code",
   "execution_count": 31,
   "id": "1373b528-3215-4f5b-b3b7-2a9431f18717",
   "metadata": {
    "slideshow": {
     "slide_type": "fragment"
    }
   },
   "outputs": [],
   "source": [
    "speech_df = pd.DataFrame(speech_list)"
   ]
  },
  {
   "cell_type": "code",
   "execution_count": 32,
   "id": "4e3f6d08",
   "metadata": {
    "slideshow": {
     "slide_type": "fragment"
    }
   },
   "outputs": [
    {
     "data": {
      "text/html": [
       "<div>\n",
       "<style scoped>\n",
       "    .dataframe tbody tr th:only-of-type {\n",
       "        vertical-align: middle;\n",
       "    }\n",
       "\n",
       "    .dataframe tbody tr th {\n",
       "        vertical-align: top;\n",
       "    }\n",
       "\n",
       "    .dataframe thead th {\n",
       "        text-align: right;\n",
       "    }\n",
       "</style>\n",
       "<table border=\"1\" class=\"dataframe\">\n",
       "  <thead>\n",
       "    <tr style=\"text-align: right;\">\n",
       "      <th></th>\n",
       "      <th>title</th>\n",
       "      <th>summary</th>\n",
       "      <th>date</th>\n",
       "      <th>url</th>\n",
       "      <th>body</th>\n",
       "    </tr>\n",
       "  </thead>\n",
       "  <tbody>\n",
       "    <tr>\n",
       "      <th>0</th>\n",
       "      <td>건강보험 보장성 강화대책 4주년 성과 보고대회 모두발언</td>\n",
       "      <td>존경하는 국민 여러분,  ‘문재인 케어’라고 불린 건강보험 보장성 강화대책 발표 4...</td>\n",
       "      <td>2021-08-12</td>\n",
       "      <td>https://www1.president.go.kr/articles/10865</td>\n",
       "      <td>존경하는 국민 여러분, \\n\\n‘문재인 케어’라고 불린 건강보험 보장성 강화대책 발...</td>\n",
       "    </tr>\n",
       "    <tr>\n",
       "      <th>1</th>\n",
       "      <td>수석보좌관회의 모두발언</td>\n",
       "      <td>오늘 외부 전문가로 김용익 건보공단 이사장님, 그다음에 김선민 건보심사평가원 원...</td>\n",
       "      <td>2021-08-09</td>\n",
       "      <td>https://www1.president.go.kr/articles/10852</td>\n",
       "      <td>\\n\\n오늘 외부 전문가로 김용익 건보공단 이사장님, 그다음에 김선민 건보심사평가...</td>\n",
       "    </tr>\n",
       "    <tr>\n",
       "      <th>2</th>\n",
       "      <td>갈고닦은 기량을 마음껏 펼쳐준 대한민국 선수들과 코치진 그리고 아낌없는 응원을 보내...</td>\n",
       "      <td>도쿄올림픽이 끝났습니다.  갈고닦은 기량을 마음껏 펼쳐준 대한민국 선수들과 코치진 ...</td>\n",
       "      <td>2021-08-08</td>\n",
       "      <td>https://www1.president.go.kr/articles/10849</td>\n",
       "      <td>도쿄올림픽이 끝났습니다. \\n갈고닦은 기량을 마음껏 펼쳐준 대한민국 선수들과 코치진...</td>\n",
       "    </tr>\n",
       "    <tr>\n",
       "      <th>3</th>\n",
       "      <td>근대5종 남자 개인전 전웅태 선수 축전</td>\n",
       "      <td>근대5종 남자 개인전 전웅태 선수   2020 도쿄올림픽 동메달 획득을 축하합니...</td>\n",
       "      <td>2021-08-08</td>\n",
       "      <td>https://www1.president.go.kr/articles/10848</td>\n",
       "      <td>근대5종 남자 개인전 전웅태 선수\\n  2020 도쿄올림픽 동메달 획득을 축하합...</td>\n",
       "    </tr>\n",
       "    <tr>\n",
       "      <th>4</th>\n",
       "      <td>우리 여자 배구 선수들이 도쿄올림픽에서 특별한 감동을 주었습니다</td>\n",
       "      <td>우리 여자 배구 선수들이 도쿄올림픽에서 특별한 감동을 주었습니다.  원팀의 힘으로 ...</td>\n",
       "      <td>2021-08-08</td>\n",
       "      <td>https://www1.president.go.kr/articles/10847</td>\n",
       "      <td>우리 여자 배구 선수들이 도쿄올림픽에서 특별한 감동을 주었습니다. \\n원팀의 힘으로...</td>\n",
       "    </tr>\n",
       "  </tbody>\n",
       "</table>\n",
       "</div>"
      ],
      "text/plain": [
       "                                               title  \\\n",
       "0                     건강보험 보장성 강화대책 4주년 성과 보고대회 모두발언   \n",
       "1                                       수석보좌관회의 모두발언   \n",
       "2  갈고닦은 기량을 마음껏 펼쳐준 대한민국 선수들과 코치진 그리고 아낌없는 응원을 보내...   \n",
       "3                              근대5종 남자 개인전 전웅태 선수 축전   \n",
       "4                우리 여자 배구 선수들이 도쿄올림픽에서 특별한 감동을 주었습니다   \n",
       "\n",
       "                                             summary        date  \\\n",
       "0  존경하는 국민 여러분,  ‘문재인 케어’라고 불린 건강보험 보장성 강화대책 발표 4...  2021-08-12   \n",
       "1    오늘 외부 전문가로 김용익 건보공단 이사장님, 그다음에 김선민 건보심사평가원 원...  2021-08-09   \n",
       "2  도쿄올림픽이 끝났습니다.  갈고닦은 기량을 마음껏 펼쳐준 대한민국 선수들과 코치진 ...  2021-08-08   \n",
       "3    근대5종 남자 개인전 전웅태 선수   2020 도쿄올림픽 동메달 획득을 축하합니...  2021-08-08   \n",
       "4  우리 여자 배구 선수들이 도쿄올림픽에서 특별한 감동을 주었습니다.  원팀의 힘으로 ...  2021-08-08   \n",
       "\n",
       "                                           url  \\\n",
       "0  https://www1.president.go.kr/articles/10865   \n",
       "1  https://www1.president.go.kr/articles/10852   \n",
       "2  https://www1.president.go.kr/articles/10849   \n",
       "3  https://www1.president.go.kr/articles/10848   \n",
       "4  https://www1.president.go.kr/articles/10847   \n",
       "\n",
       "                                                body  \n",
       "0  존경하는 국민 여러분, \\n\\n‘문재인 케어’라고 불린 건강보험 보장성 강화대책 발...  \n",
       "1   \\n\\n오늘 외부 전문가로 김용익 건보공단 이사장님, 그다음에 김선민 건보심사평가...  \n",
       "2  도쿄올림픽이 끝났습니다. \\n갈고닦은 기량을 마음껏 펼쳐준 대한민국 선수들과 코치진...  \n",
       "3    근대5종 남자 개인전 전웅태 선수\\n  2020 도쿄올림픽 동메달 획득을 축하합...  \n",
       "4  우리 여자 배구 선수들이 도쿄올림픽에서 특별한 감동을 주었습니다. \\n원팀의 힘으로...  "
      ]
     },
     "execution_count": 32,
     "metadata": {},
     "output_type": "execute_result"
    }
   ],
   "source": [
    "speech_df.head()"
   ]
  },
  {
   "cell_type": "code",
   "execution_count": 33,
   "id": "96d9bc45-7e0b-4ffe-a9ec-d636fe7df4b6",
   "metadata": {
    "slideshow": {
     "slide_type": "fragment"
    }
   },
   "outputs": [],
   "source": [
    "speech_df.to_csv('president_speech_pp1-3.csv', encoding='utf-8-sig')"
   ]
  },
  {
   "cell_type": "markdown",
   "id": "74f360f7",
   "metadata": {
    "slideshow": {
     "slide_type": "subslide"
    }
   },
   "source": [
    "## 8-3. 정리"
   ]
  },
  {
   "cell_type": "markdown",
   "id": "87019137",
   "metadata": {
    "slideshow": {
     "slide_type": "fragment"
    }
   },
   "source": [
    "### 8-3-1. 방식 1"
   ]
  },
  {
   "cell_type": "code",
   "execution_count": null,
   "id": "d9f7056e",
   "metadata": {
    "slideshow": {
     "slide_type": "fragment"
    }
   },
   "outputs": [],
   "source": [
    "from selenium import webdriver\n",
    "import pandas as pd\n",
    "import time\n",
    "\n",
    "driver = webdriver.Chrome('./chromedriver')\n",
    "url_base = 'https://www1.president.go.kr/c/president-speeches?page='\n",
    "\n",
    "speech_list = []\n",
    "for page_number in range(1,4):\n",
    "    url = url_base + str(page_number)\n",
    "    driver.get(url)\n",
    "    time.sleep(2)\n",
    "    \n",
    "    speech_urls = driver.find_elements_by_css_selector('div.list_txt > a')\n",
    "    speech_titles = driver.find_elements_by_css_selector('div.list_txt_title > h3')\n",
    "    speech_summaries = driver.find_elements_by_css_selector('div.list_txt_cont')\n",
    "    speech_dates = driver.find_elements_by_css_selector('p.list_txt_date')\n",
    "    \n",
    "    for n in range(len(speech_dates)):\n",
    "        speech_list.append(\n",
    "            {\n",
    "                'title': speech_titles[n].text,\n",
    "                'summaries': speech_summaries[n].text,\n",
    "                'date': speech_dates[n].text,\n",
    "                'url': speech_urls[n].get_attribute('href')\n",
    "            })\n",
    "        \n",
    "for n in range(len(speech_list)):\n",
    "    url = speech_list[n]['url']\n",
    "    driver.get(url)\n",
    "    time.sleep(2)\n",
    "    speech_body = driver.find_element_by_css_selector('div.text.left.cb.text_wrap.motion.fadeIn.visible').text\n",
    "    speech_list[n]['body'] = speech_body\n",
    "    \n",
    "driver.quit()\n",
    "speech_df = pd.DataFrame(speech_list)\n",
    "speech_df.to_csv('president_speech_pp1-3.csv', encoding='utf-8-sig')"
   ]
  },
  {
   "cell_type": "markdown",
   "id": "92fbdd7d",
   "metadata": {
    "slideshow": {
     "slide_type": "subslide"
    }
   },
   "source": [
    "### 8-3-1. 방식 2\n",
    "\n",
    "* selenium waits: https://selenium-python.readthedocs.io/waits.htm"
   ]
  },
  {
   "cell_type": "code",
   "execution_count": null,
   "id": "a2fb15de",
   "metadata": {
    "slideshow": {
     "slide_type": "fragment"
    }
   },
   "outputs": [],
   "source": [
    "from selenium import webdriver\n",
    "from selenium.webdriver.common.by import By\n",
    "from selenium.webdriver.support.ui import WebDriverWait\n",
    "from selenium.webdriver.support import expected_conditions as EC\n",
    "import pandas as pd\n",
    "import time\n",
    "\n",
    "driver = webdriver.Chrome('./chromedriver')\n",
    "driver.implicitly_wait(10)\n",
    "url_base = 'https://www1.president.go.kr/c/president-speeches?page='\n",
    "\n",
    "speech_list = []\n",
    "for page_number in range(1,4):\n",
    "    url = url_base + str(page_number)\n",
    "    driver.get(url)\n",
    "    time.sleep(2)\n",
    "    speech_urls = WebDriverWait(driver, 10).until(EC.presence_of_all_elements_located((By.CSS_SELECTOR, 'div.list_txt > a')))\n",
    "    speech_titles = WebDriverWait(driver, 10).until(EC.presence_of_all_elements_located((By.CSS_SELECTOR, 'div.list_txt_title > h3')))\n",
    "    speech_summaries = WebDriverWait(driver, 10).until(EC.presence_of_all_elements_located((By.CSS_SELECTOR, 'div.list_txt_cont')))\n",
    "    speech_dates = WebDriverWait(driver, 10).until(EC.presence_of_all_elements_located((By.CSS_SELECTOR, 'p.list_txt_date')))\n",
    "    \n",
    "    for n in range(len(speech_dates)):\n",
    "        speech_list.append(\n",
    "            {\n",
    "                'title': speech_titles[n].text,\n",
    "                'summaries': speech_summaries[n].text,\n",
    "                'date': speech_dates[n].text,\n",
    "                'url': speech_urls[n].get_attribute('href')\n",
    "            })\n",
    "        \n",
    "for n in range(len(speech_list)):\n",
    "    url = speech_list[n]['url']\n",
    "    driver.get(url)\n",
    "    time.sleep(2)\n",
    "    speech_body = WebDriverWait(driver, 10).until(EC.visibility_of_element_located((By.CSS_SELECTOR, 'div.text.left.cb.text_wrap.motion.fadeIn.visible')))\n",
    "    speech_list[n]['body'] = speech_body.text\n",
    "    \n",
    "driver.quit()\n",
    "speech_df = pd.DataFrame(speech_list)\n",
    "speech_df.to_csv('president_speech_pp1-3.csv', encoding='utf-8-sig')"
   ]
  }
 ],
 "metadata": {
  "celltoolbar": "Slideshow",
  "kernelspec": {
   "display_name": "Python 3",
   "language": "python",
   "name": "python3"
  },
  "language_info": {
   "codemirror_mode": {
    "name": "ipython",
    "version": 3
   },
   "file_extension": ".py",
   "mimetype": "text/x-python",
   "name": "python",
   "nbconvert_exporter": "python",
   "pygments_lexer": "ipython3",
   "version": "3.8.11"
  },
  "toc-autonumbering": false,
  "toc-showcode": false,
  "toc-showmarkdowntxt": false,
  "toc-showtags": false
 },
 "nbformat": 4,
 "nbformat_minor": 5
}
