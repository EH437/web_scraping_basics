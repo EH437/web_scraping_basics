{
 "cells": [
  {
   "cell_type": "markdown",
   "id": "b7e57141",
   "metadata": {
    "slideshow": {
     "slide_type": "slide"
    },
    "tags": []
   },
   "source": [
    "# Python을 활용한 web scraping 기초\n",
    "\n",
    "2021.08.11"
   ]
  },
  {
   "cell_type": "markdown",
   "id": "b508dbfb-3dd6-498d-97af-5ab8a7be660f",
   "metadata": {
    "slideshow": {
     "slide_type": "-"
    }
   },
   "source": [
    "---"
   ]
  },
  {
   "cell_type": "markdown",
   "id": "07ec712f-8491-481e-9846-97c2e9e55ce9",
   "metadata": {
    "slideshow": {
     "slide_type": "slide"
    },
    "tags": []
   },
   "source": [
    "# 목차 "
   ]
  },
  {
   "cell_type": "markdown",
   "id": "e440b6e7",
   "metadata": {
    "slideshow": {
     "slide_type": "fragment"
    }
   },
   "source": [
    "0. 개요\n",
    "\n",
    "1. Web Crawling vs Web Scraping\n",
    "\n",
    "2. 웹스크래핑 문제\n",
    "\n",
    "3. 환경 설정  \n",
    "3-1. anaconda / miniconda 설치  \n",
    "3-2. 가상환경 설정  \n",
    "3-3. Packages  \n",
    "3-4. Chrome & chromedriver  \n",
    "3-5. jupyter lab / jupyter notebook  \n",
    "\n",
    "4. Python 소개  \n",
    "4-1. 데이터 타입  \n",
    "4-2. 데이터 구조  \n",
    "4-3. 조건문  \n",
    "4-4. 반복문  \n",
    "\n",
    "5. Web 구조와 웹페이지 이해    \n",
    "5-1. Internet Protocol   \n",
    "5-2. 웹페이지 기본 구조  "
   ]
  },
  {
   "cell_type": "markdown",
   "id": "aea80ca8",
   "metadata": {
    "slideshow": {
     "slide_type": "subslide"
    }
   },
   "source": [
    "6. 웹페이지 데이터 가져오기    \n",
    "6-0. Open API?  \n",
    "6-1. 과정  \n",
    "6-2. 예제 1: 대통령 연설문  \n",
    "6-2-1. 웹페이지 가져오기 - Selenium  \n",
    "6-2-2. 페이지 구조 분석  \n",
    "6-2-3. 필요한 부분 추출  \n",
    "6-2-4. 데이터 저장  \n",
    "6-2-5. 정리  \n",
    "\n",
    "7. 연결된 웹페이지 데이터 가져오기      \n",
    "7-1. 연결된 웹페이지 분석  \n",
    "7-2. 추출 자동화  \n",
    "\n",
    "8. 다음 페이지로 넘어가는 방법: Pagination  "
   ]
  },
  {
   "cell_type": "markdown",
   "id": "f04b17dd-b03d-4715-b890-7f32c74c3c7a",
   "metadata": {
    "slideshow": {
     "slide_type": "skip"
    }
   },
   "source": [
    "---"
   ]
  },
  {
   "cell_type": "markdown",
   "id": "bdefbf05-13b9-4f4c-b4c7-20f7f30c68cb",
   "metadata": {
    "slideshow": {
     "slide_type": "slide"
    },
    "tags": []
   },
   "source": [
    "# 0. 개요"
   ]
  },
  {
   "cell_type": "markdown",
   "id": "84cf9662",
   "metadata": {
    "slideshow": {
     "slide_type": "fragment"
    }
   },
   "source": [
    "* 초보자 대상\n",
    "* 기본 구조를 이해하고 활용하기 위한 기초 단계 \n",
    "* 가장 기본적인 방법을 통해 데이터를 가져오기\n"
   ]
  },
  {
   "cell_type": "markdown",
   "id": "e834d96a",
   "metadata": {
    "slideshow": {
     "slide_type": "fragment"
    }
   },
   "source": [
    "> ( 데이터 수집 > 저장 ) > 정리 > 분석 > 시각화/리포트"
   ]
  },
  {
   "cell_type": "markdown",
   "id": "68f8b5ac-bcf8-45c0-95e1-bddae9b63cc0",
   "metadata": {
    "slideshow": {
     "slide_type": "skip"
    }
   },
   "source": [
    "---"
   ]
  },
  {
   "cell_type": "markdown",
   "id": "b6149624-e172-4b5d-8ab1-ad924e8a7ef8",
   "metadata": {
    "slideshow": {
     "slide_type": "slide"
    }
   },
   "source": [
    "# 1. Web Crawling vs Web Scraping"
   ]
  },
  {
   "cell_type": "markdown",
   "id": "72fe31e0",
   "metadata": {
    "slideshow": {
     "slide_type": "fragment"
    }
   },
   "source": [
    "![data_meme](https://memecreator.org/static/images/memes/5065598.jpg)"
   ]
  },
  {
   "cell_type": "markdown",
   "id": "49b839bb",
   "metadata": {
    "slideshow": {
     "slide_type": "fragment"
    }
   },
   "source": [
    "웹크롤링과 웹스크래핑은 밀접하게 관련되어 있고 두 용어를 혼용하는 경우도 많지만 둘 간에는 차이가 존재  "
   ]
  },
  {
   "cell_type": "markdown",
   "id": "1a9aae34",
   "metadata": {
    "slideshow": {
     "slide_type": "fragment"
    }
   },
   "source": [
    "* 웹 상에 존재하는 데이터를 자동으로 탐색하여 데이터를 수집하는 경우: 웹크롤링  \n",
    "검색엔진에서 링크 내 컨텐츠를 추출하고 다른 링크를 확인하는 등 웹사이트의 구조를 파악하거나 복사본 등을 만들 때 활용"
   ]
  },
  {
   "cell_type": "markdown",
   "id": "9ec70fb6",
   "metadata": {
    "slideshow": {
     "slide_type": "fragment"
    }
   },
   "source": [
    "* 웹페이지에서 원하는 특정 데이터를 추출하는 경우: 웹스크래핑   \n",
    "필요한 데이터를 중심으로 가공  "
   ]
  },
  {
   "cell_type": "markdown",
   "id": "7cb64e2b-8cd9-459e-bb4f-97ee3e29b75c",
   "metadata": {
    "slideshow": {
     "slide_type": "skip"
    }
   },
   "source": [
    "---"
   ]
  },
  {
   "cell_type": "markdown",
   "id": "2a319c74-9405-490c-a895-bf69ec586763",
   "metadata": {
    "slideshow": {
     "slide_type": "slide"
    }
   },
   "source": [
    "# 2. 웹스크래핑이 문제 되는 경우"
   ]
  },
  {
   "cell_type": "markdown",
   "id": "c83732c3",
   "metadata": {
    "slideshow": {
     "slide_type": "fragment"
    }
   },
   "source": [
    "웹사이트에서 원하는 데이터를 추출하기 위해 서버에 요청을 **반복적**으로 보냄  \n",
    "* 자동화된 프로그램으로 정보를 요청하기 때문에 서버에 지나치게 많은 요청을 보내게 되면 서버 부하가 발생할 수 있음  \n",
    "* 더 빠르게 데이터를 수집하기 위해 서버에 부하를 줄 정도로 반복하는 경우 문제  "
   ]
  },
  {
   "cell_type": "markdown",
   "id": "80a0ef9a",
   "metadata": {
    "slideshow": {
     "slide_type": "fragment"
    }
   },
   "source": [
    "웹사이트 별로 자동화 프로그램에 대한 정책을 명시해놓는 경우가 많음  "
   ]
  },
  {
   "cell_type": "markdown",
   "id": "8961b346",
   "metadata": {
    "slideshow": {
     "slide_type": "fragment"
    }
   },
   "source": [
    "## robots.txt  \n",
    "robots.txt의 내용이 강제성이 있는 것은 아닌 권고안 정도의 의미\n",
    "\n",
    "* User-agent:* 모든 접속자가 아래 내용을 따라달라는 의미  \n",
    "* Disallow: / 모든 페이지에 대해 접근을 허용하지 않음  \n",
    "* Allow: /$ 첫 페이지에 대해서는 접근을 허용  \n",
    "\n",
    "> https://www.google.com/robots.txt\n",
    "\n",
    "이외에도 요청 빈도 등에 대해 별도로 명시해 놓은 경우도 있음"
   ]
  },
  {
   "cell_type": "markdown",
   "id": "e4843dd3-ab31-4c28-b267-1ab59dcd95d5",
   "metadata": {
    "slideshow": {
     "slide_type": "skip"
    }
   },
   "source": [
    "---"
   ]
  },
  {
   "cell_type": "markdown",
   "id": "981d474c-604d-4acd-8330-d028c4324df9",
   "metadata": {
    "slideshow": {
     "slide_type": "slide"
    }
   },
   "source": [
    "# 3. Python 환경 설정"
   ]
  },
  {
   "cell_type": "markdown",
   "id": "0c9b39b0",
   "metadata": {
    "slideshow": {
     "slide_type": "subslide"
    }
   },
   "source": [
    "## 3-1. anaconda / miniconda 설치\n",
    "* anaconda: https://www.anaconda.com/products/individual\n",
    "* miniconda: https://docs.conda.io/en/latest/miniconda.html"
   ]
  },
  {
   "cell_type": "markdown",
   "id": "ec4967ac",
   "metadata": {
    "slideshow": {
     "slide_type": "subslide"
    }
   },
   "source": [
    "## 3-2. 가상환경 설정\n",
    "```python\n",
    "conda create -n web python=3.8\n",
    "activate web\n",
    "```"
   ]
  },
  {
   "cell_type": "markdown",
   "id": "40012d2a",
   "metadata": {
    "slideshow": {
     "slide_type": "subslide"
    }
   },
   "source": [
    "## 3-3. Packages\n",
    "* jupyter lab: https://jupyter.org/\n",
    "* pandas: https://pandas.pydata.org/  \n",
    "* selenium: https://www.selenium.dev/\n",
    "* requests: https://docs.python-requests.org/en/master/\n",
    "* beautifulsoup: https://www.crummy.com/software/BeautifulSoup/bs4/doc/\n",
    "\n",
    "```python\n",
    "conda install jupyterlab\n",
    "conda install pandas\n",
    "conda install selenium\n",
    "\n",
    "conda install requests\n",
    "conda install beautifulsoup4\n",
    "\n",
    "```"
   ]
  },
  {
   "cell_type": "markdown",
   "id": "33c5f62e-0482-4cef-a56c-5f61d88dcef7",
   "metadata": {
    "slideshow": {
     "slide_type": "subslide"
    }
   },
   "source": [
    "## 3-4. Chrome & chromedriver\n",
    "\n",
    "* google chrome: https://www.google.com/chrome/\n",
    "* chromedriver: https://chromedriver.chromium.org/downloads\n",
    "  * webdriver-manager: https://github.com/SergeyPirogov/webdriver_manager"
   ]
  },
  {
   "cell_type": "markdown",
   "id": "0abf80a9-8cc4-451c-9ff0-b234885b7f99",
   "metadata": {
    "slideshow": {
     "slide_type": "slide"
    }
   },
   "source": [
    "## 3-5. jupyter lab / notebook"
   ]
  },
  {
   "cell_type": "markdown",
   "id": "29f59ee4",
   "metadata": {
    "slideshow": {
     "slide_type": "fragment"
    }
   },
   "source": [
    "* markdown: https://www.markdownguide.org/basic-syntax/\n",
    "* code"
   ]
  },
  {
   "cell_type": "code",
   "execution_count": null,
   "id": "a9b4e251",
   "metadata": {
    "slideshow": {
     "slide_type": "fragment"
    }
   },
   "outputs": [],
   "source": [
    "print('python')"
   ]
  },
  {
   "cell_type": "code",
   "execution_count": null,
   "id": "952ed215",
   "metadata": {
    "slideshow": {
     "slide_type": "fragment"
    }
   },
   "outputs": [],
   "source": [
    "print(8+11)"
   ]
  },
  {
   "cell_type": "code",
   "execution_count": null,
   "id": "aa446602",
   "metadata": {
    "slideshow": {
     "slide_type": "fragment"
    }
   },
   "outputs": [],
   "source": [
    "num1 = 8\n",
    "num2 = 11\n",
    "print(num1 + num2)\n",
    "print(num1 * num2)"
   ]
  },
  {
   "cell_type": "code",
   "execution_count": null,
   "id": "736017cc",
   "metadata": {
    "slideshow": {
     "slide_type": "fragment"
    }
   },
   "outputs": [],
   "source": [
    "name = input('name: ')\n",
    "print('hello, ', name)"
   ]
  },
  {
   "cell_type": "markdown",
   "id": "aae36586-717d-4f12-a47b-41b4cd8d189f",
   "metadata": {
    "slideshow": {
     "slide_type": "skip"
    }
   },
   "source": [
    "---"
   ]
  },
  {
   "cell_type": "markdown",
   "id": "b82f1aee-6995-4c05-b315-ae4cbf5d358c",
   "metadata": {
    "slideshow": {
     "slide_type": "slide"
    }
   },
   "source": [
    "# 4. Python 소개"
   ]
  },
  {
   "cell_type": "markdown",
   "id": "1965c6d4",
   "metadata": {
    "slideshow": {
     "slide_type": "subslide"
    }
   },
   "source": [
    "## 4-1. 데이터 타입\n",
    "\n",
    "* int\n",
    "* float\n",
    "* str\n",
    "* bool"
   ]
  },
  {
   "cell_type": "markdown",
   "id": "e57035c3",
   "metadata": {
    "slideshow": {
     "slide_type": "subslide"
    }
   },
   "source": [
    "### string"
   ]
  },
  {
   "cell_type": "code",
   "execution_count": null,
   "id": "173f53e3",
   "metadata": {
    "slideshow": {
     "slide_type": "fragment"
    }
   },
   "outputs": [],
   "source": [
    "name = 'python'\n",
    "len(name)"
   ]
  },
  {
   "cell_type": "markdown",
   "id": "0ec0de94-fd5c-4157-a659-ff83925a78f4",
   "metadata": {
    "slideshow": {
     "slide_type": "subslide"
    }
   },
   "source": [
    "## 4-2. 데이터구조\n",
    "\n",
    "* list\n",
    "* dictionary\n",
    "* tuple\n",
    "* set"
   ]
  },
  {
   "cell_type": "markdown",
   "id": "14f5c2de",
   "metadata": {
    "slideshow": {
     "slide_type": "subslide"
    }
   },
   "source": [
    "### list"
   ]
  },
  {
   "cell_type": "code",
   "execution_count": null,
   "id": "293ae0b6",
   "metadata": {
    "slideshow": {
     "slide_type": "fragment"
    }
   },
   "outputs": [],
   "source": [
    "list1 = ['name1', 'name2', 'name3']\n",
    "print(list1)"
   ]
  },
  {
   "cell_type": "code",
   "execution_count": null,
   "id": "ab8bc3c4",
   "metadata": {
    "slideshow": {
     "slide_type": "fragment"
    }
   },
   "outputs": [],
   "source": [
    "print(list1[0])"
   ]
  },
  {
   "cell_type": "code",
   "execution_count": null,
   "id": "de16edc1",
   "metadata": {
    "slideshow": {
     "slide_type": "fragment"
    }
   },
   "outputs": [],
   "source": [
    "list1.append('name4')\n",
    "print(list1)"
   ]
  },
  {
   "cell_type": "markdown",
   "id": "df1ccbcc",
   "metadata": {
    "slideshow": {
     "slide_type": "subslide"
    }
   },
   "source": [
    "### dictionary\n",
    "\n",
    "dictionary는 key와 value로 이루어져있음"
   ]
  },
  {
   "cell_type": "code",
   "execution_count": 1,
   "id": "20481328",
   "metadata": {
    "slideshow": {
     "slide_type": "fragment"
    }
   },
   "outputs": [
    {
     "name": "stdout",
     "output_type": "stream",
     "text": [
      "{'key1': 'value1', 'key2': 'value2'}\n"
     ]
    }
   ],
   "source": [
    "dict1 = {'key1':'value1', 'key2':'value2'}\n",
    "print(dict1)"
   ]
  },
  {
   "cell_type": "code",
   "execution_count": 2,
   "id": "21c5251f",
   "metadata": {
    "slideshow": {
     "slide_type": "fragment"
    }
   },
   "outputs": [
    {
     "name": "stdout",
     "output_type": "stream",
     "text": [
      "value1\n"
     ]
    }
   ],
   "source": [
    "print(dict1['key1'])"
   ]
  },
  {
   "cell_type": "markdown",
   "id": "01756ece-d342-43fc-9913-a998560adb9f",
   "metadata": {
    "slideshow": {
     "slide_type": "subslide"
    }
   },
   "source": [
    "## 4-3. 조건문"
   ]
  },
  {
   "cell_type": "markdown",
   "id": "7b3bc986",
   "metadata": {
    "slideshow": {
     "slide_type": "fragment"
    }
   },
   "source": [
    "```python\n",
    "if 조건1:\n",
    "    실행1\n",
    "elif 조건2:\n",
    "    실행2\n",
    "else:\n",
    "    실행3\n",
    "```"
   ]
  },
  {
   "cell_type": "markdown",
   "id": "3b6c507c",
   "metadata": {
    "slideshow": {
     "slide_type": "subslide"
    }
   },
   "source": [
    "### comparison operators\n",
    "\n",
    "* a == b  \n",
    "* a != b  \n",
    "* a < b  \n",
    "* a > b  \n",
    "* a <= b  \n",
    "* a >= b  "
   ]
  },
  {
   "cell_type": "code",
   "execution_count": null,
   "id": "f89401a4",
   "metadata": {
    "slideshow": {
     "slide_type": "fragment"
    }
   },
   "outputs": [],
   "source": [
    "a = 1\n",
    "b = 2\n",
    "if a < b:\n",
    "    print('a < b')\n",
    "else:\n",
    "    print('a >= b')"
   ]
  },
  {
   "cell_type": "markdown",
   "id": "c2acf442-e00e-4e43-8c38-6ae81ffb69a1",
   "metadata": {
    "slideshow": {
     "slide_type": "subslide"
    }
   },
   "source": [
    "## 4-4. 반복문\n",
    "\n",
    "* for\n",
    "* while"
   ]
  },
  {
   "cell_type": "markdown",
   "id": "2cfb72f3",
   "metadata": {
    "slideshow": {
     "slide_type": "subslide"
    }
   },
   "source": [
    "### for\n",
    "\n",
    "```python \n",
    "for var in list:\n",
    "    run1\n",
    "```"
   ]
  },
  {
   "cell_type": "markdown",
   "id": "5d16bfc9",
   "metadata": {
    "slideshow": {
     "slide_type": "fragment"
    }
   },
   "source": [
    "* 리스트 내용 출력하기"
   ]
  },
  {
   "cell_type": "code",
   "execution_count": null,
   "id": "15d20315",
   "metadata": {
    "slideshow": {
     "slide_type": "fragment"
    }
   },
   "outputs": [],
   "source": [
    "list1 = ['name1', 'name2', 'name3']\n",
    "for name in list1:\n",
    "    print(name)"
   ]
  },
  {
   "cell_type": "markdown",
   "id": "8766055d",
   "metadata": {
    "slideshow": {
     "slide_type": "fragment"
    }
   },
   "source": [
    "* 1~10 출력하기"
   ]
  },
  {
   "cell_type": "code",
   "execution_count": null,
   "id": "d9034fee",
   "metadata": {
    "slideshow": {
     "slide_type": "fragment"
    }
   },
   "outputs": [],
   "source": [
    "for n in range(1,11):\n",
    "    print(n)"
   ]
  },
  {
   "cell_type": "markdown",
   "id": "fc9e7f59",
   "metadata": {
    "slideshow": {
     "slide_type": "subslide"
    }
   },
   "source": [
    "### while\n",
    "\n",
    "```python\n",
    "while 조건1:\n",
    "    실행1\n",
    "```"
   ]
  },
  {
   "cell_type": "markdown",
   "id": "2128bc07",
   "metadata": {
    "slideshow": {
     "slide_type": "fragment"
    }
   },
   "source": [
    "* 리스트에 1~10 입력하기"
   ]
  },
  {
   "cell_type": "code",
   "execution_count": null,
   "id": "1ce79054",
   "metadata": {
    "slideshow": {
     "slide_type": "fragment"
    }
   },
   "outputs": [],
   "source": [
    "list1 = []\n",
    "n = 0\n",
    "while n <= 10:\n",
    "    list1.append(n)\n",
    "    n += 1\n",
    "print(list1)"
   ]
  },
  {
   "cell_type": "markdown",
   "id": "3a612e70",
   "metadata": {
    "slideshow": {
     "slide_type": "skip"
    }
   },
   "source": [
    "---"
   ]
  },
  {
   "cell_type": "markdown",
   "id": "9feb5ca6-9a3f-4b98-b2ba-9462ce7a1303",
   "metadata": {
    "slideshow": {
     "slide_type": "slide"
    }
   },
   "source": [
    "# 5. Web에 대한 기초"
   ]
  },
  {
   "cell_type": "markdown",
   "id": "e9d11ab4-ecaf-40b8-806e-58723859928e",
   "metadata": {
    "slideshow": {
     "slide_type": "subslide"
    }
   },
   "source": [
    "![network image1](./img/network_1.jpg)"
   ]
  },
  {
   "cell_type": "markdown",
   "id": "3beacff0-704d-42be-b8bf-0fdbcd0db878",
   "metadata": {
    "slideshow": {
     "slide_type": "fragment"
    }
   },
   "source": [
    "## 5-1. Internet Protocol\n",
    "\n",
    "* 서로 연결하기 위한 프로토콜 - 어떻게 동작할 것인가에 대해 합의: 어떠한 요청을 할 수 있는지, 정보는 어떠한 형식으로 교환할 것인지 등  \n",
    "\n",
    "* Internet Protocol\n",
    "  * Physical Layer  \n",
    "  * Network Layer: 예)IP Address\n",
    "  * Transport Layer: 예)TCP(Transmission Control Protocol)\n",
    "  * Application Layer: 예)HTTP(Hypertext Transport Protocol), FTP"
   ]
  },
  {
   "cell_type": "markdown",
   "id": "bf0f1456-51a4-4c66-9a23-17f7aeccec33",
   "metadata": {
    "slideshow": {
     "slide_type": "subslide"
    }
   },
   "source": [
    "![network image2](./img/network_2.jpg)\n"
   ]
  },
  {
   "cell_type": "markdown",
   "id": "d4a8bd44",
   "metadata": {
    "slideshow": {
     "slide_type": "fragment"
    }
   },
   "source": [
    "웹페이지 동작\n",
    "- 주소로 접속하여 해당 컴퓨터에 특정 요청을 함\n",
    "- 요청 받은 파일을 전달함\n",
    "- 웹브라우저가 코드를 변환하여 화면에 표시함"
   ]
  },
  {
   "cell_type": "markdown",
   "id": "0fc2546b-6d29-4e63-8ade-deb025c54db7",
   "metadata": {
    "slideshow": {
     "slide_type": "subslide"
    }
   },
   "source": [
    "## 5-2. 웹페이지 기본 구조\n"
   ]
  },
  {
   "cell_type": "markdown",
   "id": "3c0dc554",
   "metadata": {
    "slideshow": {
     "slide_type": "fragment"
    }
   },
   "source": [
    "* HTML: 구조\n",
    "* CSS: 디자인\n",
    "* javascript: 기능"
   ]
  },
  {
   "cell_type": "markdown",
   "id": "ecc32aa0-8f08-4799-bf58-92a29f4af851",
   "metadata": {
    "slideshow": {
     "slide_type": "subslide"
    },
    "tags": []
   },
   "source": [
    "### HTML - Hypertext Markup Language"
   ]
  },
  {
   "cell_type": "markdown",
   "id": "5ea69601",
   "metadata": {
    "slideshow": {
     "slide_type": "fragment"
    },
    "tags": []
   },
   "source": [
    "Hypertext: Linked documents  \n",
    "Markup: Instruction text (Publishing)"
   ]
  },
  {
   "cell_type": "markdown",
   "id": "2c5f74ca",
   "metadata": {
    "slideshow": {
     "slide_type": "fragment"
    }
   },
   "source": [
    "- 우클릭 > 페이지 소스보기\n",
    "\n",
    "```html\n",
    "<!DOCTYPE html>\n",
    "<html>\n",
    "    <head>\n",
    "        <title>Title</title>\n",
    "    </head>\n",
    "    <body>\n",
    "        Body\n",
    "        <a href=\"http://\">link</a>\n",
    "    </body>\n",
    "</html>\n",
    "```\n"
   ]
  },
  {
   "cell_type": "markdown",
   "id": "61a027ad",
   "metadata": {
    "slideshow": {
     "slide_type": "fragment"
    }
   },
   "source": [
    "* tag\n",
    "```html\n",
    "<a> anchor </a> \n",
    "```\n",
    "* attribute, value\n",
    "```html\n",
    "<a href=\"http://\">hypertext reference</a>\n",
    "<body class=\"bodyclass\">body</body>\n",
    "```"
   ]
  },
  {
   "cell_type": "markdown",
   "id": "364433a6-7cbe-44fd-a31c-cc529b622761",
   "metadata": {
    "slideshow": {
     "slide_type": "subslide"
    }
   },
   "source": [
    "### CSS - Cascading Style Sheets\n",
    "\n",
    "font size, color 등 웹페이지의 디자인을 담당  \n",
    "\n",
    "property와 value로 구성\n",
    "\n",
    "```css\n",
    "h1 {\n",
    "    color: red;\n",
    "}\n",
    ".bodyclass {\n",
    "    color: blue;\n",
    "    font-style: bold;\n",
    "}\n",
    "```"
   ]
  },
  {
   "cell_type": "markdown",
   "id": "b6339b3b-f21c-41cb-8087-a3dd2cb458a0",
   "metadata": {
    "slideshow": {
     "slide_type": "skip"
    }
   },
   "source": [
    "---"
   ]
  },
  {
   "cell_type": "markdown",
   "id": "3e49e1a1-be56-470b-bbce-fd59219ec881",
   "metadata": {
    "slideshow": {
     "slide_type": "slide"
    }
   },
   "source": [
    "# 6. Web Scraping 기초"
   ]
  },
  {
   "cell_type": "markdown",
   "id": "16ab7fcb-c072-462f-b8ea-60f571b9e7ca",
   "metadata": {
    "slideshow": {
     "slide_type": "subslide"
    }
   },
   "source": [
    "## 6-0. Open API?\n",
    "\n",
    "외부에서 누구나 사용할 수 있도록 공개된 프로그래밍 인터페이스  \n",
    "\n",
    "\n",
    "* 공공데이터포털: https://www.data.go.kr/\n",
    "* 네이버: https://developers.naver.com/products/intro/plan/plan.md  \n",
    "  네이버 뉴스: https://developers.naver.com/docs/serviceapi/search/news/news.md#%EB%89%B4%EC%8A%A4\n",
    "* 카카오: https://developers.kakao.com/product\n"
   ]
  },
  {
   "cell_type": "markdown",
   "id": "d1563016",
   "metadata": {
    "slideshow": {
     "slide_type": "fragment"
    }
   },
   "source": [
    "1. API 이용신청\n",
    "2. Application 등록 - localhost / 127.0.0.1\n",
    "3. Documentation 활용"
   ]
  },
  {
   "cell_type": "markdown",
   "id": "043da4e8-9e75-419f-8d9c-fe13f9316340",
   "metadata": {
    "slideshow": {
     "slide_type": "subslide"
    }
   },
   "source": [
    "## 6-1. 과정\n",
    "\n",
    "1. 웹페이지 가져오기 - selenium / requests\n",
    "2. 페이지 구조 분석 - selenium / beautifulsoup \n",
    "3. 필요한 부분 추출 - css selector / xpath\n",
    "4. 데이터 저장 - pandas"
   ]
  },
  {
   "cell_type": "markdown",
   "id": "7838d1fe-dc7a-4f2a-ab1b-5f76f71f931f",
   "metadata": {
    "slideshow": {
     "slide_type": "subslide"
    }
   },
   "source": [
    "## 6-2. 예제 1: 대통령 연설문"
   ]
  },
  {
   "cell_type": "markdown",
   "id": "287337a7-a104-48f4-b7f8-d3b1daaa0ba8",
   "metadata": {
    "slideshow": {
     "slide_type": "subslide"
    }
   },
   "source": [
    "### 6-2-1. 웹페이지 가져오기 - Selenium\n",
    "\n",
    "청와대 홈페이지 연설문: https://www1.president.go.kr/c/president-speeches"
   ]
  },
  {
   "cell_type": "code",
   "execution_count": null,
   "id": "9405dd21-e524-4f5e-a0b3-7556744e6e60",
   "metadata": {
    "slideshow": {
     "slide_type": "fragment"
    }
   },
   "outputs": [],
   "source": [
    "from selenium import webdriver"
   ]
  },
  {
   "cell_type": "code",
   "execution_count": null,
   "id": "a2080ff9-4f85-4624-b7ae-5f645018606f",
   "metadata": {
    "slideshow": {
     "slide_type": "fragment"
    }
   },
   "outputs": [],
   "source": [
    "driver = webdriver.Chrome('./chromedriver')\n",
    "url = 'https://www1.president.go.kr/c/president-speeches'\n",
    "driver.get(url)"
   ]
  },
  {
   "cell_type": "markdown",
   "id": "9b5c0821",
   "metadata": {
    "slideshow": {
     "slide_type": "fragment"
    }
   },
   "source": [
    "#### Selenium 소개"
   ]
  },
  {
   "cell_type": "code",
   "execution_count": null,
   "id": "151a9098",
   "metadata": {
    "slideshow": {
     "slide_type": "fragment"
    }
   },
   "outputs": [],
   "source": [
    "more_button = driver.find_element_by_xpath('//*[@id=\"cont_view\"]/div[2]/div/div[3]/div/div[1]/div/div[1]/a/div[1]/div')\n",
    "more_button.click()"
   ]
  },
  {
   "cell_type": "code",
   "execution_count": null,
   "id": "589309df",
   "metadata": {
    "slideshow": {
     "slide_type": "fragment"
    }
   },
   "outputs": [],
   "source": [
    "driver.back()"
   ]
  },
  {
   "cell_type": "code",
   "execution_count": null,
   "id": "0326e0ff",
   "metadata": {
    "slideshow": {
     "slide_type": "fragment"
    }
   },
   "outputs": [],
   "source": [
    "search_button = driver.find_element_by_css_selector('#webNavi > p > a')\n",
    "search_button.click()"
   ]
  },
  {
   "cell_type": "code",
   "execution_count": null,
   "id": "db441f33",
   "metadata": {
    "slideshow": {
     "slide_type": "fragment"
    }
   },
   "outputs": [],
   "source": [
    "search_field = driver.find_element_by_id('query')\n",
    "search_field.send_keys('연설문')"
   ]
  },
  {
   "cell_type": "code",
   "execution_count": null,
   "id": "13188ada",
   "metadata": {
    "slideshow": {
     "slide_type": "fragment"
    }
   },
   "outputs": [],
   "source": [
    "from selenium.webdriver.common.keys import Keys\n",
    "search_field.send_keys(Keys.ENTER)"
   ]
  },
  {
   "cell_type": "code",
   "execution_count": null,
   "id": "0816d8b2",
   "metadata": {},
   "outputs": [],
   "source": [
    "driver.execute_script(\"window.scrollTo(0, document.body.scrollHeight)\")"
   ]
  },
  {
   "cell_type": "code",
   "execution_count": null,
   "id": "b14c2cc2",
   "metadata": {
    "slideshow": {
     "slide_type": "fragment"
    }
   },
   "outputs": [],
   "source": [
    "driver.quit()"
   ]
  },
  {
   "cell_type": "code",
   "execution_count": null,
   "id": "4a2d344a",
   "metadata": {
    "slideshow": {
     "slide_type": "subslide"
    }
   },
   "outputs": [],
   "source": [
    "from selenium import webdriver\n",
    "\n",
    "driver = webdriver.Chrome('./chromedriver')\n",
    "url = 'https://www1.president.go.kr/c/president-speeches'\n",
    "driver.get(url)"
   ]
  },
  {
   "cell_type": "markdown",
   "id": "aed16ea0-2005-4037-a8f9-6d099eea8d7b",
   "metadata": {
    "slideshow": {
     "slide_type": "subslide"
    }
   },
   "source": [
    "### 6-2-2. 페이지 구조 분석"
   ]
  },
  {
   "cell_type": "markdown",
   "id": "52842f16",
   "metadata": {
    "slideshow": {
     "slide_type": "fragment"
    }
   },
   "source": [
    "웹페이지에서 필요한 부분만을 추출하기 위해 해당 페이지의 대략적인 구조 파악  \n",
    "\n",
    "div, p 등 동일한 tag가 반복적으로 사용되기 때문에 상대적인 위치, tag의 속성과 속성값까지 활용  "
   ]
  },
  {
   "cell_type": "markdown",
   "id": "b850b120",
   "metadata": {
    "slideshow": {
     "slide_type": "fragment"
    }
   },
   "source": [
    "#### CSS Selector\n",
    "\n",
    "* element 우클릭 > Copy selector\n",
    "  * #cont_view > div.cs_area > div > div.sub_container1.fff > div > div:nth-child(1) > div > div.list_txt > a > div.list_txt_title > h3\n"
   ]
  },
  {
   "cell_type": "markdown",
   "id": "801466c1",
   "metadata": {
    "slideshow": {
     "slide_type": "fragment"
    }
   },
   "source": [
    "#### XPath\n",
    "\n",
    "* element 우클릭 > Copy XPath\n",
    "  * //*[@id=\"cont_view\"]/div[2]/div/div[3]/div/div[1]/div/div[1]/a/div[1]/h3\n",
    "  * /html/body/div[2]/div[2]/section[2]/div[2]/div/div[3]/div/div[1]/div/div[1]/a/div[1]/h3\n",
    "* / : 절대경로\n",
    "* // : 문서 내에서 검색\n",
    "* //@href : href 속성이 있는 모든 태그 선택\n",
    "* //*[@id='id1'] : 'id' 속성에 'id1' 속성값을 가진 모든 태그 선택 "
   ]
  },
  {
   "cell_type": "markdown",
   "id": "924e4543-16ab-416f-9734-1cd6fe5fed7a",
   "metadata": {
    "slideshow": {
     "slide_type": "subslide"
    }
   },
   "source": [
    "### 6-2-3. 필요한 부분 추출"
   ]
  },
  {
   "cell_type": "markdown",
   "id": "d942eb7a",
   "metadata": {
    "slideshow": {
     "slide_type": "fragment"
    }
   },
   "source": [
    "#### Selenium\n",
    "\n",
    "* find_element_by_id\n",
    "* find_element_by_name\n",
    "* find_element_by_tag_name\n",
    "* find_element_by_class_name\n",
    "* find_element_by_css_selector\n",
    "* find_element_by_xpath"
   ]
  },
  {
   "cell_type": "code",
   "execution_count": null,
   "id": "201e1ceb",
   "metadata": {
    "slideshow": {
     "slide_type": "fragment"
    }
   },
   "outputs": [],
   "source": [
    "# 제목 1:\n",
    "speech_title = driver.find_element_by_css_selector('#cont_view > div.cs_area > div > div.sub_container1.fff > div > div:nth-child(1) > div > div.list_txt > a > div.list_txt_title > h3')\n",
    "print(speech_title.text)"
   ]
  },
  {
   "cell_type": "code",
   "execution_count": null,
   "id": "4aa7ebaa",
   "metadata": {
    "slideshow": {
     "slide_type": "subslide"
    }
   },
   "outputs": [],
   "source": [
    "speech_titles = driver.find_elements_by_css_selector('h3')\n",
    "for num, title in enumerate(speech_titles):\n",
    "    print(num, title.text)"
   ]
  },
  {
   "cell_type": "code",
   "execution_count": null,
   "id": "2befa639-44c1-44b4-908e-96982106c998",
   "metadata": {
    "slideshow": {
     "slide_type": "fragment"
    }
   },
   "outputs": [],
   "source": [
    "speech_titles = driver.find_elements_by_css_selector('div.list_txt_title > h3')\n",
    "for num, title in enumerate(speech_titles):\n",
    "    print(num, title.text)"
   ]
  },
  {
   "cell_type": "code",
   "execution_count": null,
   "id": "a31901dc-7d06-4387-9b58-adc0a08b87f0",
   "metadata": {
    "slideshow": {
     "slide_type": "subslide"
    }
   },
   "outputs": [],
   "source": [
    "speech_summaries = driver.find_elements_by_css_selector('div.list_txt_cont')\n",
    "speech_dates = driver.find_elements_by_css_selector('p.list_txt_date')"
   ]
  },
  {
   "cell_type": "code",
   "execution_count": null,
   "id": "8688d30a-6cda-499d-96e1-a47c994b9cb4",
   "metadata": {
    "slideshow": {
     "slide_type": "subslide"
    }
   },
   "outputs": [],
   "source": [
    "speech_urls = driver.find_elements_by_css_selector('div.list_txt > a')\n",
    "for num, url in enumerate(speech_urls):\n",
    "    print(num, url.text)"
   ]
  },
  {
   "cell_type": "markdown",
   "id": "b8ada891-943a-43b6-90d6-039dc620f5e3",
   "metadata": {
    "slideshow": {
     "slide_type": "subslide"
    }
   },
   "source": [
    "### 6-2-4. 데이터 저장"
   ]
  },
  {
   "cell_type": "code",
   "execution_count": null,
   "id": "9e2013b7-eb46-4b89-b98f-4868ff7e13d5",
   "metadata": {
    "slideshow": {
     "slide_type": "fragment"
    }
   },
   "outputs": [],
   "source": [
    "speech_list = []\n",
    "for n in range(len(speech_dates)):\n",
    "    speech_list.append(\n",
    "        {\n",
    "            'title': speech_titles[n].text,\n",
    "            'summary': speech_summaries[n].text,\n",
    "            'date': speech_dates[n].text,\n",
    "            'url': speech_urls[n].get_attribute('href')\n",
    "        })"
   ]
  },
  {
   "cell_type": "code",
   "execution_count": null,
   "id": "7a954d73-bdd5-4320-b4d3-1deb1680f15b",
   "metadata": {
    "slideshow": {
     "slide_type": "fragment"
    }
   },
   "outputs": [],
   "source": [
    "import pandas as pd"
   ]
  },
  {
   "cell_type": "code",
   "execution_count": null,
   "id": "7f0155e2-3c58-40b8-b53b-1ed4a86edf17",
   "metadata": {
    "slideshow": {
     "slide_type": "fragment"
    }
   },
   "outputs": [],
   "source": [
    "speech_df = pd.DataFrame(speech_list)"
   ]
  },
  {
   "cell_type": "code",
   "execution_count": null,
   "id": "d2ae5ce2",
   "metadata": {
    "slideshow": {
     "slide_type": "fragment"
    }
   },
   "outputs": [],
   "source": [
    "speech_df.head()"
   ]
  },
  {
   "cell_type": "code",
   "execution_count": null,
   "id": "6dbbbe3b-1acf-433d-b371-18b5453ca227",
   "metadata": {
    "slideshow": {
     "slide_type": "fragment"
    }
   },
   "outputs": [],
   "source": [
    "speech_df.to_csv('president_speech_ex1.csv', encoding='utf-8-sig')"
   ]
  },
  {
   "cell_type": "markdown",
   "id": "61ef98c8-0122-4ae4-b906-58ebf83d0ce7",
   "metadata": {
    "slideshow": {
     "slide_type": "subslide"
    }
   },
   "source": [
    "### 6-2-5. 정리"
   ]
  },
  {
   "cell_type": "markdown",
   "id": "7a12ba57",
   "metadata": {
    "slideshow": {
     "slide_type": "subslide"
    }
   },
   "source": [
    "#### 방식 1"
   ]
  },
  {
   "cell_type": "code",
   "execution_count": null,
   "id": "92387b44-fcc2-4228-9502-ff95db92ebd6",
   "metadata": {
    "slideshow": {
     "slide_type": "fragment"
    }
   },
   "outputs": [],
   "source": [
    "from selenium import webdriver\n",
    "import pandas as pd\n",
    "\n",
    "driver = webdriver.Chrome('./chromedriver')\n",
    "url = 'https://www1.president.go.kr/c/president-speeches'\n",
    "driver.get(url)\n",
    "\n",
    "speech_titles = driver.find_elements_by_css_selector('div.list_txt_title > h3')\n",
    "speech_summaries = driver.find_elements_by_css_selector('div.list_txt_cont')\n",
    "speech_dates = driver.find_elements_by_css_selector('p.list_txt_date')\n",
    "speech_urls = driver.find_elements_by_css_selector('div.list_txt > a')\n",
    "\n",
    "speech_list = []\n",
    "for n in range(len(speech_dates)):\n",
    "    speech_list.append(\n",
    "        {\n",
    "            'title': speech_titles[n].text,\n",
    "            'summary': speech_summaries[n].text,\n",
    "            'date': speech_dates[n].text,\n",
    "            'url': speech_urls[n].get_attribute('href')\n",
    "        })\n",
    "    \n",
    "driver.quit()\n",
    "\n",
    "speech_df = pd.DataFrame(speech_list)\n",
    "speech_df.to_csv('president_speech_ex1.csv', encoding='utf-8-sig')"
   ]
  },
  {
   "cell_type": "markdown",
   "id": "277bf24b",
   "metadata": {
    "slideshow": {
     "slide_type": "subslide"
    }
   },
   "source": [
    "#### 방식 2"
   ]
  },
  {
   "cell_type": "code",
   "execution_count": null,
   "id": "805af0bf-a463-44e4-a89b-951524a08bad",
   "metadata": {
    "scrolled": true,
    "slideshow": {
     "slide_type": "fragment"
    }
   },
   "outputs": [],
   "source": [
    "from selenium import webdriver\n",
    "import pandas as pd\n",
    "\n",
    "driver = webdriver.Chrome('./chromedriver')\n",
    "url = 'https://www1.president.go.kr/c/president-speeches'\n",
    "driver.get(url)\n",
    "\n",
    "speeches = driver.find_elements_by_xpath('//*[@id=\"cont_view\"]/div[2]/div/div[3]/div/div')\n",
    "\n",
    "speech_list = []\n",
    "for speech in speeches:\n",
    "    title = speech.find_element_by_xpath('div/div[1]/a/div[1]/h3').text\n",
    "    summary = speech.find_element_by_xpath('div/div[1]/a/div[2]').text\n",
    "    date = speech.find_element_by_xpath('div/div[1]/a/p').text\n",
    "    url = speech.find_element_by_xpath('div/div[1]/a').get_attribute('href')\n",
    "    speech_list.append({'title':title, 'summary':summary, 'date':date, 'url':url})\n",
    "    \n",
    "driver.quit()\n",
    "\n",
    "speech_df = pd.DataFrame(speech_list)\n",
    "speech_df.to_csv('president_speech_ex2.csv', encoding='utf-8-sig')"
   ]
  },
  {
   "cell_type": "markdown",
   "id": "f818c4b0",
   "metadata": {
    "slideshow": {
     "slide_type": "slide"
    }
   },
   "source": [
    "# 7. 연결된 웹페이지 데이터 가져오기"
   ]
  },
  {
   "cell_type": "markdown",
   "id": "ac71fd04",
   "metadata": {
    "slideshow": {
     "slide_type": "fragment"
    }
   },
   "source": [
    "* 연설문 목록의 일부를 가져왔지만, 연설문 전문이 필요"
   ]
  },
  {
   "cell_type": "markdown",
   "id": "58568dae",
   "metadata": {
    "slideshow": {
     "slide_type": "fragment"
    }
   },
   "source": [
    "* 연설문 전문이 있는 웹페이지 링크는 이미 가져옴"
   ]
  },
  {
   "cell_type": "code",
   "execution_count": null,
   "id": "fe795624",
   "metadata": {
    "slideshow": {
     "slide_type": "fragment"
    }
   },
   "outputs": [],
   "source": [
    "speech_list"
   ]
  },
  {
   "cell_type": "code",
   "execution_count": null,
   "id": "0c9dac35-bb8f-48e6-aea2-46a512f63f95",
   "metadata": {
    "slideshow": {
     "slide_type": "subslide"
    }
   },
   "outputs": [],
   "source": [
    "speech_list[0]['url']"
   ]
  },
  {
   "cell_type": "code",
   "execution_count": null,
   "id": "7e728ba7",
   "metadata": {
    "slideshow": {
     "slide_type": "fragment"
    }
   },
   "outputs": [],
   "source": [
    "for speech in speech_list:\n",
    "    print(speech['url'])"
   ]
  },
  {
   "cell_type": "code",
   "execution_count": null,
   "id": "aa40859c",
   "metadata": {
    "slideshow": {
     "slide_type": "subslide"
    }
   },
   "outputs": [],
   "source": [
    "speech_df"
   ]
  },
  {
   "cell_type": "markdown",
   "id": "93f04ffe",
   "metadata": {
    "slideshow": {
     "slide_type": "subslide"
    }
   },
   "source": [
    "## 7-1. 연결된 웹페이지 분석  "
   ]
  },
  {
   "cell_type": "markdown",
   "id": "df6938d7",
   "metadata": {
    "slideshow": {
     "slide_type": "fragment"
    }
   },
   "source": [
    "가져오고자 하는 연설문 전문 웹페이지에서 패턴 분석\n",
    "\n",
    "* #cont_view > div > div > div.cs_view.cs_v1.wrap.text.left > div.text.left.cb.text_wrap.motion.fadeIn.visible > table > tbody\n",
    "* #cont_view > div > div > div.cs_view.cs_v1.wrap.text.left > div.text.left.cb.text_wrap.motion.fadeIn.visible\n",
    "* #cont_view > div > div > div.cs_view.cs_v1.wrap.text.left > div.text.left.cb.text_wrap.motion.fadeIn.visible\n",
    "* #cont_view > div > div > div.cs_view.cs_v1.wrap.text.left > div.text.left.cb.text_wrap.motion.fadeIn.visible\n",
    "* #cont_view > div > div > div.cs_view.cs_v1.wrap.text.left > div.text.left.cb.text_wrap.motion.fadeIn.visible"
   ]
  },
  {
   "cell_type": "code",
   "execution_count": null,
   "id": "5cea5192",
   "metadata": {
    "slideshow": {
     "slide_type": "fragment"
    }
   },
   "outputs": [],
   "source": [
    "from selenium import webdriver\n",
    "import pandas as pd\n",
    "\n",
    "driver = webdriver.Chrome('./chromedriver')"
   ]
  },
  {
   "cell_type": "code",
   "execution_count": null,
   "id": "94a97caa",
   "metadata": {
    "slideshow": {
     "slide_type": "fragment"
    }
   },
   "outputs": [],
   "source": [
    "url = speech_list[0]['url']\n",
    "driver.get(url)\n",
    "speech_body = driver.find_element_by_css_selector('div.text.left.cb.text_wrap.motion.fadeIn.visible').text\n",
    "print(speech_body)"
   ]
  },
  {
   "cell_type": "code",
   "execution_count": null,
   "id": "4c8fe46f",
   "metadata": {
    "slideshow": {
     "slide_type": "subslide"
    }
   },
   "outputs": [],
   "source": [
    "speech_list[0]['body'] = speech_body"
   ]
  },
  {
   "cell_type": "code",
   "execution_count": null,
   "id": "d6cb3bc6",
   "metadata": {
    "slideshow": {
     "slide_type": "fragment"
    }
   },
   "outputs": [],
   "source": [
    "speech_list[0]"
   ]
  },
  {
   "cell_type": "code",
   "execution_count": null,
   "id": "06f49f8b",
   "metadata": {
    "slideshow": {
     "slide_type": "fragment"
    }
   },
   "outputs": [],
   "source": [
    "speech_list[0]['body']"
   ]
  },
  {
   "cell_type": "markdown",
   "id": "e369b020",
   "metadata": {
    "slideshow": {
     "slide_type": "subslide"
    }
   },
   "source": [
    "## 7-2. 추출 자동화  "
   ]
  },
  {
   "cell_type": "code",
   "execution_count": null,
   "id": "4cd81316",
   "metadata": {
    "slideshow": {
     "slide_type": "subslide"
    }
   },
   "outputs": [],
   "source": [
    "import time\n",
    "\n",
    "for n in range(len(speech_list)):\n",
    "    url = speech_list[n]['url']\n",
    "    driver.get(url)\n",
    "    time.sleep(2)\n",
    "    speech_body = driver.find_element_by_css_selector('div.text.left.cb.text_wrap.motion.fadeIn.visible').text\n",
    "    speech_list[n]['body'] = speech_body"
   ]
  },
  {
   "cell_type": "code",
   "execution_count": null,
   "id": "8cc146ad-2e60-463f-818b-5a55d5dd9cff",
   "metadata": {
    "slideshow": {
     "slide_type": "fragment"
    }
   },
   "outputs": [],
   "source": [
    "speech_list"
   ]
  },
  {
   "cell_type": "code",
   "execution_count": null,
   "id": "1cf4171f",
   "metadata": {
    "slideshow": {
     "slide_type": "fragment"
    }
   },
   "outputs": [],
   "source": [
    "speech_df = pd.DataFrame(speech_list)\n",
    "speech_df.to_csv('president_speech_fulltext.csv', encoding='utf-8-sig')"
   ]
  },
  {
   "cell_type": "markdown",
   "id": "ba78c7f5",
   "metadata": {
    "slideshow": {
     "slide_type": "slide"
    }
   },
   "source": [
    "# 8. 다음 페이지로 넘어가는 방법: Pagination  \n",
    "\n"
   ]
  },
  {
   "cell_type": "markdown",
   "id": "3c20f9f2",
   "metadata": {
    "slideshow": {
     "slide_type": "fragment"
    }
   },
   "source": [
    "짧은 시간에 페이지 호출을 너무 많이 하게 되면 서버에서 접속을 차단할 수도 있음"
   ]
  },
  {
   "cell_type": "markdown",
   "id": "2884b2d4",
   "metadata": {
    "slideshow": {
     "slide_type": "subslide"
    }
   },
   "source": [
    "## 8-1. 비효율적인 방법"
   ]
  },
  {
   "cell_type": "code",
   "execution_count": null,
   "id": "19bb1d40",
   "metadata": {
    "slideshow": {
     "slide_type": "fragment"
    }
   },
   "outputs": [],
   "source": [
    "from selenium import webdriver\n",
    "import pandas as pd\n",
    "\n",
    "driver = webdriver.Chrome('./chromedriver')\n",
    "url = 'https://www1.president.go.kr/c/president-speeches'\n",
    "driver.get(url)"
   ]
  },
  {
   "cell_type": "code",
   "execution_count": null,
   "id": "6c366567",
   "metadata": {
    "slideshow": {
     "slide_type": "fragment"
    }
   },
   "outputs": [],
   "source": [
    "page_2_button = driver.find_element_by_xpath('//*[@id=\"cont_view\"]/div[2]/div/div[4]/div/div[1]/a[2]')\n",
    "page_2_button.click()"
   ]
  },
  {
   "cell_type": "code",
   "execution_count": null,
   "id": "dfda5c6b",
   "metadata": {
    "slideshow": {
     "slide_type": "fragment"
    }
   },
   "outputs": [],
   "source": [
    "page_2_button = driver.find_element_by_xpath('//*[@id=\"cont_view\"]/div[2]/div/div[4]/div/div[1]/a[2]')\n",
    "page_2_button.click()\n",
    "driver.execute_script(\"window.scrollTo(0, document.body.scrollHeight)\")b"
   ]
  },
  {
   "cell_type": "markdown",
   "id": "ccdeef41",
   "metadata": {
    "slideshow": {
     "slide_type": "fragment"
    }
   },
   "source": [
    "* page2: //*[@id=\"cont_view\"]/div[2]/div/div[4]/div/div[1]/a[2]\n",
    "* page3: //*[@id=\"cont_view\"]/div[2]/div/div[4]/div/div[1]/a[3]\n",
    "* Next: //*[@id=\"cont_view\"]/div[2]/div/div[4]/div/div[2]/a"
   ]
  },
  {
   "cell_type": "code",
   "execution_count": null,
   "id": "56f9d675",
   "metadata": {
    "slideshow": {
     "slide_type": "subslide"
    }
   },
   "outputs": [],
   "source": [
    "import time\n",
    "\n",
    "for page_n in range(2,11):\n",
    "    page_button = driver.find_element_by_xpath(f'//*[@id=\"cont_view\"]/div[2]/div/div[4]/div/div[1]/a[{page_n}]')\n",
    "    page_button.click()\n",
    "    driver.execute_script(\"window.scrollTo(0, document.body.scrollHeight)\")\n",
    "    time.sleep(2)"
   ]
  },
  {
   "cell_type": "code",
   "execution_count": null,
   "id": "a9b91023",
   "metadata": {
    "slideshow": {
     "slide_type": "subslide"
    }
   },
   "outputs": [],
   "source": [
    "for page_10_n in range(1, 3):\n",
    "    for page_n in range(2,11):\n",
    "        page_button = driver.find_element_by_xpath(f'//*[@id=\"cont_view\"]/div[2]/div/div[4]/div/div[1]/a[{page_n}]')\n",
    "        page_button.click()\n",
    "        driver.execute_script(\"window.scrollTo(0, document.body.scrollHeight)\")\n",
    "        time.sleep(2)\n",
    "    page_next_button = driver.find_element_by_xpath('//*[@id=\"cont_view\"]/div[2]/div/div[4]/div/div[2]/a')\n",
    "    page_next_button.click()\n",
    "    driver.execute_script(\"window.scrollTo(0, document.body.scrollHeight)\")\n",
    "    time.sleep(2)"
   ]
  },
  {
   "cell_type": "markdown",
   "id": "4e1c6adc",
   "metadata": {
    "slideshow": {
     "slide_type": "subslide"
    }
   },
   "source": [
    "## 8-2. 조금 더 효율적인 방법"
   ]
  },
  {
   "cell_type": "code",
   "execution_count": null,
   "id": "de1e8177-07a5-430b-b483-cd0aa00370ad",
   "metadata": {
    "slideshow": {
     "slide_type": "fragment"
    }
   },
   "outputs": [],
   "source": [
    "from selenium import webdriver\n",
    "import pandas as pd\n",
    "import time\n",
    "driver = webdriver.Chrome('./chromedriver')"
   ]
  },
  {
   "cell_type": "code",
   "execution_count": null,
   "id": "09e07c37",
   "metadata": {
    "slideshow": {
     "slide_type": "fragment"
    }
   },
   "outputs": [],
   "source": [
    "url = 'https://www1.president.go.kr/c/president-speeches'\n",
    "driver.get(url)"
   ]
  },
  {
   "cell_type": "code",
   "execution_count": null,
   "id": "c4b1bcf1",
   "metadata": {
    "slideshow": {
     "slide_type": "fragment"
    }
   },
   "outputs": [],
   "source": [
    "url_base = 'https://www1.president.go.kr/c/president-speeches?page='\n",
    "for page_number in range(1,4):\n",
    "    url = url_base + str(page_number)\n",
    "    print(url)"
   ]
  },
  {
   "cell_type": "code",
   "execution_count": null,
   "id": "565bcb2a-2ccd-4b6f-987e-ab89610420f7",
   "metadata": {
    "slideshow": {
     "slide_type": "subslide"
    }
   },
   "outputs": [],
   "source": [
    "url_base = 'https://www1.president.go.kr/c/president-speeches?page='\n",
    "speech_list = []\n",
    "for page_number in range(1,4):\n",
    "    url = url_base + str(page_number)\n",
    "    driver.get(url)\n",
    "    time.sleep(2)\n",
    "    speech_urls = driver.find_elements_by_css_selector('div.list_txt > a')\n",
    "    speech_titles = driver.find_elements_by_css_selector('div.list_txt_title > h3')\n",
    "    speech_summaries = driver.find_elements_by_css_selector('div.list_txt_cont')\n",
    "    speech_dates = driver.find_elements_by_css_selector('p.list_txt_date')\n",
    "    for n in range(len(speech_dates)):\n",
    "        speech_list.append(\n",
    "            {\n",
    "                'title': speech_titles[n].text,\n",
    "                'summary': speech_summaries[n].text,\n",
    "                'date': speech_dates[n].text,\n",
    "                'url': speech_urls[n].get_attribute('href')\n",
    "            })"
   ]
  },
  {
   "cell_type": "code",
   "execution_count": null,
   "id": "ce9b8694",
   "metadata": {
    "slideshow": {
     "slide_type": "fragment"
    }
   },
   "outputs": [],
   "source": [
    "speech_list"
   ]
  },
  {
   "cell_type": "code",
   "execution_count": null,
   "id": "1f9929cc-ad78-424a-9d0a-53036477de87",
   "metadata": {
    "slideshow": {
     "slide_type": "subslide"
    }
   },
   "outputs": [],
   "source": [
    "for n in range(len(speech_list)):\n",
    "    url = speech_list[n]['url']\n",
    "    driver.get(url)\n",
    "    time.sleep(2)\n",
    "    speech_body = driver.find_element_by_css_selector('div.text.left.cb.text_wrap.motion.fadeIn.visible').text\n",
    "    speech_list[n]['body'] = speech_body"
   ]
  },
  {
   "cell_type": "code",
   "execution_count": null,
   "id": "1373b528-3215-4f5b-b3b7-2a9431f18717",
   "metadata": {
    "slideshow": {
     "slide_type": "fragment"
    }
   },
   "outputs": [],
   "source": [
    "speech_df = pd.DataFrame(speech_list)"
   ]
  },
  {
   "cell_type": "code",
   "execution_count": null,
   "id": "4e3f6d08",
   "metadata": {
    "slideshow": {
     "slide_type": "fragment"
    }
   },
   "outputs": [],
   "source": [
    "speech_df.head()"
   ]
  },
  {
   "cell_type": "code",
   "execution_count": null,
   "id": "96d9bc45-7e0b-4ffe-a9ec-d636fe7df4b6",
   "metadata": {
    "slideshow": {
     "slide_type": "fragment"
    }
   },
   "outputs": [],
   "source": [
    "speech_df.to_csv('president_speech_pp1-3.csv', encoding='utf-8-sig')"
   ]
  },
  {
   "cell_type": "markdown",
   "id": "74f360f7",
   "metadata": {
    "slideshow": {
     "slide_type": "subslide"
    }
   },
   "source": [
    "## 8-3. 정리"
   ]
  },
  {
   "cell_type": "markdown",
   "id": "87019137",
   "metadata": {
    "slideshow": {
     "slide_type": "fragment"
    }
   },
   "source": [
    "### 8-3-1. 방식 1"
   ]
  },
  {
   "cell_type": "code",
   "execution_count": null,
   "id": "d9f7056e",
   "metadata": {
    "slideshow": {
     "slide_type": "fragment"
    }
   },
   "outputs": [],
   "source": [
    "from selenium import webdriver\n",
    "import pandas as pd\n",
    "import time\n",
    "\n",
    "driver = webdriver.Chrome('./chromedriver')\n",
    "url_base = 'https://www1.president.go.kr/c/president-speeches?page='\n",
    "\n",
    "speech_list = []\n",
    "for page_number in range(1,4):\n",
    "    url = url_base + str(page_number)\n",
    "    driver.get(url)\n",
    "    time.sleep(2)\n",
    "    \n",
    "    speech_urls = driver.find_elements_by_css_selector('div.list_txt > a')\n",
    "    speech_titles = driver.find_elements_by_css_selector('div.list_txt_title > h3')\n",
    "    speech_summaries = driver.find_elements_by_css_selector('div.list_txt_cont')\n",
    "    speech_dates = driver.find_elements_by_css_selector('p.list_txt_date')\n",
    "    \n",
    "    for n in range(len(speech_dates)):\n",
    "        speech_list.append(\n",
    "            {\n",
    "                'title': speech_titles[n].text,\n",
    "                'summaries': speech_summaries[n].text,\n",
    "                'date': speech_dates[n].text,\n",
    "                'url': speech_urls[n].get_attribute('href')\n",
    "            })\n",
    "        \n",
    "for n in range(len(speech_list)):\n",
    "    url = speech_list[n]['url']\n",
    "    driver.get(url)\n",
    "    time.sleep(2)\n",
    "    speech_body = driver.find_element_by_css_selector('div.text.left.cb.text_wrap.motion.fadeIn.visible').text\n",
    "    speech_list[n]['body'] = speech_body\n",
    "    \n",
    "driver.quit()\n",
    "speech_df = pd.DataFrame(speech_list)\n",
    "speech_df.to_csv('president_speech_pp1-3.csv', encoding='utf-8-sig')"
   ]
  }
 ],
 "metadata": {
  "celltoolbar": "Slideshow",
  "kernelspec": {
   "display_name": "Python 3",
   "language": "python",
   "name": "python3"
  },
  "language_info": {
   "codemirror_mode": {
    "name": "ipython",
    "version": 3
   },
   "file_extension": ".py",
   "mimetype": "text/x-python",
   "name": "python",
   "nbconvert_exporter": "python",
   "pygments_lexer": "ipython3",
   "version": "3.8.10"
  },
  "toc-autonumbering": false,
  "toc-showcode": false,
  "toc-showmarkdowntxt": false,
  "toc-showtags": false
 },
 "nbformat": 4,
 "nbformat_minor": 5
}
