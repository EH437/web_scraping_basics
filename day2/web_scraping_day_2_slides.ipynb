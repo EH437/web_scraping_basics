{
 "cells": [
  {
   "cell_type": "markdown",
   "id": "b7e57141",
   "metadata": {
    "slideshow": {
     "slide_type": "slide"
    },
    "tags": []
   },
   "source": [
    "# Python을 활용한 web scraping 기초\n",
    "\n",
    "2021.08.12"
   ]
  },
  {
   "cell_type": "markdown",
   "id": "b508dbfb-3dd6-498d-97af-5ab8a7be660f",
   "metadata": {
    "slideshow": {
     "slide_type": "-"
    }
   },
   "source": [
    "---"
   ]
  },
  {
   "cell_type": "markdown",
   "id": "e95686d2",
   "metadata": {
    "slideshow": {
     "slide_type": "slide"
    }
   },
   "source": [
    "# Introduction\n",
    "\n",
    "* 초보자 대상\n",
    "* 기본 구조를 이해하고 활용하기 위한 기초 단계 \n",
    "* 가장 기본적인 방법을 통해 데이터 가져오기\n",
    "\n",
    "> (데이터 수집 > 저장) > 정리 > 분석 > 리포트/시각화"
   ]
  },
  {
   "cell_type": "markdown",
   "id": "a0305946",
   "metadata": {
    "slideshow": {
     "slide_type": "slide"
    }
   },
   "source": [
    "# Responsible web scraping\n",
    "\n",
    "* Terms of Service\n",
    "* robots.txt\n",
    "* Open API\n",
    "* Adequate request rate"
   ]
  },
  {
   "cell_type": "markdown",
   "id": "a6584df2",
   "metadata": {
    "slideshow": {
     "slide_type": "fragment"
    }
   },
   "source": [
    "![data_pipeline_xkcd](https://imgs.xkcd.com/comics/data_pipeline.png)"
   ]
  },
  {
   "cell_type": "markdown",
   "id": "c41800af",
   "metadata": {
    "slideshow": {
     "slide_type": "slide"
    }
   },
   "source": [
    "# 예제 2: Job-Alio 공공기관정보\n",
    "\n",
    "공공기관정보: https://job.alio.go.kr/orginfo.do"
   ]
  },
  {
   "cell_type": "code",
   "execution_count": 1,
   "id": "0cdb88f6",
   "metadata": {
    "slideshow": {
     "slide_type": "fragment"
    }
   },
   "outputs": [],
   "source": [
    "from selenium import webdriver\n",
    "import pandas as pd\n",
    "import time\n",
    "\n",
    "driver = webdriver.Chrome('./chromedriver')"
   ]
  },
  {
   "cell_type": "code",
   "execution_count": 2,
   "id": "19271383",
   "metadata": {
    "slideshow": {
     "slide_type": "fragment"
    }
   },
   "outputs": [],
   "source": [
    "url = 'https://job.alio.go.kr/orginfo.do'\n",
    "driver.get(url)"
   ]
  },
  {
   "cell_type": "markdown",
   "id": "942a535e",
   "metadata": {
    "slideshow": {
     "slide_type": "subslide"
    }
   },
   "source": [
    "## 브라우저 제어"
   ]
  },
  {
   "cell_type": "markdown",
   "id": "6a60b940",
   "metadata": {
    "slideshow": {
     "slide_type": "fragment"
    }
   },
   "source": [
    "### Checkbox"
   ]
  },
  {
   "cell_type": "code",
   "execution_count": 5,
   "id": "39e48bac",
   "metadata": {
    "slideshow": {
     "slide_type": "fragment"
    }
   },
   "outputs": [],
   "source": [
    "checkbox1 = driver.find_element_by_xpath('//*[@id=\"so01\"]')\n",
    "checkbox1.click() "
   ]
  },
  {
   "cell_type": "markdown",
   "id": "3c304711",
   "metadata": {
    "slideshow": {
     "slide_type": "subslide"
    }
   },
   "source": [
    "### Dropdown"
   ]
  },
  {
   "cell_type": "code",
   "execution_count": 7,
   "id": "a9d08de4",
   "metadata": {
    "slideshow": {
     "slide_type": "fragment"
    }
   },
   "outputs": [],
   "source": [
    "from selenium.webdriver.support.ui import Select\n",
    "dropdown1 = Select(driver.find_element_by_xpath('//*[@id=\"jumu01\"]'))\n",
    "dropdown1.select_by_value('A1025')"
   ]
  },
  {
   "cell_type": "markdown",
   "id": "816421a0",
   "metadata": {
    "slideshow": {
     "slide_type": "subslide"
    }
   },
   "source": [
    "### Search & Reset"
   ]
  },
  {
   "cell_type": "code",
   "execution_count": 10,
   "id": "598e9b07",
   "metadata": {
    "slideshow": {
     "slide_type": "fragment"
    }
   },
   "outputs": [],
   "source": [
    "driver.execute_script('javascript:fn_search();')"
   ]
  },
  {
   "cell_type": "code",
   "execution_count": 9,
   "id": "e072a4d0",
   "metadata": {
    "slideshow": {
     "slide_type": "fragment"
    }
   },
   "outputs": [],
   "source": [
    "driver.execute_script('javascript:fn_reset();')"
   ]
  },
  {
   "cell_type": "markdown",
   "id": "87746156",
   "metadata": {
    "slideshow": {
     "slide_type": "subslide"
    }
   },
   "source": [
    "## 리스트 수집 - 방식 1"
   ]
  },
  {
   "cell_type": "code",
   "execution_count": 1,
   "id": "295dd377",
   "metadata": {
    "slideshow": {
     "slide_type": "fragment"
    }
   },
   "outputs": [],
   "source": [
    "from selenium import webdriver\n",
    "import pandas as pd\n",
    "import time\n",
    "\n",
    "driver = webdriver.Chrome('./chromedriver')\n",
    "url = 'https://job.alio.go.kr/orginfo.do'\n",
    "driver.get(url)"
   ]
  },
  {
   "cell_type": "code",
   "execution_count": null,
   "id": "e6977af4",
   "metadata": {},
   "outputs": [],
   "source": [
    "//*[@id=\"txt\"]/table/tbody/tr[1]/td[2]/a\n",
    "//*[@id=\"txt\"]/table/tbody/tr[2]/td[2]/a\n",
    "//*[@id=\"txt\"]/table/tbody/tr[3]/td[2]/a"
   ]
  },
  {
   "cell_type": "code",
   "execution_count": 12,
   "id": "3cb91ded",
   "metadata": {},
   "outputs": [],
   "source": [
    "pub_name = []\n",
    "pub_gov = []\n",
    "pub_type = []\n",
    "pub_homepage = []\n",
    "pub_url = []\n",
    "\n",
    "rows = driver.find_elements_by_xpath('//*[@id=\"txt\"]/table/tbody/tr')\n",
    "\n",
    "for r in rows:\n",
    "    pub_name.append(r.find_element_by_xpath('td[2]').text)\n",
    "    pub_gov.append(r.find_element_by_xpath('td[3]').text)\n",
    "    pub_type.append(r.find_element_by_xpath('td[4]').text)\n",
    "    pub_homepage.append(r.find_element_by_xpath('td[5]').text)\n",
    "    pub_url.append(r.find_element_by_xpath('td[2]/a').get_attribute('onclick'))\n"
   ]
  },
  {
   "cell_type": "code",
   "execution_count": 14,
   "id": "5d2da386",
   "metadata": {},
   "outputs": [
    {
     "data": {
      "text/plain": [
       "['http://www.sonosa.or.kr',\n",
       " 'http://www.apcc21.org',\n",
       " 'http://www.origin.or.kr',\n",
       " 'http://www.gokams.or.kr',\n",
       " 'http://www.posid.or.kr',\n",
       " 'http://www.pola.or.kr',\n",
       " 'http://www.poma.or.kr',\n",
       " 'https://www.ilje.or.kr/',\n",
       " 'http://www.lemi.or.kr/',\n",
       " 'http://www.posa.or.kr']"
      ]
     },
     "execution_count": 14,
     "metadata": {},
     "output_type": "execute_result"
    }
   ],
   "source": [
    "pub_homepage"
   ]
  },
  {
   "cell_type": "code",
   "execution_count": null,
   "id": "99c90707",
   "metadata": {},
   "outputs": [],
   "source": []
  },
  {
   "cell_type": "code",
   "execution_count": 15,
   "id": "bb50a6c5",
   "metadata": {
    "slideshow": {
     "slide_type": "subslide"
    }
   },
   "outputs": [
    {
     "name": "stdout",
     "output_type": "stream",
     "text": [
      "processing page 1\n",
      "processing page 2\n"
     ]
    }
   ],
   "source": [
    "page_number = 1\n",
    "more_page = True\n",
    "\n",
    "pub_name = []\n",
    "pub_gov = []\n",
    "pub_type = []\n",
    "pub_homepage = []\n",
    "pub_url = []\n",
    "\n",
    "while more_page:\n",
    "    driver.execute_script(f'goPage({page_number});return false;')\n",
    "    \n",
    "    time.sleep(2)\n",
    "    print(f'processing page {page_number}')\n",
    "    \n",
    "    rows = driver.find_elements_by_xpath('//*[@id=\"txt\"]/table/tbody/tr')\n",
    "    \n",
    "    for r in rows:\n",
    "        pub_name.append(r.find_element_by_xpath('td[2]').text)\n",
    "        pub_gov.append(r.find_element_by_xpath('td[3]').text)\n",
    "        pub_type.append(r.find_element_by_xpath('td[4]').text)\n",
    "        pub_homepage.append(r.find_element_by_xpath('td[5]').text)\n",
    "        pub_url.append(r.find_element_by_xpath('td[2]/a').get_attribute('onclick'))\n",
    "    \n",
    "    page_number += 1\n",
    "    if page_number == 3:\n",
    "        more_page = False"
   ]
  },
  {
   "cell_type": "code",
   "execution_count": 3,
   "id": "25f0b74a",
   "metadata": {
    "slideshow": {
     "slide_type": "subslide"
    }
   },
   "outputs": [],
   "source": [
    "pub_df = pd.DataFrame(list(zip(pub_name, pub_gov, pub_type, pub_homepage, pub_url)), \n",
    "                      columns=['name', 'gov', 'type', 'homepage', 'url'])"
   ]
  },
  {
   "cell_type": "code",
   "execution_count": 4,
   "id": "73a1f54c",
   "metadata": {
    "slideshow": {
     "slide_type": "fragment"
    }
   },
   "outputs": [
    {
     "data": {
      "text/html": [
       "<div>\n",
       "<style scoped>\n",
       "    .dataframe tbody tr th:only-of-type {\n",
       "        vertical-align: middle;\n",
       "    }\n",
       "\n",
       "    .dataframe tbody tr th {\n",
       "        vertical-align: top;\n",
       "    }\n",
       "\n",
       "    .dataframe thead th {\n",
       "        text-align: right;\n",
       "    }\n",
       "</style>\n",
       "<table border=\"1\" class=\"dataframe\">\n",
       "  <thead>\n",
       "    <tr style=\"text-align: right;\">\n",
       "      <th></th>\n",
       "      <th>name</th>\n",
       "      <th>gov</th>\n",
       "      <th>type</th>\n",
       "      <th>homepage</th>\n",
       "      <th>url</th>\n",
       "    </tr>\n",
       "  </thead>\n",
       "  <tbody>\n",
       "    <tr>\n",
       "      <th>0</th>\n",
       "      <td>(사)남북교류협력지원협회</td>\n",
       "      <td>통일부</td>\n",
       "      <td>기타공공기관</td>\n",
       "      <td>http://www.sonosa.or.kr</td>\n",
       "      <td>javascript:fnDetail('C0847');</td>\n",
       "    </tr>\n",
       "    <tr>\n",
       "      <th>1</th>\n",
       "      <td>(재)APEC기후센터</td>\n",
       "      <td>기상청</td>\n",
       "      <td>기타공공기관</td>\n",
       "      <td>http://www.apcc21.org</td>\n",
       "      <td>javascript:fnDetail('C0918');</td>\n",
       "    </tr>\n",
       "    <tr>\n",
       "      <th>2</th>\n",
       "      <td>(재)국제원산지정보원</td>\n",
       "      <td>관세청</td>\n",
       "      <td>기타공공기관</td>\n",
       "      <td>http://www.origin.or.kr</td>\n",
       "      <td>javascript:fnDetail('C0916');</td>\n",
       "    </tr>\n",
       "    <tr>\n",
       "      <th>3</th>\n",
       "      <td>(재)예술경영지원센터</td>\n",
       "      <td>문화체육관광부</td>\n",
       "      <td>기타공공기관</td>\n",
       "      <td>http://www.gokams.or.kr</td>\n",
       "      <td>javascript:fnDetail('C0454');</td>\n",
       "    </tr>\n",
       "    <tr>\n",
       "      <th>4</th>\n",
       "      <td>(재)우체국금융개발원</td>\n",
       "      <td>과학기술정보통신부</td>\n",
       "      <td>준정부기관(위탁집행형)</td>\n",
       "      <td>http://www.posid.or.kr</td>\n",
       "      <td>javascript:fnDetail('C0352');</td>\n",
       "    </tr>\n",
       "    <tr>\n",
       "      <th>5</th>\n",
       "      <td>(재)우체국물류지원단</td>\n",
       "      <td>과학기술정보통신부</td>\n",
       "      <td>준정부기관(위탁집행형)</td>\n",
       "      <td>http://www.pola.or.kr</td>\n",
       "      <td>javascript:fnDetail('C0331');</td>\n",
       "    </tr>\n",
       "    <tr>\n",
       "      <th>6</th>\n",
       "      <td>(재)우체국시설관리단</td>\n",
       "      <td>과학기술정보통신부</td>\n",
       "      <td>기타공공기관</td>\n",
       "      <td>http://www.poma.or.kr</td>\n",
       "      <td>javascript:fnDetail('C0368');</td>\n",
       "    </tr>\n",
       "    <tr>\n",
       "      <th>7</th>\n",
       "      <td>(재)일제강제동원피해자지원재단</td>\n",
       "      <td>행정안전부</td>\n",
       "      <td>기타공공기관</td>\n",
       "      <td>https://www.ilje.or.kr/</td>\n",
       "      <td>javascript:fnDetail('C0931');</td>\n",
       "    </tr>\n",
       "    <tr>\n",
       "      <th>8</th>\n",
       "      <td>(재)축산환경관리원</td>\n",
       "      <td>농림축산식품부</td>\n",
       "      <td>기타공공기관</td>\n",
       "      <td>http://www.lemi.or.kr/</td>\n",
       "      <td>javascript:fnDetail('C1030');</td>\n",
       "    </tr>\n",
       "    <tr>\n",
       "      <th>9</th>\n",
       "      <td>(재)한국우편사업진흥원</td>\n",
       "      <td>과학기술정보통신부</td>\n",
       "      <td>준정부기관(위탁집행형)</td>\n",
       "      <td>http://www.posa.or.kr</td>\n",
       "      <td>javascript:fnDetail('C0354');</td>\n",
       "    </tr>\n",
       "  </tbody>\n",
       "</table>\n",
       "</div>"
      ],
      "text/plain": [
       "               name        gov          type                 homepage  \\\n",
       "0     (사)남북교류협력지원협회        통일부        기타공공기관  http://www.sonosa.or.kr   \n",
       "1       (재)APEC기후센터        기상청        기타공공기관    http://www.apcc21.org   \n",
       "2       (재)국제원산지정보원        관세청        기타공공기관  http://www.origin.or.kr   \n",
       "3       (재)예술경영지원센터    문화체육관광부        기타공공기관  http://www.gokams.or.kr   \n",
       "4       (재)우체국금융개발원  과학기술정보통신부  준정부기관(위탁집행형)   http://www.posid.or.kr   \n",
       "5       (재)우체국물류지원단  과학기술정보통신부  준정부기관(위탁집행형)    http://www.pola.or.kr   \n",
       "6       (재)우체국시설관리단  과학기술정보통신부        기타공공기관    http://www.poma.or.kr   \n",
       "7  (재)일제강제동원피해자지원재단      행정안전부        기타공공기관  https://www.ilje.or.kr/   \n",
       "8        (재)축산환경관리원    농림축산식품부        기타공공기관   http://www.lemi.or.kr/   \n",
       "9      (재)한국우편사업진흥원  과학기술정보통신부  준정부기관(위탁집행형)    http://www.posa.or.kr   \n",
       "\n",
       "                             url  \n",
       "0  javascript:fnDetail('C0847');  \n",
       "1  javascript:fnDetail('C0918');  \n",
       "2  javascript:fnDetail('C0916');  \n",
       "3  javascript:fnDetail('C0454');  \n",
       "4  javascript:fnDetail('C0352');  \n",
       "5  javascript:fnDetail('C0331');  \n",
       "6  javascript:fnDetail('C0368');  \n",
       "7  javascript:fnDetail('C0931');  \n",
       "8  javascript:fnDetail('C1030');  \n",
       "9  javascript:fnDetail('C0354');  "
      ]
     },
     "execution_count": 4,
     "metadata": {},
     "output_type": "execute_result"
    }
   ],
   "source": [
    "pub_df"
   ]
  },
  {
   "cell_type": "markdown",
   "id": "23ba74a4",
   "metadata": {
    "slideshow": {
     "slide_type": "subslide"
    }
   },
   "source": [
    "## 리스트 수집 - 방식 2"
   ]
  },
  {
   "cell_type": "code",
   "execution_count": 19,
   "id": "5a56b72c",
   "metadata": {
    "slideshow": {
     "slide_type": "fragment"
    }
   },
   "outputs": [
    {
     "name": "stdout",
     "output_type": "stream",
     "text": [
      "processing page 1\n"
     ]
    }
   ],
   "source": [
    "page_number = 1\n",
    "pub_list = []\n",
    "\n",
    "while True:\n",
    "    driver.execute_script(f'goPage({page_number});return false;')\n",
    "    time.sleep(2)\n",
    "    print(f'processing page {page_number}')\n",
    "    \n",
    "    table = driver.find_element_by_css_selector('#txt > table > tbody')\n",
    "    rows = table.find_elements_by_tag_name('tr')\n",
    "    \n",
    "    for r in rows:\n",
    "        pub_list.append({\n",
    "            'name':r.find_elements_by_css_selector('td')[1].text,\n",
    "            'gov':r.find_elements_by_css_selector('td')[2].text,\n",
    "            'type':r.find_elements_by_css_selector('td')[3].text,\n",
    "            'homepage':r.find_elements_by_css_selector('td')[4].text,\n",
    "            'url':r.find_element_by_css_selector('td.left > a').get_attribute('onclick')\n",
    "        })\n",
    "    page_number += 1\n",
    "    if page_number == 2:\n",
    "        break"
   ]
  },
  {
   "cell_type": "code",
   "execution_count": 20,
   "id": "3ab44349",
   "metadata": {
    "slideshow": {
     "slide_type": "subslide"
    }
   },
   "outputs": [],
   "source": [
    "pub_df = pd.DataFrame(pub_list)"
   ]
  },
  {
   "cell_type": "code",
   "execution_count": 21,
   "id": "ae45536d",
   "metadata": {
    "slideshow": {
     "slide_type": "fragment"
    }
   },
   "outputs": [
    {
     "data": {
      "text/html": [
       "<div>\n",
       "<style scoped>\n",
       "    .dataframe tbody tr th:only-of-type {\n",
       "        vertical-align: middle;\n",
       "    }\n",
       "\n",
       "    .dataframe tbody tr th {\n",
       "        vertical-align: top;\n",
       "    }\n",
       "\n",
       "    .dataframe thead th {\n",
       "        text-align: right;\n",
       "    }\n",
       "</style>\n",
       "<table border=\"1\" class=\"dataframe\">\n",
       "  <thead>\n",
       "    <tr style=\"text-align: right;\">\n",
       "      <th></th>\n",
       "      <th>name</th>\n",
       "      <th>gov</th>\n",
       "      <th>type</th>\n",
       "      <th>homepage</th>\n",
       "      <th>url</th>\n",
       "    </tr>\n",
       "  </thead>\n",
       "  <tbody>\n",
       "    <tr>\n",
       "      <th>0</th>\n",
       "      <td>(사)남북교류협력지원협회</td>\n",
       "      <td>통일부</td>\n",
       "      <td>기타공공기관</td>\n",
       "      <td>http://www.sonosa.or.kr</td>\n",
       "      <td>javascript:fnDetail('C0847');</td>\n",
       "    </tr>\n",
       "    <tr>\n",
       "      <th>1</th>\n",
       "      <td>(재)APEC기후센터</td>\n",
       "      <td>기상청</td>\n",
       "      <td>기타공공기관</td>\n",
       "      <td>http://www.apcc21.org</td>\n",
       "      <td>javascript:fnDetail('C0918');</td>\n",
       "    </tr>\n",
       "    <tr>\n",
       "      <th>2</th>\n",
       "      <td>(재)국제원산지정보원</td>\n",
       "      <td>관세청</td>\n",
       "      <td>기타공공기관</td>\n",
       "      <td>http://www.origin.or.kr</td>\n",
       "      <td>javascript:fnDetail('C0916');</td>\n",
       "    </tr>\n",
       "    <tr>\n",
       "      <th>3</th>\n",
       "      <td>(재)예술경영지원센터</td>\n",
       "      <td>문화체육관광부</td>\n",
       "      <td>기타공공기관</td>\n",
       "      <td>http://www.gokams.or.kr</td>\n",
       "      <td>javascript:fnDetail('C0454');</td>\n",
       "    </tr>\n",
       "    <tr>\n",
       "      <th>4</th>\n",
       "      <td>(재)우체국금융개발원</td>\n",
       "      <td>과학기술정보통신부</td>\n",
       "      <td>준정부기관(위탁집행형)</td>\n",
       "      <td>http://www.posid.or.kr</td>\n",
       "      <td>javascript:fnDetail('C0352');</td>\n",
       "    </tr>\n",
       "    <tr>\n",
       "      <th>5</th>\n",
       "      <td>(재)우체국물류지원단</td>\n",
       "      <td>과학기술정보통신부</td>\n",
       "      <td>준정부기관(위탁집행형)</td>\n",
       "      <td>http://www.pola.or.kr</td>\n",
       "      <td>javascript:fnDetail('C0331');</td>\n",
       "    </tr>\n",
       "    <tr>\n",
       "      <th>6</th>\n",
       "      <td>(재)우체국시설관리단</td>\n",
       "      <td>과학기술정보통신부</td>\n",
       "      <td>기타공공기관</td>\n",
       "      <td>http://www.poma.or.kr</td>\n",
       "      <td>javascript:fnDetail('C0368');</td>\n",
       "    </tr>\n",
       "    <tr>\n",
       "      <th>7</th>\n",
       "      <td>(재)일제강제동원피해자지원재단</td>\n",
       "      <td>행정안전부</td>\n",
       "      <td>기타공공기관</td>\n",
       "      <td>https://www.ilje.or.kr/</td>\n",
       "      <td>javascript:fnDetail('C0931');</td>\n",
       "    </tr>\n",
       "    <tr>\n",
       "      <th>8</th>\n",
       "      <td>(재)축산환경관리원</td>\n",
       "      <td>농림축산식품부</td>\n",
       "      <td>기타공공기관</td>\n",
       "      <td>http://www.lemi.or.kr/</td>\n",
       "      <td>javascript:fnDetail('C1030');</td>\n",
       "    </tr>\n",
       "    <tr>\n",
       "      <th>9</th>\n",
       "      <td>(재)한국우편사업진흥원</td>\n",
       "      <td>과학기술정보통신부</td>\n",
       "      <td>준정부기관(위탁집행형)</td>\n",
       "      <td>http://www.posa.or.kr</td>\n",
       "      <td>javascript:fnDetail('C0354');</td>\n",
       "    </tr>\n",
       "  </tbody>\n",
       "</table>\n",
       "</div>"
      ],
      "text/plain": [
       "               name        gov          type                 homepage  \\\n",
       "0     (사)남북교류협력지원협회        통일부        기타공공기관  http://www.sonosa.or.kr   \n",
       "1       (재)APEC기후센터        기상청        기타공공기관    http://www.apcc21.org   \n",
       "2       (재)국제원산지정보원        관세청        기타공공기관  http://www.origin.or.kr   \n",
       "3       (재)예술경영지원센터    문화체육관광부        기타공공기관  http://www.gokams.or.kr   \n",
       "4       (재)우체국금융개발원  과학기술정보통신부  준정부기관(위탁집행형)   http://www.posid.or.kr   \n",
       "5       (재)우체국물류지원단  과학기술정보통신부  준정부기관(위탁집행형)    http://www.pola.or.kr   \n",
       "6       (재)우체국시설관리단  과학기술정보통신부        기타공공기관    http://www.poma.or.kr   \n",
       "7  (재)일제강제동원피해자지원재단      행정안전부        기타공공기관  https://www.ilje.or.kr/   \n",
       "8        (재)축산환경관리원    농림축산식품부        기타공공기관   http://www.lemi.or.kr/   \n",
       "9      (재)한국우편사업진흥원  과학기술정보통신부  준정부기관(위탁집행형)    http://www.posa.or.kr   \n",
       "\n",
       "                             url  \n",
       "0  javascript:fnDetail('C0847');  \n",
       "1  javascript:fnDetail('C0918');  \n",
       "2  javascript:fnDetail('C0916');  \n",
       "3  javascript:fnDetail('C0454');  \n",
       "4  javascript:fnDetail('C0352');  \n",
       "5  javascript:fnDetail('C0331');  \n",
       "6  javascript:fnDetail('C0368');  \n",
       "7  javascript:fnDetail('C0931');  \n",
       "8  javascript:fnDetail('C1030');  \n",
       "9  javascript:fnDetail('C0354');  "
      ]
     },
     "execution_count": 21,
     "metadata": {},
     "output_type": "execute_result"
    }
   ],
   "source": [
    "pub_df"
   ]
  },
  {
   "cell_type": "markdown",
   "id": "af622e29",
   "metadata": {
    "slideshow": {
     "slide_type": "subslide"
    }
   },
   "source": [
    "## 본문 수집 - 방식 1"
   ]
  },
  {
   "cell_type": "code",
   "execution_count": 22,
   "id": "cb6c9510",
   "metadata": {},
   "outputs": [],
   "source": [
    "table = driver.find_element_by_css_selector('#txt > table')\n",
    "\n",
    "headers = table.find_elements_by_tag_name('th')\n",
    "contents = table.find_elements_by_tag_name('td')\n",
    "\n",
    "header_list = []\n",
    "content_list = []\n",
    "\n",
    "for h in range(len(headers)):\n",
    "    header_list.append(headers[h].text)\n",
    "    content_list.append(contents[h].text)\n",
    "\n",
    "alio_dict = {}\n",
    "for n in range(len(header_list)):\n",
    "    alio_dict[header_list[n]] = content_list[n]\n"
   ]
  },
  {
   "cell_type": "code",
   "execution_count": 23,
   "id": "8d0c16c2",
   "metadata": {},
   "outputs": [
    {
     "data": {
      "text/plain": [
       "{'기관명': '건축공간연구원',\n",
       " '기관소개': '건축과 도시공간에 관한 종합적인 연구를 수행함으로써 국민 복리의 향상과 국가 및 지역사회의 지속가능한 발전에 기여\\n홈페이지연결 : http://www.auri.re.kr',\n",
       " '주무기관': '국무조정실',\n",
       " '설립근거': '정부출연연구기관 등의 설립·운영 및 육성에 관한 법률',\n",
       " '주요기능 및 역할': '[정관 제4조(사업)]\\n1. 건축과 도시공간의 조성, 이용 및 디자인에 대한 종합적인 조사·연구개발\\n2. 건축과 도시공간의 개선을 위한 정책 및 제도에 관한 연구\\n3. 장소가치와 공간문화 향상에 관한 연구\\n4. 국가·지방자치단체 등의 건축물과 공간환경 관련 계획 및 사업 지원\\n5. 건축물과 공간환경 관련 정보체계 구축·운영 및 산업의 육성·지원\\n6. 국내·외 유관기관과의 공동연구와 국가, 지방자치단체, 공공기관 및 민간단체 등으로부터의 연구용역 수탁\\n7. 연구성과의 출판·배포 및 교육·연수·홍보 등 제반사업\\n8. 제1호부터 제7호까지의 부대업무와 그 밖에 연구원의 목적달성을 위하여 필요한 업무',\n",
       " '기관연혁': \"- 2006. 12. 연구소 설립(안) 국회 본회의 통과\\n- 2007. 03. 국토연구원 정관개정(안) 의결(정관 및 운영규정)\\n- 2007. 06. 초대 소장 온영태 교수 취임\\n- 2007. 08. 건축도시공간연구소 개소식\\n- 2009. 12. 제2대 소장 손세관 교수 취임\\n- 2011. 05. 국가한옥센터 설립('15.7. 지정)\\n- 2012. 09. 제3대 소장 제해성 교수 취임\\n- 2012. 12. 건축·도시정책정보센터 설립\\n- 2013. 06. 녹색건축센터 지정\\n- 2014. 02. 도시재생지원기구 지정\\n- 2014. 03. 국가공공건축지원센터 설립('14.6. 지정)\\n- 2015. 01. 건축서비스산업지원센터 설립\\n- 2015. 08. 세종특별자치시 신청사 이전\\n- 2015. 09. 제4대 소장 김대익 교수 취임\\n- 2017. 12. 개소 10주년 기념 포럼 '대한민국 건축정책 10년' 개최\\n- 2018. 05. 제5대 소장 박소현 교수 취임\\n- 2019. 01. 스마트도시 서비스 지원기관 지정\\n- 2020. 05. 고령친화정책연구센터 설립\\n- 2020. 05. 정부출연기관법 일부개정안 공포\\n- 2020. 11. 건축공간연구원 출범\\n- 2021. 02. 스마트도시연구센터 설립\\n- 2021. 02. 건축물관리지원센터 지정\",\n",
       " '경영목표 및 전략': '[목표1] 성과 고찰을 통한 미래 건축 도시공간 정책 선도\\n- 첫 10년간의 연구성과 진단을 통한 국가 건축·도시공간 정책 선도 체계 확립\\n- 가까운 미래예측을 통해 실천가능한 건축·도시 공간 정책 방향 도출\\n\\n[목표2] 국민 중심 공간환경연구 확충 및 성과 확산\\n- 장소 기반 도시·지역의 공간가치 창출 연구 확대\\n- 데이터 기반 공간연구 혁신을 통한 정책활용도 제고\\n- 대중친화형 연구성과 확산 및 정책정보서비스 확충\\n\\n[목표3] 창의적 연구역량 강화 및 협력적 연구환경 조성\\n- 다학제간 협동 및 차세대기술 융합 기반 연구체계 강화\\n- 국내외 연구 네트워크 강화 및 인적자원 체계 관리\\n- 연구환경 최적화 및 연구수월성 조직문화 활성화',\n",
       " '기관장': '공석',\n",
       " '소재지': '절재로 194, 701호'}"
      ]
     },
     "execution_count": 23,
     "metadata": {},
     "output_type": "execute_result"
    }
   ],
   "source": [
    "alio_dict"
   ]
  },
  {
   "cell_type": "code",
   "execution_count": 28,
   "id": "f6219309",
   "metadata": {},
   "outputs": [],
   "source": [
    "driver.execute_script(\"javascript:fnDetail('C0368');\")"
   ]
  },
  {
   "cell_type": "code",
   "execution_count": 24,
   "id": "06fab91c",
   "metadata": {
    "slideshow": {
     "slide_type": "fragment"
    }
   },
   "outputs": [],
   "source": [
    "pub_contents = []\n",
    "\n",
    "for u in pub_df['url']:\n",
    "    driver.execute_script(u)\n",
    "    time.sleep(2)\n",
    "    \n",
    "    table = driver.find_element_by_css_selector('#txt > table')\n",
    "    headers = table.find_elements_by_tag_name('th')\n",
    "    contents = table.find_elements_by_tag_name('td')\n",
    "    header_list = []\n",
    "    content_list = []\n",
    "    \n",
    "    for h in range(len(headers)):\n",
    "        header_list.append(headers[h].text)\n",
    "        content_list.append(contents[h].text)\n",
    "        \n",
    "    alio_dict = {}\n",
    "    \n",
    "    for n in range(len(header_list)):\n",
    "        alio_dict[header_list[n]] = content_list[n]\n",
    "        \n",
    "    pub_contents.append(alio_dict)\n",
    "    \n",
    "    driver.back()\n",
    "    \n",
    "    time.sleep(2)"
   ]
  },
  {
   "cell_type": "code",
   "execution_count": 29,
   "id": "d63fdb7b",
   "metadata": {},
   "outputs": [
    {
     "data": {
      "text/plain": [
       "[{'기관명': '(사)남북교류협력지원협회',\n",
       "  '기관소개': '정부 위탁업무 수행, 정책건의, 남북교류협력 관련 조사·연구 및 분석 등을 통한 남북교류협력 활성화 지원\\n홈페이지연결 : http://www.sonosa.or.kr',\n",
       "  '주무기관': '통일부',\n",
       "  '설립근거': '민법 32조',\n",
       "  '주요기능 및 역할': 'o 남북교류협력과 관련한 정부 위탁사업 수행\\no 정부에 대한 남북교류협력 활성화 대책 건의\\no 남북교류협력과 관련한 조사·연구 및 분석\\no 남북교류협력 사업자간 정보공유 및 네트워크 구축\\no 기타 남북교류협력 촉진을 위한 사업 등',\n",
       "  '기관연혁': 'o 2007.05.22 법인설립 인가(통일부)\\no 2007.05.28「남북 경공업 및 지하자원개발 협력사업」수탁\\no 2007.12.05「6자회담 대북 에너지 설비·자재 제공사업」수탁\\no 2008.05.23「남북 군사당군간 통신체계 개선사업」수탁\\no 2009.09.29「남북교역·경협 관리업무」수탁\\no 2011.03.10「남북관리구역 통행체계 보강사업」수탁\\no 2012.01.31 기타공공기관 지정(기획재정부)\\no 2015.07.02「대북지원사업 통합관리체계 구축·운영 업무」수탁\\no 2018.11.05「한강하구 공동조사사업」수탁\\no 2018.11.20「남북 산림협력사업 관련 업무」수탁\\no 2018.11.22「남북공동 유해발굴 자재장비 지원사업」수탁',\n",
       "  '경영목표 및 전략': 'o 남북교류협력 활력 제고 및 성장동력 확보\\n- 남북교류협력 원스톱 서비스 체계 강화\\n- 대국민 정보제공 강화\\n- 업무영역 개척 및 기능 확대\\no 남북교류협력 추진기반 확대·강화\\n- 교류협력 추동력 창출을 위한 환경 조성\\n- 교류협력 정책개발 지원 강화\\n- 남북교류협력 네트워크 확대·강화\\no 경영혁신을 통한 사회적 가치 실현\\n- 기관 법적기반 및 조직 역량 강화\\n- 사회적 책임에 대한 이행 강화\\n- 인권·윤리 및 안전관리 체계 운영',\n",
       "  '기관장': '강영식',\n",
       "  '소재지': '중구 퇴계로 97, 601호'},\n",
       " {'기관명': '(재)APEC기후센터',\n",
       "  '기관소개': '기후예측과 그 관련 연구를 통해 기후변화 및 변동의 영향에 효과적으로 대응할 수 있는 혁신적인 기술을 개발하고 아태경제협력체(APEC) 회원국과 협력하는 기후센터로서 우리나라를 포함한 아태지역의 이상기후를 감시하고 최적의 기후예측정보를 생산하여 경제적 손실의 경감, 인명과 재산의 보호를 통해 우리나라와 아태지역의 번영 실현에 이바지함을 목적으로 함.\\n홈페이지연결 : http://www.apcc21.org',\n",
       "  '주무기관': '기상청',\n",
       "  '설립근거': '민법 제32조, 공익법인의 설립·운영에 관한 법률',\n",
       "  '주요기능 및 역할': '○ 기후변동 및 변화의 진단, 예측 관련 정보의 수집, 생산 및 유통\\n○ 기후변동·변화의 진단·예측 기술 및 활용방안 개발\\n○ 기후예측 및 관련분야 교육·훈련과 역량향상 지원\\n○ 국내외 관련 기관 및 기구와의 교류·협력',\n",
       "  '기관연혁': '○ 2004.03 제4차 APEC 과학기술장관회의에서 설립 제안\\n○ 2005.03 제1차 APEC 고위관리회의에서 APCC 설립 인준\\n○ 2005.09 APEC 기후센터 업무 개시\\n○ 2005.11 제13차 APEC 정상회의 기간 중 APCC 개소\\n○ 2015.01 공공기관 지정(기타공공기관)\\n○ 2018.12 권원태 원장 취임\\n○ 2019.01 연구개발목적기관 지정',\n",
       "  '경영목표 및 전략': '○ 기후예측 전문성 강화 및 국내 기여 확대\\n○ 기후예측 기술 개발 및 기후 감시·분석 시스템 구축\\n○ 기후예측정보 활용성 향상을 위한 기술 확보\\n○ 사용자 참여형 기후정보서비스 플랫폼 구축 및 기능 고도화\\n○ 아태지역 실시간 고품질 기후예측시스템 운영 및 기술개발\\n○ 지역특성화 기반 아태지역 기후변화 대응 역량 강화',\n",
       "  '기관장': '권원태',\n",
       "  '소재지': '해운대구 센텀7로 12'},\n",
       " {'기관명': '(재)국제원산지정보원',\n",
       "  '기관소개': '자유무역협정 및 원산지 관련 연구ㆍ조사ㆍ정보 보급 확대 등을 통하여 우리 기업의<br />대외 경쟁력을 제고함으로써 국민 경제 발전에 기여함을 목적으로 한다.\\n홈페이지연결 : http://www.origin.or.kr',\n",
       "  '주무기관': '관세청',\n",
       "  '설립근거': '민법 제32조(비영리법인의 설립과 허가)',\n",
       "  '주요기능 및 역할': '1. 자유무역협정ㆍ원산지 정보의 수집ㆍ분석 수탁 사업\\n2. 자유무역협정ㆍ원산지 정보 서비스 사업\\n3. 원산지정보시스템 개발, 운영 및 보급 사업\\n4. 자유무역협정ㆍ원산지 관련 교육 사업 및 평생교육시설 운영\\n5. 자유무역협정ㆍ원산지 관련 컨설팅 사업 및 활성화 지원\\n6. 자유무역협정ㆍ원산지 정보 보급을 위한 출판 사업\\n7. 자유무역협정ㆍ원산지 관련 국내ㆍ외 홍보 사업\\n8. 자유무역협정ㆍ원산지 관련 자격증 사업\\n9. 공공기관 위탁사업 등 공익 관련 사업\\n10. 기타 설립목적에 부합되는 사업',\n",
       "  '기관연혁': '2009. 1 원산지정보 수집· 분석 전문기관 지정(관세청)\\n2009. 2 「한국원산지정보원」개원(한국관세사회 부설)\\n2010. 1 재단법인 「국제원산지정보원」설립등기\\n* 한국원산지정보원 승계\\n2010. 6 원산지관리사 자격시험 시행기관 지정(관세청)\\n2015. 1 기타공공기관 지정',\n",
       "  '경영목표 및 전략': '미션 : FTA 및 원산지 연구· 조사와 정보보급을 통해 기업경쟁력 강화와 국민경제 발전에 기여\\n비전 : FTA Hub 국가구현을 선도하는 세계 최고의 FTA· 원산지 전문기관\\n목표 :\\n- 기업의 FTA활용률 제고\\n- 원활한 FTA이행 지원\\n- FTA전문인력양성 및 일자리 창출\\n- FTA활용ㆍ컨설팅시장 조성',\n",
       "  '기관장': '박병진',\n",
       "  '소재지': '성남시 분당구 야탑로 205번길8'},\n",
       " {'기관명': '(재)예술경영지원센터',\n",
       "  '기관소개': '예술유통의 활성화와 예술기관의 경쟁력 강화를 종합적이고 체계적으로 지원함으로써, 예술현장의 자생력 제고에 기여함\\n홈페이지연결 : http://www.gokams.or.kr',\n",
       "  '주무기관': '문화체육관광부',\n",
       "  '설립근거': '민법 제32조에 의한 재단법인',\n",
       "  '주요기능 및 역할': '1. 예술 유통구조의 체계화 및 활성화 지원\\n2. 예술기관·단체 운영 및 경영 관련 컨설팅\\n3. 예술기관 경영 인력 양성 및 지원\\n4. 예술분야 국제교류 및 해외진출 지원\\n5. 국내외 예술시장정보의 구축·관리·활용\\n6. 서울아트마켓 개최 및 운영\\n7. 기타 센터의 설립목적 달성에 필요한 사업',\n",
       "  '기관연혁': '○ 2006년 재단법인 예술경영지원센터 설립 (2006.1.12.), 제1기 이사회 구성 ○ 2009년 제2기 이사회 구성 ○ 2012년 제3기 이사회 구성 ○ 기타공공기관 지정 (2011년~현재) ○ 사회적기업 문화예술분야 민간 지원기관 지정(고용노동부, 2011년) ○ 2013년 시각예술 글로벌 기획인력 육성 사업 시행○ 2014년 국제문화교류 지원전담기관 지정○ 2015년 제4대 김선영 대표 취임(15.3.18)\\n○ 2016년 제4기 이사회 구성\\n○ 서울국제공연예술제(SPAF) 시행 (한국문화예술위원회 공동운영)\\n○ 2018년 제5대 김도일 대표 취임(18.8.28)\\n○ 2019년 제5기 이사회 구성',\n",
       "  '경영목표 및 전략': '○ 비전 : 예술시장 활성화로 예술현장의 지속성장을 이끌어가는 기관\\n○ 핵심가치 : 균형, 소통, 협력, 도전, 공정\\n○ 전략목표\\n1. 예술현장 성장기반 조성\\n2. 공연시장 활성화 지원\\n3. 미술시장 활성화 지원\\n4. 사회적가치 실현 경영',\n",
       "  '기관장': '김도일',\n",
       "  '소재지': '종로구 대학로 57(연건동) 홍익대학교 대학로캠퍼스 교육동 3층, 12층'},\n",
       " {'기관명': '(재)우체국금융개발원',\n",
       "  '기관소개': '우체국금융 업무를 효과적으로 지원함으로써 우체국예금보험사업의 향상·발전에 기여\\n홈페이지연결 : http://www.posid.or.kr',\n",
       "  '주무기관': '과학기술정보통신부',\n",
       "  '설립근거': '민법 제32조(비영리법인의 설립과 허가) 학술, 종교, 자선, 기예, 사교 기타 영리아닌 사업을 목적으로 하는 사단 또는 재단은 주무관청의 허가를 얻어 이를 법인으로 할 수 있다.',\n",
       "  '주요기능 및 역할': 'ㅇ 국내외 금융시장에 대한 조사·연구\\nㅇ 우체국금융 신서비스 도입 및 마케팅 방안 연구\\nㅇ 우체국예금·보험 상품 개발\\nㅇ 우체국보험 청약·지급심사 및 사고조사\\nㅇ 우체국보험관련 교육 및 우체국금융 고객관리·마케팅 지원\\nㅇ 금융시장 리서치 및 신용분석 지원\\nㅇ 우체국보험기금 재산의 수탁관리\\nㅇ 우체국금융 고객센터 운영수탁',\n",
       "  '기관연혁': '1966.04. 재단법인 체신저축장려회 설립\\n1976.12. 재단법인 체신장려회로 명칭변경\\n1994.05. 재단법인 체신금융진흥회로 명칭변경\\n2000.06. 재단법인 우체국예금보험지원단으로 명칭변경\\n2007.04. 「공공기관의 운영에 관한 법률」에 의한 준정부기관으로 지정\\n2012.04. 재단법인 우체국금융개발원으로 명칭변경',\n",
       "  '경영목표 및 전략': '◎ 미션 : 안전하고 편리한 금융서비스를 통해 국민의 삶의 질 향상에 기여한다\\n\\n◎ 비전 : 안정적 금융생활을 선도하는 금융서비스 전문기관\\n\\n◎ 경영슬로건 : 든든한 온국민 금융지키미\\n\\n◎ 핵심가치 : 사람중심, 전문역량, 혁신선도, 다양성 존중\\n\\n◎ 경영전략\\nⅠ 안전하고 편리한 신뢰금융\\n- 우체국금융 건전성 제고\\n- 지속가능한 금융사업 역량 확보\\n- 고객중심 지급심사서비스 제공\\nⅡ 미래로 향하는 스마트금융\\n- 미래금융 연구개발 강화\\n- 한국판 뉴딜 기반 구축\\n- 스마트 고객플랫폼 실현\\nⅢ 혁신에 기반한 공공금융\\n- 포용금융 서비스 선도\\n- 사회적가치 성과 창출\\n- 경영혁신 고도화 추진',\n",
       "  '기관장': '유대선',\n",
       "  '소재지': '영등포구 경인로 841(영등포동4가)'},\n",
       " {'기관명': '(재)우체국물류지원단',\n",
       "  '기관소개': '안전ㆍ신속ㆍ정확한 우편물류서비스를 효율적으로 제공함으로써 국민의 편익 <br />증진에 이바지함\\n홈페이지연결 : http://www.pola.or.kr',\n",
       "  '주무기관': '과학기술정보통신부',\n",
       "  '설립근거': '민법 제32조',\n",
       "  '주요기능 및 역할': \"'우체국물류지원단'은 전국 우편물 운송, 배달, 분류, 국제우편물 포워딩 등 종합우편물류서비스 공공기관입니다.\\n□ 우편물 운송사업□ 우편물 발착사업□ 우편물 방문접수사업 및 집배사업□ 국제물류주선사업□ 우정종사원 교육사업\",\n",
       "  '기관연혁': '□ 1980.08.26 법인설립 (재)체신복지회\\n□ 1981.03.01 수도권 우편물운송 수탁 개시\\n□ 1983.04.04 편지쓰기장려사업 시행\\n□ 1987.07.01 명칭, 조직 및 기능 개편 (재)우정사업진흥회\\n□ 2002.01.01 대구 및 광주권 우편물운송업무 (주)코트랜스로 이관□ 2002.11.01 소포배달사업 시행 □ 2003.01.01 부산, 충청, 강원 및 제주권 우편물운송업무 추가 이관 □ 2007.04.02 공공기관 지정 (위탁집행형 준정부기관)\\n□ 2008.08.11 소포우편물 발착 수탁 개시 □ 2009.01.01 (재)한국우편물류지원단으로 기관명칭 변경□ 2011.07.01 (주)코트랜스와 기관통합 - (재)한국우편물류지원단 □ 2012.01.01 (재)우체국물류지원단으로 기관명칭 변경□ 2013.04.01 국제물류 항공운송 수탁 개시\\n□ 2016.01.01 우정종사원 교육사업 시행\\n□ 2018.07.01 전국 소포배달사업 직접수행',\n",
       "  '경영목표 및 전략': '□ (기관미션) 안전ㆍ 신속ㆍ 정확한 우편물류서비스를 효율적으로 제공함으로써\\n국민의 편익 증진에 이바지한다.\\n\\n□ (기관비전) 세상 연결로 국민행복 전하는 스마트우편물류선도기관\\n\\n□ (핵심가치) 국민감동, 나눔경영, 직원존중\\n\\n□ 경영목표 및 전략방향\\no (K-뉴딜 이행률 100%달성) 스마트 우편물류 기반조성\\no (미래성장사업 매출액 3배 성장) 지속성장을 위한 동력확보\\no (사회적가치 기여도 최고수준) 더불어 함께 성장하는 물류생태계 구축\\no (GWP 일터조성) 경쟁력 제고를 위한 경영인프라 강화\\n\\n□ 4대 경영목표 및 12대 전략과제\\nㅇ K-뉴딜 이행률 100%달성\\n- 우편운송 체계 고도화\\n- 소포배달 운영관리 혁신\\n- 지능형 물류센터 기반 구축\\n\\nㅇ 미래성장사업 매출액 3배 성장\\n- 국제사업 성장동력 확보\\n- 공공지원 물류사업 기반 구축\\n- 물류 비즈니스 모델 연계 및 확장\\n\\nㅇ 사회적가치 기여도 최고수준\\n- 안전·친환경 활동 강화\\n- 동반성장을 통한 물류생태계 강화\\n- 지역발전을 위한 협업체계 조성\\n\\nㅇ GWP 일터조성\\n- 전문역량강화 및 인재양성\\n- 신뢰의 조직문화 구축\\n- 합리적인 경영자원관리',\n",
       "  '기관장': '천장수',\n",
       "  '소재지': '광진구 자양로 76'},\n",
       " {'기관명': '(재)우체국시설관리단',\n",
       "  '기관소개': '우정사업조직에 속한 부동산의 효율적 관리ㆍ운영으로 우정자산의 적극적 활용 및 가치향상을 도모하고, 우정시설의 최적화와 국민의 우체국 이용편익 및 종사자에 대한 복지증진에 기여함을 목적으로 한다.\\n홈페이지연결 : http://www.poma.or.kr',\n",
       "  '주무기관': '과학기술정보통신부',\n",
       "  '설립근거': '민법 제32조(비영리법인의 설립과 허가)',\n",
       "  '주요기능 및 역할': 'o 우정재산의 사용ㆍ수익 허가 및 대부업무 지원사업\\no 우정사업 부동산 시설 유지관리ㆍ위생관리 사업\\no 우정사업 부동산 경비(청사, 금융창구, 안내, 주차관리 등) 사업\\no 우정사업 부동산(자산관리, 임대, 임차 등) 개발ㆍ관리ㆍ운영 및 컨설팅 사업\\no 우체국사 시설 최적화 지원사업',\n",
       "  '기관연혁': 'o 2001. 11. 23. 법인 설립\\no 2006. 12. 28. 우체국사 관리 지원업무 위탁운영기관 지정\\no 2008. 1. 30. 기타공공기관 지정\\no 2008. 10. 1. (재)우체국시설관리지원단으로 기관명칭 변경\\no 2012. 1. 2. (재)우체국시설관리단으로 기관명칭 변경\\no 2012. 11. 7. 우정사업 부동산 관리ㆍ운영업무 위탁기관 지정',\n",
       "  '경영목표 및 전략': '⊙ 미션 : 전문적이고 효율적인 우정시설 및 자산관리를 통해 공공의 복리 증진에 기여\\n⊙ 비전 : 우정자산 가치 창조를 선도하는 종합부동산 전문기관\\n⊙ 핵심가치 : 고객, 신뢰, 협력, 열정\\n⊙ 전략방향\\n- 우정부동산 가치 극대화\\n- 고객가치 경영 내실화\\n- 사회적 가치 실현',\n",
       "  '기관장': '김성칠',\n",
       "  '소재지': '광진구 강벽역로 2(구의동, 우체국시설관리단)'},\n",
       " {'기관명': '(재)일제강제동원피해자지원재단',\n",
       "  '기관소개': '일제강제동원 피해·희생자 및 유족 등에 대한 복지지원사업, 추념사업 및 강제동원 피해와 관련 문화·학술·조사·연구 등의 사업과 피해구제를 위한 활동으로 국민통합과 평화와 인권신장에 기여대일항쟁기위원회 업무종료(2015.12.31.)에 따라 위원회가 旣추진했던 희생자 추도사업, 유해 발굴·봉환사업 등에 대한 후속조치\\n홈페이지연결 : https://www.ilje.or.kr/',\n",
       "  '주무기관': '행정안전부',\n",
       "  '설립근거': '- 설립근거「민법」제32조(비영리 법인의 설립과 허가),「공익법인의 설립·운영에 관한 법률 시행령」제5조(설립허가), 「대일항쟁기 강제동원 피해조사 및 국외 강제동원희생자 등 지원에 관한 법률」제37조(피해자 관련 재단지원 등)',\n",
       "  '주요기능 및 역할': '- 일제 강제동원 희생자에 대한 추도순례 등 위령사업- 해외 추도공간 조성 및 일제 강제동원 피해 조사·연구, 학술사업- 일제 강제동원 피해자 및 유족복지지원, 역사관 운영·관리 등',\n",
       "  '기관연혁': '- 2014. 6. 2. / 3. 재단 설립허가/등기- 2015. 1. 29. 기타공공기관 지정- 2016. 3 .7. 법정 기부금단체 지정(기재부)- 2016. 3. 30. 일제강제동원역사관 위탁관리 운영(행안부)',\n",
       "  '경영목표 및 전략': '- 미션: 과거의 기억, 현재의 통합, 미래의 평화- 비젼: 국민과 함께 평화와 인권을 선도하는 일제강제동원 전문 대표기관- 전략목표: 강제동원 진상규명을 통한 정의실현 강제동원 전문기관으로서 가치 실현 피해자·유족과 함께하는 공감 행정 인권과 평화의 국민교육의 장 제고 국민신뢰도 제고 및 투명윤리 경영',\n",
       "  '기관장': '김용덕',\n",
       "  '소재지': '종로구 종로1길 42, 603호(수송동, 이마빌딩)'},\n",
       " {'기관명': '(재)축산환경관리원',\n",
       "  '기관소개': '친환경적인 가축사육환경 조성 및 가축분뇨의 자원화를 효율적으로 수행함으로써<br />환경과 조화되는 지속가능한 축산업의 발전 및 국민건강 향상에 이바지\\n홈페이지연결 : http://www.lemi.or.kr/',\n",
       "  '주무기관': '농림축산식품부',\n",
       "  '설립근거': '「가축분뇨의 관리 및 이용에 관한 법률」제38조의2(축산환경관리원의 설립·운영)',\n",
       "  '주요기능 및 역할': 'o 배출시설 또는 처리시설 컨설팅, 지도 및 교육, 퇴비·액비의 품질관리\\no 가축분뇨의 수거·자원화, 퇴비·액비 유통 등 통합관리o 가축분뇨 처리시설 및 처리기술의 평가\\no 환경친화축산농장 지원 업무o 축산환경 지도·점검/축사환경 조사o 축산환경 개선을 위한 종사자 교육 및 컨설팅o 축산환경 개선기술 개발·보급/축산환경 개선 전문 인력 양성o 그 밖에 축산환경 개선을 위하여 농림축산식품부장관 또는 환경부장관이 인정하는 사업',\n",
       "  '기관연혁': \"o 민간관리기구 도입검토('10.7월, 국무총리실 주관 T/F팀)o '가축분뇨의 효율적 관리를 위한 민간관리기구 설립방안 연구'('11.11.)o「가축분뇨의 관리 및 이용에 관한 법률」개정('14.3.) - 제38조의2(축산환경관리원의 설립·운영) 신설o 축산환경관리원 설립추진위원회 구성('14.11.)o 축산환경관리원 초대 원장 임명('15.4.)o 재단법인 축산환경관리원 설립('15.5.)o「축산법」개정('18.12.) - 제42조의3(축산환경 개선 점담기관 지정) 신설o 축산환경관리원 2대 원장 임명('19.2.)o 축산환경관리원 청사 이전('19.11., 세종특별자치시)o「공공기관의 운영에 관한법률」에 따라 기타공공기관 신규 지정 - 기획재정부 고시 제2020-2호('20.2.5.)o「가축분뇨의 관리 및 이용에 관한 법률 시행규칙」개정('20.2.20.) - [별표6] 배출시설 및 처리시설 등의 관리기준(제15조 관련) 개정\",\n",
       "  '경영목표 및 전략': 'o (비전) 국민에게 신뢰받는 세계 최고의 축산환경개선 선도기관\\no (미션) 지속가능한 축산업 발전 및 국민행복 향상에 기여\\no 전략방향 및 중점과제\\n1. 축산환경 관리체계 구축\\n- 깨끗한 축산농장 조성\\n- 축산환경개선 대상지역 관리 강화\\n\\n2. 산업성장 동력확보\\n- 자원화조직체 운영 활성화\\n- 경축순환농업 체계 혁신\\n\\n3. 축산환경개선 관리 효율화\\n- 축산환경 전문인력 양성\\n- 축산환경 교육·컨설팅 확대\\n\\n4. 경영혁신 기반 강화\\n- 국민체감 사회적 가치 실현\\n- 조직구성원 혁신역량 강화',\n",
       "  '기관장': '이영희',\n",
       "  '소재지': '한누리대로 219, 7층(나성동, 한림프라자)'},\n",
       " {'기관명': '(재)한국우편사업진흥원',\n",
       "  '기관소개': '우편서비스의 질적 향상 및 우정문화를 창달함으로써 우정사업 발전과 국민문화 생활에 기여\\n홈페이지연결 : http://www.posa.or.kr',\n",
       "  '주무기관': '과학기술정보통신부',\n",
       "  '설립근거': '민법 제32조(비영리법인의 설립과 허가)',\n",
       "  '주요기능 및 역할': '1. 문화우편상품과 우표류 보급 및 콘텐츠를 통한 우정문화 확산\\n2. 우정 및 그 밖의 분야의 인재육성을 위한 교육과 장학사업 운영\\n3. 우체국쇼핑 운영 및 온라인우편시스템 개발ㆍ유지보수\\n4. 우편고객센터 운영 및 우체국 고객관리 활동 지원\\n5. 국내ㆍ외 우편관련 연구 및 그 부대사업\\n6. 출판 및 우표류 제작\\n7. 인터넷 맞춤형 편지서비스 운영\\n8. 인터넷 텔레비전(Internet Protocal Television) 우체국 운영 및 방송 콘텐츠 제작\\n9. 자산운용과 관련된 임대사업\\n10. 우표 전시회 개최, 우표 전시관 설치ㆍ운영 및 우표 관련 웹사이트 구축ㆍ운영 등\\n11. 옥외광고업\\n12. 우편물의 전자적 형태의 처리와 그 부대업무\\n13. 제1호부터 제12호까지의 사항과 관련하여 진흥원의 목적을 달성하기 위해 필요한 사업\\n14. 그 밖에 다른 법령에서 진흥원의 사업으로 정하거나 우정사업본부장 또는 그 밖의 행정기관이나 공공기관 등이 진흥원에 위탁한 사업',\n",
       "  '기관연혁': 'ㅇ 1930. 12. 03 우편소청사협회 설립\\nㅇ 1939. 11. 06 조선체신사업협회로 개칭\\nㅇ 1949. 07. 28 대한체신사업협회로 개칭\\n- 1949. 01. 15 인쇄사업 게시\\n- 1956. 12. 31 우표류 해외보급 및 선전사업 개시\\n- 1958. 01. 01 복지지원사업 개시\\nㅇ 1961. 06. 10 체성회로 개칭\\n- 1962. 01. 22 장학사업 개시\\n- 1970. 05. 04 디지털포스트 사업 개시\\n- 1981. 08. 21 콘도지원사업 개시\\n- 1988. 08. 10 우체국쇼핑(구 우편주문판매) 위탁사업 개시\\n- 2001. 03. 29 나만의우표 사업 개시\\n- 2003. 11. 01 콜센터 위탁 사업 개시\\nㅇ 2005. 11. 30 한국우편사업지원단으로 개칭\\n- 2006. 11. 15 우편연구 지원사업 개시\\n- 2007. 04. 04 우표포털 위탁사업 개시\\n- 2008. 06. 24 인터넷 맞춤형편지(전자우편) 서비스 시행\\n- 2008. 11. 07 우표문화누리 위탁서비스 개시\\nㅇ 2012. 01. 01 한국우편사업진흥원으로 개칭\\n- 2015. 06. 01 생활정보홍보우편 서비스 시행\\n- 2017. 03. 17 온라인 내용증명서비스 시행\\n- 2020. 01. 01 전자우편 내용증명 및 e그린엽서 통합 운영 시행\\n- 2020. 10. 01 온라인 우편시스템 개발ㆍ유지보수 시행',\n",
       "  '경영목표 및 전략': 'ㅇ 미션: 우정문화의 가치혁신과 선진 우편서비스의 제공으로 국민의 행복과 공익실현에 기여\\n\\nㅇ 비전: 국민 생활편의와 미래혁신을 선도하는 우편서비스 전문기관\\n\\nㅇ 3대 전략목표\\n- 대국민 우편서비스 경쟁력 강화\\n- 사회적 가치 가시적 성과 창출\\n- 경영혁신 기반 지속가능경영체계 강화',\n",
       "  '기관장': '민재석',\n",
       "  '소재지': '영등포구 영중로 83'}]"
      ]
     },
     "execution_count": 29,
     "metadata": {},
     "output_type": "execute_result"
    }
   ],
   "source": [
    "pub_contents"
   ]
  },
  {
   "cell_type": "code",
   "execution_count": 32,
   "id": "dd1f1b65",
   "metadata": {},
   "outputs": [
    {
     "data": {
      "text/html": [
       "<div>\n",
       "<style scoped>\n",
       "    .dataframe tbody tr th:only-of-type {\n",
       "        vertical-align: middle;\n",
       "    }\n",
       "\n",
       "    .dataframe tbody tr th {\n",
       "        vertical-align: top;\n",
       "    }\n",
       "\n",
       "    .dataframe thead th {\n",
       "        text-align: right;\n",
       "    }\n",
       "</style>\n",
       "<table border=\"1\" class=\"dataframe\">\n",
       "  <thead>\n",
       "    <tr style=\"text-align: right;\">\n",
       "      <th></th>\n",
       "      <th>name</th>\n",
       "      <th>gov</th>\n",
       "      <th>type</th>\n",
       "      <th>homepage</th>\n",
       "      <th>url</th>\n",
       "    </tr>\n",
       "  </thead>\n",
       "  <tbody>\n",
       "    <tr>\n",
       "      <th>0</th>\n",
       "      <td>(사)남북교류협력지원협회</td>\n",
       "      <td>통일부</td>\n",
       "      <td>기타공공기관</td>\n",
       "      <td>http://www.sonosa.or.kr</td>\n",
       "      <td>javascript:fnDetail('C0847');</td>\n",
       "    </tr>\n",
       "    <tr>\n",
       "      <th>1</th>\n",
       "      <td>(재)APEC기후센터</td>\n",
       "      <td>기상청</td>\n",
       "      <td>기타공공기관</td>\n",
       "      <td>http://www.apcc21.org</td>\n",
       "      <td>javascript:fnDetail('C0918');</td>\n",
       "    </tr>\n",
       "    <tr>\n",
       "      <th>2</th>\n",
       "      <td>(재)국제원산지정보원</td>\n",
       "      <td>관세청</td>\n",
       "      <td>기타공공기관</td>\n",
       "      <td>http://www.origin.or.kr</td>\n",
       "      <td>javascript:fnDetail('C0916');</td>\n",
       "    </tr>\n",
       "    <tr>\n",
       "      <th>3</th>\n",
       "      <td>(재)예술경영지원센터</td>\n",
       "      <td>문화체육관광부</td>\n",
       "      <td>기타공공기관</td>\n",
       "      <td>http://www.gokams.or.kr</td>\n",
       "      <td>javascript:fnDetail('C0454');</td>\n",
       "    </tr>\n",
       "    <tr>\n",
       "      <th>4</th>\n",
       "      <td>(재)우체국금융개발원</td>\n",
       "      <td>과학기술정보통신부</td>\n",
       "      <td>준정부기관(위탁집행형)</td>\n",
       "      <td>http://www.posid.or.kr</td>\n",
       "      <td>javascript:fnDetail('C0352');</td>\n",
       "    </tr>\n",
       "    <tr>\n",
       "      <th>5</th>\n",
       "      <td>(재)우체국물류지원단</td>\n",
       "      <td>과학기술정보통신부</td>\n",
       "      <td>준정부기관(위탁집행형)</td>\n",
       "      <td>http://www.pola.or.kr</td>\n",
       "      <td>javascript:fnDetail('C0331');</td>\n",
       "    </tr>\n",
       "    <tr>\n",
       "      <th>6</th>\n",
       "      <td>(재)우체국시설관리단</td>\n",
       "      <td>과학기술정보통신부</td>\n",
       "      <td>기타공공기관</td>\n",
       "      <td>http://www.poma.or.kr</td>\n",
       "      <td>javascript:fnDetail('C0368');</td>\n",
       "    </tr>\n",
       "    <tr>\n",
       "      <th>7</th>\n",
       "      <td>(재)일제강제동원피해자지원재단</td>\n",
       "      <td>행정안전부</td>\n",
       "      <td>기타공공기관</td>\n",
       "      <td>https://www.ilje.or.kr/</td>\n",
       "      <td>javascript:fnDetail('C0931');</td>\n",
       "    </tr>\n",
       "    <tr>\n",
       "      <th>8</th>\n",
       "      <td>(재)축산환경관리원</td>\n",
       "      <td>농림축산식품부</td>\n",
       "      <td>기타공공기관</td>\n",
       "      <td>http://www.lemi.or.kr/</td>\n",
       "      <td>javascript:fnDetail('C1030');</td>\n",
       "    </tr>\n",
       "    <tr>\n",
       "      <th>9</th>\n",
       "      <td>(재)한국우편사업진흥원</td>\n",
       "      <td>과학기술정보통신부</td>\n",
       "      <td>준정부기관(위탁집행형)</td>\n",
       "      <td>http://www.posa.or.kr</td>\n",
       "      <td>javascript:fnDetail('C0354');</td>\n",
       "    </tr>\n",
       "  </tbody>\n",
       "</table>\n",
       "</div>"
      ],
      "text/plain": [
       "               name        gov          type                 homepage  \\\n",
       "0     (사)남북교류협력지원협회        통일부        기타공공기관  http://www.sonosa.or.kr   \n",
       "1       (재)APEC기후센터        기상청        기타공공기관    http://www.apcc21.org   \n",
       "2       (재)국제원산지정보원        관세청        기타공공기관  http://www.origin.or.kr   \n",
       "3       (재)예술경영지원센터    문화체육관광부        기타공공기관  http://www.gokams.or.kr   \n",
       "4       (재)우체국금융개발원  과학기술정보통신부  준정부기관(위탁집행형)   http://www.posid.or.kr   \n",
       "5       (재)우체국물류지원단  과학기술정보통신부  준정부기관(위탁집행형)    http://www.pola.or.kr   \n",
       "6       (재)우체국시설관리단  과학기술정보통신부        기타공공기관    http://www.poma.or.kr   \n",
       "7  (재)일제강제동원피해자지원재단      행정안전부        기타공공기관  https://www.ilje.or.kr/   \n",
       "8        (재)축산환경관리원    농림축산식품부        기타공공기관   http://www.lemi.or.kr/   \n",
       "9      (재)한국우편사업진흥원  과학기술정보통신부  준정부기관(위탁집행형)    http://www.posa.or.kr   \n",
       "\n",
       "                             url  \n",
       "0  javascript:fnDetail('C0847');  \n",
       "1  javascript:fnDetail('C0918');  \n",
       "2  javascript:fnDetail('C0916');  \n",
       "3  javascript:fnDetail('C0454');  \n",
       "4  javascript:fnDetail('C0352');  \n",
       "5  javascript:fnDetail('C0331');  \n",
       "6  javascript:fnDetail('C0368');  \n",
       "7  javascript:fnDetail('C0931');  \n",
       "8  javascript:fnDetail('C1030');  \n",
       "9  javascript:fnDetail('C0354');  "
      ]
     },
     "execution_count": 32,
     "metadata": {},
     "output_type": "execute_result"
    }
   ],
   "source": [
    "pub_df"
   ]
  },
  {
   "cell_type": "code",
   "execution_count": 30,
   "id": "92c0184f",
   "metadata": {
    "slideshow": {
     "slide_type": "subslide"
    }
   },
   "outputs": [],
   "source": [
    "pub_content_df = pd.DataFrame(pub_contents)"
   ]
  },
  {
   "cell_type": "code",
   "execution_count": 31,
   "id": "f59822ca",
   "metadata": {
    "slideshow": {
     "slide_type": "fragment"
    }
   },
   "outputs": [
    {
     "data": {
      "text/html": [
       "<div>\n",
       "<style scoped>\n",
       "    .dataframe tbody tr th:only-of-type {\n",
       "        vertical-align: middle;\n",
       "    }\n",
       "\n",
       "    .dataframe tbody tr th {\n",
       "        vertical-align: top;\n",
       "    }\n",
       "\n",
       "    .dataframe thead th {\n",
       "        text-align: right;\n",
       "    }\n",
       "</style>\n",
       "<table border=\"1\" class=\"dataframe\">\n",
       "  <thead>\n",
       "    <tr style=\"text-align: right;\">\n",
       "      <th></th>\n",
       "      <th>기관명</th>\n",
       "      <th>기관소개</th>\n",
       "      <th>주무기관</th>\n",
       "      <th>설립근거</th>\n",
       "      <th>주요기능 및 역할</th>\n",
       "      <th>기관연혁</th>\n",
       "      <th>경영목표 및 전략</th>\n",
       "      <th>기관장</th>\n",
       "      <th>소재지</th>\n",
       "    </tr>\n",
       "  </thead>\n",
       "  <tbody>\n",
       "    <tr>\n",
       "      <th>0</th>\n",
       "      <td>(사)남북교류협력지원협회</td>\n",
       "      <td>정부 위탁업무 수행, 정책건의, 남북교류협력 관련 조사·연구 및 분석 등을 통한 남...</td>\n",
       "      <td>통일부</td>\n",
       "      <td>민법 32조</td>\n",
       "      <td>o 남북교류협력과 관련한 정부 위탁사업 수행\\no 정부에 대한 남북교류협력 활성화 ...</td>\n",
       "      <td>o 2007.05.22 법인설립 인가(통일부)\\no 2007.05.28「남북 경공업...</td>\n",
       "      <td>o 남북교류협력 활력 제고 및 성장동력 확보\\n- 남북교류협력 원스톱 서비스 체계 ...</td>\n",
       "      <td>강영식</td>\n",
       "      <td>중구 퇴계로 97, 601호</td>\n",
       "    </tr>\n",
       "    <tr>\n",
       "      <th>1</th>\n",
       "      <td>(재)APEC기후센터</td>\n",
       "      <td>기후예측과 그 관련 연구를 통해 기후변화 및 변동의 영향에 효과적으로 대응할 수 있...</td>\n",
       "      <td>기상청</td>\n",
       "      <td>민법 제32조, 공익법인의 설립·운영에 관한 법률</td>\n",
       "      <td>○ 기후변동 및 변화의 진단, 예측 관련 정보의 수집, 생산 및 유통\\n○ 기후변동...</td>\n",
       "      <td>○ 2004.03 제4차 APEC 과학기술장관회의에서 설립 제안\\n○ 2005.03...</td>\n",
       "      <td>○ 기후예측 전문성 강화 및 국내 기여 확대\\n○ 기후예측 기술 개발 및 기후 감시...</td>\n",
       "      <td>권원태</td>\n",
       "      <td>해운대구 센텀7로 12</td>\n",
       "    </tr>\n",
       "    <tr>\n",
       "      <th>2</th>\n",
       "      <td>(재)국제원산지정보원</td>\n",
       "      <td>자유무역협정 및 원산지 관련 연구ㆍ조사ㆍ정보 보급 확대 등을 통하여 우리 기업의&lt;b...</td>\n",
       "      <td>관세청</td>\n",
       "      <td>민법 제32조(비영리법인의 설립과 허가)</td>\n",
       "      <td>1. 자유무역협정ㆍ원산지 정보의 수집ㆍ분석 수탁 사업\\n2. 자유무역협정ㆍ원산지 정...</td>\n",
       "      <td>2009. 1 원산지정보 수집· 분석 전문기관 지정(관세청)\\n2009. 2 「한국...</td>\n",
       "      <td>미션 : FTA 및 원산지 연구· 조사와 정보보급을 통해 기업경쟁력 강화와 국민경제...</td>\n",
       "      <td>박병진</td>\n",
       "      <td>성남시 분당구 야탑로 205번길8</td>\n",
       "    </tr>\n",
       "    <tr>\n",
       "      <th>3</th>\n",
       "      <td>(재)예술경영지원센터</td>\n",
       "      <td>예술유통의 활성화와 예술기관의 경쟁력 강화를 종합적이고 체계적으로 지원함으로써, 예...</td>\n",
       "      <td>문화체육관광부</td>\n",
       "      <td>민법 제32조에 의한 재단법인</td>\n",
       "      <td>1. 예술 유통구조의 체계화 및 활성화 지원\\n2. 예술기관·단체 운영 및 경영 관...</td>\n",
       "      <td>○ 2006년 재단법인 예술경영지원센터 설립 (2006.1.12.), 제1기 이사회...</td>\n",
       "      <td>○ 비전 : 예술시장 활성화로 예술현장의 지속성장을 이끌어가는 기관\\n○ 핵심가치 ...</td>\n",
       "      <td>김도일</td>\n",
       "      <td>종로구 대학로 57(연건동) 홍익대학교 대학로캠퍼스 교육동 3층, 12층</td>\n",
       "    </tr>\n",
       "    <tr>\n",
       "      <th>4</th>\n",
       "      <td>(재)우체국금융개발원</td>\n",
       "      <td>우체국금융 업무를 효과적으로 지원함으로써 우체국예금보험사업의 향상·발전에 기여\\n홈...</td>\n",
       "      <td>과학기술정보통신부</td>\n",
       "      <td>민법 제32조(비영리법인의 설립과 허가) 학술, 종교, 자선, 기예, 사교 기타 영...</td>\n",
       "      <td>ㅇ 국내외 금융시장에 대한 조사·연구\\nㅇ 우체국금융 신서비스 도입 및 마케팅 방안...</td>\n",
       "      <td>1966.04. 재단법인 체신저축장려회 설립\\n1976.12. 재단법인 체신장려회로...</td>\n",
       "      <td>◎ 미션 : 안전하고 편리한 금융서비스를 통해 국민의 삶의 질 향상에 기여한다\\n\\...</td>\n",
       "      <td>유대선</td>\n",
       "      <td>영등포구 경인로 841(영등포동4가)</td>\n",
       "    </tr>\n",
       "    <tr>\n",
       "      <th>5</th>\n",
       "      <td>(재)우체국물류지원단</td>\n",
       "      <td>안전ㆍ신속ㆍ정확한 우편물류서비스를 효율적으로 제공함으로써 국민의 편익 &lt;br /&gt;증...</td>\n",
       "      <td>과학기술정보통신부</td>\n",
       "      <td>민법 제32조</td>\n",
       "      <td>'우체국물류지원단'은 전국 우편물 운송, 배달, 분류, 국제우편물 포워딩 등 종합우...</td>\n",
       "      <td>□ 1980.08.26 법인설립 (재)체신복지회\\n□ 1981.03.01 수도권 우...</td>\n",
       "      <td>□ (기관미션) 안전ㆍ 신속ㆍ 정확한 우편물류서비스를 효율적으로 제공함으로써\\n국민...</td>\n",
       "      <td>천장수</td>\n",
       "      <td>광진구 자양로 76</td>\n",
       "    </tr>\n",
       "    <tr>\n",
       "      <th>6</th>\n",
       "      <td>(재)우체국시설관리단</td>\n",
       "      <td>우정사업조직에 속한 부동산의 효율적 관리ㆍ운영으로 우정자산의 적극적 활용 및 가치향...</td>\n",
       "      <td>과학기술정보통신부</td>\n",
       "      <td>민법 제32조(비영리법인의 설립과 허가)</td>\n",
       "      <td>o 우정재산의 사용ㆍ수익 허가 및 대부업무 지원사업\\no 우정사업 부동산 시설 유지...</td>\n",
       "      <td>o 2001. 11. 23. 법인 설립\\no 2006. 12. 28. 우체국사 관리...</td>\n",
       "      <td>⊙ 미션 : 전문적이고 효율적인 우정시설 및 자산관리를 통해 공공의 복리 증진에 기...</td>\n",
       "      <td>김성칠</td>\n",
       "      <td>광진구 강벽역로 2(구의동, 우체국시설관리단)</td>\n",
       "    </tr>\n",
       "    <tr>\n",
       "      <th>7</th>\n",
       "      <td>(재)일제강제동원피해자지원재단</td>\n",
       "      <td>일제강제동원 피해·희생자 및 유족 등에 대한 복지지원사업, 추념사업 및 강제동원 피...</td>\n",
       "      <td>행정안전부</td>\n",
       "      <td>- 설립근거「민법」제32조(비영리 법인의 설립과 허가),「공익법인의 설립·운영에 관...</td>\n",
       "      <td>- 일제 강제동원 희생자에 대한 추도순례 등 위령사업- 해외 추도공간 조성 및 일제...</td>\n",
       "      <td>- 2014. 6. 2. / 3. 재단 설립허가/등기- 2015. 1. 29. 기타...</td>\n",
       "      <td>- 미션: 과거의 기억, 현재의 통합, 미래의 평화- 비젼: 국민과 함께 평화와 인...</td>\n",
       "      <td>김용덕</td>\n",
       "      <td>종로구 종로1길 42, 603호(수송동, 이마빌딩)</td>\n",
       "    </tr>\n",
       "    <tr>\n",
       "      <th>8</th>\n",
       "      <td>(재)축산환경관리원</td>\n",
       "      <td>친환경적인 가축사육환경 조성 및 가축분뇨의 자원화를 효율적으로 수행함으로써&lt;br /...</td>\n",
       "      <td>농림축산식품부</td>\n",
       "      <td>「가축분뇨의 관리 및 이용에 관한 법률」제38조의2(축산환경관리원의 설립·운영)</td>\n",
       "      <td>o 배출시설 또는 처리시설 컨설팅, 지도 및 교육, 퇴비·액비의 품질관리\\no 가축...</td>\n",
       "      <td>o 민간관리기구 도입검토('10.7월, 국무총리실 주관 T/F팀)o '가축분뇨의 효...</td>\n",
       "      <td>o (비전) 국민에게 신뢰받는 세계 최고의 축산환경개선 선도기관\\no (미션) 지속...</td>\n",
       "      <td>이영희</td>\n",
       "      <td>한누리대로 219, 7층(나성동, 한림프라자)</td>\n",
       "    </tr>\n",
       "    <tr>\n",
       "      <th>9</th>\n",
       "      <td>(재)한국우편사업진흥원</td>\n",
       "      <td>우편서비스의 질적 향상 및 우정문화를 창달함으로써 우정사업 발전과 국민문화 생활에 ...</td>\n",
       "      <td>과학기술정보통신부</td>\n",
       "      <td>민법 제32조(비영리법인의 설립과 허가)</td>\n",
       "      <td>1. 문화우편상품과 우표류 보급 및 콘텐츠를 통한 우정문화 확산\\n2. 우정 및 그...</td>\n",
       "      <td>ㅇ 1930. 12. 03 우편소청사협회 설립\\nㅇ 1939. 11. 06 조선체신...</td>\n",
       "      <td>ㅇ 미션: 우정문화의 가치혁신과 선진 우편서비스의 제공으로 국민의 행복과 공익실현에...</td>\n",
       "      <td>민재석</td>\n",
       "      <td>영등포구 영중로 83</td>\n",
       "    </tr>\n",
       "  </tbody>\n",
       "</table>\n",
       "</div>"
      ],
      "text/plain": [
       "                기관명                                               기관소개  \\\n",
       "0     (사)남북교류협력지원협회  정부 위탁업무 수행, 정책건의, 남북교류협력 관련 조사·연구 및 분석 등을 통한 남...   \n",
       "1       (재)APEC기후센터  기후예측과 그 관련 연구를 통해 기후변화 및 변동의 영향에 효과적으로 대응할 수 있...   \n",
       "2       (재)국제원산지정보원  자유무역협정 및 원산지 관련 연구ㆍ조사ㆍ정보 보급 확대 등을 통하여 우리 기업의<b...   \n",
       "3       (재)예술경영지원센터  예술유통의 활성화와 예술기관의 경쟁력 강화를 종합적이고 체계적으로 지원함으로써, 예...   \n",
       "4       (재)우체국금융개발원  우체국금융 업무를 효과적으로 지원함으로써 우체국예금보험사업의 향상·발전에 기여\\n홈...   \n",
       "5       (재)우체국물류지원단  안전ㆍ신속ㆍ정확한 우편물류서비스를 효율적으로 제공함으로써 국민의 편익 <br />증...   \n",
       "6       (재)우체국시설관리단  우정사업조직에 속한 부동산의 효율적 관리ㆍ운영으로 우정자산의 적극적 활용 및 가치향...   \n",
       "7  (재)일제강제동원피해자지원재단  일제강제동원 피해·희생자 및 유족 등에 대한 복지지원사업, 추념사업 및 강제동원 피...   \n",
       "8        (재)축산환경관리원  친환경적인 가축사육환경 조성 및 가축분뇨의 자원화를 효율적으로 수행함으로써<br /...   \n",
       "9      (재)한국우편사업진흥원  우편서비스의 질적 향상 및 우정문화를 창달함으로써 우정사업 발전과 국민문화 생활에 ...   \n",
       "\n",
       "        주무기관                                               설립근거  \\\n",
       "0        통일부                                             민법 32조   \n",
       "1        기상청                        민법 제32조, 공익법인의 설립·운영에 관한 법률   \n",
       "2        관세청                             민법 제32조(비영리법인의 설립과 허가)   \n",
       "3    문화체육관광부                                   민법 제32조에 의한 재단법인   \n",
       "4  과학기술정보통신부  민법 제32조(비영리법인의 설립과 허가) 학술, 종교, 자선, 기예, 사교 기타 영...   \n",
       "5  과학기술정보통신부                                            민법 제32조   \n",
       "6  과학기술정보통신부                             민법 제32조(비영리법인의 설립과 허가)   \n",
       "7      행정안전부  - 설립근거「민법」제32조(비영리 법인의 설립과 허가),「공익법인의 설립·운영에 관...   \n",
       "8    농림축산식품부       「가축분뇨의 관리 및 이용에 관한 법률」제38조의2(축산환경관리원의 설립·운영)   \n",
       "9  과학기술정보통신부                             민법 제32조(비영리법인의 설립과 허가)   \n",
       "\n",
       "                                           주요기능 및 역할  \\\n",
       "0  o 남북교류협력과 관련한 정부 위탁사업 수행\\no 정부에 대한 남북교류협력 활성화 ...   \n",
       "1  ○ 기후변동 및 변화의 진단, 예측 관련 정보의 수집, 생산 및 유통\\n○ 기후변동...   \n",
       "2  1. 자유무역협정ㆍ원산지 정보의 수집ㆍ분석 수탁 사업\\n2. 자유무역협정ㆍ원산지 정...   \n",
       "3  1. 예술 유통구조의 체계화 및 활성화 지원\\n2. 예술기관·단체 운영 및 경영 관...   \n",
       "4  ㅇ 국내외 금융시장에 대한 조사·연구\\nㅇ 우체국금융 신서비스 도입 및 마케팅 방안...   \n",
       "5  '우체국물류지원단'은 전국 우편물 운송, 배달, 분류, 국제우편물 포워딩 등 종합우...   \n",
       "6  o 우정재산의 사용ㆍ수익 허가 및 대부업무 지원사업\\no 우정사업 부동산 시설 유지...   \n",
       "7  - 일제 강제동원 희생자에 대한 추도순례 등 위령사업- 해외 추도공간 조성 및 일제...   \n",
       "8  o 배출시설 또는 처리시설 컨설팅, 지도 및 교육, 퇴비·액비의 품질관리\\no 가축...   \n",
       "9  1. 문화우편상품과 우표류 보급 및 콘텐츠를 통한 우정문화 확산\\n2. 우정 및 그...   \n",
       "\n",
       "                                                기관연혁  \\\n",
       "0  o 2007.05.22 법인설립 인가(통일부)\\no 2007.05.28「남북 경공업...   \n",
       "1  ○ 2004.03 제4차 APEC 과학기술장관회의에서 설립 제안\\n○ 2005.03...   \n",
       "2  2009. 1 원산지정보 수집· 분석 전문기관 지정(관세청)\\n2009. 2 「한국...   \n",
       "3  ○ 2006년 재단법인 예술경영지원센터 설립 (2006.1.12.), 제1기 이사회...   \n",
       "4  1966.04. 재단법인 체신저축장려회 설립\\n1976.12. 재단법인 체신장려회로...   \n",
       "5  □ 1980.08.26 법인설립 (재)체신복지회\\n□ 1981.03.01 수도권 우...   \n",
       "6  o 2001. 11. 23. 법인 설립\\no 2006. 12. 28. 우체국사 관리...   \n",
       "7  - 2014. 6. 2. / 3. 재단 설립허가/등기- 2015. 1. 29. 기타...   \n",
       "8  o 민간관리기구 도입검토('10.7월, 국무총리실 주관 T/F팀)o '가축분뇨의 효...   \n",
       "9  ㅇ 1930. 12. 03 우편소청사협회 설립\\nㅇ 1939. 11. 06 조선체신...   \n",
       "\n",
       "                                           경영목표 및 전략  기관장  \\\n",
       "0  o 남북교류협력 활력 제고 및 성장동력 확보\\n- 남북교류협력 원스톱 서비스 체계 ...  강영식   \n",
       "1  ○ 기후예측 전문성 강화 및 국내 기여 확대\\n○ 기후예측 기술 개발 및 기후 감시...  권원태   \n",
       "2  미션 : FTA 및 원산지 연구· 조사와 정보보급을 통해 기업경쟁력 강화와 국민경제...  박병진   \n",
       "3  ○ 비전 : 예술시장 활성화로 예술현장의 지속성장을 이끌어가는 기관\\n○ 핵심가치 ...  김도일   \n",
       "4  ◎ 미션 : 안전하고 편리한 금융서비스를 통해 국민의 삶의 질 향상에 기여한다\\n\\...  유대선   \n",
       "5  □ (기관미션) 안전ㆍ 신속ㆍ 정확한 우편물류서비스를 효율적으로 제공함으로써\\n국민...  천장수   \n",
       "6  ⊙ 미션 : 전문적이고 효율적인 우정시설 및 자산관리를 통해 공공의 복리 증진에 기...  김성칠   \n",
       "7  - 미션: 과거의 기억, 현재의 통합, 미래의 평화- 비젼: 국민과 함께 평화와 인...  김용덕   \n",
       "8  o (비전) 국민에게 신뢰받는 세계 최고의 축산환경개선 선도기관\\no (미션) 지속...  이영희   \n",
       "9  ㅇ 미션: 우정문화의 가치혁신과 선진 우편서비스의 제공으로 국민의 행복과 공익실현에...  민재석   \n",
       "\n",
       "                                        소재지  \n",
       "0                           중구 퇴계로 97, 601호  \n",
       "1                              해운대구 센텀7로 12  \n",
       "2                        성남시 분당구 야탑로 205번길8  \n",
       "3  종로구 대학로 57(연건동) 홍익대학교 대학로캠퍼스 교육동 3층, 12층  \n",
       "4                      영등포구 경인로 841(영등포동4가)  \n",
       "5                                광진구 자양로 76  \n",
       "6                 광진구 강벽역로 2(구의동, 우체국시설관리단)  \n",
       "7              종로구 종로1길 42, 603호(수송동, 이마빌딩)  \n",
       "8                 한누리대로 219, 7층(나성동, 한림프라자)  \n",
       "9                               영등포구 영중로 83  "
      ]
     },
     "execution_count": 31,
     "metadata": {},
     "output_type": "execute_result"
    }
   ],
   "source": [
    "pub_content_df"
   ]
  },
  {
   "cell_type": "code",
   "execution_count": 33,
   "id": "6eb8eca2",
   "metadata": {
    "slideshow": {
     "slide_type": "subslide"
    }
   },
   "outputs": [],
   "source": [
    "pub_df_merge = pd.merge(pub_df, pub_content_df, left_on='name', right_on='기관명', how='left')"
   ]
  },
  {
   "cell_type": "code",
   "execution_count": 34,
   "id": "18ea70b5",
   "metadata": {
    "slideshow": {
     "slide_type": "fragment"
    }
   },
   "outputs": [
    {
     "data": {
      "text/html": [
       "<div>\n",
       "<style scoped>\n",
       "    .dataframe tbody tr th:only-of-type {\n",
       "        vertical-align: middle;\n",
       "    }\n",
       "\n",
       "    .dataframe tbody tr th {\n",
       "        vertical-align: top;\n",
       "    }\n",
       "\n",
       "    .dataframe thead th {\n",
       "        text-align: right;\n",
       "    }\n",
       "</style>\n",
       "<table border=\"1\" class=\"dataframe\">\n",
       "  <thead>\n",
       "    <tr style=\"text-align: right;\">\n",
       "      <th></th>\n",
       "      <th>name</th>\n",
       "      <th>gov</th>\n",
       "      <th>type</th>\n",
       "      <th>homepage</th>\n",
       "      <th>url</th>\n",
       "      <th>기관명</th>\n",
       "      <th>기관소개</th>\n",
       "      <th>주무기관</th>\n",
       "      <th>설립근거</th>\n",
       "      <th>주요기능 및 역할</th>\n",
       "      <th>기관연혁</th>\n",
       "      <th>경영목표 및 전략</th>\n",
       "      <th>기관장</th>\n",
       "      <th>소재지</th>\n",
       "    </tr>\n",
       "  </thead>\n",
       "  <tbody>\n",
       "    <tr>\n",
       "      <th>0</th>\n",
       "      <td>(사)남북교류협력지원협회</td>\n",
       "      <td>통일부</td>\n",
       "      <td>기타공공기관</td>\n",
       "      <td>http://www.sonosa.or.kr</td>\n",
       "      <td>javascript:fnDetail('C0847');</td>\n",
       "      <td>(사)남북교류협력지원협회</td>\n",
       "      <td>정부 위탁업무 수행, 정책건의, 남북교류협력 관련 조사·연구 및 분석 등을 통한 남...</td>\n",
       "      <td>통일부</td>\n",
       "      <td>민법 32조</td>\n",
       "      <td>o 남북교류협력과 관련한 정부 위탁사업 수행\\no 정부에 대한 남북교류협력 활성화 ...</td>\n",
       "      <td>o 2007.05.22 법인설립 인가(통일부)\\no 2007.05.28「남북 경공업...</td>\n",
       "      <td>o 남북교류협력 활력 제고 및 성장동력 확보\\n- 남북교류협력 원스톱 서비스 체계 ...</td>\n",
       "      <td>강영식</td>\n",
       "      <td>중구 퇴계로 97, 601호</td>\n",
       "    </tr>\n",
       "    <tr>\n",
       "      <th>1</th>\n",
       "      <td>(재)APEC기후센터</td>\n",
       "      <td>기상청</td>\n",
       "      <td>기타공공기관</td>\n",
       "      <td>http://www.apcc21.org</td>\n",
       "      <td>javascript:fnDetail('C0918');</td>\n",
       "      <td>(재)APEC기후센터</td>\n",
       "      <td>기후예측과 그 관련 연구를 통해 기후변화 및 변동의 영향에 효과적으로 대응할 수 있...</td>\n",
       "      <td>기상청</td>\n",
       "      <td>민법 제32조, 공익법인의 설립·운영에 관한 법률</td>\n",
       "      <td>○ 기후변동 및 변화의 진단, 예측 관련 정보의 수집, 생산 및 유통\\n○ 기후변동...</td>\n",
       "      <td>○ 2004.03 제4차 APEC 과학기술장관회의에서 설립 제안\\n○ 2005.03...</td>\n",
       "      <td>○ 기후예측 전문성 강화 및 국내 기여 확대\\n○ 기후예측 기술 개발 및 기후 감시...</td>\n",
       "      <td>권원태</td>\n",
       "      <td>해운대구 센텀7로 12</td>\n",
       "    </tr>\n",
       "    <tr>\n",
       "      <th>2</th>\n",
       "      <td>(재)국제원산지정보원</td>\n",
       "      <td>관세청</td>\n",
       "      <td>기타공공기관</td>\n",
       "      <td>http://www.origin.or.kr</td>\n",
       "      <td>javascript:fnDetail('C0916');</td>\n",
       "      <td>(재)국제원산지정보원</td>\n",
       "      <td>자유무역협정 및 원산지 관련 연구ㆍ조사ㆍ정보 보급 확대 등을 통하여 우리 기업의&lt;b...</td>\n",
       "      <td>관세청</td>\n",
       "      <td>민법 제32조(비영리법인의 설립과 허가)</td>\n",
       "      <td>1. 자유무역협정ㆍ원산지 정보의 수집ㆍ분석 수탁 사업\\n2. 자유무역협정ㆍ원산지 정...</td>\n",
       "      <td>2009. 1 원산지정보 수집· 분석 전문기관 지정(관세청)\\n2009. 2 「한국...</td>\n",
       "      <td>미션 : FTA 및 원산지 연구· 조사와 정보보급을 통해 기업경쟁력 강화와 국민경제...</td>\n",
       "      <td>박병진</td>\n",
       "      <td>성남시 분당구 야탑로 205번길8</td>\n",
       "    </tr>\n",
       "    <tr>\n",
       "      <th>3</th>\n",
       "      <td>(재)예술경영지원센터</td>\n",
       "      <td>문화체육관광부</td>\n",
       "      <td>기타공공기관</td>\n",
       "      <td>http://www.gokams.or.kr</td>\n",
       "      <td>javascript:fnDetail('C0454');</td>\n",
       "      <td>(재)예술경영지원센터</td>\n",
       "      <td>예술유통의 활성화와 예술기관의 경쟁력 강화를 종합적이고 체계적으로 지원함으로써, 예...</td>\n",
       "      <td>문화체육관광부</td>\n",
       "      <td>민법 제32조에 의한 재단법인</td>\n",
       "      <td>1. 예술 유통구조의 체계화 및 활성화 지원\\n2. 예술기관·단체 운영 및 경영 관...</td>\n",
       "      <td>○ 2006년 재단법인 예술경영지원센터 설립 (2006.1.12.), 제1기 이사회...</td>\n",
       "      <td>○ 비전 : 예술시장 활성화로 예술현장의 지속성장을 이끌어가는 기관\\n○ 핵심가치 ...</td>\n",
       "      <td>김도일</td>\n",
       "      <td>종로구 대학로 57(연건동) 홍익대학교 대학로캠퍼스 교육동 3층, 12층</td>\n",
       "    </tr>\n",
       "    <tr>\n",
       "      <th>4</th>\n",
       "      <td>(재)우체국금융개발원</td>\n",
       "      <td>과학기술정보통신부</td>\n",
       "      <td>준정부기관(위탁집행형)</td>\n",
       "      <td>http://www.posid.or.kr</td>\n",
       "      <td>javascript:fnDetail('C0352');</td>\n",
       "      <td>(재)우체국금융개발원</td>\n",
       "      <td>우체국금융 업무를 효과적으로 지원함으로써 우체국예금보험사업의 향상·발전에 기여\\n홈...</td>\n",
       "      <td>과학기술정보통신부</td>\n",
       "      <td>민법 제32조(비영리법인의 설립과 허가) 학술, 종교, 자선, 기예, 사교 기타 영...</td>\n",
       "      <td>ㅇ 국내외 금융시장에 대한 조사·연구\\nㅇ 우체국금융 신서비스 도입 및 마케팅 방안...</td>\n",
       "      <td>1966.04. 재단법인 체신저축장려회 설립\\n1976.12. 재단법인 체신장려회로...</td>\n",
       "      <td>◎ 미션 : 안전하고 편리한 금융서비스를 통해 국민의 삶의 질 향상에 기여한다\\n\\...</td>\n",
       "      <td>유대선</td>\n",
       "      <td>영등포구 경인로 841(영등포동4가)</td>\n",
       "    </tr>\n",
       "    <tr>\n",
       "      <th>5</th>\n",
       "      <td>(재)우체국물류지원단</td>\n",
       "      <td>과학기술정보통신부</td>\n",
       "      <td>준정부기관(위탁집행형)</td>\n",
       "      <td>http://www.pola.or.kr</td>\n",
       "      <td>javascript:fnDetail('C0331');</td>\n",
       "      <td>(재)우체국물류지원단</td>\n",
       "      <td>안전ㆍ신속ㆍ정확한 우편물류서비스를 효율적으로 제공함으로써 국민의 편익 &lt;br /&gt;증...</td>\n",
       "      <td>과학기술정보통신부</td>\n",
       "      <td>민법 제32조</td>\n",
       "      <td>'우체국물류지원단'은 전국 우편물 운송, 배달, 분류, 국제우편물 포워딩 등 종합우...</td>\n",
       "      <td>□ 1980.08.26 법인설립 (재)체신복지회\\n□ 1981.03.01 수도권 우...</td>\n",
       "      <td>□ (기관미션) 안전ㆍ 신속ㆍ 정확한 우편물류서비스를 효율적으로 제공함으로써\\n국민...</td>\n",
       "      <td>천장수</td>\n",
       "      <td>광진구 자양로 76</td>\n",
       "    </tr>\n",
       "    <tr>\n",
       "      <th>6</th>\n",
       "      <td>(재)우체국시설관리단</td>\n",
       "      <td>과학기술정보통신부</td>\n",
       "      <td>기타공공기관</td>\n",
       "      <td>http://www.poma.or.kr</td>\n",
       "      <td>javascript:fnDetail('C0368');</td>\n",
       "      <td>(재)우체국시설관리단</td>\n",
       "      <td>우정사업조직에 속한 부동산의 효율적 관리ㆍ운영으로 우정자산의 적극적 활용 및 가치향...</td>\n",
       "      <td>과학기술정보통신부</td>\n",
       "      <td>민법 제32조(비영리법인의 설립과 허가)</td>\n",
       "      <td>o 우정재산의 사용ㆍ수익 허가 및 대부업무 지원사업\\no 우정사업 부동산 시설 유지...</td>\n",
       "      <td>o 2001. 11. 23. 법인 설립\\no 2006. 12. 28. 우체국사 관리...</td>\n",
       "      <td>⊙ 미션 : 전문적이고 효율적인 우정시설 및 자산관리를 통해 공공의 복리 증진에 기...</td>\n",
       "      <td>김성칠</td>\n",
       "      <td>광진구 강벽역로 2(구의동, 우체국시설관리단)</td>\n",
       "    </tr>\n",
       "    <tr>\n",
       "      <th>7</th>\n",
       "      <td>(재)일제강제동원피해자지원재단</td>\n",
       "      <td>행정안전부</td>\n",
       "      <td>기타공공기관</td>\n",
       "      <td>https://www.ilje.or.kr/</td>\n",
       "      <td>javascript:fnDetail('C0931');</td>\n",
       "      <td>(재)일제강제동원피해자지원재단</td>\n",
       "      <td>일제강제동원 피해·희생자 및 유족 등에 대한 복지지원사업, 추념사업 및 강제동원 피...</td>\n",
       "      <td>행정안전부</td>\n",
       "      <td>- 설립근거「민법」제32조(비영리 법인의 설립과 허가),「공익법인의 설립·운영에 관...</td>\n",
       "      <td>- 일제 강제동원 희생자에 대한 추도순례 등 위령사업- 해외 추도공간 조성 및 일제...</td>\n",
       "      <td>- 2014. 6. 2. / 3. 재단 설립허가/등기- 2015. 1. 29. 기타...</td>\n",
       "      <td>- 미션: 과거의 기억, 현재의 통합, 미래의 평화- 비젼: 국민과 함께 평화와 인...</td>\n",
       "      <td>김용덕</td>\n",
       "      <td>종로구 종로1길 42, 603호(수송동, 이마빌딩)</td>\n",
       "    </tr>\n",
       "    <tr>\n",
       "      <th>8</th>\n",
       "      <td>(재)축산환경관리원</td>\n",
       "      <td>농림축산식품부</td>\n",
       "      <td>기타공공기관</td>\n",
       "      <td>http://www.lemi.or.kr/</td>\n",
       "      <td>javascript:fnDetail('C1030');</td>\n",
       "      <td>(재)축산환경관리원</td>\n",
       "      <td>친환경적인 가축사육환경 조성 및 가축분뇨의 자원화를 효율적으로 수행함으로써&lt;br /...</td>\n",
       "      <td>농림축산식품부</td>\n",
       "      <td>「가축분뇨의 관리 및 이용에 관한 법률」제38조의2(축산환경관리원의 설립·운영)</td>\n",
       "      <td>o 배출시설 또는 처리시설 컨설팅, 지도 및 교육, 퇴비·액비의 품질관리\\no 가축...</td>\n",
       "      <td>o 민간관리기구 도입검토('10.7월, 국무총리실 주관 T/F팀)o '가축분뇨의 효...</td>\n",
       "      <td>o (비전) 국민에게 신뢰받는 세계 최고의 축산환경개선 선도기관\\no (미션) 지속...</td>\n",
       "      <td>이영희</td>\n",
       "      <td>한누리대로 219, 7층(나성동, 한림프라자)</td>\n",
       "    </tr>\n",
       "    <tr>\n",
       "      <th>9</th>\n",
       "      <td>(재)한국우편사업진흥원</td>\n",
       "      <td>과학기술정보통신부</td>\n",
       "      <td>준정부기관(위탁집행형)</td>\n",
       "      <td>http://www.posa.or.kr</td>\n",
       "      <td>javascript:fnDetail('C0354');</td>\n",
       "      <td>(재)한국우편사업진흥원</td>\n",
       "      <td>우편서비스의 질적 향상 및 우정문화를 창달함으로써 우정사업 발전과 국민문화 생활에 ...</td>\n",
       "      <td>과학기술정보통신부</td>\n",
       "      <td>민법 제32조(비영리법인의 설립과 허가)</td>\n",
       "      <td>1. 문화우편상품과 우표류 보급 및 콘텐츠를 통한 우정문화 확산\\n2. 우정 및 그...</td>\n",
       "      <td>ㅇ 1930. 12. 03 우편소청사협회 설립\\nㅇ 1939. 11. 06 조선체신...</td>\n",
       "      <td>ㅇ 미션: 우정문화의 가치혁신과 선진 우편서비스의 제공으로 국민의 행복과 공익실현에...</td>\n",
       "      <td>민재석</td>\n",
       "      <td>영등포구 영중로 83</td>\n",
       "    </tr>\n",
       "  </tbody>\n",
       "</table>\n",
       "</div>"
      ],
      "text/plain": [
       "               name        gov          type                 homepage  \\\n",
       "0     (사)남북교류협력지원협회        통일부        기타공공기관  http://www.sonosa.or.kr   \n",
       "1       (재)APEC기후센터        기상청        기타공공기관    http://www.apcc21.org   \n",
       "2       (재)국제원산지정보원        관세청        기타공공기관  http://www.origin.or.kr   \n",
       "3       (재)예술경영지원센터    문화체육관광부        기타공공기관  http://www.gokams.or.kr   \n",
       "4       (재)우체국금융개발원  과학기술정보통신부  준정부기관(위탁집행형)   http://www.posid.or.kr   \n",
       "5       (재)우체국물류지원단  과학기술정보통신부  준정부기관(위탁집행형)    http://www.pola.or.kr   \n",
       "6       (재)우체국시설관리단  과학기술정보통신부        기타공공기관    http://www.poma.or.kr   \n",
       "7  (재)일제강제동원피해자지원재단      행정안전부        기타공공기관  https://www.ilje.or.kr/   \n",
       "8        (재)축산환경관리원    농림축산식품부        기타공공기관   http://www.lemi.or.kr/   \n",
       "9      (재)한국우편사업진흥원  과학기술정보통신부  준정부기관(위탁집행형)    http://www.posa.or.kr   \n",
       "\n",
       "                             url               기관명  \\\n",
       "0  javascript:fnDetail('C0847');     (사)남북교류협력지원협회   \n",
       "1  javascript:fnDetail('C0918');       (재)APEC기후센터   \n",
       "2  javascript:fnDetail('C0916');       (재)국제원산지정보원   \n",
       "3  javascript:fnDetail('C0454');       (재)예술경영지원센터   \n",
       "4  javascript:fnDetail('C0352');       (재)우체국금융개발원   \n",
       "5  javascript:fnDetail('C0331');       (재)우체국물류지원단   \n",
       "6  javascript:fnDetail('C0368');       (재)우체국시설관리단   \n",
       "7  javascript:fnDetail('C0931');  (재)일제강제동원피해자지원재단   \n",
       "8  javascript:fnDetail('C1030');        (재)축산환경관리원   \n",
       "9  javascript:fnDetail('C0354');      (재)한국우편사업진흥원   \n",
       "\n",
       "                                                기관소개       주무기관  \\\n",
       "0  정부 위탁업무 수행, 정책건의, 남북교류협력 관련 조사·연구 및 분석 등을 통한 남...        통일부   \n",
       "1  기후예측과 그 관련 연구를 통해 기후변화 및 변동의 영향에 효과적으로 대응할 수 있...        기상청   \n",
       "2  자유무역협정 및 원산지 관련 연구ㆍ조사ㆍ정보 보급 확대 등을 통하여 우리 기업의<b...        관세청   \n",
       "3  예술유통의 활성화와 예술기관의 경쟁력 강화를 종합적이고 체계적으로 지원함으로써, 예...    문화체육관광부   \n",
       "4  우체국금융 업무를 효과적으로 지원함으로써 우체국예금보험사업의 향상·발전에 기여\\n홈...  과학기술정보통신부   \n",
       "5  안전ㆍ신속ㆍ정확한 우편물류서비스를 효율적으로 제공함으로써 국민의 편익 <br />증...  과학기술정보통신부   \n",
       "6  우정사업조직에 속한 부동산의 효율적 관리ㆍ운영으로 우정자산의 적극적 활용 및 가치향...  과학기술정보통신부   \n",
       "7  일제강제동원 피해·희생자 및 유족 등에 대한 복지지원사업, 추념사업 및 강제동원 피...      행정안전부   \n",
       "8  친환경적인 가축사육환경 조성 및 가축분뇨의 자원화를 효율적으로 수행함으로써<br /...    농림축산식품부   \n",
       "9  우편서비스의 질적 향상 및 우정문화를 창달함으로써 우정사업 발전과 국민문화 생활에 ...  과학기술정보통신부   \n",
       "\n",
       "                                                설립근거  \\\n",
       "0                                             민법 32조   \n",
       "1                        민법 제32조, 공익법인의 설립·운영에 관한 법률   \n",
       "2                             민법 제32조(비영리법인의 설립과 허가)   \n",
       "3                                   민법 제32조에 의한 재단법인   \n",
       "4  민법 제32조(비영리법인의 설립과 허가) 학술, 종교, 자선, 기예, 사교 기타 영...   \n",
       "5                                            민법 제32조   \n",
       "6                             민법 제32조(비영리법인의 설립과 허가)   \n",
       "7  - 설립근거「민법」제32조(비영리 법인의 설립과 허가),「공익법인의 설립·운영에 관...   \n",
       "8       「가축분뇨의 관리 및 이용에 관한 법률」제38조의2(축산환경관리원의 설립·운영)   \n",
       "9                             민법 제32조(비영리법인의 설립과 허가)   \n",
       "\n",
       "                                           주요기능 및 역할  \\\n",
       "0  o 남북교류협력과 관련한 정부 위탁사업 수행\\no 정부에 대한 남북교류협력 활성화 ...   \n",
       "1  ○ 기후변동 및 변화의 진단, 예측 관련 정보의 수집, 생산 및 유통\\n○ 기후변동...   \n",
       "2  1. 자유무역협정ㆍ원산지 정보의 수집ㆍ분석 수탁 사업\\n2. 자유무역협정ㆍ원산지 정...   \n",
       "3  1. 예술 유통구조의 체계화 및 활성화 지원\\n2. 예술기관·단체 운영 및 경영 관...   \n",
       "4  ㅇ 국내외 금융시장에 대한 조사·연구\\nㅇ 우체국금융 신서비스 도입 및 마케팅 방안...   \n",
       "5  '우체국물류지원단'은 전국 우편물 운송, 배달, 분류, 국제우편물 포워딩 등 종합우...   \n",
       "6  o 우정재산의 사용ㆍ수익 허가 및 대부업무 지원사업\\no 우정사업 부동산 시설 유지...   \n",
       "7  - 일제 강제동원 희생자에 대한 추도순례 등 위령사업- 해외 추도공간 조성 및 일제...   \n",
       "8  o 배출시설 또는 처리시설 컨설팅, 지도 및 교육, 퇴비·액비의 품질관리\\no 가축...   \n",
       "9  1. 문화우편상품과 우표류 보급 및 콘텐츠를 통한 우정문화 확산\\n2. 우정 및 그...   \n",
       "\n",
       "                                                기관연혁  \\\n",
       "0  o 2007.05.22 법인설립 인가(통일부)\\no 2007.05.28「남북 경공업...   \n",
       "1  ○ 2004.03 제4차 APEC 과학기술장관회의에서 설립 제안\\n○ 2005.03...   \n",
       "2  2009. 1 원산지정보 수집· 분석 전문기관 지정(관세청)\\n2009. 2 「한국...   \n",
       "3  ○ 2006년 재단법인 예술경영지원센터 설립 (2006.1.12.), 제1기 이사회...   \n",
       "4  1966.04. 재단법인 체신저축장려회 설립\\n1976.12. 재단법인 체신장려회로...   \n",
       "5  □ 1980.08.26 법인설립 (재)체신복지회\\n□ 1981.03.01 수도권 우...   \n",
       "6  o 2001. 11. 23. 법인 설립\\no 2006. 12. 28. 우체국사 관리...   \n",
       "7  - 2014. 6. 2. / 3. 재단 설립허가/등기- 2015. 1. 29. 기타...   \n",
       "8  o 민간관리기구 도입검토('10.7월, 국무총리실 주관 T/F팀)o '가축분뇨의 효...   \n",
       "9  ㅇ 1930. 12. 03 우편소청사협회 설립\\nㅇ 1939. 11. 06 조선체신...   \n",
       "\n",
       "                                           경영목표 및 전략  기관장  \\\n",
       "0  o 남북교류협력 활력 제고 및 성장동력 확보\\n- 남북교류협력 원스톱 서비스 체계 ...  강영식   \n",
       "1  ○ 기후예측 전문성 강화 및 국내 기여 확대\\n○ 기후예측 기술 개발 및 기후 감시...  권원태   \n",
       "2  미션 : FTA 및 원산지 연구· 조사와 정보보급을 통해 기업경쟁력 강화와 국민경제...  박병진   \n",
       "3  ○ 비전 : 예술시장 활성화로 예술현장의 지속성장을 이끌어가는 기관\\n○ 핵심가치 ...  김도일   \n",
       "4  ◎ 미션 : 안전하고 편리한 금융서비스를 통해 국민의 삶의 질 향상에 기여한다\\n\\...  유대선   \n",
       "5  □ (기관미션) 안전ㆍ 신속ㆍ 정확한 우편물류서비스를 효율적으로 제공함으로써\\n국민...  천장수   \n",
       "6  ⊙ 미션 : 전문적이고 효율적인 우정시설 및 자산관리를 통해 공공의 복리 증진에 기...  김성칠   \n",
       "7  - 미션: 과거의 기억, 현재의 통합, 미래의 평화- 비젼: 국민과 함께 평화와 인...  김용덕   \n",
       "8  o (비전) 국민에게 신뢰받는 세계 최고의 축산환경개선 선도기관\\no (미션) 지속...  이영희   \n",
       "9  ㅇ 미션: 우정문화의 가치혁신과 선진 우편서비스의 제공으로 국민의 행복과 공익실현에...  민재석   \n",
       "\n",
       "                                        소재지  \n",
       "0                           중구 퇴계로 97, 601호  \n",
       "1                              해운대구 센텀7로 12  \n",
       "2                        성남시 분당구 야탑로 205번길8  \n",
       "3  종로구 대학로 57(연건동) 홍익대학교 대학로캠퍼스 교육동 3층, 12층  \n",
       "4                      영등포구 경인로 841(영등포동4가)  \n",
       "5                                광진구 자양로 76  \n",
       "6                 광진구 강벽역로 2(구의동, 우체국시설관리단)  \n",
       "7              종로구 종로1길 42, 603호(수송동, 이마빌딩)  \n",
       "8                 한누리대로 219, 7층(나성동, 한림프라자)  \n",
       "9                               영등포구 영중로 83  "
      ]
     },
     "execution_count": 34,
     "metadata": {},
     "output_type": "execute_result"
    }
   ],
   "source": [
    "pub_df_merge"
   ]
  },
  {
   "cell_type": "code",
   "execution_count": 35,
   "id": "31937cc3",
   "metadata": {
    "slideshow": {
     "slide_type": "subslide"
    }
   },
   "outputs": [],
   "source": [
    "pub_df_concat = pd.concat([pub_df, pub_content_df], axis=1)"
   ]
  },
  {
   "cell_type": "code",
   "execution_count": 36,
   "id": "49c68f50",
   "metadata": {
    "slideshow": {
     "slide_type": "fragment"
    }
   },
   "outputs": [
    {
     "data": {
      "text/html": [
       "<div>\n",
       "<style scoped>\n",
       "    .dataframe tbody tr th:only-of-type {\n",
       "        vertical-align: middle;\n",
       "    }\n",
       "\n",
       "    .dataframe tbody tr th {\n",
       "        vertical-align: top;\n",
       "    }\n",
       "\n",
       "    .dataframe thead th {\n",
       "        text-align: right;\n",
       "    }\n",
       "</style>\n",
       "<table border=\"1\" class=\"dataframe\">\n",
       "  <thead>\n",
       "    <tr style=\"text-align: right;\">\n",
       "      <th></th>\n",
       "      <th>name</th>\n",
       "      <th>gov</th>\n",
       "      <th>type</th>\n",
       "      <th>homepage</th>\n",
       "      <th>url</th>\n",
       "      <th>기관명</th>\n",
       "      <th>기관소개</th>\n",
       "      <th>주무기관</th>\n",
       "      <th>설립근거</th>\n",
       "      <th>주요기능 및 역할</th>\n",
       "      <th>기관연혁</th>\n",
       "      <th>경영목표 및 전략</th>\n",
       "      <th>기관장</th>\n",
       "      <th>소재지</th>\n",
       "    </tr>\n",
       "  </thead>\n",
       "  <tbody>\n",
       "    <tr>\n",
       "      <th>0</th>\n",
       "      <td>(사)남북교류협력지원협회</td>\n",
       "      <td>통일부</td>\n",
       "      <td>기타공공기관</td>\n",
       "      <td>http://www.sonosa.or.kr</td>\n",
       "      <td>javascript:fnDetail('C0847');</td>\n",
       "      <td>(사)남북교류협력지원협회</td>\n",
       "      <td>정부 위탁업무 수행, 정책건의, 남북교류협력 관련 조사·연구 및 분석 등을 통한 남...</td>\n",
       "      <td>통일부</td>\n",
       "      <td>민법 32조</td>\n",
       "      <td>o 남북교류협력과 관련한 정부 위탁사업 수행\\no 정부에 대한 남북교류협력 활성화 ...</td>\n",
       "      <td>o 2007.05.22 법인설립 인가(통일부)\\no 2007.05.28「남북 경공업...</td>\n",
       "      <td>o 남북교류협력 활력 제고 및 성장동력 확보\\n- 남북교류협력 원스톱 서비스 체계 ...</td>\n",
       "      <td>강영식</td>\n",
       "      <td>중구 퇴계로 97, 601호</td>\n",
       "    </tr>\n",
       "    <tr>\n",
       "      <th>1</th>\n",
       "      <td>(재)APEC기후센터</td>\n",
       "      <td>기상청</td>\n",
       "      <td>기타공공기관</td>\n",
       "      <td>http://www.apcc21.org</td>\n",
       "      <td>javascript:fnDetail('C0918');</td>\n",
       "      <td>(재)APEC기후센터</td>\n",
       "      <td>기후예측과 그 관련 연구를 통해 기후변화 및 변동의 영향에 효과적으로 대응할 수 있...</td>\n",
       "      <td>기상청</td>\n",
       "      <td>민법 제32조, 공익법인의 설립·운영에 관한 법률</td>\n",
       "      <td>○ 기후변동 및 변화의 진단, 예측 관련 정보의 수집, 생산 및 유통\\n○ 기후변동...</td>\n",
       "      <td>○ 2004.03 제4차 APEC 과학기술장관회의에서 설립 제안\\n○ 2005.03...</td>\n",
       "      <td>○ 기후예측 전문성 강화 및 국내 기여 확대\\n○ 기후예측 기술 개발 및 기후 감시...</td>\n",
       "      <td>권원태</td>\n",
       "      <td>해운대구 센텀7로 12</td>\n",
       "    </tr>\n",
       "    <tr>\n",
       "      <th>2</th>\n",
       "      <td>(재)국제원산지정보원</td>\n",
       "      <td>관세청</td>\n",
       "      <td>기타공공기관</td>\n",
       "      <td>http://www.origin.or.kr</td>\n",
       "      <td>javascript:fnDetail('C0916');</td>\n",
       "      <td>(재)국제원산지정보원</td>\n",
       "      <td>자유무역협정 및 원산지 관련 연구ㆍ조사ㆍ정보 보급 확대 등을 통하여 우리 기업의&lt;b...</td>\n",
       "      <td>관세청</td>\n",
       "      <td>민법 제32조(비영리법인의 설립과 허가)</td>\n",
       "      <td>1. 자유무역협정ㆍ원산지 정보의 수집ㆍ분석 수탁 사업\\n2. 자유무역협정ㆍ원산지 정...</td>\n",
       "      <td>2009. 1 원산지정보 수집· 분석 전문기관 지정(관세청)\\n2009. 2 「한국...</td>\n",
       "      <td>미션 : FTA 및 원산지 연구· 조사와 정보보급을 통해 기업경쟁력 강화와 국민경제...</td>\n",
       "      <td>박병진</td>\n",
       "      <td>성남시 분당구 야탑로 205번길8</td>\n",
       "    </tr>\n",
       "    <tr>\n",
       "      <th>3</th>\n",
       "      <td>(재)예술경영지원센터</td>\n",
       "      <td>문화체육관광부</td>\n",
       "      <td>기타공공기관</td>\n",
       "      <td>http://www.gokams.or.kr</td>\n",
       "      <td>javascript:fnDetail('C0454');</td>\n",
       "      <td>(재)예술경영지원센터</td>\n",
       "      <td>예술유통의 활성화와 예술기관의 경쟁력 강화를 종합적이고 체계적으로 지원함으로써, 예...</td>\n",
       "      <td>문화체육관광부</td>\n",
       "      <td>민법 제32조에 의한 재단법인</td>\n",
       "      <td>1. 예술 유통구조의 체계화 및 활성화 지원\\n2. 예술기관·단체 운영 및 경영 관...</td>\n",
       "      <td>○ 2006년 재단법인 예술경영지원센터 설립 (2006.1.12.), 제1기 이사회...</td>\n",
       "      <td>○ 비전 : 예술시장 활성화로 예술현장의 지속성장을 이끌어가는 기관\\n○ 핵심가치 ...</td>\n",
       "      <td>김도일</td>\n",
       "      <td>종로구 대학로 57(연건동) 홍익대학교 대학로캠퍼스 교육동 3층, 12층</td>\n",
       "    </tr>\n",
       "    <tr>\n",
       "      <th>4</th>\n",
       "      <td>(재)우체국금융개발원</td>\n",
       "      <td>과학기술정보통신부</td>\n",
       "      <td>준정부기관(위탁집행형)</td>\n",
       "      <td>http://www.posid.or.kr</td>\n",
       "      <td>javascript:fnDetail('C0352');</td>\n",
       "      <td>(재)우체국금융개발원</td>\n",
       "      <td>우체국금융 업무를 효과적으로 지원함으로써 우체국예금보험사업의 향상·발전에 기여\\n홈...</td>\n",
       "      <td>과학기술정보통신부</td>\n",
       "      <td>민법 제32조(비영리법인의 설립과 허가) 학술, 종교, 자선, 기예, 사교 기타 영...</td>\n",
       "      <td>ㅇ 국내외 금융시장에 대한 조사·연구\\nㅇ 우체국금융 신서비스 도입 및 마케팅 방안...</td>\n",
       "      <td>1966.04. 재단법인 체신저축장려회 설립\\n1976.12. 재단법인 체신장려회로...</td>\n",
       "      <td>◎ 미션 : 안전하고 편리한 금융서비스를 통해 국민의 삶의 질 향상에 기여한다\\n\\...</td>\n",
       "      <td>유대선</td>\n",
       "      <td>영등포구 경인로 841(영등포동4가)</td>\n",
       "    </tr>\n",
       "    <tr>\n",
       "      <th>5</th>\n",
       "      <td>(재)우체국물류지원단</td>\n",
       "      <td>과학기술정보통신부</td>\n",
       "      <td>준정부기관(위탁집행형)</td>\n",
       "      <td>http://www.pola.or.kr</td>\n",
       "      <td>javascript:fnDetail('C0331');</td>\n",
       "      <td>(재)우체국물류지원단</td>\n",
       "      <td>안전ㆍ신속ㆍ정확한 우편물류서비스를 효율적으로 제공함으로써 국민의 편익 &lt;br /&gt;증...</td>\n",
       "      <td>과학기술정보통신부</td>\n",
       "      <td>민법 제32조</td>\n",
       "      <td>'우체국물류지원단'은 전국 우편물 운송, 배달, 분류, 국제우편물 포워딩 등 종합우...</td>\n",
       "      <td>□ 1980.08.26 법인설립 (재)체신복지회\\n□ 1981.03.01 수도권 우...</td>\n",
       "      <td>□ (기관미션) 안전ㆍ 신속ㆍ 정확한 우편물류서비스를 효율적으로 제공함으로써\\n국민...</td>\n",
       "      <td>천장수</td>\n",
       "      <td>광진구 자양로 76</td>\n",
       "    </tr>\n",
       "    <tr>\n",
       "      <th>6</th>\n",
       "      <td>(재)우체국시설관리단</td>\n",
       "      <td>과학기술정보통신부</td>\n",
       "      <td>기타공공기관</td>\n",
       "      <td>http://www.poma.or.kr</td>\n",
       "      <td>javascript:fnDetail('C0368');</td>\n",
       "      <td>(재)우체국시설관리단</td>\n",
       "      <td>우정사업조직에 속한 부동산의 효율적 관리ㆍ운영으로 우정자산의 적극적 활용 및 가치향...</td>\n",
       "      <td>과학기술정보통신부</td>\n",
       "      <td>민법 제32조(비영리법인의 설립과 허가)</td>\n",
       "      <td>o 우정재산의 사용ㆍ수익 허가 및 대부업무 지원사업\\no 우정사업 부동산 시설 유지...</td>\n",
       "      <td>o 2001. 11. 23. 법인 설립\\no 2006. 12. 28. 우체국사 관리...</td>\n",
       "      <td>⊙ 미션 : 전문적이고 효율적인 우정시설 및 자산관리를 통해 공공의 복리 증진에 기...</td>\n",
       "      <td>김성칠</td>\n",
       "      <td>광진구 강벽역로 2(구의동, 우체국시설관리단)</td>\n",
       "    </tr>\n",
       "    <tr>\n",
       "      <th>7</th>\n",
       "      <td>(재)일제강제동원피해자지원재단</td>\n",
       "      <td>행정안전부</td>\n",
       "      <td>기타공공기관</td>\n",
       "      <td>https://www.ilje.or.kr/</td>\n",
       "      <td>javascript:fnDetail('C0931');</td>\n",
       "      <td>(재)일제강제동원피해자지원재단</td>\n",
       "      <td>일제강제동원 피해·희생자 및 유족 등에 대한 복지지원사업, 추념사업 및 강제동원 피...</td>\n",
       "      <td>행정안전부</td>\n",
       "      <td>- 설립근거「민법」제32조(비영리 법인의 설립과 허가),「공익법인의 설립·운영에 관...</td>\n",
       "      <td>- 일제 강제동원 희생자에 대한 추도순례 등 위령사업- 해외 추도공간 조성 및 일제...</td>\n",
       "      <td>- 2014. 6. 2. / 3. 재단 설립허가/등기- 2015. 1. 29. 기타...</td>\n",
       "      <td>- 미션: 과거의 기억, 현재의 통합, 미래의 평화- 비젼: 국민과 함께 평화와 인...</td>\n",
       "      <td>김용덕</td>\n",
       "      <td>종로구 종로1길 42, 603호(수송동, 이마빌딩)</td>\n",
       "    </tr>\n",
       "    <tr>\n",
       "      <th>8</th>\n",
       "      <td>(재)축산환경관리원</td>\n",
       "      <td>농림축산식품부</td>\n",
       "      <td>기타공공기관</td>\n",
       "      <td>http://www.lemi.or.kr/</td>\n",
       "      <td>javascript:fnDetail('C1030');</td>\n",
       "      <td>(재)축산환경관리원</td>\n",
       "      <td>친환경적인 가축사육환경 조성 및 가축분뇨의 자원화를 효율적으로 수행함으로써&lt;br /...</td>\n",
       "      <td>농림축산식품부</td>\n",
       "      <td>「가축분뇨의 관리 및 이용에 관한 법률」제38조의2(축산환경관리원의 설립·운영)</td>\n",
       "      <td>o 배출시설 또는 처리시설 컨설팅, 지도 및 교육, 퇴비·액비의 품질관리\\no 가축...</td>\n",
       "      <td>o 민간관리기구 도입검토('10.7월, 국무총리실 주관 T/F팀)o '가축분뇨의 효...</td>\n",
       "      <td>o (비전) 국민에게 신뢰받는 세계 최고의 축산환경개선 선도기관\\no (미션) 지속...</td>\n",
       "      <td>이영희</td>\n",
       "      <td>한누리대로 219, 7층(나성동, 한림프라자)</td>\n",
       "    </tr>\n",
       "    <tr>\n",
       "      <th>9</th>\n",
       "      <td>(재)한국우편사업진흥원</td>\n",
       "      <td>과학기술정보통신부</td>\n",
       "      <td>준정부기관(위탁집행형)</td>\n",
       "      <td>http://www.posa.or.kr</td>\n",
       "      <td>javascript:fnDetail('C0354');</td>\n",
       "      <td>(재)한국우편사업진흥원</td>\n",
       "      <td>우편서비스의 질적 향상 및 우정문화를 창달함으로써 우정사업 발전과 국민문화 생활에 ...</td>\n",
       "      <td>과학기술정보통신부</td>\n",
       "      <td>민법 제32조(비영리법인의 설립과 허가)</td>\n",
       "      <td>1. 문화우편상품과 우표류 보급 및 콘텐츠를 통한 우정문화 확산\\n2. 우정 및 그...</td>\n",
       "      <td>ㅇ 1930. 12. 03 우편소청사협회 설립\\nㅇ 1939. 11. 06 조선체신...</td>\n",
       "      <td>ㅇ 미션: 우정문화의 가치혁신과 선진 우편서비스의 제공으로 국민의 행복과 공익실현에...</td>\n",
       "      <td>민재석</td>\n",
       "      <td>영등포구 영중로 83</td>\n",
       "    </tr>\n",
       "  </tbody>\n",
       "</table>\n",
       "</div>"
      ],
      "text/plain": [
       "               name        gov          type                 homepage  \\\n",
       "0     (사)남북교류협력지원협회        통일부        기타공공기관  http://www.sonosa.or.kr   \n",
       "1       (재)APEC기후센터        기상청        기타공공기관    http://www.apcc21.org   \n",
       "2       (재)국제원산지정보원        관세청        기타공공기관  http://www.origin.or.kr   \n",
       "3       (재)예술경영지원센터    문화체육관광부        기타공공기관  http://www.gokams.or.kr   \n",
       "4       (재)우체국금융개발원  과학기술정보통신부  준정부기관(위탁집행형)   http://www.posid.or.kr   \n",
       "5       (재)우체국물류지원단  과학기술정보통신부  준정부기관(위탁집행형)    http://www.pola.or.kr   \n",
       "6       (재)우체국시설관리단  과학기술정보통신부        기타공공기관    http://www.poma.or.kr   \n",
       "7  (재)일제강제동원피해자지원재단      행정안전부        기타공공기관  https://www.ilje.or.kr/   \n",
       "8        (재)축산환경관리원    농림축산식품부        기타공공기관   http://www.lemi.or.kr/   \n",
       "9      (재)한국우편사업진흥원  과학기술정보통신부  준정부기관(위탁집행형)    http://www.posa.or.kr   \n",
       "\n",
       "                             url               기관명  \\\n",
       "0  javascript:fnDetail('C0847');     (사)남북교류협력지원협회   \n",
       "1  javascript:fnDetail('C0918');       (재)APEC기후센터   \n",
       "2  javascript:fnDetail('C0916');       (재)국제원산지정보원   \n",
       "3  javascript:fnDetail('C0454');       (재)예술경영지원센터   \n",
       "4  javascript:fnDetail('C0352');       (재)우체국금융개발원   \n",
       "5  javascript:fnDetail('C0331');       (재)우체국물류지원단   \n",
       "6  javascript:fnDetail('C0368');       (재)우체국시설관리단   \n",
       "7  javascript:fnDetail('C0931');  (재)일제강제동원피해자지원재단   \n",
       "8  javascript:fnDetail('C1030');        (재)축산환경관리원   \n",
       "9  javascript:fnDetail('C0354');      (재)한국우편사업진흥원   \n",
       "\n",
       "                                                기관소개       주무기관  \\\n",
       "0  정부 위탁업무 수행, 정책건의, 남북교류협력 관련 조사·연구 및 분석 등을 통한 남...        통일부   \n",
       "1  기후예측과 그 관련 연구를 통해 기후변화 및 변동의 영향에 효과적으로 대응할 수 있...        기상청   \n",
       "2  자유무역협정 및 원산지 관련 연구ㆍ조사ㆍ정보 보급 확대 등을 통하여 우리 기업의<b...        관세청   \n",
       "3  예술유통의 활성화와 예술기관의 경쟁력 강화를 종합적이고 체계적으로 지원함으로써, 예...    문화체육관광부   \n",
       "4  우체국금융 업무를 효과적으로 지원함으로써 우체국예금보험사업의 향상·발전에 기여\\n홈...  과학기술정보통신부   \n",
       "5  안전ㆍ신속ㆍ정확한 우편물류서비스를 효율적으로 제공함으로써 국민의 편익 <br />증...  과학기술정보통신부   \n",
       "6  우정사업조직에 속한 부동산의 효율적 관리ㆍ운영으로 우정자산의 적극적 활용 및 가치향...  과학기술정보통신부   \n",
       "7  일제강제동원 피해·희생자 및 유족 등에 대한 복지지원사업, 추념사업 및 강제동원 피...      행정안전부   \n",
       "8  친환경적인 가축사육환경 조성 및 가축분뇨의 자원화를 효율적으로 수행함으로써<br /...    농림축산식품부   \n",
       "9  우편서비스의 질적 향상 및 우정문화를 창달함으로써 우정사업 발전과 국민문화 생활에 ...  과학기술정보통신부   \n",
       "\n",
       "                                                설립근거  \\\n",
       "0                                             민법 32조   \n",
       "1                        민법 제32조, 공익법인의 설립·운영에 관한 법률   \n",
       "2                             민법 제32조(비영리법인의 설립과 허가)   \n",
       "3                                   민법 제32조에 의한 재단법인   \n",
       "4  민법 제32조(비영리법인의 설립과 허가) 학술, 종교, 자선, 기예, 사교 기타 영...   \n",
       "5                                            민법 제32조   \n",
       "6                             민법 제32조(비영리법인의 설립과 허가)   \n",
       "7  - 설립근거「민법」제32조(비영리 법인의 설립과 허가),「공익법인의 설립·운영에 관...   \n",
       "8       「가축분뇨의 관리 및 이용에 관한 법률」제38조의2(축산환경관리원의 설립·운영)   \n",
       "9                             민법 제32조(비영리법인의 설립과 허가)   \n",
       "\n",
       "                                           주요기능 및 역할  \\\n",
       "0  o 남북교류협력과 관련한 정부 위탁사업 수행\\no 정부에 대한 남북교류협력 활성화 ...   \n",
       "1  ○ 기후변동 및 변화의 진단, 예측 관련 정보의 수집, 생산 및 유통\\n○ 기후변동...   \n",
       "2  1. 자유무역협정ㆍ원산지 정보의 수집ㆍ분석 수탁 사업\\n2. 자유무역협정ㆍ원산지 정...   \n",
       "3  1. 예술 유통구조의 체계화 및 활성화 지원\\n2. 예술기관·단체 운영 및 경영 관...   \n",
       "4  ㅇ 국내외 금융시장에 대한 조사·연구\\nㅇ 우체국금융 신서비스 도입 및 마케팅 방안...   \n",
       "5  '우체국물류지원단'은 전국 우편물 운송, 배달, 분류, 국제우편물 포워딩 등 종합우...   \n",
       "6  o 우정재산의 사용ㆍ수익 허가 및 대부업무 지원사업\\no 우정사업 부동산 시설 유지...   \n",
       "7  - 일제 강제동원 희생자에 대한 추도순례 등 위령사업- 해외 추도공간 조성 및 일제...   \n",
       "8  o 배출시설 또는 처리시설 컨설팅, 지도 및 교육, 퇴비·액비의 품질관리\\no 가축...   \n",
       "9  1. 문화우편상품과 우표류 보급 및 콘텐츠를 통한 우정문화 확산\\n2. 우정 및 그...   \n",
       "\n",
       "                                                기관연혁  \\\n",
       "0  o 2007.05.22 법인설립 인가(통일부)\\no 2007.05.28「남북 경공업...   \n",
       "1  ○ 2004.03 제4차 APEC 과학기술장관회의에서 설립 제안\\n○ 2005.03...   \n",
       "2  2009. 1 원산지정보 수집· 분석 전문기관 지정(관세청)\\n2009. 2 「한국...   \n",
       "3  ○ 2006년 재단법인 예술경영지원센터 설립 (2006.1.12.), 제1기 이사회...   \n",
       "4  1966.04. 재단법인 체신저축장려회 설립\\n1976.12. 재단법인 체신장려회로...   \n",
       "5  □ 1980.08.26 법인설립 (재)체신복지회\\n□ 1981.03.01 수도권 우...   \n",
       "6  o 2001. 11. 23. 법인 설립\\no 2006. 12. 28. 우체국사 관리...   \n",
       "7  - 2014. 6. 2. / 3. 재단 설립허가/등기- 2015. 1. 29. 기타...   \n",
       "8  o 민간관리기구 도입검토('10.7월, 국무총리실 주관 T/F팀)o '가축분뇨의 효...   \n",
       "9  ㅇ 1930. 12. 03 우편소청사협회 설립\\nㅇ 1939. 11. 06 조선체신...   \n",
       "\n",
       "                                           경영목표 및 전략  기관장  \\\n",
       "0  o 남북교류협력 활력 제고 및 성장동력 확보\\n- 남북교류협력 원스톱 서비스 체계 ...  강영식   \n",
       "1  ○ 기후예측 전문성 강화 및 국내 기여 확대\\n○ 기후예측 기술 개발 및 기후 감시...  권원태   \n",
       "2  미션 : FTA 및 원산지 연구· 조사와 정보보급을 통해 기업경쟁력 강화와 국민경제...  박병진   \n",
       "3  ○ 비전 : 예술시장 활성화로 예술현장의 지속성장을 이끌어가는 기관\\n○ 핵심가치 ...  김도일   \n",
       "4  ◎ 미션 : 안전하고 편리한 금융서비스를 통해 국민의 삶의 질 향상에 기여한다\\n\\...  유대선   \n",
       "5  □ (기관미션) 안전ㆍ 신속ㆍ 정확한 우편물류서비스를 효율적으로 제공함으로써\\n국민...  천장수   \n",
       "6  ⊙ 미션 : 전문적이고 효율적인 우정시설 및 자산관리를 통해 공공의 복리 증진에 기...  김성칠   \n",
       "7  - 미션: 과거의 기억, 현재의 통합, 미래의 평화- 비젼: 국민과 함께 평화와 인...  김용덕   \n",
       "8  o (비전) 국민에게 신뢰받는 세계 최고의 축산환경개선 선도기관\\no (미션) 지속...  이영희   \n",
       "9  ㅇ 미션: 우정문화의 가치혁신과 선진 우편서비스의 제공으로 국민의 행복과 공익실현에...  민재석   \n",
       "\n",
       "                                        소재지  \n",
       "0                           중구 퇴계로 97, 601호  \n",
       "1                              해운대구 센텀7로 12  \n",
       "2                        성남시 분당구 야탑로 205번길8  \n",
       "3  종로구 대학로 57(연건동) 홍익대학교 대학로캠퍼스 교육동 3층, 12층  \n",
       "4                      영등포구 경인로 841(영등포동4가)  \n",
       "5                                광진구 자양로 76  \n",
       "6                 광진구 강벽역로 2(구의동, 우체국시설관리단)  \n",
       "7              종로구 종로1길 42, 603호(수송동, 이마빌딩)  \n",
       "8                 한누리대로 219, 7층(나성동, 한림프라자)  \n",
       "9                               영등포구 영중로 83  "
      ]
     },
     "execution_count": 36,
     "metadata": {},
     "output_type": "execute_result"
    }
   ],
   "source": [
    "pub_df_concat"
   ]
  },
  {
   "cell_type": "code",
   "execution_count": null,
   "id": "eb157823",
   "metadata": {},
   "outputs": [],
   "source": []
  },
  {
   "cell_type": "markdown",
   "id": "51c5e058",
   "metadata": {
    "slideshow": {
     "slide_type": "subslide"
    }
   },
   "source": [
    "## 본문 수집 - 방식 2"
   ]
  },
  {
   "cell_type": "markdown",
   "id": "e8cb5d73",
   "metadata": {
    "slideshow": {
     "slide_type": "fragment"
    }
   },
   "source": [
    "### url 구성에 필요한 정보 추출"
   ]
  },
  {
   "cell_type": "code",
   "execution_count": null,
   "id": "1b9557ae",
   "metadata": {
    "slideshow": {
     "slide_type": "fragment"
    }
   },
   "outputs": [],
   "source": [
    "# 'https://job.alio.go.kr/orginfoview.do?apba_id=C0005'\n",
    "\n",
    "# https://job.alio.go.kr/orginfoview.do?pageNo=1&apba_id=C0847"
   ]
  },
  {
   "cell_type": "code",
   "execution_count": 37,
   "id": "13baca8d",
   "metadata": {
    "slideshow": {
     "slide_type": "fragment"
    }
   },
   "outputs": [
    {
     "data": {
      "text/plain": [
       "\"javascript:fnDetail('C0847');\""
      ]
     },
     "execution_count": 37,
     "metadata": {},
     "output_type": "execute_result"
    }
   ],
   "source": [
    "pub_url[0]"
   ]
  },
  {
   "cell_type": "code",
   "execution_count": 39,
   "id": "99ccc5a8",
   "metadata": {},
   "outputs": [],
   "source": [
    "apba_id = pub_url[0].split(\"'\")"
   ]
  },
  {
   "cell_type": "code",
   "execution_count": 40,
   "id": "6ca16d92",
   "metadata": {},
   "outputs": [
    {
     "data": {
      "text/plain": [
       "['javascript:fnDetail(', 'C0847', ');']"
      ]
     },
     "execution_count": 40,
     "metadata": {},
     "output_type": "execute_result"
    }
   ],
   "source": [
    "apba_id"
   ]
  },
  {
   "cell_type": "code",
   "execution_count": 42,
   "id": "1f8b830c",
   "metadata": {
    "slideshow": {
     "slide_type": "fragment"
    }
   },
   "outputs": [
    {
     "name": "stdout",
     "output_type": "stream",
     "text": [
      "C0847\n"
     ]
    }
   ],
   "source": [
    "apba_id = pub_url[0].split(\"'\")[1]\n",
    "print(apba_id)"
   ]
  },
  {
   "cell_type": "code",
   "execution_count": 43,
   "id": "af5dbde5",
   "metadata": {
    "slideshow": {
     "slide_type": "fragment"
    }
   },
   "outputs": [
    {
     "name": "stdout",
     "output_type": "stream",
     "text": [
      "https://job.alio.go.kr/orginfoview.do?apba_id=C0847\n"
     ]
    }
   ],
   "source": [
    "url = 'https://job.alio.go.kr/orginfoview.do?apba_id=' + apba_id\n",
    "print(url)"
   ]
  },
  {
   "cell_type": "code",
   "execution_count": 44,
   "id": "dc182b5f",
   "metadata": {
    "slideshow": {
     "slide_type": "subslide"
    }
   },
   "outputs": [],
   "source": [
    "pub_real_urls = []\n",
    "for n in pub_url:\n",
    "    apba_id = n.split(\"'\")[1]\n",
    "    pub_real_urls.append('https://job.alio.go.kr/orginfoview.do?apba_id=' + apba_id)"
   ]
  },
  {
   "cell_type": "code",
   "execution_count": 46,
   "id": "e89a642a",
   "metadata": {
    "slideshow": {
     "slide_type": "fragment"
    }
   },
   "outputs": [
    {
     "data": {
      "text/plain": [
       "['https://job.alio.go.kr/orginfoview.do?apba_id=C0847',\n",
       " 'https://job.alio.go.kr/orginfoview.do?apba_id=C0918',\n",
       " 'https://job.alio.go.kr/orginfoview.do?apba_id=C0916',\n",
       " 'https://job.alio.go.kr/orginfoview.do?apba_id=C0454',\n",
       " 'https://job.alio.go.kr/orginfoview.do?apba_id=C0352',\n",
       " 'https://job.alio.go.kr/orginfoview.do?apba_id=C0331',\n",
       " 'https://job.alio.go.kr/orginfoview.do?apba_id=C0368',\n",
       " 'https://job.alio.go.kr/orginfoview.do?apba_id=C0931',\n",
       " 'https://job.alio.go.kr/orginfoview.do?apba_id=C1030',\n",
       " 'https://job.alio.go.kr/orginfoview.do?apba_id=C0354',\n",
       " 'https://job.alio.go.kr/orginfoview.do?apba_id=C0005',\n",
       " 'https://job.alio.go.kr/orginfoview.do?apba_id=C1024',\n",
       " 'https://job.alio.go.kr/orginfoview.do?apba_id=C0840',\n",
       " 'https://job.alio.go.kr/orginfoview.do?apba_id=C0125',\n",
       " 'https://job.alio.go.kr/orginfoview.do?apba_id=C0001',\n",
       " 'https://job.alio.go.kr/orginfoview.do?apba_id=C0002',\n",
       " 'https://job.alio.go.kr/orginfoview.do?apba_id=C0003',\n",
       " 'https://job.alio.go.kr/orginfoview.do?apba_id=C0004',\n",
       " 'https://job.alio.go.kr/orginfoview.do?apba_id=C0006',\n",
       " 'https://job.alio.go.kr/orginfoview.do?apba_id=C0672']"
      ]
     },
     "execution_count": 46,
     "metadata": {},
     "output_type": "execute_result"
    }
   ],
   "source": [
    "pub_real_urls"
   ]
  },
  {
   "cell_type": "code",
   "execution_count": 47,
   "id": "e449f84d",
   "metadata": {
    "slideshow": {
     "slide_type": "subslide"
    }
   },
   "outputs": [],
   "source": [
    "pub_contents = []\n",
    "for u in pub_real_urls:\n",
    "    driver.get(u)\n",
    "    time.sleep(2)\n",
    "    \n",
    "    rows = driver.find_elements_by_xpath('//*[@id=\"txt\"]/table/tbody/tr')\n",
    "    alio_dict = {}\n",
    "    for r in rows:\n",
    "        header = r.find_element_by_tag_name('th').text\n",
    "        content = r.find_element_by_tag_name('td').text\n",
    "        alio_dict[header]=content\n",
    "        \n",
    "    pub_contents.append(alio_dict)"
   ]
  },
  {
   "cell_type": "code",
   "execution_count": null,
   "id": "e31f4913",
   "metadata": {
    "slideshow": {
     "slide_type": "subslide"
    }
   },
   "outputs": [],
   "source": [
    "pub_content_df = pd.DataFrame(pub_contents)\n",
    "pub_content_df"
   ]
  },
  {
   "cell_type": "markdown",
   "id": "52f1a025",
   "metadata": {},
   "source": [
    "### 정리 1"
   ]
  },
  {
   "cell_type": "code",
   "execution_count": 5,
   "id": "6fe433d0",
   "metadata": {
    "slideshow": {
     "slide_type": "subslide"
    }
   },
   "outputs": [],
   "source": [
    "pub_contents = []\n",
    "\n",
    "for u in pub_url:\n",
    "    apba_id = u.split(\"'\")[1]\n",
    "    pub_real_url = 'https://job.alio.go.kr/orginfoview.do?apba_id=' + apba_id\n",
    "    \n",
    "    driver.get(pub_real_url)\n",
    "    time.sleep(2)\n",
    "    \n",
    "    rows = driver.find_elements_by_xpath('//*[@id=\"txt\"]/table/tbody/tr')\n",
    "    \n",
    "    alio_dict = {}\n",
    "    for r in rows:\n",
    "        header = r.find_element_by_tag_name('th').text\n",
    "        content = r.find_element_by_tag_name('td').text\n",
    "        alio_dict[header]=content\n",
    "        \n",
    "    pub_contents.append(alio_dict)"
   ]
  },
  {
   "cell_type": "code",
   "execution_count": 6,
   "id": "e81c8e07",
   "metadata": {
    "slideshow": {
     "slide_type": "subslide"
    }
   },
   "outputs": [
    {
     "data": {
      "text/html": [
       "<div>\n",
       "<style scoped>\n",
       "    .dataframe tbody tr th:only-of-type {\n",
       "        vertical-align: middle;\n",
       "    }\n",
       "\n",
       "    .dataframe tbody tr th {\n",
       "        vertical-align: top;\n",
       "    }\n",
       "\n",
       "    .dataframe thead th {\n",
       "        text-align: right;\n",
       "    }\n",
       "</style>\n",
       "<table border=\"1\" class=\"dataframe\">\n",
       "  <thead>\n",
       "    <tr style=\"text-align: right;\">\n",
       "      <th></th>\n",
       "      <th>기관명</th>\n",
       "      <th>기관소개</th>\n",
       "      <th>주무기관</th>\n",
       "      <th>설립근거</th>\n",
       "      <th>주요기능 및 역할</th>\n",
       "      <th>기관연혁</th>\n",
       "      <th>경영목표 및 전략</th>\n",
       "      <th>기관장</th>\n",
       "      <th>소재지</th>\n",
       "    </tr>\n",
       "  </thead>\n",
       "  <tbody>\n",
       "    <tr>\n",
       "      <th>0</th>\n",
       "      <td>(사)남북교류협력지원협회</td>\n",
       "      <td>정부 위탁업무 수행, 정책건의, 남북교류협력 관련 조사·연구 및 분석 등을 통한 남...</td>\n",
       "      <td>통일부</td>\n",
       "      <td>민법 32조</td>\n",
       "      <td>o 남북교류협력과 관련한 정부 위탁사업 수행\\no 정부에 대한 남북교류협력 활성화 ...</td>\n",
       "      <td>o 2007.05.22 법인설립 인가(통일부)\\no 2007.05.28「남북 경공업...</td>\n",
       "      <td>o 남북교류협력 활력 제고 및 성장동력 확보\\n- 남북교류협력 원스톱 서비스 체계 ...</td>\n",
       "      <td>강영식</td>\n",
       "      <td>중구 퇴계로 97, 601호</td>\n",
       "    </tr>\n",
       "    <tr>\n",
       "      <th>1</th>\n",
       "      <td>(재)APEC기후센터</td>\n",
       "      <td>기후예측과 그 관련 연구를 통해 기후변화 및 변동의 영향에 효과적으로 대응할 수 있...</td>\n",
       "      <td>기상청</td>\n",
       "      <td>민법 제32조, 공익법인의 설립·운영에 관한 법률</td>\n",
       "      <td>○ 기후변동 및 변화의 진단, 예측 관련 정보의 수집, 생산 및 유통\\n○ 기후변동...</td>\n",
       "      <td>○ 2004.03 제4차 APEC 과학기술장관회의에서 설립 제안\\n○ 2005.03...</td>\n",
       "      <td>○ 기후예측 전문성 강화 및 국내 기여 확대\\n○ 기후예측 기술 개발 및 기후 감시...</td>\n",
       "      <td>권원태</td>\n",
       "      <td>해운대구 센텀7로 12</td>\n",
       "    </tr>\n",
       "    <tr>\n",
       "      <th>2</th>\n",
       "      <td>(재)국제원산지정보원</td>\n",
       "      <td>자유무역협정 및 원산지 관련 연구ㆍ조사ㆍ정보 보급 확대 등을 통하여 우리 기업의&lt;b...</td>\n",
       "      <td>관세청</td>\n",
       "      <td>민법 제32조(비영리법인의 설립과 허가)</td>\n",
       "      <td>1. 자유무역협정ㆍ원산지 정보의 수집ㆍ분석 수탁 사업\\n2. 자유무역협정ㆍ원산지 정...</td>\n",
       "      <td>2009. 1 원산지정보 수집· 분석 전문기관 지정(관세청)\\n2009. 2 「한국...</td>\n",
       "      <td>미션 : FTA 및 원산지 연구· 조사와 정보보급을 통해 기업경쟁력 강화와 국민경제...</td>\n",
       "      <td>박병진</td>\n",
       "      <td>성남시 분당구 야탑로 205번길8</td>\n",
       "    </tr>\n",
       "    <tr>\n",
       "      <th>3</th>\n",
       "      <td>(재)예술경영지원센터</td>\n",
       "      <td>예술유통의 활성화와 예술기관의 경쟁력 강화를 종합적이고 체계적으로 지원함으로써, 예...</td>\n",
       "      <td>문화체육관광부</td>\n",
       "      <td>민법 제32조에 의한 재단법인</td>\n",
       "      <td>1. 예술 유통구조의 체계화 및 활성화 지원\\n2. 예술기관·단체 운영 및 경영 관...</td>\n",
       "      <td>○ 2006년 재단법인 예술경영지원센터 설립 (2006.1.12.), 제1기 이사회...</td>\n",
       "      <td>○ 비전 : 예술시장 활성화로 예술현장의 지속성장을 이끌어가는 기관\\n○ 핵심가치 ...</td>\n",
       "      <td>김도일</td>\n",
       "      <td>종로구 대학로 57(연건동) 홍익대학교 대학로캠퍼스 교육동 3층, 12층</td>\n",
       "    </tr>\n",
       "    <tr>\n",
       "      <th>4</th>\n",
       "      <td>(재)우체국금융개발원</td>\n",
       "      <td>우체국금융 업무를 효과적으로 지원함으로써 우체국예금보험사업의 향상·발전에 기여\\n홈...</td>\n",
       "      <td>과학기술정보통신부</td>\n",
       "      <td>민법 제32조(비영리법인의 설립과 허가) 학술, 종교, 자선, 기예, 사교 기타 영...</td>\n",
       "      <td>ㅇ 국내외 금융시장에 대한 조사·연구\\nㅇ 우체국금융 신서비스 도입 및 마케팅 방안...</td>\n",
       "      <td>1966.04. 재단법인 체신저축장려회 설립\\n1976.12. 재단법인 체신장려회로...</td>\n",
       "      <td>◎ 미션 : 안전하고 편리한 금융서비스를 통해 국민의 삶의 질 향상에 기여한다\\n\\...</td>\n",
       "      <td>유대선</td>\n",
       "      <td>영등포구 경인로 841(영등포동4가)</td>\n",
       "    </tr>\n",
       "    <tr>\n",
       "      <th>5</th>\n",
       "      <td>(재)우체국물류지원단</td>\n",
       "      <td>안전ㆍ신속ㆍ정확한 우편물류서비스를 효율적으로 제공함으로써 국민의 편익 &lt;br /&gt;증...</td>\n",
       "      <td>과학기술정보통신부</td>\n",
       "      <td>민법 제32조</td>\n",
       "      <td>'우체국물류지원단'은 전국 우편물 운송, 배달, 분류, 국제우편물 포워딩 등 종합우...</td>\n",
       "      <td>□ 1980.08.26 법인설립 (재)체신복지회\\n□ 1981.03.01 수도권 우...</td>\n",
       "      <td>□ (기관미션) 안전ㆍ 신속ㆍ 정확한 우편물류서비스를 효율적으로 제공함으로써\\n국민...</td>\n",
       "      <td>천장수</td>\n",
       "      <td>광진구 자양로 76</td>\n",
       "    </tr>\n",
       "    <tr>\n",
       "      <th>6</th>\n",
       "      <td>(재)우체국시설관리단</td>\n",
       "      <td>우정사업조직에 속한 부동산의 효율적 관리ㆍ운영으로 우정자산의 적극적 활용 및 가치향...</td>\n",
       "      <td>과학기술정보통신부</td>\n",
       "      <td>민법 제32조(비영리법인의 설립과 허가)</td>\n",
       "      <td>o 우정재산의 사용ㆍ수익 허가 및 대부업무 지원사업\\no 우정사업 부동산 시설 유지...</td>\n",
       "      <td>o 2001. 11. 23. 법인 설립\\no 2006. 12. 28. 우체국사 관리...</td>\n",
       "      <td>⊙ 미션 : 전문적이고 효율적인 우정시설 및 자산관리를 통해 공공의 복리 증진에 기...</td>\n",
       "      <td>김성칠</td>\n",
       "      <td>광진구 강벽역로 2(구의동, 우체국시설관리단)</td>\n",
       "    </tr>\n",
       "    <tr>\n",
       "      <th>7</th>\n",
       "      <td>(재)일제강제동원피해자지원재단</td>\n",
       "      <td>일제강제동원 피해·희생자 및 유족 등에 대한 복지지원사업, 추념사업 및 강제동원 피...</td>\n",
       "      <td>행정안전부</td>\n",
       "      <td>- 설립근거「민법」제32조(비영리 법인의 설립과 허가),「공익법인의 설립·운영에 관...</td>\n",
       "      <td>- 일제 강제동원 희생자에 대한 추도순례 등 위령사업- 해외 추도공간 조성 및 일제...</td>\n",
       "      <td>- 2014. 6. 2. / 3. 재단 설립허가/등기- 2015. 1. 29. 기타...</td>\n",
       "      <td>- 미션: 과거의 기억, 현재의 통합, 미래의 평화- 비젼: 국민과 함께 평화와 인...</td>\n",
       "      <td>김용덕</td>\n",
       "      <td>종로구 종로1길 42, 603호(수송동, 이마빌딩)</td>\n",
       "    </tr>\n",
       "    <tr>\n",
       "      <th>8</th>\n",
       "      <td>(재)축산환경관리원</td>\n",
       "      <td>친환경적인 가축사육환경 조성 및 가축분뇨의 자원화를 효율적으로 수행함으로써&lt;br /...</td>\n",
       "      <td>농림축산식품부</td>\n",
       "      <td>「가축분뇨의 관리 및 이용에 관한 법률」제38조의2(축산환경관리원의 설립·운영)</td>\n",
       "      <td>o 배출시설 또는 처리시설 컨설팅, 지도 및 교육, 퇴비·액비의 품질관리\\no 가축...</td>\n",
       "      <td>o 민간관리기구 도입검토('10.7월, 국무총리실 주관 T/F팀)o '가축분뇨의 효...</td>\n",
       "      <td>o (비전) 국민에게 신뢰받는 세계 최고의 축산환경개선 선도기관\\no (미션) 지속...</td>\n",
       "      <td>이영희</td>\n",
       "      <td>한누리대로 219, 7층(나성동, 한림프라자)</td>\n",
       "    </tr>\n",
       "    <tr>\n",
       "      <th>9</th>\n",
       "      <td>(재)한국우편사업진흥원</td>\n",
       "      <td>우편서비스의 질적 향상 및 우정문화를 창달함으로써 우정사업 발전과 국민문화 생활에 ...</td>\n",
       "      <td>과학기술정보통신부</td>\n",
       "      <td>민법 제32조(비영리법인의 설립과 허가)</td>\n",
       "      <td>1. 문화우편상품과 우표류 보급 및 콘텐츠를 통한 우정문화 확산\\n2. 우정 및 그...</td>\n",
       "      <td>ㅇ 1930. 12. 03 우편소청사협회 설립\\nㅇ 1939. 11. 06 조선체신...</td>\n",
       "      <td>ㅇ 미션: 우정문화의 가치혁신과 선진 우편서비스의 제공으로 국민의 행복과 공익실현에...</td>\n",
       "      <td>민재석</td>\n",
       "      <td>영등포구 영중로 83</td>\n",
       "    </tr>\n",
       "  </tbody>\n",
       "</table>\n",
       "</div>"
      ],
      "text/plain": [
       "                기관명                                               기관소개  \\\n",
       "0     (사)남북교류협력지원협회  정부 위탁업무 수행, 정책건의, 남북교류협력 관련 조사·연구 및 분석 등을 통한 남...   \n",
       "1       (재)APEC기후센터  기후예측과 그 관련 연구를 통해 기후변화 및 변동의 영향에 효과적으로 대응할 수 있...   \n",
       "2       (재)국제원산지정보원  자유무역협정 및 원산지 관련 연구ㆍ조사ㆍ정보 보급 확대 등을 통하여 우리 기업의<b...   \n",
       "3       (재)예술경영지원센터  예술유통의 활성화와 예술기관의 경쟁력 강화를 종합적이고 체계적으로 지원함으로써, 예...   \n",
       "4       (재)우체국금융개발원  우체국금융 업무를 효과적으로 지원함으로써 우체국예금보험사업의 향상·발전에 기여\\n홈...   \n",
       "5       (재)우체국물류지원단  안전ㆍ신속ㆍ정확한 우편물류서비스를 효율적으로 제공함으로써 국민의 편익 <br />증...   \n",
       "6       (재)우체국시설관리단  우정사업조직에 속한 부동산의 효율적 관리ㆍ운영으로 우정자산의 적극적 활용 및 가치향...   \n",
       "7  (재)일제강제동원피해자지원재단  일제강제동원 피해·희생자 및 유족 등에 대한 복지지원사업, 추념사업 및 강제동원 피...   \n",
       "8        (재)축산환경관리원  친환경적인 가축사육환경 조성 및 가축분뇨의 자원화를 효율적으로 수행함으로써<br /...   \n",
       "9      (재)한국우편사업진흥원  우편서비스의 질적 향상 및 우정문화를 창달함으로써 우정사업 발전과 국민문화 생활에 ...   \n",
       "\n",
       "        주무기관                                               설립근거  \\\n",
       "0        통일부                                             민법 32조   \n",
       "1        기상청                        민법 제32조, 공익법인의 설립·운영에 관한 법률   \n",
       "2        관세청                             민법 제32조(비영리법인의 설립과 허가)   \n",
       "3    문화체육관광부                                   민법 제32조에 의한 재단법인   \n",
       "4  과학기술정보통신부  민법 제32조(비영리법인의 설립과 허가) 학술, 종교, 자선, 기예, 사교 기타 영...   \n",
       "5  과학기술정보통신부                                            민법 제32조   \n",
       "6  과학기술정보통신부                             민법 제32조(비영리법인의 설립과 허가)   \n",
       "7      행정안전부  - 설립근거「민법」제32조(비영리 법인의 설립과 허가),「공익법인의 설립·운영에 관...   \n",
       "8    농림축산식품부       「가축분뇨의 관리 및 이용에 관한 법률」제38조의2(축산환경관리원의 설립·운영)   \n",
       "9  과학기술정보통신부                             민법 제32조(비영리법인의 설립과 허가)   \n",
       "\n",
       "                                           주요기능 및 역할  \\\n",
       "0  o 남북교류협력과 관련한 정부 위탁사업 수행\\no 정부에 대한 남북교류협력 활성화 ...   \n",
       "1  ○ 기후변동 및 변화의 진단, 예측 관련 정보의 수집, 생산 및 유통\\n○ 기후변동...   \n",
       "2  1. 자유무역협정ㆍ원산지 정보의 수집ㆍ분석 수탁 사업\\n2. 자유무역협정ㆍ원산지 정...   \n",
       "3  1. 예술 유통구조의 체계화 및 활성화 지원\\n2. 예술기관·단체 운영 및 경영 관...   \n",
       "4  ㅇ 국내외 금융시장에 대한 조사·연구\\nㅇ 우체국금융 신서비스 도입 및 마케팅 방안...   \n",
       "5  '우체국물류지원단'은 전국 우편물 운송, 배달, 분류, 국제우편물 포워딩 등 종합우...   \n",
       "6  o 우정재산의 사용ㆍ수익 허가 및 대부업무 지원사업\\no 우정사업 부동산 시설 유지...   \n",
       "7  - 일제 강제동원 희생자에 대한 추도순례 등 위령사업- 해외 추도공간 조성 및 일제...   \n",
       "8  o 배출시설 또는 처리시설 컨설팅, 지도 및 교육, 퇴비·액비의 품질관리\\no 가축...   \n",
       "9  1. 문화우편상품과 우표류 보급 및 콘텐츠를 통한 우정문화 확산\\n2. 우정 및 그...   \n",
       "\n",
       "                                                기관연혁  \\\n",
       "0  o 2007.05.22 법인설립 인가(통일부)\\no 2007.05.28「남북 경공업...   \n",
       "1  ○ 2004.03 제4차 APEC 과학기술장관회의에서 설립 제안\\n○ 2005.03...   \n",
       "2  2009. 1 원산지정보 수집· 분석 전문기관 지정(관세청)\\n2009. 2 「한국...   \n",
       "3  ○ 2006년 재단법인 예술경영지원센터 설립 (2006.1.12.), 제1기 이사회...   \n",
       "4  1966.04. 재단법인 체신저축장려회 설립\\n1976.12. 재단법인 체신장려회로...   \n",
       "5  □ 1980.08.26 법인설립 (재)체신복지회\\n□ 1981.03.01 수도권 우...   \n",
       "6  o 2001. 11. 23. 법인 설립\\no 2006. 12. 28. 우체국사 관리...   \n",
       "7  - 2014. 6. 2. / 3. 재단 설립허가/등기- 2015. 1. 29. 기타...   \n",
       "8  o 민간관리기구 도입검토('10.7월, 국무총리실 주관 T/F팀)o '가축분뇨의 효...   \n",
       "9  ㅇ 1930. 12. 03 우편소청사협회 설립\\nㅇ 1939. 11. 06 조선체신...   \n",
       "\n",
       "                                           경영목표 및 전략  기관장  \\\n",
       "0  o 남북교류협력 활력 제고 및 성장동력 확보\\n- 남북교류협력 원스톱 서비스 체계 ...  강영식   \n",
       "1  ○ 기후예측 전문성 강화 및 국내 기여 확대\\n○ 기후예측 기술 개발 및 기후 감시...  권원태   \n",
       "2  미션 : FTA 및 원산지 연구· 조사와 정보보급을 통해 기업경쟁력 강화와 국민경제...  박병진   \n",
       "3  ○ 비전 : 예술시장 활성화로 예술현장의 지속성장을 이끌어가는 기관\\n○ 핵심가치 ...  김도일   \n",
       "4  ◎ 미션 : 안전하고 편리한 금융서비스를 통해 국민의 삶의 질 향상에 기여한다\\n\\...  유대선   \n",
       "5  □ (기관미션) 안전ㆍ 신속ㆍ 정확한 우편물류서비스를 효율적으로 제공함으로써\\n국민...  천장수   \n",
       "6  ⊙ 미션 : 전문적이고 효율적인 우정시설 및 자산관리를 통해 공공의 복리 증진에 기...  김성칠   \n",
       "7  - 미션: 과거의 기억, 현재의 통합, 미래의 평화- 비젼: 국민과 함께 평화와 인...  김용덕   \n",
       "8  o (비전) 국민에게 신뢰받는 세계 최고의 축산환경개선 선도기관\\no (미션) 지속...  이영희   \n",
       "9  ㅇ 미션: 우정문화의 가치혁신과 선진 우편서비스의 제공으로 국민의 행복과 공익실현에...  민재석   \n",
       "\n",
       "                                        소재지  \n",
       "0                           중구 퇴계로 97, 601호  \n",
       "1                              해운대구 센텀7로 12  \n",
       "2                        성남시 분당구 야탑로 205번길8  \n",
       "3  종로구 대학로 57(연건동) 홍익대학교 대학로캠퍼스 교육동 3층, 12층  \n",
       "4                      영등포구 경인로 841(영등포동4가)  \n",
       "5                                광진구 자양로 76  \n",
       "6                 광진구 강벽역로 2(구의동, 우체국시설관리단)  \n",
       "7              종로구 종로1길 42, 603호(수송동, 이마빌딩)  \n",
       "8                 한누리대로 219, 7층(나성동, 한림프라자)  \n",
       "9                               영등포구 영중로 83  "
      ]
     },
     "execution_count": 6,
     "metadata": {},
     "output_type": "execute_result"
    }
   ],
   "source": [
    "pub_content_df = pd.DataFrame(pub_contents)\n",
    "pub_content_df"
   ]
  },
  {
   "cell_type": "markdown",
   "id": "177dde47",
   "metadata": {},
   "source": [
    "### 정리 2"
   ]
  },
  {
   "cell_type": "code",
   "execution_count": 48,
   "id": "6deac58d",
   "metadata": {},
   "outputs": [],
   "source": [
    "import csv\n",
    "\n",
    "file_name = \"공공기관정보(job-alio).csv\"\n",
    "f = open(file_name, 'w', encoding='utf-8-sig', newline='')\n",
    "writer = csv.writer(f)\n",
    "\n",
    "for u in pub_url:\n",
    "    apba_id = u.split(\"'\")[1]\n",
    "    pub_real_url = 'https://job.alio.go.kr/orginfoview.do?apba_id=' + apba_id\n",
    "    \n",
    "    driver.get(pub_real_url)\n",
    "    time.sleep(2)\n",
    "    \n",
    "    rows = driver.find_elements_by_xpath('//*[@id=\"txt\"]/table/tbody/tr')\n",
    "    \n",
    "    content = []\n",
    "    for r in rows:\n",
    "        content.append(r.find_element_by_tag_name('td').text)\n",
    "        \n",
    "    writer.writerow(content)    \n",
    "f.close()"
   ]
  },
  {
   "cell_type": "code",
   "execution_count": 10,
   "id": "94b1a8ba",
   "metadata": {},
   "outputs": [],
   "source": [
    "import csv\n",
    "\n",
    "file_name = \"공공기관정보(job-alio)-1.csv\"\n",
    "f = open(file_name, 'w', encoding='utf-8-sig', newline='')\n",
    "writer = csv.writer(f)\n",
    "\n",
    "for u in pub_url:\n",
    "    apba_id = u.split(\"'\")[1]\n",
    "    pub_real_url = 'https://job.alio.go.kr/orginfoview.do?apba_id=' + apba_id\n",
    "    \n",
    "    driver.get(pub_real_url)\n",
    "    time.sleep(2)\n",
    "    \n",
    "    rows = driver.find_elements_by_xpath('//*[@id=\"txt\"]/table/tbody/tr')\n",
    "    \n",
    "    content = [r.find_element_by_tag_name('td').text for r in rows]\n",
    "    writer.writerow(content)    \n",
    "    \n",
    "f.close()"
   ]
  },
  {
   "cell_type": "markdown",
   "id": "e176f38a",
   "metadata": {
    "slideshow": {
     "slide_type": "slide"
    }
   },
   "source": [
    "## Headless Chrome"
   ]
  },
  {
   "cell_type": "markdown",
   "id": "395b506a",
   "metadata": {
    "slideshow": {
     "slide_type": "fragment"
    }
   },
   "source": [
    "### User Agents\n",
    "\n",
    "웹사이트에 접속할 때 어느 브라우저를 쓰는지, OS를 쓰는지, 컴퓨터로 접속하는지, 스마트폰으로 접속하는지 등 정보를 서버가 알 수 있음  \n",
    "사람이 접속하는 것이 아니라 컴퓨터가 접속하는 경우 사이트에서는 접속을 차단할 수 있음  \n",
    "\n",
    "https://www.whatismybrowser.com/detect/what-is-my-user-agent"
   ]
  },
  {
   "cell_type": "markdown",
   "id": "06ae9195",
   "metadata": {
    "slideshow": {
     "slide_type": "fragment"
    }
   },
   "source": [
    "![user_agent_meme](https://memegenerator.net/img/instances/64455057/you-said-your-device-is-windows-phone-but-your-user-agent-string-determined-that-to-be-a-lie.jpg)"
   ]
  },
  {
   "cell_type": "code",
   "execution_count": 49,
   "id": "f3b8e5a4",
   "metadata": {
    "slideshow": {
     "slide_type": "subslide"
    }
   },
   "outputs": [],
   "source": [
    "headless_options = webdriver.ChromeOptions()\n",
    "headless_options.headless = True\n",
    "headless_options.add_argument('window-size=1920x1080')  \n",
    "headless_options.add_argument('User-Agent: Mozilla/5.0 (Windows NT 10.0; Win64; x64) AppleWebKit/537.36 (KHTML, like Gecko) Chrome/92.0.4515.131 Safari/537.36')  \n",
    "headless_options.add_argument('lang=ko_KR')  \n",
    "headless_options.add_argument('disable-gpu')  "
   ]
  },
  {
   "cell_type": "code",
   "execution_count": null,
   "id": "9245905b",
   "metadata": {
    "slideshow": {
     "slide_type": "fragment"
    }
   },
   "outputs": [],
   "source": [
    "# options = webdriver.ChromeOptions()\n",
    "# options.add_argument('--ignore-ssl-errors=yes')\n",
    "# options.add_argument('--ignore-certificate-errors')\n",
    "# driver = webdriver.Chrome(options=options)"
   ]
  },
  {
   "cell_type": "code",
   "execution_count": 50,
   "id": "3d5827f3",
   "metadata": {
    "slideshow": {
     "slide_type": "subslide"
    }
   },
   "outputs": [],
   "source": [
    "from selenium import webdriver\n",
    "import pandas as pd\n",
    "import time\n",
    "\n",
    "headless_driver = webdriver.Chrome('./chromedriver', options=headless_options)\n",
    "url = 'https://job.alio.go.kr/orginfo.do'\n",
    "headless_driver.get(url)"
   ]
  },
  {
   "cell_type": "code",
   "execution_count": 51,
   "id": "210cdba5",
   "metadata": {
    "slideshow": {
     "slide_type": "fragment"
    }
   },
   "outputs": [
    {
     "data": {
      "text/plain": [
       "True"
      ]
     },
     "execution_count": 51,
     "metadata": {},
     "output_type": "execute_result"
    }
   ],
   "source": [
    "headless_driver.get_screenshot_as_file(\"./img/Job-Alio_first.png\")"
   ]
  },
  {
   "cell_type": "markdown",
   "id": "d9cb81bb",
   "metadata": {
    "slideshow": {
     "slide_type": "subslide"
    }
   },
   "source": [
    "screenshot \n",
    "\n",
    "![screenshot_1](./img/Job-Alio_first.png)"
   ]
  },
  {
   "cell_type": "code",
   "execution_count": 52,
   "id": "e468cc2a",
   "metadata": {
    "slideshow": {
     "slide_type": "subslide"
    }
   },
   "outputs": [],
   "source": [
    "checkbox1 = headless_driver.find_element_by_xpath('//*[@id=\"so01\"]')\n",
    "checkbox1.click()"
   ]
  },
  {
   "cell_type": "code",
   "execution_count": 56,
   "id": "6165fd4b",
   "metadata": {
    "slideshow": {
     "slide_type": "fragment"
    }
   },
   "outputs": [
    {
     "ename": "MaxRetryError",
     "evalue": "HTTPConnectionPool(host='127.0.0.1', port=52511): Max retries exceeded with url: /session/ea201a41c8097b7288df289e4d0b0e41/screenshot (Caused by NewConnectionError('<urllib3.connection.HTTPConnection object at 0x000002CE27594A60>: Failed to establish a new connection: [WinError 10061] 대상 컴퓨터에서 연결을 거부했으므로 연결하지 못했습니다'))",
     "output_type": "error",
     "traceback": [
      "\u001b[1;31m---------------------------------------------------------------------------\u001b[0m",
      "\u001b[1;31mConnectionRefusedError\u001b[0m                    Traceback (most recent call last)",
      "\u001b[1;32m~\\miniconda3\\envs\\web\\lib\\site-packages\\urllib3\\connection.py\u001b[0m in \u001b[0;36m_new_conn\u001b[1;34m(self)\u001b[0m\n\u001b[0;32m    168\u001b[0m         \u001b[1;32mtry\u001b[0m\u001b[1;33m:\u001b[0m\u001b[1;33m\u001b[0m\u001b[1;33m\u001b[0m\u001b[0m\n\u001b[1;32m--> 169\u001b[1;33m             conn = connection.create_connection(\n\u001b[0m\u001b[0;32m    170\u001b[0m                 \u001b[1;33m(\u001b[0m\u001b[0mself\u001b[0m\u001b[1;33m.\u001b[0m\u001b[0m_dns_host\u001b[0m\u001b[1;33m,\u001b[0m \u001b[0mself\u001b[0m\u001b[1;33m.\u001b[0m\u001b[0mport\u001b[0m\u001b[1;33m)\u001b[0m\u001b[1;33m,\u001b[0m \u001b[0mself\u001b[0m\u001b[1;33m.\u001b[0m\u001b[0mtimeout\u001b[0m\u001b[1;33m,\u001b[0m \u001b[1;33m**\u001b[0m\u001b[0mextra_kw\u001b[0m\u001b[1;33m\u001b[0m\u001b[1;33m\u001b[0m\u001b[0m\n",
      "\u001b[1;32m~\\miniconda3\\envs\\web\\lib\\site-packages\\urllib3\\util\\connection.py\u001b[0m in \u001b[0;36mcreate_connection\u001b[1;34m(address, timeout, source_address, socket_options)\u001b[0m\n\u001b[0;32m     95\u001b[0m     \u001b[1;32mif\u001b[0m \u001b[0merr\u001b[0m \u001b[1;32mis\u001b[0m \u001b[1;32mnot\u001b[0m \u001b[1;32mNone\u001b[0m\u001b[1;33m:\u001b[0m\u001b[1;33m\u001b[0m\u001b[1;33m\u001b[0m\u001b[0m\n\u001b[1;32m---> 96\u001b[1;33m         \u001b[1;32mraise\u001b[0m \u001b[0merr\u001b[0m\u001b[1;33m\u001b[0m\u001b[1;33m\u001b[0m\u001b[0m\n\u001b[0m\u001b[0;32m     97\u001b[0m \u001b[1;33m\u001b[0m\u001b[0m\n",
      "\u001b[1;32m~\\miniconda3\\envs\\web\\lib\\site-packages\\urllib3\\util\\connection.py\u001b[0m in \u001b[0;36mcreate_connection\u001b[1;34m(address, timeout, source_address, socket_options)\u001b[0m\n\u001b[0;32m     85\u001b[0m                 \u001b[0msock\u001b[0m\u001b[1;33m.\u001b[0m\u001b[0mbind\u001b[0m\u001b[1;33m(\u001b[0m\u001b[0msource_address\u001b[0m\u001b[1;33m)\u001b[0m\u001b[1;33m\u001b[0m\u001b[1;33m\u001b[0m\u001b[0m\n\u001b[1;32m---> 86\u001b[1;33m             \u001b[0msock\u001b[0m\u001b[1;33m.\u001b[0m\u001b[0mconnect\u001b[0m\u001b[1;33m(\u001b[0m\u001b[0msa\u001b[0m\u001b[1;33m)\u001b[0m\u001b[1;33m\u001b[0m\u001b[1;33m\u001b[0m\u001b[0m\n\u001b[0m\u001b[0;32m     87\u001b[0m             \u001b[1;32mreturn\u001b[0m \u001b[0msock\u001b[0m\u001b[1;33m\u001b[0m\u001b[1;33m\u001b[0m\u001b[0m\n",
      "\u001b[1;31mConnectionRefusedError\u001b[0m: [WinError 10061] 대상 컴퓨터에서 연결을 거부했으므로 연결하지 못했습니다",
      "\nDuring handling of the above exception, another exception occurred:\n",
      "\u001b[1;31mNewConnectionError\u001b[0m                        Traceback (most recent call last)",
      "\u001b[1;32m~\\miniconda3\\envs\\web\\lib\\site-packages\\urllib3\\connectionpool.py\u001b[0m in \u001b[0;36murlopen\u001b[1;34m(self, method, url, body, headers, retries, redirect, assert_same_host, timeout, pool_timeout, release_conn, chunked, body_pos, **response_kw)\u001b[0m\n\u001b[0;32m    698\u001b[0m             \u001b[1;31m# Make the request on the httplib connection object.\u001b[0m\u001b[1;33m\u001b[0m\u001b[1;33m\u001b[0m\u001b[1;33m\u001b[0m\u001b[0m\n\u001b[1;32m--> 699\u001b[1;33m             httplib_response = self._make_request(\n\u001b[0m\u001b[0;32m    700\u001b[0m                 \u001b[0mconn\u001b[0m\u001b[1;33m,\u001b[0m\u001b[1;33m\u001b[0m\u001b[1;33m\u001b[0m\u001b[0m\n",
      "\u001b[1;32m~\\miniconda3\\envs\\web\\lib\\site-packages\\urllib3\\connectionpool.py\u001b[0m in \u001b[0;36m_make_request\u001b[1;34m(self, conn, method, url, timeout, chunked, **httplib_request_kw)\u001b[0m\n\u001b[0;32m    393\u001b[0m             \u001b[1;32melse\u001b[0m\u001b[1;33m:\u001b[0m\u001b[1;33m\u001b[0m\u001b[1;33m\u001b[0m\u001b[0m\n\u001b[1;32m--> 394\u001b[1;33m                 \u001b[0mconn\u001b[0m\u001b[1;33m.\u001b[0m\u001b[0mrequest\u001b[0m\u001b[1;33m(\u001b[0m\u001b[0mmethod\u001b[0m\u001b[1;33m,\u001b[0m \u001b[0murl\u001b[0m\u001b[1;33m,\u001b[0m \u001b[1;33m**\u001b[0m\u001b[0mhttplib_request_kw\u001b[0m\u001b[1;33m)\u001b[0m\u001b[1;33m\u001b[0m\u001b[1;33m\u001b[0m\u001b[0m\n\u001b[0m\u001b[0;32m    395\u001b[0m \u001b[1;33m\u001b[0m\u001b[0m\n",
      "\u001b[1;32m~\\miniconda3\\envs\\web\\lib\\site-packages\\urllib3\\connection.py\u001b[0m in \u001b[0;36mrequest\u001b[1;34m(self, method, url, body, headers)\u001b[0m\n\u001b[0;32m    233\u001b[0m             \u001b[0mheaders\u001b[0m\u001b[1;33m[\u001b[0m\u001b[1;34m\"User-Agent\"\u001b[0m\u001b[1;33m]\u001b[0m \u001b[1;33m=\u001b[0m \u001b[0m_get_default_user_agent\u001b[0m\u001b[1;33m(\u001b[0m\u001b[1;33m)\u001b[0m\u001b[1;33m\u001b[0m\u001b[1;33m\u001b[0m\u001b[0m\n\u001b[1;32m--> 234\u001b[1;33m         \u001b[0msuper\u001b[0m\u001b[1;33m(\u001b[0m\u001b[0mHTTPConnection\u001b[0m\u001b[1;33m,\u001b[0m \u001b[0mself\u001b[0m\u001b[1;33m)\u001b[0m\u001b[1;33m.\u001b[0m\u001b[0mrequest\u001b[0m\u001b[1;33m(\u001b[0m\u001b[0mmethod\u001b[0m\u001b[1;33m,\u001b[0m \u001b[0murl\u001b[0m\u001b[1;33m,\u001b[0m \u001b[0mbody\u001b[0m\u001b[1;33m=\u001b[0m\u001b[0mbody\u001b[0m\u001b[1;33m,\u001b[0m \u001b[0mheaders\u001b[0m\u001b[1;33m=\u001b[0m\u001b[0mheaders\u001b[0m\u001b[1;33m)\u001b[0m\u001b[1;33m\u001b[0m\u001b[1;33m\u001b[0m\u001b[0m\n\u001b[0m\u001b[0;32m    235\u001b[0m \u001b[1;33m\u001b[0m\u001b[0m\n",
      "\u001b[1;32m~\\miniconda3\\envs\\web\\lib\\http\\client.py\u001b[0m in \u001b[0;36mrequest\u001b[1;34m(self, method, url, body, headers, encode_chunked)\u001b[0m\n\u001b[0;32m   1255\u001b[0m         \u001b[1;34m\"\"\"Send a complete request to the server.\"\"\"\u001b[0m\u001b[1;33m\u001b[0m\u001b[1;33m\u001b[0m\u001b[0m\n\u001b[1;32m-> 1256\u001b[1;33m         \u001b[0mself\u001b[0m\u001b[1;33m.\u001b[0m\u001b[0m_send_request\u001b[0m\u001b[1;33m(\u001b[0m\u001b[0mmethod\u001b[0m\u001b[1;33m,\u001b[0m \u001b[0murl\u001b[0m\u001b[1;33m,\u001b[0m \u001b[0mbody\u001b[0m\u001b[1;33m,\u001b[0m \u001b[0mheaders\u001b[0m\u001b[1;33m,\u001b[0m \u001b[0mencode_chunked\u001b[0m\u001b[1;33m)\u001b[0m\u001b[1;33m\u001b[0m\u001b[1;33m\u001b[0m\u001b[0m\n\u001b[0m\u001b[0;32m   1257\u001b[0m \u001b[1;33m\u001b[0m\u001b[0m\n",
      "\u001b[1;32m~\\miniconda3\\envs\\web\\lib\\http\\client.py\u001b[0m in \u001b[0;36m_send_request\u001b[1;34m(self, method, url, body, headers, encode_chunked)\u001b[0m\n\u001b[0;32m   1301\u001b[0m             \u001b[0mbody\u001b[0m \u001b[1;33m=\u001b[0m \u001b[0m_encode\u001b[0m\u001b[1;33m(\u001b[0m\u001b[0mbody\u001b[0m\u001b[1;33m,\u001b[0m \u001b[1;34m'body'\u001b[0m\u001b[1;33m)\u001b[0m\u001b[1;33m\u001b[0m\u001b[1;33m\u001b[0m\u001b[0m\n\u001b[1;32m-> 1302\u001b[1;33m         \u001b[0mself\u001b[0m\u001b[1;33m.\u001b[0m\u001b[0mendheaders\u001b[0m\u001b[1;33m(\u001b[0m\u001b[0mbody\u001b[0m\u001b[1;33m,\u001b[0m \u001b[0mencode_chunked\u001b[0m\u001b[1;33m=\u001b[0m\u001b[0mencode_chunked\u001b[0m\u001b[1;33m)\u001b[0m\u001b[1;33m\u001b[0m\u001b[1;33m\u001b[0m\u001b[0m\n\u001b[0m\u001b[0;32m   1303\u001b[0m \u001b[1;33m\u001b[0m\u001b[0m\n",
      "\u001b[1;32m~\\miniconda3\\envs\\web\\lib\\http\\client.py\u001b[0m in \u001b[0;36mendheaders\u001b[1;34m(self, message_body, encode_chunked)\u001b[0m\n\u001b[0;32m   1250\u001b[0m             \u001b[1;32mraise\u001b[0m \u001b[0mCannotSendHeader\u001b[0m\u001b[1;33m(\u001b[0m\u001b[1;33m)\u001b[0m\u001b[1;33m\u001b[0m\u001b[1;33m\u001b[0m\u001b[0m\n\u001b[1;32m-> 1251\u001b[1;33m         \u001b[0mself\u001b[0m\u001b[1;33m.\u001b[0m\u001b[0m_send_output\u001b[0m\u001b[1;33m(\u001b[0m\u001b[0mmessage_body\u001b[0m\u001b[1;33m,\u001b[0m \u001b[0mencode_chunked\u001b[0m\u001b[1;33m=\u001b[0m\u001b[0mencode_chunked\u001b[0m\u001b[1;33m)\u001b[0m\u001b[1;33m\u001b[0m\u001b[1;33m\u001b[0m\u001b[0m\n\u001b[0m\u001b[0;32m   1252\u001b[0m \u001b[1;33m\u001b[0m\u001b[0m\n",
      "\u001b[1;32m~\\miniconda3\\envs\\web\\lib\\http\\client.py\u001b[0m in \u001b[0;36m_send_output\u001b[1;34m(self, message_body, encode_chunked)\u001b[0m\n\u001b[0;32m   1010\u001b[0m         \u001b[1;32mdel\u001b[0m \u001b[0mself\u001b[0m\u001b[1;33m.\u001b[0m\u001b[0m_buffer\u001b[0m\u001b[1;33m[\u001b[0m\u001b[1;33m:\u001b[0m\u001b[1;33m]\u001b[0m\u001b[1;33m\u001b[0m\u001b[1;33m\u001b[0m\u001b[0m\n\u001b[1;32m-> 1011\u001b[1;33m         \u001b[0mself\u001b[0m\u001b[1;33m.\u001b[0m\u001b[0msend\u001b[0m\u001b[1;33m(\u001b[0m\u001b[0mmsg\u001b[0m\u001b[1;33m)\u001b[0m\u001b[1;33m\u001b[0m\u001b[1;33m\u001b[0m\u001b[0m\n\u001b[0m\u001b[0;32m   1012\u001b[0m \u001b[1;33m\u001b[0m\u001b[0m\n",
      "\u001b[1;32m~\\miniconda3\\envs\\web\\lib\\http\\client.py\u001b[0m in \u001b[0;36msend\u001b[1;34m(self, data)\u001b[0m\n\u001b[0;32m    950\u001b[0m             \u001b[1;32mif\u001b[0m \u001b[0mself\u001b[0m\u001b[1;33m.\u001b[0m\u001b[0mauto_open\u001b[0m\u001b[1;33m:\u001b[0m\u001b[1;33m\u001b[0m\u001b[1;33m\u001b[0m\u001b[0m\n\u001b[1;32m--> 951\u001b[1;33m                 \u001b[0mself\u001b[0m\u001b[1;33m.\u001b[0m\u001b[0mconnect\u001b[0m\u001b[1;33m(\u001b[0m\u001b[1;33m)\u001b[0m\u001b[1;33m\u001b[0m\u001b[1;33m\u001b[0m\u001b[0m\n\u001b[0m\u001b[0;32m    952\u001b[0m             \u001b[1;32melse\u001b[0m\u001b[1;33m:\u001b[0m\u001b[1;33m\u001b[0m\u001b[1;33m\u001b[0m\u001b[0m\n",
      "\u001b[1;32m~\\miniconda3\\envs\\web\\lib\\site-packages\\urllib3\\connection.py\u001b[0m in \u001b[0;36mconnect\u001b[1;34m(self)\u001b[0m\n\u001b[0;32m    199\u001b[0m     \u001b[1;32mdef\u001b[0m \u001b[0mconnect\u001b[0m\u001b[1;33m(\u001b[0m\u001b[0mself\u001b[0m\u001b[1;33m)\u001b[0m\u001b[1;33m:\u001b[0m\u001b[1;33m\u001b[0m\u001b[1;33m\u001b[0m\u001b[0m\n\u001b[1;32m--> 200\u001b[1;33m         \u001b[0mconn\u001b[0m \u001b[1;33m=\u001b[0m \u001b[0mself\u001b[0m\u001b[1;33m.\u001b[0m\u001b[0m_new_conn\u001b[0m\u001b[1;33m(\u001b[0m\u001b[1;33m)\u001b[0m\u001b[1;33m\u001b[0m\u001b[1;33m\u001b[0m\u001b[0m\n\u001b[0m\u001b[0;32m    201\u001b[0m         \u001b[0mself\u001b[0m\u001b[1;33m.\u001b[0m\u001b[0m_prepare_conn\u001b[0m\u001b[1;33m(\u001b[0m\u001b[0mconn\u001b[0m\u001b[1;33m)\u001b[0m\u001b[1;33m\u001b[0m\u001b[1;33m\u001b[0m\u001b[0m\n",
      "\u001b[1;32m~\\miniconda3\\envs\\web\\lib\\site-packages\\urllib3\\connection.py\u001b[0m in \u001b[0;36m_new_conn\u001b[1;34m(self)\u001b[0m\n\u001b[0;32m    180\u001b[0m         \u001b[1;32mexcept\u001b[0m \u001b[0mSocketError\u001b[0m \u001b[1;32mas\u001b[0m \u001b[0me\u001b[0m\u001b[1;33m:\u001b[0m\u001b[1;33m\u001b[0m\u001b[1;33m\u001b[0m\u001b[0m\n\u001b[1;32m--> 181\u001b[1;33m             raise NewConnectionError(\n\u001b[0m\u001b[0;32m    182\u001b[0m                 \u001b[0mself\u001b[0m\u001b[1;33m,\u001b[0m \u001b[1;34m\"Failed to establish a new connection: %s\"\u001b[0m \u001b[1;33m%\u001b[0m \u001b[0me\u001b[0m\u001b[1;33m\u001b[0m\u001b[1;33m\u001b[0m\u001b[0m\n",
      "\u001b[1;31mNewConnectionError\u001b[0m: <urllib3.connection.HTTPConnection object at 0x000002CE27594A60>: Failed to establish a new connection: [WinError 10061] 대상 컴퓨터에서 연결을 거부했으므로 연결하지 못했습니다",
      "\nDuring handling of the above exception, another exception occurred:\n",
      "\u001b[1;31mMaxRetryError\u001b[0m                             Traceback (most recent call last)",
      "\u001b[1;32m<ipython-input-56-cad119be1483>\u001b[0m in \u001b[0;36m<module>\u001b[1;34m\u001b[0m\n\u001b[1;32m----> 1\u001b[1;33m \u001b[0mheadless_driver\u001b[0m\u001b[1;33m.\u001b[0m\u001b[0mget_screenshot_as_file\u001b[0m\u001b[1;33m(\u001b[0m\u001b[1;34m\"./img/Job-Alio_checkbox.png\"\u001b[0m\u001b[1;33m)\u001b[0m\u001b[1;33m\u001b[0m\u001b[1;33m\u001b[0m\u001b[0m\n\u001b[0m",
      "\u001b[1;32m~\\miniconda3\\envs\\web\\lib\\site-packages\\selenium\\webdriver\\remote\\webdriver.py\u001b[0m in \u001b[0;36mget_screenshot_as_file\u001b[1;34m(self, filename)\u001b[0m\n\u001b[0;32m   1030\u001b[0m             warnings.warn(\"name used for saved screenshot does not match file \"\n\u001b[0;32m   1031\u001b[0m                           \"type. It should end with a `.png` extension\", UserWarning)\n\u001b[1;32m-> 1032\u001b[1;33m         \u001b[0mpng\u001b[0m \u001b[1;33m=\u001b[0m \u001b[0mself\u001b[0m\u001b[1;33m.\u001b[0m\u001b[0mget_screenshot_as_png\u001b[0m\u001b[1;33m(\u001b[0m\u001b[1;33m)\u001b[0m\u001b[1;33m\u001b[0m\u001b[1;33m\u001b[0m\u001b[0m\n\u001b[0m\u001b[0;32m   1033\u001b[0m         \u001b[1;32mtry\u001b[0m\u001b[1;33m:\u001b[0m\u001b[1;33m\u001b[0m\u001b[1;33m\u001b[0m\u001b[0m\n\u001b[0;32m   1034\u001b[0m             \u001b[1;32mwith\u001b[0m \u001b[0mopen\u001b[0m\u001b[1;33m(\u001b[0m\u001b[0mfilename\u001b[0m\u001b[1;33m,\u001b[0m \u001b[1;34m'wb'\u001b[0m\u001b[1;33m)\u001b[0m \u001b[1;32mas\u001b[0m \u001b[0mf\u001b[0m\u001b[1;33m:\u001b[0m\u001b[1;33m\u001b[0m\u001b[1;33m\u001b[0m\u001b[0m\n",
      "\u001b[1;32m~\\miniconda3\\envs\\web\\lib\\site-packages\\selenium\\webdriver\\remote\\webdriver.py\u001b[0m in \u001b[0;36mget_screenshot_as_png\u001b[1;34m(self)\u001b[0m\n\u001b[0;32m   1062\u001b[0m             \u001b[0mdriver\u001b[0m\u001b[1;33m.\u001b[0m\u001b[0mget_screenshot_as_png\u001b[0m\u001b[1;33m(\u001b[0m\u001b[1;33m)\u001b[0m\u001b[1;33m\u001b[0m\u001b[1;33m\u001b[0m\u001b[0m\n\u001b[0;32m   1063\u001b[0m         \"\"\"\n\u001b[1;32m-> 1064\u001b[1;33m         \u001b[1;32mreturn\u001b[0m \u001b[0mbase64\u001b[0m\u001b[1;33m.\u001b[0m\u001b[0mb64decode\u001b[0m\u001b[1;33m(\u001b[0m\u001b[0mself\u001b[0m\u001b[1;33m.\u001b[0m\u001b[0mget_screenshot_as_base64\u001b[0m\u001b[1;33m(\u001b[0m\u001b[1;33m)\u001b[0m\u001b[1;33m.\u001b[0m\u001b[0mencode\u001b[0m\u001b[1;33m(\u001b[0m\u001b[1;34m'ascii'\u001b[0m\u001b[1;33m)\u001b[0m\u001b[1;33m)\u001b[0m\u001b[1;33m\u001b[0m\u001b[1;33m\u001b[0m\u001b[0m\n\u001b[0m\u001b[0;32m   1065\u001b[0m \u001b[1;33m\u001b[0m\u001b[0m\n\u001b[0;32m   1066\u001b[0m     \u001b[1;32mdef\u001b[0m \u001b[0mget_screenshot_as_base64\u001b[0m\u001b[1;33m(\u001b[0m\u001b[0mself\u001b[0m\u001b[1;33m)\u001b[0m\u001b[1;33m:\u001b[0m\u001b[1;33m\u001b[0m\u001b[1;33m\u001b[0m\u001b[0m\n",
      "\u001b[1;32m~\\miniconda3\\envs\\web\\lib\\site-packages\\selenium\\webdriver\\remote\\webdriver.py\u001b[0m in \u001b[0;36mget_screenshot_as_base64\u001b[1;34m(self)\u001b[0m\n\u001b[0;32m   1072\u001b[0m             \u001b[0mdriver\u001b[0m\u001b[1;33m.\u001b[0m\u001b[0mget_screenshot_as_base64\u001b[0m\u001b[1;33m(\u001b[0m\u001b[1;33m)\u001b[0m\u001b[1;33m\u001b[0m\u001b[1;33m\u001b[0m\u001b[0m\n\u001b[0;32m   1073\u001b[0m         \"\"\"\n\u001b[1;32m-> 1074\u001b[1;33m         \u001b[1;32mreturn\u001b[0m \u001b[0mself\u001b[0m\u001b[1;33m.\u001b[0m\u001b[0mexecute\u001b[0m\u001b[1;33m(\u001b[0m\u001b[0mCommand\u001b[0m\u001b[1;33m.\u001b[0m\u001b[0mSCREENSHOT\u001b[0m\u001b[1;33m)\u001b[0m\u001b[1;33m[\u001b[0m\u001b[1;34m'value'\u001b[0m\u001b[1;33m]\u001b[0m\u001b[1;33m\u001b[0m\u001b[1;33m\u001b[0m\u001b[0m\n\u001b[0m\u001b[0;32m   1075\u001b[0m \u001b[1;33m\u001b[0m\u001b[0m\n\u001b[0;32m   1076\u001b[0m     \u001b[1;32mdef\u001b[0m \u001b[0mset_window_size\u001b[0m\u001b[1;33m(\u001b[0m\u001b[0mself\u001b[0m\u001b[1;33m,\u001b[0m \u001b[0mwidth\u001b[0m\u001b[1;33m,\u001b[0m \u001b[0mheight\u001b[0m\u001b[1;33m,\u001b[0m \u001b[0mwindowHandle\u001b[0m\u001b[1;33m=\u001b[0m\u001b[1;34m'current'\u001b[0m\u001b[1;33m)\u001b[0m\u001b[1;33m:\u001b[0m\u001b[1;33m\u001b[0m\u001b[1;33m\u001b[0m\u001b[0m\n",
      "\u001b[1;32m~\\miniconda3\\envs\\web\\lib\\site-packages\\selenium\\webdriver\\remote\\webdriver.py\u001b[0m in \u001b[0;36mexecute\u001b[1;34m(self, driver_command, params)\u001b[0m\n\u001b[0;32m    317\u001b[0m \u001b[1;33m\u001b[0m\u001b[0m\n\u001b[0;32m    318\u001b[0m         \u001b[0mparams\u001b[0m \u001b[1;33m=\u001b[0m \u001b[0mself\u001b[0m\u001b[1;33m.\u001b[0m\u001b[0m_wrap_value\u001b[0m\u001b[1;33m(\u001b[0m\u001b[0mparams\u001b[0m\u001b[1;33m)\u001b[0m\u001b[1;33m\u001b[0m\u001b[1;33m\u001b[0m\u001b[0m\n\u001b[1;32m--> 319\u001b[1;33m         \u001b[0mresponse\u001b[0m \u001b[1;33m=\u001b[0m \u001b[0mself\u001b[0m\u001b[1;33m.\u001b[0m\u001b[0mcommand_executor\u001b[0m\u001b[1;33m.\u001b[0m\u001b[0mexecute\u001b[0m\u001b[1;33m(\u001b[0m\u001b[0mdriver_command\u001b[0m\u001b[1;33m,\u001b[0m \u001b[0mparams\u001b[0m\u001b[1;33m)\u001b[0m\u001b[1;33m\u001b[0m\u001b[1;33m\u001b[0m\u001b[0m\n\u001b[0m\u001b[0;32m    320\u001b[0m         \u001b[1;32mif\u001b[0m \u001b[0mresponse\u001b[0m\u001b[1;33m:\u001b[0m\u001b[1;33m\u001b[0m\u001b[1;33m\u001b[0m\u001b[0m\n\u001b[0;32m    321\u001b[0m             \u001b[0mself\u001b[0m\u001b[1;33m.\u001b[0m\u001b[0merror_handler\u001b[0m\u001b[1;33m.\u001b[0m\u001b[0mcheck_response\u001b[0m\u001b[1;33m(\u001b[0m\u001b[0mresponse\u001b[0m\u001b[1;33m)\u001b[0m\u001b[1;33m\u001b[0m\u001b[1;33m\u001b[0m\u001b[0m\n",
      "\u001b[1;32m~\\miniconda3\\envs\\web\\lib\\site-packages\\selenium\\webdriver\\remote\\remote_connection.py\u001b[0m in \u001b[0;36mexecute\u001b[1;34m(self, command, params)\u001b[0m\n\u001b[0;32m    372\u001b[0m         \u001b[0mdata\u001b[0m \u001b[1;33m=\u001b[0m \u001b[0mutils\u001b[0m\u001b[1;33m.\u001b[0m\u001b[0mdump_json\u001b[0m\u001b[1;33m(\u001b[0m\u001b[0mparams\u001b[0m\u001b[1;33m)\u001b[0m\u001b[1;33m\u001b[0m\u001b[1;33m\u001b[0m\u001b[0m\n\u001b[0;32m    373\u001b[0m         \u001b[0murl\u001b[0m \u001b[1;33m=\u001b[0m \u001b[1;34m'%s%s'\u001b[0m \u001b[1;33m%\u001b[0m \u001b[1;33m(\u001b[0m\u001b[0mself\u001b[0m\u001b[1;33m.\u001b[0m\u001b[0m_url\u001b[0m\u001b[1;33m,\u001b[0m \u001b[0mpath\u001b[0m\u001b[1;33m)\u001b[0m\u001b[1;33m\u001b[0m\u001b[1;33m\u001b[0m\u001b[0m\n\u001b[1;32m--> 374\u001b[1;33m         \u001b[1;32mreturn\u001b[0m \u001b[0mself\u001b[0m\u001b[1;33m.\u001b[0m\u001b[0m_request\u001b[0m\u001b[1;33m(\u001b[0m\u001b[0mcommand_info\u001b[0m\u001b[1;33m[\u001b[0m\u001b[1;36m0\u001b[0m\u001b[1;33m]\u001b[0m\u001b[1;33m,\u001b[0m \u001b[0murl\u001b[0m\u001b[1;33m,\u001b[0m \u001b[0mbody\u001b[0m\u001b[1;33m=\u001b[0m\u001b[0mdata\u001b[0m\u001b[1;33m)\u001b[0m\u001b[1;33m\u001b[0m\u001b[1;33m\u001b[0m\u001b[0m\n\u001b[0m\u001b[0;32m    375\u001b[0m \u001b[1;33m\u001b[0m\u001b[0m\n\u001b[0;32m    376\u001b[0m     \u001b[1;32mdef\u001b[0m \u001b[0m_request\u001b[0m\u001b[1;33m(\u001b[0m\u001b[0mself\u001b[0m\u001b[1;33m,\u001b[0m \u001b[0mmethod\u001b[0m\u001b[1;33m,\u001b[0m \u001b[0murl\u001b[0m\u001b[1;33m,\u001b[0m \u001b[0mbody\u001b[0m\u001b[1;33m=\u001b[0m\u001b[1;32mNone\u001b[0m\u001b[1;33m)\u001b[0m\u001b[1;33m:\u001b[0m\u001b[1;33m\u001b[0m\u001b[1;33m\u001b[0m\u001b[0m\n",
      "\u001b[1;32m~\\miniconda3\\envs\\web\\lib\\site-packages\\selenium\\webdriver\\remote\\remote_connection.py\u001b[0m in \u001b[0;36m_request\u001b[1;34m(self, method, url, body)\u001b[0m\n\u001b[0;32m    395\u001b[0m \u001b[1;33m\u001b[0m\u001b[0m\n\u001b[0;32m    396\u001b[0m         \u001b[1;32mif\u001b[0m \u001b[0mself\u001b[0m\u001b[1;33m.\u001b[0m\u001b[0mkeep_alive\u001b[0m\u001b[1;33m:\u001b[0m\u001b[1;33m\u001b[0m\u001b[1;33m\u001b[0m\u001b[0m\n\u001b[1;32m--> 397\u001b[1;33m             \u001b[0mresp\u001b[0m \u001b[1;33m=\u001b[0m \u001b[0mself\u001b[0m\u001b[1;33m.\u001b[0m\u001b[0m_conn\u001b[0m\u001b[1;33m.\u001b[0m\u001b[0mrequest\u001b[0m\u001b[1;33m(\u001b[0m\u001b[0mmethod\u001b[0m\u001b[1;33m,\u001b[0m \u001b[0murl\u001b[0m\u001b[1;33m,\u001b[0m \u001b[0mbody\u001b[0m\u001b[1;33m=\u001b[0m\u001b[0mbody\u001b[0m\u001b[1;33m,\u001b[0m \u001b[0mheaders\u001b[0m\u001b[1;33m=\u001b[0m\u001b[0mheaders\u001b[0m\u001b[1;33m)\u001b[0m\u001b[1;33m\u001b[0m\u001b[1;33m\u001b[0m\u001b[0m\n\u001b[0m\u001b[0;32m    398\u001b[0m \u001b[1;33m\u001b[0m\u001b[0m\n\u001b[0;32m    399\u001b[0m             \u001b[0mstatuscode\u001b[0m \u001b[1;33m=\u001b[0m \u001b[0mresp\u001b[0m\u001b[1;33m.\u001b[0m\u001b[0mstatus\u001b[0m\u001b[1;33m\u001b[0m\u001b[1;33m\u001b[0m\u001b[0m\n",
      "\u001b[1;32m~\\miniconda3\\envs\\web\\lib\\site-packages\\urllib3\\request.py\u001b[0m in \u001b[0;36mrequest\u001b[1;34m(self, method, url, fields, headers, **urlopen_kw)\u001b[0m\n\u001b[0;32m     72\u001b[0m \u001b[1;33m\u001b[0m\u001b[0m\n\u001b[0;32m     73\u001b[0m         \u001b[1;32mif\u001b[0m \u001b[0mmethod\u001b[0m \u001b[1;32min\u001b[0m \u001b[0mself\u001b[0m\u001b[1;33m.\u001b[0m\u001b[0m_encode_url_methods\u001b[0m\u001b[1;33m:\u001b[0m\u001b[1;33m\u001b[0m\u001b[1;33m\u001b[0m\u001b[0m\n\u001b[1;32m---> 74\u001b[1;33m             return self.request_encode_url(\n\u001b[0m\u001b[0;32m     75\u001b[0m                 \u001b[0mmethod\u001b[0m\u001b[1;33m,\u001b[0m \u001b[0murl\u001b[0m\u001b[1;33m,\u001b[0m \u001b[0mfields\u001b[0m\u001b[1;33m=\u001b[0m\u001b[0mfields\u001b[0m\u001b[1;33m,\u001b[0m \u001b[0mheaders\u001b[0m\u001b[1;33m=\u001b[0m\u001b[0mheaders\u001b[0m\u001b[1;33m,\u001b[0m \u001b[1;33m**\u001b[0m\u001b[0murlopen_kw\u001b[0m\u001b[1;33m\u001b[0m\u001b[1;33m\u001b[0m\u001b[0m\n\u001b[0;32m     76\u001b[0m             )\n",
      "\u001b[1;32m~\\miniconda3\\envs\\web\\lib\\site-packages\\urllib3\\request.py\u001b[0m in \u001b[0;36mrequest_encode_url\u001b[1;34m(self, method, url, fields, headers, **urlopen_kw)\u001b[0m\n\u001b[0;32m     94\u001b[0m             \u001b[0murl\u001b[0m \u001b[1;33m+=\u001b[0m \u001b[1;34m\"?\"\u001b[0m \u001b[1;33m+\u001b[0m \u001b[0murlencode\u001b[0m\u001b[1;33m(\u001b[0m\u001b[0mfields\u001b[0m\u001b[1;33m)\u001b[0m\u001b[1;33m\u001b[0m\u001b[1;33m\u001b[0m\u001b[0m\n\u001b[0;32m     95\u001b[0m \u001b[1;33m\u001b[0m\u001b[0m\n\u001b[1;32m---> 96\u001b[1;33m         \u001b[1;32mreturn\u001b[0m \u001b[0mself\u001b[0m\u001b[1;33m.\u001b[0m\u001b[0murlopen\u001b[0m\u001b[1;33m(\u001b[0m\u001b[0mmethod\u001b[0m\u001b[1;33m,\u001b[0m \u001b[0murl\u001b[0m\u001b[1;33m,\u001b[0m \u001b[1;33m**\u001b[0m\u001b[0mextra_kw\u001b[0m\u001b[1;33m)\u001b[0m\u001b[1;33m\u001b[0m\u001b[1;33m\u001b[0m\u001b[0m\n\u001b[0m\u001b[0;32m     97\u001b[0m \u001b[1;33m\u001b[0m\u001b[0m\n\u001b[0;32m     98\u001b[0m     def request_encode_body(\n",
      "\u001b[1;32m~\\miniconda3\\envs\\web\\lib\\site-packages\\urllib3\\poolmanager.py\u001b[0m in \u001b[0;36murlopen\u001b[1;34m(self, method, url, redirect, **kw)\u001b[0m\n\u001b[0;32m    373\u001b[0m             \u001b[0mresponse\u001b[0m \u001b[1;33m=\u001b[0m \u001b[0mconn\u001b[0m\u001b[1;33m.\u001b[0m\u001b[0murlopen\u001b[0m\u001b[1;33m(\u001b[0m\u001b[0mmethod\u001b[0m\u001b[1;33m,\u001b[0m \u001b[0murl\u001b[0m\u001b[1;33m,\u001b[0m \u001b[1;33m**\u001b[0m\u001b[0mkw\u001b[0m\u001b[1;33m)\u001b[0m\u001b[1;33m\u001b[0m\u001b[1;33m\u001b[0m\u001b[0m\n\u001b[0;32m    374\u001b[0m         \u001b[1;32melse\u001b[0m\u001b[1;33m:\u001b[0m\u001b[1;33m\u001b[0m\u001b[1;33m\u001b[0m\u001b[0m\n\u001b[1;32m--> 375\u001b[1;33m             \u001b[0mresponse\u001b[0m \u001b[1;33m=\u001b[0m \u001b[0mconn\u001b[0m\u001b[1;33m.\u001b[0m\u001b[0murlopen\u001b[0m\u001b[1;33m(\u001b[0m\u001b[0mmethod\u001b[0m\u001b[1;33m,\u001b[0m \u001b[0mu\u001b[0m\u001b[1;33m.\u001b[0m\u001b[0mrequest_uri\u001b[0m\u001b[1;33m,\u001b[0m \u001b[1;33m**\u001b[0m\u001b[0mkw\u001b[0m\u001b[1;33m)\u001b[0m\u001b[1;33m\u001b[0m\u001b[1;33m\u001b[0m\u001b[0m\n\u001b[0m\u001b[0;32m    376\u001b[0m \u001b[1;33m\u001b[0m\u001b[0m\n\u001b[0;32m    377\u001b[0m         \u001b[0mredirect_location\u001b[0m \u001b[1;33m=\u001b[0m \u001b[0mredirect\u001b[0m \u001b[1;32mand\u001b[0m \u001b[0mresponse\u001b[0m\u001b[1;33m.\u001b[0m\u001b[0mget_redirect_location\u001b[0m\u001b[1;33m(\u001b[0m\u001b[1;33m)\u001b[0m\u001b[1;33m\u001b[0m\u001b[1;33m\u001b[0m\u001b[0m\n",
      "\u001b[1;32m~\\miniconda3\\envs\\web\\lib\\site-packages\\urllib3\\connectionpool.py\u001b[0m in \u001b[0;36murlopen\u001b[1;34m(self, method, url, body, headers, retries, redirect, assert_same_host, timeout, pool_timeout, release_conn, chunked, body_pos, **response_kw)\u001b[0m\n\u001b[0;32m    781\u001b[0m                 \u001b[1;34m\"Retrying (%r) after connection broken by '%r': %s\"\u001b[0m\u001b[1;33m,\u001b[0m \u001b[0mretries\u001b[0m\u001b[1;33m,\u001b[0m \u001b[0merr\u001b[0m\u001b[1;33m,\u001b[0m \u001b[0murl\u001b[0m\u001b[1;33m\u001b[0m\u001b[1;33m\u001b[0m\u001b[0m\n\u001b[0;32m    782\u001b[0m             )\n\u001b[1;32m--> 783\u001b[1;33m             return self.urlopen(\n\u001b[0m\u001b[0;32m    784\u001b[0m                 \u001b[0mmethod\u001b[0m\u001b[1;33m,\u001b[0m\u001b[1;33m\u001b[0m\u001b[1;33m\u001b[0m\u001b[0m\n\u001b[0;32m    785\u001b[0m                 \u001b[0murl\u001b[0m\u001b[1;33m,\u001b[0m\u001b[1;33m\u001b[0m\u001b[1;33m\u001b[0m\u001b[0m\n",
      "\u001b[1;32m~\\miniconda3\\envs\\web\\lib\\site-packages\\urllib3\\connectionpool.py\u001b[0m in \u001b[0;36murlopen\u001b[1;34m(self, method, url, body, headers, retries, redirect, assert_same_host, timeout, pool_timeout, release_conn, chunked, body_pos, **response_kw)\u001b[0m\n\u001b[0;32m    781\u001b[0m                 \u001b[1;34m\"Retrying (%r) after connection broken by '%r': %s\"\u001b[0m\u001b[1;33m,\u001b[0m \u001b[0mretries\u001b[0m\u001b[1;33m,\u001b[0m \u001b[0merr\u001b[0m\u001b[1;33m,\u001b[0m \u001b[0murl\u001b[0m\u001b[1;33m\u001b[0m\u001b[1;33m\u001b[0m\u001b[0m\n\u001b[0;32m    782\u001b[0m             )\n\u001b[1;32m--> 783\u001b[1;33m             return self.urlopen(\n\u001b[0m\u001b[0;32m    784\u001b[0m                 \u001b[0mmethod\u001b[0m\u001b[1;33m,\u001b[0m\u001b[1;33m\u001b[0m\u001b[1;33m\u001b[0m\u001b[0m\n\u001b[0;32m    785\u001b[0m                 \u001b[0murl\u001b[0m\u001b[1;33m,\u001b[0m\u001b[1;33m\u001b[0m\u001b[1;33m\u001b[0m\u001b[0m\n",
      "\u001b[1;32m~\\miniconda3\\envs\\web\\lib\\site-packages\\urllib3\\connectionpool.py\u001b[0m in \u001b[0;36murlopen\u001b[1;34m(self, method, url, body, headers, retries, redirect, assert_same_host, timeout, pool_timeout, release_conn, chunked, body_pos, **response_kw)\u001b[0m\n\u001b[0;32m    781\u001b[0m                 \u001b[1;34m\"Retrying (%r) after connection broken by '%r': %s\"\u001b[0m\u001b[1;33m,\u001b[0m \u001b[0mretries\u001b[0m\u001b[1;33m,\u001b[0m \u001b[0merr\u001b[0m\u001b[1;33m,\u001b[0m \u001b[0murl\u001b[0m\u001b[1;33m\u001b[0m\u001b[1;33m\u001b[0m\u001b[0m\n\u001b[0;32m    782\u001b[0m             )\n\u001b[1;32m--> 783\u001b[1;33m             return self.urlopen(\n\u001b[0m\u001b[0;32m    784\u001b[0m                 \u001b[0mmethod\u001b[0m\u001b[1;33m,\u001b[0m\u001b[1;33m\u001b[0m\u001b[1;33m\u001b[0m\u001b[0m\n\u001b[0;32m    785\u001b[0m                 \u001b[0murl\u001b[0m\u001b[1;33m,\u001b[0m\u001b[1;33m\u001b[0m\u001b[1;33m\u001b[0m\u001b[0m\n",
      "\u001b[1;32m~\\miniconda3\\envs\\web\\lib\\site-packages\\urllib3\\connectionpool.py\u001b[0m in \u001b[0;36murlopen\u001b[1;34m(self, method, url, body, headers, retries, redirect, assert_same_host, timeout, pool_timeout, release_conn, chunked, body_pos, **response_kw)\u001b[0m\n\u001b[0;32m    753\u001b[0m                 \u001b[0me\u001b[0m \u001b[1;33m=\u001b[0m \u001b[0mProtocolError\u001b[0m\u001b[1;33m(\u001b[0m\u001b[1;34m\"Connection aborted.\"\u001b[0m\u001b[1;33m,\u001b[0m \u001b[0me\u001b[0m\u001b[1;33m)\u001b[0m\u001b[1;33m\u001b[0m\u001b[1;33m\u001b[0m\u001b[0m\n\u001b[0;32m    754\u001b[0m \u001b[1;33m\u001b[0m\u001b[0m\n\u001b[1;32m--> 755\u001b[1;33m             retries = retries.increment(\n\u001b[0m\u001b[0;32m    756\u001b[0m                 \u001b[0mmethod\u001b[0m\u001b[1;33m,\u001b[0m \u001b[0murl\u001b[0m\u001b[1;33m,\u001b[0m \u001b[0merror\u001b[0m\u001b[1;33m=\u001b[0m\u001b[0me\u001b[0m\u001b[1;33m,\u001b[0m \u001b[0m_pool\u001b[0m\u001b[1;33m=\u001b[0m\u001b[0mself\u001b[0m\u001b[1;33m,\u001b[0m \u001b[0m_stacktrace\u001b[0m\u001b[1;33m=\u001b[0m\u001b[0msys\u001b[0m\u001b[1;33m.\u001b[0m\u001b[0mexc_info\u001b[0m\u001b[1;33m(\u001b[0m\u001b[1;33m)\u001b[0m\u001b[1;33m[\u001b[0m\u001b[1;36m2\u001b[0m\u001b[1;33m]\u001b[0m\u001b[1;33m\u001b[0m\u001b[1;33m\u001b[0m\u001b[0m\n\u001b[0;32m    757\u001b[0m             )\n",
      "\u001b[1;32m~\\miniconda3\\envs\\web\\lib\\site-packages\\urllib3\\util\\retry.py\u001b[0m in \u001b[0;36mincrement\u001b[1;34m(self, method, url, response, error, _pool, _stacktrace)\u001b[0m\n\u001b[0;32m    572\u001b[0m \u001b[1;33m\u001b[0m\u001b[0m\n\u001b[0;32m    573\u001b[0m         \u001b[1;32mif\u001b[0m \u001b[0mnew_retry\u001b[0m\u001b[1;33m.\u001b[0m\u001b[0mis_exhausted\u001b[0m\u001b[1;33m(\u001b[0m\u001b[1;33m)\u001b[0m\u001b[1;33m:\u001b[0m\u001b[1;33m\u001b[0m\u001b[1;33m\u001b[0m\u001b[0m\n\u001b[1;32m--> 574\u001b[1;33m             \u001b[1;32mraise\u001b[0m \u001b[0mMaxRetryError\u001b[0m\u001b[1;33m(\u001b[0m\u001b[0m_pool\u001b[0m\u001b[1;33m,\u001b[0m \u001b[0murl\u001b[0m\u001b[1;33m,\u001b[0m \u001b[0merror\u001b[0m \u001b[1;32mor\u001b[0m \u001b[0mResponseError\u001b[0m\u001b[1;33m(\u001b[0m\u001b[0mcause\u001b[0m\u001b[1;33m)\u001b[0m\u001b[1;33m)\u001b[0m\u001b[1;33m\u001b[0m\u001b[1;33m\u001b[0m\u001b[0m\n\u001b[0m\u001b[0;32m    575\u001b[0m \u001b[1;33m\u001b[0m\u001b[0m\n\u001b[0;32m    576\u001b[0m         \u001b[0mlog\u001b[0m\u001b[1;33m.\u001b[0m\u001b[0mdebug\u001b[0m\u001b[1;33m(\u001b[0m\u001b[1;34m\"Incremented Retry for (url='%s'): %r\"\u001b[0m\u001b[1;33m,\u001b[0m \u001b[0murl\u001b[0m\u001b[1;33m,\u001b[0m \u001b[0mnew_retry\u001b[0m\u001b[1;33m)\u001b[0m\u001b[1;33m\u001b[0m\u001b[1;33m\u001b[0m\u001b[0m\n",
      "\u001b[1;31mMaxRetryError\u001b[0m: HTTPConnectionPool(host='127.0.0.1', port=52511): Max retries exceeded with url: /session/ea201a41c8097b7288df289e4d0b0e41/screenshot (Caused by NewConnectionError('<urllib3.connection.HTTPConnection object at 0x000002CE27594A60>: Failed to establish a new connection: [WinError 10061] 대상 컴퓨터에서 연결을 거부했으므로 연결하지 못했습니다'))"
     ]
    }
   ],
   "source": [
    "headless_driver.get_screenshot_as_file(\"./img/Job-Alio_checkbox.png\")"
   ]
  },
  {
   "cell_type": "markdown",
   "id": "ea270339",
   "metadata": {
    "slideshow": {
     "slide_type": "subslide"
    }
   },
   "source": [
    "screenshot2 \n",
    "\n",
    "![screenshot_2](./img/Job-Alio_checkbox.png)"
   ]
  },
  {
   "cell_type": "code",
   "execution_count": 54,
   "id": "91c1c353",
   "metadata": {
    "slideshow": {
     "slide_type": "subslide"
    }
   },
   "outputs": [
    {
     "name": "stdout",
     "output_type": "stream",
     "text": [
      "processing C0847\n",
      "processing C0918\n",
      "processing C0916\n",
      "processing C0454\n",
      "processing C0352\n",
      "processing C0331\n",
      "processing C0368\n",
      "processing C0931\n",
      "processing C1030\n",
      "processing C0354\n",
      "processing C0005\n",
      "processing C1024\n",
      "processing C0840\n",
      "processing C0125\n",
      "processing C0001\n",
      "processing C0002\n",
      "processing C0003\n",
      "processing C0004\n",
      "processing C0006\n",
      "processing C0672\n"
     ]
    }
   ],
   "source": [
    "pub_contents = []\n",
    "\n",
    "for u in pub_url:\n",
    "    apba_id = u.split(\"'\")[1]\n",
    "    pub_real_url = 'https://job.alio.go.kr/orginfoview.do?apba_id=' + apba_id\n",
    "\n",
    "    headless_driver.get(pub_real_url)\n",
    "    time.sleep(2)\n",
    "    print(f'processing {apba_id}')\n",
    "    \n",
    "    rows = headless_driver.find_elements_by_xpath('//*[@id=\"txt\"]/table/tbody/tr')\n",
    "    alio_dict = {}\n",
    "    for r in rows:\n",
    "        header = r.find_element_by_tag_name('th').text\n",
    "        content = r.find_element_by_tag_name('td').text\n",
    "        alio_dict[header]=content\n",
    "        \n",
    "    pub_contents.append(alio_dict)"
   ]
  },
  {
   "cell_type": "code",
   "execution_count": null,
   "id": "067dab35",
   "metadata": {
    "slideshow": {
     "slide_type": "subslide"
    }
   },
   "outputs": [],
   "source": [
    "pub_content_df1 = pd.DataFrame(pub_contents)\n",
    "pub_content_df1"
   ]
  },
  {
   "cell_type": "code",
   "execution_count": 55,
   "id": "d5ca0b9f",
   "metadata": {
    "slideshow": {
     "slide_type": "fragment"
    }
   },
   "outputs": [],
   "source": [
    "headless_driver.quit()"
   ]
  },
  {
   "cell_type": "markdown",
   "id": "4e0adc67",
   "metadata": {
    "slideshow": {
     "slide_type": "slide"
    }
   },
   "source": [
    "## Requests & BeautifulSoup"
   ]
  },
  {
   "cell_type": "code",
   "execution_count": 57,
   "id": "f9673c9b",
   "metadata": {
    "slideshow": {
     "slide_type": "subslide"
    }
   },
   "outputs": [
    {
     "name": "stdout",
     "output_type": "stream",
     "text": [
      "processing C0847\n",
      "processing C0918\n",
      "processing C0916\n",
      "processing C0454\n",
      "processing C0352\n",
      "processing C0331\n",
      "processing C0368\n",
      "processing C0931\n",
      "processing C1030\n",
      "processing C0354\n",
      "processing C0005\n",
      "processing C1024\n",
      "processing C0840\n",
      "processing C0125\n",
      "processing C0001\n",
      "processing C0002\n",
      "processing C0003\n",
      "processing C0004\n",
      "processing C0006\n",
      "processing C0672\n"
     ]
    }
   ],
   "source": [
    "import requests\n",
    "from bs4 import BeautifulSoup\n",
    "\n",
    "pub_contents = []\n",
    "for u in pub_url:\n",
    "    apba_id = u.split(\"'\")[1]\n",
    "    pub_real_url = 'https://job.alio.go.kr/orginfoview.do?apba_id=' + apba_id\n",
    "\n",
    "    res = requests.get(pub_real_url)\n",
    "    time.sleep(2)\n",
    "    print(f'processing {apba_id}')\n",
    "    \n",
    "    soup = BeautifulSoup(res.text, 'html.parser')\n",
    "    rows = soup.select('#txt > table > tbody > tr')\n",
    "    \n",
    "    alio_dict = {}\n",
    "    for r in rows:\n",
    "        header = r.select_one('th').get_text()\n",
    "        content = r.select_one('td').get_text()\n",
    "        alio_dict[header]=content\n",
    "        \n",
    "    pub_contents.append(alio_dict)"
   ]
  },
  {
   "cell_type": "code",
   "execution_count": null,
   "id": "fda885e4",
   "metadata": {
    "slideshow": {
     "slide_type": "subslide"
    }
   },
   "outputs": [],
   "source": [
    "pub_content_df_request = pd.DataFrame(pub_contents)\n",
    "pub_content_df_request"
   ]
  },
  {
   "cell_type": "markdown",
   "id": "9ef590e3",
   "metadata": {
    "slideshow": {
     "slide_type": "subslide"
    }
   },
   "source": [
    "### HTTP response code\n",
    "\n",
    "HTTP라는 프로토콜 규격에 따라서 응답 데이터에 응답 코드를 함께 받음  \n",
    "https://www.w3.org/Protocols/rfc2616/rfc2616-sec10.html\n",
    "\n",
    "응답코드가 200인 경우는 정상 응답"
   ]
  },
  {
   "cell_type": "code",
   "execution_count": null,
   "id": "555a3ac9",
   "metadata": {
    "slideshow": {
     "slide_type": "fragment"
    }
   },
   "outputs": [],
   "source": [
    "res = requests.get('https://job.alio.go.kr/orginfoview.do?apba_id=C0847')\n",
    "print(res.status_code)"
   ]
  },
  {
   "cell_type": "code",
   "execution_count": null,
   "id": "a69885b1",
   "metadata": {
    "slideshow": {
     "slide_type": "fragment"
    }
   },
   "outputs": [],
   "source": [
    "import requests\n",
    "from bs4 import BeautifulSoup\n",
    "\n",
    "pub_contents = []\n",
    "for u in pub_url:\n",
    "    apba_id = u.split(\"'\")[1]\n",
    "    pub_real_url = 'https://job.alio.go.kr/orginfoview.do?apba_id=' + apba_id\n",
    "\n",
    "    res = requests.get(pub_real_url)\n",
    "    time.sleep(2)\n",
    "    \n",
    "    if res.status_code == 200:\n",
    "        print(f'processing {apba_id}')\n",
    "\n",
    "        soup = BeautifulSoup(res.text, 'html.parser')\n",
    "        rows = soup.select('#txt > table > tbody > tr')\n",
    "        alio_dict = {}\n",
    "        \n",
    "        for r in rows:\n",
    "            header = r.select_one('th').get_text()\n",
    "            content = r.select_one('td').get_text()\n",
    "            alio_dict[header]=content\n",
    "\n",
    "        pub_contents.append(alio_dict)\n",
    "    else:\n",
    "        print(f'{apba_id}: {res.status_code}')"
   ]
  },
  {
   "cell_type": "markdown",
   "id": "085b9891",
   "metadata": {
    "slideshow": {
     "slide_type": "subslide"
    }
   },
   "source": [
    "### User Agents"
   ]
  },
  {
   "cell_type": "code",
   "execution_count": 58,
   "id": "a592b5cb",
   "metadata": {
    "slideshow": {
     "slide_type": "fragment"
    }
   },
   "outputs": [
    {
     "data": {
      "text/plain": [
       "{'User-Agent': 'python-requests/2.25.1', 'Accept-Encoding': 'gzip, deflate', 'Accept': '*/*', 'Connection': 'keep-alive'}"
      ]
     },
     "execution_count": 58,
     "metadata": {},
     "output_type": "execute_result"
    }
   ],
   "source": [
    "import requests\n",
    "\n",
    "res = requests.get('https://naver.com')\n",
    "res.request.headers"
   ]
  },
  {
   "cell_type": "code",
   "execution_count": 59,
   "id": "ca027fef",
   "metadata": {
    "slideshow": {
     "slide_type": "fragment"
    }
   },
   "outputs": [
    {
     "data": {
      "text/plain": [
       "{'User-Agent': 'Mozilla/5.0 (Windows NT 10.0; Win64; x64) AppleWebKit/537.36 (KHTML, like Gecko) Chrome/92.0.4515.131 Safari/537.36', 'Accept-Encoding': 'gzip, deflate', 'Accept': '*/*', 'Connection': 'keep-alive'}"
      ]
     },
     "execution_count": 59,
     "metadata": {},
     "output_type": "execute_result"
    }
   ],
   "source": [
    "import requests\n",
    "\n",
    "headers = {\"User-Agent\":\"Mozilla/5.0 (Windows NT 10.0; Win64; x64) AppleWebKit/537.36 (KHTML, like Gecko) Chrome/92.0.4515.131 Safari/537.36\"}\n",
    "\n",
    "res = requests.get('https://naver.com', headers=headers)\n",
    "res.request.headers"
   ]
  },
  {
   "cell_type": "markdown",
   "id": "d1a8aebb",
   "metadata": {
    "slideshow": {
     "slide_type": "slide"
    }
   },
   "source": [
    "# 동적 웹페이지 구조"
   ]
  },
  {
   "cell_type": "markdown",
   "id": "f6855f85",
   "metadata": {
    "slideshow": {
     "slide_type": "fragment"
    }
   },
   "source": [
    "![network image2](./img/network_2.jpg)"
   ]
  },
  {
   "cell_type": "markdown",
   "id": "a186ed38",
   "metadata": {
    "slideshow": {
     "slide_type": "fragment"
    }
   },
   "source": [
    "![network image3](./img/network_3.jpg)"
   ]
  },
  {
   "cell_type": "markdown",
   "id": "4e47521a-89f7-4795-9f4a-c62ca9d38b78",
   "metadata": {
    "slideshow": {
     "slide_type": "slide"
    }
   },
   "source": [
    "# 예제 3: 서울복지포털\n",
    "\n",
    "https://wis.seoul.go.kr/hope/customizedSearch.do"
   ]
  },
  {
   "cell_type": "code",
   "execution_count": 60,
   "id": "4e05abe7-f634-4299-b8e8-199d7e6cff39",
   "metadata": {
    "slideshow": {
     "slide_type": "fragment"
    }
   },
   "outputs": [],
   "source": [
    "from selenium import webdriver\n",
    "import pandas as pd\n",
    "import time"
   ]
  },
  {
   "cell_type": "code",
   "execution_count": 61,
   "id": "50c2cd4a-437e-4946-9251-737ffe6bc88e",
   "metadata": {
    "slideshow": {
     "slide_type": "fragment"
    }
   },
   "outputs": [],
   "source": [
    "driver = webdriver.Chrome('./chromedriver.exe')\n",
    "url = 'https://wis.seoul.go.kr/hope/customizedSearch.do'\n",
    "driver.get(url)"
   ]
  },
  {
   "cell_type": "markdown",
   "id": "8b07905e",
   "metadata": {
    "slideshow": {
     "slide_type": "subslide"
    }
   },
   "source": [
    "## 방식 1"
   ]
  },
  {
   "cell_type": "code",
   "execution_count": 63,
   "id": "325ab2a5",
   "metadata": {
    "scrolled": true,
    "slideshow": {
     "slide_type": "fragment"
    }
   },
   "outputs": [
    {
     "name": "stdout",
     "output_type": "stream",
     "text": [
      "10\n",
      "시설명 우리집 운영주체구분명 법인\n",
      "시설유형명 장애인거주시설 시설종류명 장애인단기거주시설\n",
      "법인명 대한예수교장로회연합회 법인대표자명 유영섭\n",
      "전화번호 02-2658-7503 팩스번호 02-3665-9408\n",
      "시설주소 서울특별시 강서구 양천로47길 70-6 홈페이지 주소 www.woorilove.org\n",
      "이용(생활)\n",
      "인원(실인원) 10 시소관부서 서울특별시 복지정책실 복지기획관 장애인복지정책과\n",
      "\n",
      "\n",
      "\n",
      "\n",
      "\n",
      "\n",
      "\n",
      "\n",
      "\n"
     ]
    }
   ],
   "source": [
    "# //*[@id=\"content\"]/div[1]/div[2]/dl[1]/dd/div/div/table\n",
    "# //*[@id=\"content\"]/div[1]/div[2]/dl[2]/dd/div/div/table\n",
    "\n",
    "center_info = driver.find_elements_by_tag_name('table')\n",
    "print(len(center_info))\n",
    "for c in center_info:\n",
    "    print(c.text)"
   ]
  },
  {
   "cell_type": "markdown",
   "id": "8229a1fd",
   "metadata": {
    "slideshow": {
     "slide_type": "subslide"
    }
   },
   "source": [
    "## 방식 2"
   ]
  },
  {
   "cell_type": "code",
   "execution_count": 64,
   "id": "b610b64e",
   "metadata": {
    "slideshow": {
     "slide_type": "fragment"
    }
   },
   "outputs": [],
   "source": [
    "center_list = []\n",
    "centers = driver.find_elements_by_xpath('//*[@id=\"content\"]/div[1]/div[2]/dl')\n",
    "for center in centers:\n",
    "    drop_btn = center.find_element_by_xpath('dt/button')\n",
    "    drop_btn.click()\n",
    "    time.sleep(2)\n",
    "    center_info = {}\n",
    "    ths = center.find_elements_by_tag_name('th')\n",
    "    tds = center.find_elements_by_tag_name('td')\n",
    "    for n in range(len(ths)):\n",
    "        center_info[ths[n].text]=tds[n].text\n",
    "    center_list.append(center_info)"
   ]
  },
  {
   "cell_type": "code",
   "execution_count": 65,
   "id": "eb97a427",
   "metadata": {
    "slideshow": {
     "slide_type": "subslide"
    }
   },
   "outputs": [
    {
     "data": {
      "text/plain": [
       "[{'시설명': '우리집',\n",
       "  '운영주체구분명': '법인',\n",
       "  '시설유형명': '장애인거주시설',\n",
       "  '시설종류명': '장애인단기거주시설',\n",
       "  '법인명': '대한예수교장로회연합회',\n",
       "  '법인대표자명': '유영섭',\n",
       "  '전화번호': '02-2658-7503',\n",
       "  '팩스번호': '02-3665-9408',\n",
       "  '시설주소': '서울특별시 강서구 양천로47길 70-6',\n",
       "  '홈페이지 주소': 'www.woorilove.org',\n",
       "  '이용(생활)\\n인원(실인원)': '10',\n",
       "  '시소관부서': '서울특별시 복지정책실 복지기획관 장애인복지정책과'},\n",
       " {'시설명': '선린원',\n",
       "  '운영주체구분명': '법인',\n",
       "  '시설유형명': '장애인거주시설',\n",
       "  '시설종류명': '장애인단기거주시설',\n",
       "  '법인명': '대한기독교총연합회',\n",
       "  '법인대표자명': '이선',\n",
       "  '전화번호': '02-2654-3372',\n",
       "  '팩스번호': '02-2699-3372',\n",
       "  '시설주소': '서울특별시 강서구 까치산로22길 35-5',\n",
       "  '홈페이지 주소': 'www.선린원.kr',\n",
       "  '이용(생활)\\n인원(실인원)': '10',\n",
       "  '시소관부서': '서울특별시 복지정책실 복지기획관 장애인복지정책과'},\n",
       " {'시설명': '강서희망의집',\n",
       "  '운영주체구분명': '법인',\n",
       "  '시설유형명': '장애인거주시설',\n",
       "  '시설종류명': '장애인단기거주시설',\n",
       "  '법인명': '대한예수교장로회연합회',\n",
       "  '법인대표자명': '나건용',\n",
       "  '전화번호': '02-2605-7980',\n",
       "  '팩스번호': '02-2691-4682',\n",
       "  '시설주소': '서울특별시 강서구 강서로34길 36',\n",
       "  '홈페이지 주소': '',\n",
       "  '이용(생활)\\n인원(실인원)': '10',\n",
       "  '시소관부서': '서울특별시 복지정책실 복지기획관 장애인복지정책과'},\n",
       " {'시설명': '헬렌의집장애인단기보호시설',\n",
       "  '운영주체구분명': '법인',\n",
       "  '시설유형명': '장애인거주시설',\n",
       "  '시설종류명': '장애인단기거주시설',\n",
       "  '법인명': '성프란치스꼬수녀회',\n",
       "  '법인대표자명': '조병희',\n",
       "  '전화번호': '02-830-8807',\n",
       "  '팩스번호': '02-859-8807',\n",
       "  '시설주소': '서울특별시 구로구 구로중앙로27나길 18',\n",
       "  '홈페이지 주소': '',\n",
       "  '이용(생활)\\n인원(실인원)': '12',\n",
       "  '시소관부서': '서울특별시 복지정책실 복지기획관 장애인복지정책과'},\n",
       " {'시설명': '꿈손단기거주시설',\n",
       "  '운영주체구분명': '법인',\n",
       "  '시설유형명': '장애인거주시설',\n",
       "  '시설종류명': '장애인단기거주시설',\n",
       "  '법인명': '서울가톨릭사회복지회',\n",
       "  '법인대표자명': '유경촌',\n",
       "  '전화번호': '02-904-0502',\n",
       "  '팩스번호': '02-908-0501',\n",
       "  '시설주소': '서울특별시 강북구 인수봉로61길',\n",
       "  '홈페이지 주소': '',\n",
       "  '이용(생활)\\n인원(실인원)': '11',\n",
       "  '시소관부서': '서울특별시 복지정책실 복지기획관 장애인복지정책과'},\n",
       " {'시설명': '송파치매케어센터',\n",
       "  '운영주체구분명': '법인',\n",
       "  '시설유형명': '노인의료복지시설',\n",
       "  '시설종류명': '노인요양시설',\n",
       "  '법인명': '청암노인복지재단',\n",
       "  '법인대표자명': '이성희',\n",
       "  '전화번호': '02-2203-9401',\n",
       "  '팩스번호': '02-2203-9402',\n",
       "  '시설주소': '서울특별시 송파구 백제고분로32길 41',\n",
       "  '홈페이지 주소': '',\n",
       "  '이용(생활)\\n인원(실인원)': '28',\n",
       "  '시소관부서': '서울특별시 복지정책실 복지기획관 어르신복지과'},\n",
       " {'시설명': '강남구립 논현요양센터',\n",
       "  '운영주체구분명': '법인',\n",
       "  '시설유형명': '노인의료복지시설',\n",
       "  '시설종류명': '노인요양시설',\n",
       "  '법인명': '남서울복지재단',\n",
       "  '법인대표자명': '화종부',\n",
       "  '전화번호': '02-541-0226',\n",
       "  '팩스번호': '02-541-0116',\n",
       "  '시설주소': '서울특별시 강남구 강남대로128길 59',\n",
       "  '홈페이지 주소': '',\n",
       "  '이용(생활)\\n인원(실인원)': '29',\n",
       "  '시소관부서': '서울특별시 복지정책실 복지기획관 어르신복지과'},\n",
       " {'시설명': '노원실버센터',\n",
       "  '운영주체구분명': '법인',\n",
       "  '시설유형명': '노인의료복지시설',\n",
       "  '시설종류명': '노인요양시설',\n",
       "  '법인명': '평화복지재단',\n",
       "  '법인대표자명': '이수남',\n",
       "  '전화번호': '02-978-7722',\n",
       "  '팩스번호': '02-975-3524',\n",
       "  '시설주소': '서울특별시 노원구 동일로 1097',\n",
       "  '홈페이지 주소': 'www.peacewelfare.or.kr',\n",
       "  '이용(생활)\\n인원(실인원)': '82',\n",
       "  '시소관부서': '서울특별시 복지정책실 복지기획관 어르신복지과'},\n",
       " {'시설명': '상봉요양원',\n",
       "  '운영주체구분명': '개인',\n",
       "  '시설유형명': '노인의료복지시설',\n",
       "  '시설종류명': '노인요양시설',\n",
       "  '법인명': '상봉요양원',\n",
       "  '법인대표자명': '박서현',\n",
       "  '전화번호': '02-2207-8803',\n",
       "  '팩스번호': '02-2209-8803',\n",
       "  '시설주소': '서울특별시 중랑구 용마산로 494',\n",
       "  '홈페이지 주소': '',\n",
       "  '이용(생활)\\n인원(실인원)': '23',\n",
       "  '시소관부서': '서울특별시 복지정책실 복지기획관 어르신복지과'},\n",
       " {'시설명': '봄날서울요양원',\n",
       "  '운영주체구분명': '개인',\n",
       "  '시설유형명': '노인의료복지시설',\n",
       "  '시설종류명': '노인요양시설',\n",
       "  '법인명': '봄날서울요양원',\n",
       "  '법인대표자명': '이송',\n",
       "  '전화번호': '02-2661-8600',\n",
       "  '팩스번호': '02-2661-8602',\n",
       "  '시설주소': '서울특별시 강서구 양천로1길 100',\n",
       "  '홈페이지 주소': '',\n",
       "  '이용(생활)\\n인원(실인원)': '121',\n",
       "  '시소관부서': '서울특별시 복지정책실 복지기획관 어르신복지과'}]"
      ]
     },
     "execution_count": 65,
     "metadata": {},
     "output_type": "execute_result"
    }
   ],
   "source": [
    "center_list"
   ]
  },
  {
   "cell_type": "code",
   "execution_count": 66,
   "id": "80386c9e",
   "metadata": {
    "slideshow": {
     "slide_type": "fragment"
    }
   },
   "outputs": [
    {
     "data": {
      "text/html": [
       "<div>\n",
       "<style scoped>\n",
       "    .dataframe tbody tr th:only-of-type {\n",
       "        vertical-align: middle;\n",
       "    }\n",
       "\n",
       "    .dataframe tbody tr th {\n",
       "        vertical-align: top;\n",
       "    }\n",
       "\n",
       "    .dataframe thead th {\n",
       "        text-align: right;\n",
       "    }\n",
       "</style>\n",
       "<table border=\"1\" class=\"dataframe\">\n",
       "  <thead>\n",
       "    <tr style=\"text-align: right;\">\n",
       "      <th></th>\n",
       "      <th>시설명</th>\n",
       "      <th>운영주체구분명</th>\n",
       "      <th>시설유형명</th>\n",
       "      <th>시설종류명</th>\n",
       "      <th>법인명</th>\n",
       "      <th>법인대표자명</th>\n",
       "      <th>전화번호</th>\n",
       "      <th>팩스번호</th>\n",
       "      <th>시설주소</th>\n",
       "      <th>홈페이지 주소</th>\n",
       "      <th>이용(생활)\\n인원(실인원)</th>\n",
       "      <th>시소관부서</th>\n",
       "    </tr>\n",
       "  </thead>\n",
       "  <tbody>\n",
       "    <tr>\n",
       "      <th>0</th>\n",
       "      <td>우리집</td>\n",
       "      <td>법인</td>\n",
       "      <td>장애인거주시설</td>\n",
       "      <td>장애인단기거주시설</td>\n",
       "      <td>대한예수교장로회연합회</td>\n",
       "      <td>유영섭</td>\n",
       "      <td>02-2658-7503</td>\n",
       "      <td>02-3665-9408</td>\n",
       "      <td>서울특별시 강서구 양천로47길 70-6</td>\n",
       "      <td>www.woorilove.org</td>\n",
       "      <td>10</td>\n",
       "      <td>서울특별시 복지정책실 복지기획관 장애인복지정책과</td>\n",
       "    </tr>\n",
       "    <tr>\n",
       "      <th>1</th>\n",
       "      <td>선린원</td>\n",
       "      <td>법인</td>\n",
       "      <td>장애인거주시설</td>\n",
       "      <td>장애인단기거주시설</td>\n",
       "      <td>대한기독교총연합회</td>\n",
       "      <td>이선</td>\n",
       "      <td>02-2654-3372</td>\n",
       "      <td>02-2699-3372</td>\n",
       "      <td>서울특별시 강서구 까치산로22길 35-5</td>\n",
       "      <td>www.선린원.kr</td>\n",
       "      <td>10</td>\n",
       "      <td>서울특별시 복지정책실 복지기획관 장애인복지정책과</td>\n",
       "    </tr>\n",
       "    <tr>\n",
       "      <th>2</th>\n",
       "      <td>강서희망의집</td>\n",
       "      <td>법인</td>\n",
       "      <td>장애인거주시설</td>\n",
       "      <td>장애인단기거주시설</td>\n",
       "      <td>대한예수교장로회연합회</td>\n",
       "      <td>나건용</td>\n",
       "      <td>02-2605-7980</td>\n",
       "      <td>02-2691-4682</td>\n",
       "      <td>서울특별시 강서구 강서로34길 36</td>\n",
       "      <td></td>\n",
       "      <td>10</td>\n",
       "      <td>서울특별시 복지정책실 복지기획관 장애인복지정책과</td>\n",
       "    </tr>\n",
       "    <tr>\n",
       "      <th>3</th>\n",
       "      <td>헬렌의집장애인단기보호시설</td>\n",
       "      <td>법인</td>\n",
       "      <td>장애인거주시설</td>\n",
       "      <td>장애인단기거주시설</td>\n",
       "      <td>성프란치스꼬수녀회</td>\n",
       "      <td>조병희</td>\n",
       "      <td>02-830-8807</td>\n",
       "      <td>02-859-8807</td>\n",
       "      <td>서울특별시 구로구 구로중앙로27나길 18</td>\n",
       "      <td></td>\n",
       "      <td>12</td>\n",
       "      <td>서울특별시 복지정책실 복지기획관 장애인복지정책과</td>\n",
       "    </tr>\n",
       "    <tr>\n",
       "      <th>4</th>\n",
       "      <td>꿈손단기거주시설</td>\n",
       "      <td>법인</td>\n",
       "      <td>장애인거주시설</td>\n",
       "      <td>장애인단기거주시설</td>\n",
       "      <td>서울가톨릭사회복지회</td>\n",
       "      <td>유경촌</td>\n",
       "      <td>02-904-0502</td>\n",
       "      <td>02-908-0501</td>\n",
       "      <td>서울특별시 강북구 인수봉로61길</td>\n",
       "      <td></td>\n",
       "      <td>11</td>\n",
       "      <td>서울특별시 복지정책실 복지기획관 장애인복지정책과</td>\n",
       "    </tr>\n",
       "    <tr>\n",
       "      <th>5</th>\n",
       "      <td>송파치매케어센터</td>\n",
       "      <td>법인</td>\n",
       "      <td>노인의료복지시설</td>\n",
       "      <td>노인요양시설</td>\n",
       "      <td>청암노인복지재단</td>\n",
       "      <td>이성희</td>\n",
       "      <td>02-2203-9401</td>\n",
       "      <td>02-2203-9402</td>\n",
       "      <td>서울특별시 송파구 백제고분로32길 41</td>\n",
       "      <td></td>\n",
       "      <td>28</td>\n",
       "      <td>서울특별시 복지정책실 복지기획관 어르신복지과</td>\n",
       "    </tr>\n",
       "    <tr>\n",
       "      <th>6</th>\n",
       "      <td>강남구립 논현요양센터</td>\n",
       "      <td>법인</td>\n",
       "      <td>노인의료복지시설</td>\n",
       "      <td>노인요양시설</td>\n",
       "      <td>남서울복지재단</td>\n",
       "      <td>화종부</td>\n",
       "      <td>02-541-0226</td>\n",
       "      <td>02-541-0116</td>\n",
       "      <td>서울특별시 강남구 강남대로128길 59</td>\n",
       "      <td></td>\n",
       "      <td>29</td>\n",
       "      <td>서울특별시 복지정책실 복지기획관 어르신복지과</td>\n",
       "    </tr>\n",
       "    <tr>\n",
       "      <th>7</th>\n",
       "      <td>노원실버센터</td>\n",
       "      <td>법인</td>\n",
       "      <td>노인의료복지시설</td>\n",
       "      <td>노인요양시설</td>\n",
       "      <td>평화복지재단</td>\n",
       "      <td>이수남</td>\n",
       "      <td>02-978-7722</td>\n",
       "      <td>02-975-3524</td>\n",
       "      <td>서울특별시 노원구 동일로 1097</td>\n",
       "      <td>www.peacewelfare.or.kr</td>\n",
       "      <td>82</td>\n",
       "      <td>서울특별시 복지정책실 복지기획관 어르신복지과</td>\n",
       "    </tr>\n",
       "    <tr>\n",
       "      <th>8</th>\n",
       "      <td>상봉요양원</td>\n",
       "      <td>개인</td>\n",
       "      <td>노인의료복지시설</td>\n",
       "      <td>노인요양시설</td>\n",
       "      <td>상봉요양원</td>\n",
       "      <td>박서현</td>\n",
       "      <td>02-2207-8803</td>\n",
       "      <td>02-2209-8803</td>\n",
       "      <td>서울특별시 중랑구 용마산로 494</td>\n",
       "      <td></td>\n",
       "      <td>23</td>\n",
       "      <td>서울특별시 복지정책실 복지기획관 어르신복지과</td>\n",
       "    </tr>\n",
       "    <tr>\n",
       "      <th>9</th>\n",
       "      <td>봄날서울요양원</td>\n",
       "      <td>개인</td>\n",
       "      <td>노인의료복지시설</td>\n",
       "      <td>노인요양시설</td>\n",
       "      <td>봄날서울요양원</td>\n",
       "      <td>이송</td>\n",
       "      <td>02-2661-8600</td>\n",
       "      <td>02-2661-8602</td>\n",
       "      <td>서울특별시 강서구 양천로1길 100</td>\n",
       "      <td></td>\n",
       "      <td>121</td>\n",
       "      <td>서울특별시 복지정책실 복지기획관 어르신복지과</td>\n",
       "    </tr>\n",
       "  </tbody>\n",
       "</table>\n",
       "</div>"
      ],
      "text/plain": [
       "             시설명 운영주체구분명     시설유형명      시설종류명          법인명 법인대표자명  \\\n",
       "0            우리집      법인   장애인거주시설  장애인단기거주시설  대한예수교장로회연합회    유영섭   \n",
       "1            선린원      법인   장애인거주시설  장애인단기거주시설    대한기독교총연합회     이선   \n",
       "2         강서희망의집      법인   장애인거주시설  장애인단기거주시설  대한예수교장로회연합회    나건용   \n",
       "3  헬렌의집장애인단기보호시설      법인   장애인거주시설  장애인단기거주시설    성프란치스꼬수녀회    조병희   \n",
       "4       꿈손단기거주시설      법인   장애인거주시설  장애인단기거주시설   서울가톨릭사회복지회    유경촌   \n",
       "5       송파치매케어센터      법인  노인의료복지시설     노인요양시설     청암노인복지재단    이성희   \n",
       "6    강남구립 논현요양센터      법인  노인의료복지시설     노인요양시설      남서울복지재단    화종부   \n",
       "7         노원실버센터      법인  노인의료복지시설     노인요양시설       평화복지재단    이수남   \n",
       "8          상봉요양원      개인  노인의료복지시설     노인요양시설        상봉요양원    박서현   \n",
       "9        봄날서울요양원      개인  노인의료복지시설     노인요양시설      봄날서울요양원     이송   \n",
       "\n",
       "           전화번호          팩스번호                    시설주소                 홈페이지 주소  \\\n",
       "0  02-2658-7503  02-3665-9408   서울특별시 강서구 양천로47길 70-6       www.woorilove.org   \n",
       "1  02-2654-3372  02-2699-3372  서울특별시 강서구 까치산로22길 35-5              www.선린원.kr   \n",
       "2  02-2605-7980  02-2691-4682     서울특별시 강서구 강서로34길 36                           \n",
       "3   02-830-8807   02-859-8807  서울특별시 구로구 구로중앙로27나길 18                           \n",
       "4   02-904-0502   02-908-0501       서울특별시 강북구 인수봉로61길                           \n",
       "5  02-2203-9401  02-2203-9402   서울특별시 송파구 백제고분로32길 41                           \n",
       "6   02-541-0226   02-541-0116   서울특별시 강남구 강남대로128길 59                           \n",
       "7   02-978-7722   02-975-3524      서울특별시 노원구 동일로 1097  www.peacewelfare.or.kr   \n",
       "8  02-2207-8803  02-2209-8803      서울특별시 중랑구 용마산로 494                           \n",
       "9  02-2661-8600  02-2661-8602     서울특별시 강서구 양천로1길 100                           \n",
       "\n",
       "  이용(생활)\\n인원(실인원)                       시소관부서  \n",
       "0              10  서울특별시 복지정책실 복지기획관 장애인복지정책과  \n",
       "1              10  서울특별시 복지정책실 복지기획관 장애인복지정책과  \n",
       "2              10  서울특별시 복지정책실 복지기획관 장애인복지정책과  \n",
       "3              12  서울특별시 복지정책실 복지기획관 장애인복지정책과  \n",
       "4              11  서울특별시 복지정책실 복지기획관 장애인복지정책과  \n",
       "5              28    서울특별시 복지정책실 복지기획관 어르신복지과  \n",
       "6              29    서울특별시 복지정책실 복지기획관 어르신복지과  \n",
       "7              82    서울특별시 복지정책실 복지기획관 어르신복지과  \n",
       "8              23    서울특별시 복지정책실 복지기획관 어르신복지과  \n",
       "9             121    서울특별시 복지정책실 복지기획관 어르신복지과  "
      ]
     },
     "execution_count": 66,
     "metadata": {},
     "output_type": "execute_result"
    }
   ],
   "source": [
    "center_df = pd.DataFrame(center_list)\n",
    "center_df"
   ]
  },
  {
   "cell_type": "markdown",
   "id": "e368cd28",
   "metadata": {
    "slideshow": {
     "slide_type": "subslide"
    }
   },
   "source": [
    "## 방식 3"
   ]
  },
  {
   "cell_type": "code",
   "execution_count": 70,
   "id": "49d9209b",
   "metadata": {
    "slideshow": {
     "slide_type": "fragment"
    }
   },
   "outputs": [],
   "source": [
    "from bs4 import BeautifulSoup\n",
    "\n",
    "soup = BeautifulSoup(driver.page_source, 'html.parser')\n",
    "centers = soup.select('#content > div.sub_content > div.board_t1.no_out > dl')\n",
    "center_list = []\n",
    "for center in centers:\n",
    "    center_info = {}\n",
    "    ths = center.select('th')\n",
    "    tds = center.select('td')\n",
    "    for n in range(len(ths)):\n",
    "        center_info[ths[n].get_text()]=tds[n].get_text().strip(' \\t')\n",
    "    center_list.append(center_info)"
   ]
  },
  {
   "cell_type": "code",
   "execution_count": 71,
   "id": "b19409f2",
   "metadata": {
    "slideshow": {
     "slide_type": "fragment"
    }
   },
   "outputs": [
    {
     "data": {
      "text/plain": [
       "[{'시설명': '우리집',\n",
       "  '운영주체구분명': '법인',\n",
       "  '시설유형명': '장애인거주시설',\n",
       "  '시설종류명': '장애인단기거주시설',\n",
       "  '법인명': '대한예수교장로회연합회',\n",
       "  '법인대표자명': '유영섭',\n",
       "  '전화번호': '02-2658-7503',\n",
       "  '팩스번호': '02-3665-9408',\n",
       "  '시설주소': '서울특별시 강서구 양천로47길 70-6',\n",
       "  '홈페이지 주소': 'www.woorilove.org',\n",
       "  '이용(생활)인원(실인원)': '10',\n",
       "  '시소관부서': '서울특별시 복지정책실 복지기획관 장애인복지정책과'},\n",
       " {'시설명': '선린원',\n",
       "  '운영주체구분명': '법인',\n",
       "  '시설유형명': '장애인거주시설',\n",
       "  '시설종류명': '장애인단기거주시설',\n",
       "  '법인명': '대한기독교총연합회',\n",
       "  '법인대표자명': '이선',\n",
       "  '전화번호': '02-2654-3372',\n",
       "  '팩스번호': '02-2699-3372',\n",
       "  '시설주소': '서울특별시 강서구 까치산로22길 35-5',\n",
       "  '홈페이지 주소': 'www.선린원.kr',\n",
       "  '이용(생활)인원(실인원)': '10',\n",
       "  '시소관부서': '서울특별시 복지정책실 복지기획관 장애인복지정책과'},\n",
       " {'시설명': '강서희망의집',\n",
       "  '운영주체구분명': '법인',\n",
       "  '시설유형명': '장애인거주시설',\n",
       "  '시설종류명': '장애인단기거주시설',\n",
       "  '법인명': '대한예수교장로회연합회',\n",
       "  '법인대표자명': '나건용',\n",
       "  '전화번호': '02-2605-7980',\n",
       "  '팩스번호': '02-2691-4682',\n",
       "  '시설주소': '서울특별시 강서구 강서로34길 36',\n",
       "  '홈페이지 주소': '',\n",
       "  '이용(생활)인원(실인원)': '10',\n",
       "  '시소관부서': '서울특별시 복지정책실 복지기획관 장애인복지정책과'},\n",
       " {'시설명': '헬렌의집장애인단기보호시설',\n",
       "  '운영주체구분명': '법인',\n",
       "  '시설유형명': '장애인거주시설',\n",
       "  '시설종류명': '장애인단기거주시설',\n",
       "  '법인명': '성프란치스꼬수녀회',\n",
       "  '법인대표자명': '조병희',\n",
       "  '전화번호': '02-830-8807',\n",
       "  '팩스번호': '02-859-8807',\n",
       "  '시설주소': '서울특별시 구로구 구로중앙로27나길 18',\n",
       "  '홈페이지 주소': '',\n",
       "  '이용(생활)인원(실인원)': '12',\n",
       "  '시소관부서': '서울특별시 복지정책실 복지기획관 장애인복지정책과'},\n",
       " {'시설명': '꿈손단기거주시설',\n",
       "  '운영주체구분명': '법인',\n",
       "  '시설유형명': '장애인거주시설',\n",
       "  '시설종류명': '장애인단기거주시설',\n",
       "  '법인명': '서울가톨릭사회복지회',\n",
       "  '법인대표자명': '유경촌',\n",
       "  '전화번호': '02-904-0502',\n",
       "  '팩스번호': '02-908-0501',\n",
       "  '시설주소': '서울특별시 강북구 인수봉로61길',\n",
       "  '홈페이지 주소': '',\n",
       "  '이용(생활)인원(실인원)': '11',\n",
       "  '시소관부서': '서울특별시 복지정책실 복지기획관 장애인복지정책과'},\n",
       " {'시설명': '송파치매케어센터',\n",
       "  '운영주체구분명': '법인',\n",
       "  '시설유형명': '노인의료복지시설',\n",
       "  '시설종류명': '노인요양시설',\n",
       "  '법인명': '청암노인복지재단',\n",
       "  '법인대표자명': '이성희',\n",
       "  '전화번호': '02-2203-9401',\n",
       "  '팩스번호': '02-2203-9402',\n",
       "  '시설주소': '서울특별시 송파구 백제고분로32길 41',\n",
       "  '홈페이지 주소': '',\n",
       "  '이용(생활)인원(실인원)': '28',\n",
       "  '시소관부서': '서울특별시 복지정책실 복지기획관 어르신복지과'},\n",
       " {'시설명': '강남구립 논현요양센터',\n",
       "  '운영주체구분명': '법인',\n",
       "  '시설유형명': '노인의료복지시설',\n",
       "  '시설종류명': '노인요양시설',\n",
       "  '법인명': '남서울복지재단',\n",
       "  '법인대표자명': '화종부',\n",
       "  '전화번호': '02-541-0226',\n",
       "  '팩스번호': '02-541-0116',\n",
       "  '시설주소': '서울특별시 강남구 강남대로128길 59',\n",
       "  '홈페이지 주소': '',\n",
       "  '이용(생활)인원(실인원)': '29',\n",
       "  '시소관부서': '서울특별시 복지정책실 복지기획관 어르신복지과'},\n",
       " {'시설명': '노원실버센터',\n",
       "  '운영주체구분명': '법인',\n",
       "  '시설유형명': '노인의료복지시설',\n",
       "  '시설종류명': '노인요양시설',\n",
       "  '법인명': '평화복지재단',\n",
       "  '법인대표자명': '이수남',\n",
       "  '전화번호': '02-978-7722',\n",
       "  '팩스번호': '02-975-3524',\n",
       "  '시설주소': '서울특별시 노원구 동일로 1097',\n",
       "  '홈페이지 주소': 'www.peacewelfare.or.kr',\n",
       "  '이용(생활)인원(실인원)': '82',\n",
       "  '시소관부서': '서울특별시 복지정책실 복지기획관 어르신복지과'},\n",
       " {'시설명': '상봉요양원',\n",
       "  '운영주체구분명': '개인',\n",
       "  '시설유형명': '노인의료복지시설',\n",
       "  '시설종류명': '노인요양시설',\n",
       "  '법인명': '상봉요양원',\n",
       "  '법인대표자명': '박서현',\n",
       "  '전화번호': '02-2207-8803',\n",
       "  '팩스번호': '02-2209-8803',\n",
       "  '시설주소': '서울특별시 중랑구 용마산로 494',\n",
       "  '홈페이지 주소': '',\n",
       "  '이용(생활)인원(실인원)': '23',\n",
       "  '시소관부서': '서울특별시 복지정책실 복지기획관 어르신복지과'},\n",
       " {'시설명': '봄날서울요양원',\n",
       "  '운영주체구분명': '개인',\n",
       "  '시설유형명': '노인의료복지시설',\n",
       "  '시설종류명': '노인요양시설',\n",
       "  '법인명': '봄날서울요양원',\n",
       "  '법인대표자명': '이송',\n",
       "  '전화번호': '02-2661-8600',\n",
       "  '팩스번호': '02-2661-8602',\n",
       "  '시설주소': '서울특별시 강서구 양천로1길 100',\n",
       "  '홈페이지 주소': '',\n",
       "  '이용(생활)인원(실인원)': '121',\n",
       "  '시소관부서': '서울특별시 복지정책실 복지기획관 어르신복지과'}]"
      ]
     },
     "execution_count": 71,
     "metadata": {},
     "output_type": "execute_result"
    }
   ],
   "source": [
    "center_list"
   ]
  },
  {
   "cell_type": "code",
   "execution_count": 72,
   "id": "2200cccf",
   "metadata": {
    "slideshow": {
     "slide_type": "fragment"
    }
   },
   "outputs": [
    {
     "data": {
      "text/html": [
       "<div>\n",
       "<style scoped>\n",
       "    .dataframe tbody tr th:only-of-type {\n",
       "        vertical-align: middle;\n",
       "    }\n",
       "\n",
       "    .dataframe tbody tr th {\n",
       "        vertical-align: top;\n",
       "    }\n",
       "\n",
       "    .dataframe thead th {\n",
       "        text-align: right;\n",
       "    }\n",
       "</style>\n",
       "<table border=\"1\" class=\"dataframe\">\n",
       "  <thead>\n",
       "    <tr style=\"text-align: right;\">\n",
       "      <th></th>\n",
       "      <th>시설명</th>\n",
       "      <th>운영주체구분명</th>\n",
       "      <th>시설유형명</th>\n",
       "      <th>시설종류명</th>\n",
       "      <th>법인명</th>\n",
       "      <th>법인대표자명</th>\n",
       "      <th>전화번호</th>\n",
       "      <th>팩스번호</th>\n",
       "      <th>시설주소</th>\n",
       "      <th>홈페이지 주소</th>\n",
       "      <th>이용(생활)인원(실인원)</th>\n",
       "      <th>시소관부서</th>\n",
       "    </tr>\n",
       "  </thead>\n",
       "  <tbody>\n",
       "    <tr>\n",
       "      <th>0</th>\n",
       "      <td>우리집</td>\n",
       "      <td>법인</td>\n",
       "      <td>장애인거주시설</td>\n",
       "      <td>장애인단기거주시설</td>\n",
       "      <td>대한예수교장로회연합회</td>\n",
       "      <td>유영섭</td>\n",
       "      <td>02-2658-7503</td>\n",
       "      <td>02-3665-9408</td>\n",
       "      <td>서울특별시 강서구 양천로47길 70-6</td>\n",
       "      <td>www.woorilove.org</td>\n",
       "      <td>10</td>\n",
       "      <td>서울특별시 복지정책실 복지기획관 장애인복지정책과</td>\n",
       "    </tr>\n",
       "    <tr>\n",
       "      <th>1</th>\n",
       "      <td>선린원</td>\n",
       "      <td>법인</td>\n",
       "      <td>장애인거주시설</td>\n",
       "      <td>장애인단기거주시설</td>\n",
       "      <td>대한기독교총연합회</td>\n",
       "      <td>이선</td>\n",
       "      <td>02-2654-3372</td>\n",
       "      <td>02-2699-3372</td>\n",
       "      <td>서울특별시 강서구 까치산로22길 35-5</td>\n",
       "      <td>www.선린원.kr</td>\n",
       "      <td>10</td>\n",
       "      <td>서울특별시 복지정책실 복지기획관 장애인복지정책과</td>\n",
       "    </tr>\n",
       "    <tr>\n",
       "      <th>2</th>\n",
       "      <td>강서희망의집</td>\n",
       "      <td>법인</td>\n",
       "      <td>장애인거주시설</td>\n",
       "      <td>장애인단기거주시설</td>\n",
       "      <td>대한예수교장로회연합회</td>\n",
       "      <td>나건용</td>\n",
       "      <td>02-2605-7980</td>\n",
       "      <td>02-2691-4682</td>\n",
       "      <td>서울특별시 강서구 강서로34길 36</td>\n",
       "      <td></td>\n",
       "      <td>10</td>\n",
       "      <td>서울특별시 복지정책실 복지기획관 장애인복지정책과</td>\n",
       "    </tr>\n",
       "    <tr>\n",
       "      <th>3</th>\n",
       "      <td>헬렌의집장애인단기보호시설</td>\n",
       "      <td>법인</td>\n",
       "      <td>장애인거주시설</td>\n",
       "      <td>장애인단기거주시설</td>\n",
       "      <td>성프란치스꼬수녀회</td>\n",
       "      <td>조병희</td>\n",
       "      <td>02-830-8807</td>\n",
       "      <td>02-859-8807</td>\n",
       "      <td>서울특별시 구로구 구로중앙로27나길 18</td>\n",
       "      <td></td>\n",
       "      <td>12</td>\n",
       "      <td>서울특별시 복지정책실 복지기획관 장애인복지정책과</td>\n",
       "    </tr>\n",
       "    <tr>\n",
       "      <th>4</th>\n",
       "      <td>꿈손단기거주시설</td>\n",
       "      <td>법인</td>\n",
       "      <td>장애인거주시설</td>\n",
       "      <td>장애인단기거주시설</td>\n",
       "      <td>서울가톨릭사회복지회</td>\n",
       "      <td>유경촌</td>\n",
       "      <td>02-904-0502</td>\n",
       "      <td>02-908-0501</td>\n",
       "      <td>서울특별시 강북구 인수봉로61길</td>\n",
       "      <td></td>\n",
       "      <td>11</td>\n",
       "      <td>서울특별시 복지정책실 복지기획관 장애인복지정책과</td>\n",
       "    </tr>\n",
       "    <tr>\n",
       "      <th>5</th>\n",
       "      <td>송파치매케어센터</td>\n",
       "      <td>법인</td>\n",
       "      <td>노인의료복지시설</td>\n",
       "      <td>노인요양시설</td>\n",
       "      <td>청암노인복지재단</td>\n",
       "      <td>이성희</td>\n",
       "      <td>02-2203-9401</td>\n",
       "      <td>02-2203-9402</td>\n",
       "      <td>서울특별시 송파구 백제고분로32길 41</td>\n",
       "      <td></td>\n",
       "      <td>28</td>\n",
       "      <td>서울특별시 복지정책실 복지기획관 어르신복지과</td>\n",
       "    </tr>\n",
       "    <tr>\n",
       "      <th>6</th>\n",
       "      <td>강남구립 논현요양센터</td>\n",
       "      <td>법인</td>\n",
       "      <td>노인의료복지시설</td>\n",
       "      <td>노인요양시설</td>\n",
       "      <td>남서울복지재단</td>\n",
       "      <td>화종부</td>\n",
       "      <td>02-541-0226</td>\n",
       "      <td>02-541-0116</td>\n",
       "      <td>서울특별시 강남구 강남대로128길 59</td>\n",
       "      <td></td>\n",
       "      <td>29</td>\n",
       "      <td>서울특별시 복지정책실 복지기획관 어르신복지과</td>\n",
       "    </tr>\n",
       "    <tr>\n",
       "      <th>7</th>\n",
       "      <td>노원실버센터</td>\n",
       "      <td>법인</td>\n",
       "      <td>노인의료복지시설</td>\n",
       "      <td>노인요양시설</td>\n",
       "      <td>평화복지재단</td>\n",
       "      <td>이수남</td>\n",
       "      <td>02-978-7722</td>\n",
       "      <td>02-975-3524</td>\n",
       "      <td>서울특별시 노원구 동일로 1097</td>\n",
       "      <td>www.peacewelfare.or.kr</td>\n",
       "      <td>82</td>\n",
       "      <td>서울특별시 복지정책실 복지기획관 어르신복지과</td>\n",
       "    </tr>\n",
       "    <tr>\n",
       "      <th>8</th>\n",
       "      <td>상봉요양원</td>\n",
       "      <td>개인</td>\n",
       "      <td>노인의료복지시설</td>\n",
       "      <td>노인요양시설</td>\n",
       "      <td>상봉요양원</td>\n",
       "      <td>박서현</td>\n",
       "      <td>02-2207-8803</td>\n",
       "      <td>02-2209-8803</td>\n",
       "      <td>서울특별시 중랑구 용마산로 494</td>\n",
       "      <td></td>\n",
       "      <td>23</td>\n",
       "      <td>서울특별시 복지정책실 복지기획관 어르신복지과</td>\n",
       "    </tr>\n",
       "    <tr>\n",
       "      <th>9</th>\n",
       "      <td>봄날서울요양원</td>\n",
       "      <td>개인</td>\n",
       "      <td>노인의료복지시설</td>\n",
       "      <td>노인요양시설</td>\n",
       "      <td>봄날서울요양원</td>\n",
       "      <td>이송</td>\n",
       "      <td>02-2661-8600</td>\n",
       "      <td>02-2661-8602</td>\n",
       "      <td>서울특별시 강서구 양천로1길 100</td>\n",
       "      <td></td>\n",
       "      <td>121</td>\n",
       "      <td>서울특별시 복지정책실 복지기획관 어르신복지과</td>\n",
       "    </tr>\n",
       "  </tbody>\n",
       "</table>\n",
       "</div>"
      ],
      "text/plain": [
       "             시설명 운영주체구분명     시설유형명      시설종류명          법인명 법인대표자명  \\\n",
       "0            우리집      법인   장애인거주시설  장애인단기거주시설  대한예수교장로회연합회    유영섭   \n",
       "1            선린원      법인   장애인거주시설  장애인단기거주시설    대한기독교총연합회     이선   \n",
       "2         강서희망의집      법인   장애인거주시설  장애인단기거주시설  대한예수교장로회연합회    나건용   \n",
       "3  헬렌의집장애인단기보호시설      법인   장애인거주시설  장애인단기거주시설    성프란치스꼬수녀회    조병희   \n",
       "4       꿈손단기거주시설      법인   장애인거주시설  장애인단기거주시설   서울가톨릭사회복지회    유경촌   \n",
       "5       송파치매케어센터      법인  노인의료복지시설     노인요양시설     청암노인복지재단    이성희   \n",
       "6    강남구립 논현요양센터      법인  노인의료복지시설     노인요양시설      남서울복지재단    화종부   \n",
       "7         노원실버센터      법인  노인의료복지시설     노인요양시설       평화복지재단    이수남   \n",
       "8          상봉요양원      개인  노인의료복지시설     노인요양시설        상봉요양원    박서현   \n",
       "9        봄날서울요양원      개인  노인의료복지시설     노인요양시설      봄날서울요양원     이송   \n",
       "\n",
       "           전화번호          팩스번호                    시설주소                 홈페이지 주소  \\\n",
       "0  02-2658-7503  02-3665-9408   서울특별시 강서구 양천로47길 70-6       www.woorilove.org   \n",
       "1  02-2654-3372  02-2699-3372  서울특별시 강서구 까치산로22길 35-5              www.선린원.kr   \n",
       "2  02-2605-7980  02-2691-4682     서울특별시 강서구 강서로34길 36                           \n",
       "3   02-830-8807   02-859-8807  서울특별시 구로구 구로중앙로27나길 18                           \n",
       "4   02-904-0502   02-908-0501       서울특별시 강북구 인수봉로61길                           \n",
       "5  02-2203-9401  02-2203-9402   서울특별시 송파구 백제고분로32길 41                           \n",
       "6   02-541-0226   02-541-0116   서울특별시 강남구 강남대로128길 59                           \n",
       "7   02-978-7722   02-975-3524      서울특별시 노원구 동일로 1097  www.peacewelfare.or.kr   \n",
       "8  02-2207-8803  02-2209-8803      서울특별시 중랑구 용마산로 494                           \n",
       "9  02-2661-8600  02-2661-8602     서울특별시 강서구 양천로1길 100                           \n",
       "\n",
       "  이용(생활)인원(실인원)                       시소관부서  \n",
       "0            10  서울특별시 복지정책실 복지기획관 장애인복지정책과  \n",
       "1            10  서울특별시 복지정책실 복지기획관 장애인복지정책과  \n",
       "2            10  서울특별시 복지정책실 복지기획관 장애인복지정책과  \n",
       "3            12  서울특별시 복지정책실 복지기획관 장애인복지정책과  \n",
       "4            11  서울특별시 복지정책실 복지기획관 장애인복지정책과  \n",
       "5            28    서울특별시 복지정책실 복지기획관 어르신복지과  \n",
       "6            29    서울특별시 복지정책실 복지기획관 어르신복지과  \n",
       "7            82    서울특별시 복지정책실 복지기획관 어르신복지과  \n",
       "8            23    서울특별시 복지정책실 복지기획관 어르신복지과  \n",
       "9           121    서울특별시 복지정책실 복지기획관 어르신복지과  "
      ]
     },
     "execution_count": 72,
     "metadata": {},
     "output_type": "execute_result"
    }
   ],
   "source": [
    "center_df = pd.DataFrame(center_list)\n",
    "center_df"
   ]
  },
  {
   "cell_type": "markdown",
   "id": "393f7984",
   "metadata": {
    "slideshow": {
     "slide_type": "subslide"
    }
   },
   "source": [
    "## Pagination"
   ]
  },
  {
   "cell_type": "code",
   "execution_count": 13,
   "id": "a3715406",
   "metadata": {
    "slideshow": {
     "slide_type": "fragment"
    }
   },
   "outputs": [],
   "source": [
    "from selenium import webdriver\n",
    "from bs4 import BeautifulSoup\n",
    "import pandas as pd\n",
    "import time"
   ]
  },
  {
   "cell_type": "code",
   "execution_count": 11,
   "id": "94b33d38",
   "metadata": {
    "slideshow": {
     "slide_type": "fragment"
    }
   },
   "outputs": [],
   "source": [
    "driver = webdriver.Chrome('./chromedriver.exe')\n",
    "url = 'https://wis.seoul.go.kr/hope/customizedSearch.do'\n",
    "driver.get(url)"
   ]
  },
  {
   "cell_type": "code",
   "execution_count": 73,
   "id": "2520b2e0",
   "metadata": {
    "slideshow": {
     "slide_type": "subslide"
    }
   },
   "outputs": [
    {
     "name": "stdout",
     "output_type": "stream",
     "text": [
      "processing page 1\n",
      "processing page 2\n"
     ]
    }
   ],
   "source": [
    "current_page_n = 1\n",
    "center_list = []\n",
    "while current_page_n < 3:\n",
    "    driver.execute_script(f'pagedIng({current_page_n});')\n",
    "    print(f'processing page {current_page_n}')\n",
    "    time.sleep(3)\n",
    "\n",
    "    soup = BeautifulSoup(driver.page_source, 'html.parser')\n",
    "    centers = soup.select('#content > div.sub_content > div.board_t1.no_out > dl')\n",
    "    \n",
    "    for center in centers:\n",
    "        center_info = {}\n",
    "        ths = center.select('th')\n",
    "        tds = center.select('td')\n",
    "        for n in range(len(ths)):\n",
    "            center_info[ths[n].get_text()]=tds[n].get_text().strip(' \\t')\n",
    "        center_list.append(center_info)\n",
    "        \n",
    "    current_page_n += 1"
   ]
  },
  {
   "cell_type": "code",
   "execution_count": 74,
   "id": "a508e189",
   "metadata": {
    "slideshow": {
     "slide_type": "subslide"
    }
   },
   "outputs": [
    {
     "data": {
      "text/plain": [
       "[{'시설명': '우리집',\n",
       "  '운영주체구분명': '법인',\n",
       "  '시설유형명': '장애인거주시설',\n",
       "  '시설종류명': '장애인단기거주시설',\n",
       "  '법인명': '대한예수교장로회연합회',\n",
       "  '법인대표자명': '유영섭',\n",
       "  '전화번호': '02-2658-7503',\n",
       "  '팩스번호': '02-3665-9408',\n",
       "  '시설주소': '서울특별시 강서구 양천로47길 70-6',\n",
       "  '홈페이지 주소': 'www.woorilove.org',\n",
       "  '이용(생활)인원(실인원)': '10',\n",
       "  '시소관부서': '서울특별시 복지정책실 복지기획관 장애인복지정책과'},\n",
       " {'시설명': '선린원',\n",
       "  '운영주체구분명': '법인',\n",
       "  '시설유형명': '장애인거주시설',\n",
       "  '시설종류명': '장애인단기거주시설',\n",
       "  '법인명': '대한기독교총연합회',\n",
       "  '법인대표자명': '이선',\n",
       "  '전화번호': '02-2654-3372',\n",
       "  '팩스번호': '02-2699-3372',\n",
       "  '시설주소': '서울특별시 강서구 까치산로22길 35-5',\n",
       "  '홈페이지 주소': 'www.선린원.kr',\n",
       "  '이용(생활)인원(실인원)': '10',\n",
       "  '시소관부서': '서울특별시 복지정책실 복지기획관 장애인복지정책과'},\n",
       " {'시설명': '강서희망의집',\n",
       "  '운영주체구분명': '법인',\n",
       "  '시설유형명': '장애인거주시설',\n",
       "  '시설종류명': '장애인단기거주시설',\n",
       "  '법인명': '대한예수교장로회연합회',\n",
       "  '법인대표자명': '나건용',\n",
       "  '전화번호': '02-2605-7980',\n",
       "  '팩스번호': '02-2691-4682',\n",
       "  '시설주소': '서울특별시 강서구 강서로34길 36',\n",
       "  '홈페이지 주소': '',\n",
       "  '이용(생활)인원(실인원)': '10',\n",
       "  '시소관부서': '서울특별시 복지정책실 복지기획관 장애인복지정책과'},\n",
       " {'시설명': '헬렌의집장애인단기보호시설',\n",
       "  '운영주체구분명': '법인',\n",
       "  '시설유형명': '장애인거주시설',\n",
       "  '시설종류명': '장애인단기거주시설',\n",
       "  '법인명': '성프란치스꼬수녀회',\n",
       "  '법인대표자명': '조병희',\n",
       "  '전화번호': '02-830-8807',\n",
       "  '팩스번호': '02-859-8807',\n",
       "  '시설주소': '서울특별시 구로구 구로중앙로27나길 18',\n",
       "  '홈페이지 주소': '',\n",
       "  '이용(생활)인원(실인원)': '12',\n",
       "  '시소관부서': '서울특별시 복지정책실 복지기획관 장애인복지정책과'},\n",
       " {'시설명': '꿈손단기거주시설',\n",
       "  '운영주체구분명': '법인',\n",
       "  '시설유형명': '장애인거주시설',\n",
       "  '시설종류명': '장애인단기거주시설',\n",
       "  '법인명': '서울가톨릭사회복지회',\n",
       "  '법인대표자명': '유경촌',\n",
       "  '전화번호': '02-904-0502',\n",
       "  '팩스번호': '02-908-0501',\n",
       "  '시설주소': '서울특별시 강북구 인수봉로61길',\n",
       "  '홈페이지 주소': '',\n",
       "  '이용(생활)인원(실인원)': '11',\n",
       "  '시소관부서': '서울특별시 복지정책실 복지기획관 장애인복지정책과'},\n",
       " {'시설명': '송파치매케어센터',\n",
       "  '운영주체구분명': '법인',\n",
       "  '시설유형명': '노인의료복지시설',\n",
       "  '시설종류명': '노인요양시설',\n",
       "  '법인명': '청암노인복지재단',\n",
       "  '법인대표자명': '이성희',\n",
       "  '전화번호': '02-2203-9401',\n",
       "  '팩스번호': '02-2203-9402',\n",
       "  '시설주소': '서울특별시 송파구 백제고분로32길 41',\n",
       "  '홈페이지 주소': '',\n",
       "  '이용(생활)인원(실인원)': '28',\n",
       "  '시소관부서': '서울특별시 복지정책실 복지기획관 어르신복지과'},\n",
       " {'시설명': '강남구립 논현요양센터',\n",
       "  '운영주체구분명': '법인',\n",
       "  '시설유형명': '노인의료복지시설',\n",
       "  '시설종류명': '노인요양시설',\n",
       "  '법인명': '남서울복지재단',\n",
       "  '법인대표자명': '화종부',\n",
       "  '전화번호': '02-541-0226',\n",
       "  '팩스번호': '02-541-0116',\n",
       "  '시설주소': '서울특별시 강남구 강남대로128길 59',\n",
       "  '홈페이지 주소': '',\n",
       "  '이용(생활)인원(실인원)': '29',\n",
       "  '시소관부서': '서울특별시 복지정책실 복지기획관 어르신복지과'},\n",
       " {'시설명': '노원실버센터',\n",
       "  '운영주체구분명': '법인',\n",
       "  '시설유형명': '노인의료복지시설',\n",
       "  '시설종류명': '노인요양시설',\n",
       "  '법인명': '평화복지재단',\n",
       "  '법인대표자명': '이수남',\n",
       "  '전화번호': '02-978-7722',\n",
       "  '팩스번호': '02-975-3524',\n",
       "  '시설주소': '서울특별시 노원구 동일로 1097',\n",
       "  '홈페이지 주소': 'www.peacewelfare.or.kr',\n",
       "  '이용(생활)인원(실인원)': '82',\n",
       "  '시소관부서': '서울특별시 복지정책실 복지기획관 어르신복지과'},\n",
       " {'시설명': '상봉요양원',\n",
       "  '운영주체구분명': '개인',\n",
       "  '시설유형명': '노인의료복지시설',\n",
       "  '시설종류명': '노인요양시설',\n",
       "  '법인명': '상봉요양원',\n",
       "  '법인대표자명': '박서현',\n",
       "  '전화번호': '02-2207-8803',\n",
       "  '팩스번호': '02-2209-8803',\n",
       "  '시설주소': '서울특별시 중랑구 용마산로 494',\n",
       "  '홈페이지 주소': '',\n",
       "  '이용(생활)인원(실인원)': '23',\n",
       "  '시소관부서': '서울특별시 복지정책실 복지기획관 어르신복지과'},\n",
       " {'시설명': '봄날서울요양원',\n",
       "  '운영주체구분명': '개인',\n",
       "  '시설유형명': '노인의료복지시설',\n",
       "  '시설종류명': '노인요양시설',\n",
       "  '법인명': '봄날서울요양원',\n",
       "  '법인대표자명': '이송',\n",
       "  '전화번호': '02-2661-8600',\n",
       "  '팩스번호': '02-2661-8602',\n",
       "  '시설주소': '서울특별시 강서구 양천로1길 100',\n",
       "  '홈페이지 주소': '',\n",
       "  '이용(생활)인원(실인원)': '121',\n",
       "  '시소관부서': '서울특별시 복지정책실 복지기획관 어르신복지과'},\n",
       " {'시설명': '효원노인복지센터D',\n",
       "  '운영주체구분명': '개인',\n",
       "  '시설유형명': '노인의료복지시설',\n",
       "  '시설종류명': '노인요양공동생활가정',\n",
       "  '법인명': '',\n",
       "  '법인대표자명': '손형곤',\n",
       "  '전화번호': '024380606',\n",
       "  '팩스번호': '024333651',\n",
       "  '시설주소': '서울특별시 중랑구 상봉1동',\n",
       "  '홈페이지 주소': '',\n",
       "  '이용(생활)인원(실인원)': '9',\n",
       "  '시소관부서': '서울특별시 복지정책실 복지기획관 어르신복지과'},\n",
       " {'시설명': '두레노인요양원C',\n",
       "  '운영주체구분명': '개인',\n",
       "  '시설유형명': '노인의료복지시설',\n",
       "  '시설종류명': '노인요양공동생활가정',\n",
       "  '법인명': '',\n",
       "  '법인대표자명': '이병기',\n",
       "  '전화번호': '0222077500',\n",
       "  '팩스번호': '02-493-0676',\n",
       "  '시설주소': '서울특별시 중랑구 신내로 45',\n",
       "  '홈페이지 주소': '',\n",
       "  '이용(생활)인원(실인원)': '9',\n",
       "  '시소관부서': '서울특별시 복지정책실 복지기획관 어르신복지과'},\n",
       " {'시설명': '효심원 노인요양공동생활가정',\n",
       "  '운영주체구분명': '법인',\n",
       "  '시설유형명': '노인의료복지시설',\n",
       "  '시설종류명': '노인요양공동생활가정',\n",
       "  '법인명': '효도본부',\n",
       "  '법인대표자명': '김응종',\n",
       "  '전화번호': '02-2254-0833',\n",
       "  '팩스번호': '02-2254-0837',\n",
       "  '시설주소': '서울특별시 중구 청구로17길',\n",
       "  '홈페이지 주소': 'http://cafe.daum.net/hyodo4u',\n",
       "  '이용(생활)인원(실인원)': '9',\n",
       "  '시소관부서': '서울특별시 복지정책실 복지기획관 어르신복지과'},\n",
       " {'시설명': '주사랑노인종합복지센터',\n",
       "  '운영주체구분명': '개인',\n",
       "  '시설유형명': '노인의료복지시설',\n",
       "  '시설종류명': '노인요양공동생활가정',\n",
       "  '법인명': '',\n",
       "  '법인대표자명': '박신광',\n",
       "  '전화번호': '02-943-7718',\n",
       "  '팩스번호': '02-910-7717',\n",
       "  '시설주소': '서울특별시 노원구 광운로 48',\n",
       "  '홈페이지 주소': '',\n",
       "  '이용(생활)인원(실인원)': '9',\n",
       "  '시소관부서': '서울특별시 복지정책실 복지기획관 어르신복지과'},\n",
       " {'시설명': '평창동시니어센터',\n",
       "  '운영주체구분명': '개인',\n",
       "  '시설유형명': '노인의료복지시설',\n",
       "  '시설종류명': '노인요양시설',\n",
       "  '법인명': '평창동시니어센터',\n",
       "  '법인대표자명': '손양순',\n",
       "  '전화번호': '02-391-7936',\n",
       "  '팩스번호': '02-3217-2488',\n",
       "  '시설주소': '서울특별시 종로구 평창15길 10',\n",
       "  '홈페이지 주소': '',\n",
       "  '이용(생활)인원(실인원)': '68',\n",
       "  '시소관부서': '서울특별시 복지정책실 복지기획관 어르신복지과'},\n",
       " {'시설명': '등촌4종합사회복지관',\n",
       "  '운영주체구분명': '법인',\n",
       "  '시설유형명': '일반사회복지시설',\n",
       "  '시설종류명': '사회복지관',\n",
       "  '법인명': '훼미피아',\n",
       "  '법인대표자명': '정은주',\n",
       "  '전화번호': '02-2658-8800',\n",
       "  '팩스번호': '02-2658-3325',\n",
       "  '시설주소': '서울특별시 강서구 공항대로39길 59',\n",
       "  '홈페이지 주소': '',\n",
       "  '이용(생활)인원(실인원)': '877',\n",
       "  '시소관부서': '서울특별시 복지정책실 복지기획관 지역돌봄복지과'},\n",
       " {'시설명': '등촌7종합사회복지관',\n",
       "  '운영주체구분명': '법인',\n",
       "  '시설유형명': '일반사회복지시설',\n",
       "  '시설종류명': '사회복지관',\n",
       "  '법인명': '서울가톨릭사회복지회',\n",
       "  '법인대표자명': '유경촌',\n",
       "  '전화번호': '02-2658-6521',\n",
       "  '팩스번호': '02-2658-6525',\n",
       "  '시설주소': '서울특별시 강서구 공항대로43길 104',\n",
       "  '홈페이지 주소': '',\n",
       "  '이용(생활)인원(실인원)': '554',\n",
       "  '시소관부서': '서울특별시 복지정책실 복지기획관 지역돌봄복지과'},\n",
       " {'시설명': '등촌9종합사회복지관',\n",
       "  '운영주체구분명': '법인',\n",
       "  '시설유형명': '일반사회복지시설',\n",
       "  '시설종류명': '사회복지관',\n",
       "  '법인명': '우리모두복지재단',\n",
       "  '법인대표자명': '김춘상',\n",
       "  '전화번호': '02-2658-4129',\n",
       "  '팩스번호': '02-2658-0557',\n",
       "  '시설주소': '서울특별시 강서구 화곡로 63가길 92',\n",
       "  '홈페이지 주소': '',\n",
       "  '이용(생활)인원(실인원)': '510',\n",
       "  '시소관부서': '서울특별시 복지정책실 복지기획관 지역돌봄복지과'},\n",
       " {'시설명': '마들종합사회복지관',\n",
       "  '운영주체구분명': '법인',\n",
       "  '시설유형명': '일반사회복지시설',\n",
       "  '시설종류명': '사회복지관',\n",
       "  '법인명': '성민',\n",
       "  '법인대표자명': '유재필',\n",
       "  '전화번호': '029718387',\n",
       "  '팩스번호': '02-976-4970',\n",
       "  '시설주소': '서울특별시 노원구 동일로210길 22',\n",
       "  '홈페이지 주소': '',\n",
       "  '이용(생활)인원(실인원)': '1000',\n",
       "  '시소관부서': '서울특별시 복지정책실 복지기획관 지역돌봄복지과'},\n",
       " {'시설명': '면목종합사회복지관',\n",
       "  '운영주체구분명': '법인',\n",
       "  '시설유형명': '일반사회복지시설',\n",
       "  '시설종류명': '사회복지관',\n",
       "  '법인명': '자광재단',\n",
       "  '법인대표자명': '김성이',\n",
       "  '전화번호': '02-436-0500',\n",
       "  '팩스번호': '02-439-5111',\n",
       "  '시설주소': '서울특별시 중랑구 용마산로 228',\n",
       "  '홈페이지 주소': 'http://www.truem.or.kr',\n",
       "  '이용(생활)인원(실인원)': '450',\n",
       "  '시소관부서': '서울특별시 복지정책실 복지기획관 지역돌봄복지과'}]"
      ]
     },
     "execution_count": 74,
     "metadata": {},
     "output_type": "execute_result"
    }
   ],
   "source": [
    "center_list"
   ]
  },
  {
   "cell_type": "code",
   "execution_count": 75,
   "id": "74dbdcb5",
   "metadata": {
    "slideshow": {
     "slide_type": "fragment"
    }
   },
   "outputs": [
    {
     "data": {
      "text/html": [
       "<div>\n",
       "<style scoped>\n",
       "    .dataframe tbody tr th:only-of-type {\n",
       "        vertical-align: middle;\n",
       "    }\n",
       "\n",
       "    .dataframe tbody tr th {\n",
       "        vertical-align: top;\n",
       "    }\n",
       "\n",
       "    .dataframe thead th {\n",
       "        text-align: right;\n",
       "    }\n",
       "</style>\n",
       "<table border=\"1\" class=\"dataframe\">\n",
       "  <thead>\n",
       "    <tr style=\"text-align: right;\">\n",
       "      <th></th>\n",
       "      <th>시설명</th>\n",
       "      <th>운영주체구분명</th>\n",
       "      <th>시설유형명</th>\n",
       "      <th>시설종류명</th>\n",
       "      <th>법인명</th>\n",
       "      <th>법인대표자명</th>\n",
       "      <th>전화번호</th>\n",
       "      <th>팩스번호</th>\n",
       "      <th>시설주소</th>\n",
       "      <th>홈페이지 주소</th>\n",
       "      <th>이용(생활)인원(실인원)</th>\n",
       "      <th>시소관부서</th>\n",
       "    </tr>\n",
       "  </thead>\n",
       "  <tbody>\n",
       "    <tr>\n",
       "      <th>0</th>\n",
       "      <td>우리집</td>\n",
       "      <td>법인</td>\n",
       "      <td>장애인거주시설</td>\n",
       "      <td>장애인단기거주시설</td>\n",
       "      <td>대한예수교장로회연합회</td>\n",
       "      <td>유영섭</td>\n",
       "      <td>02-2658-7503</td>\n",
       "      <td>02-3665-9408</td>\n",
       "      <td>서울특별시 강서구 양천로47길 70-6</td>\n",
       "      <td>www.woorilove.org</td>\n",
       "      <td>10</td>\n",
       "      <td>서울특별시 복지정책실 복지기획관 장애인복지정책과</td>\n",
       "    </tr>\n",
       "    <tr>\n",
       "      <th>1</th>\n",
       "      <td>선린원</td>\n",
       "      <td>법인</td>\n",
       "      <td>장애인거주시설</td>\n",
       "      <td>장애인단기거주시설</td>\n",
       "      <td>대한기독교총연합회</td>\n",
       "      <td>이선</td>\n",
       "      <td>02-2654-3372</td>\n",
       "      <td>02-2699-3372</td>\n",
       "      <td>서울특별시 강서구 까치산로22길 35-5</td>\n",
       "      <td>www.선린원.kr</td>\n",
       "      <td>10</td>\n",
       "      <td>서울특별시 복지정책실 복지기획관 장애인복지정책과</td>\n",
       "    </tr>\n",
       "    <tr>\n",
       "      <th>2</th>\n",
       "      <td>강서희망의집</td>\n",
       "      <td>법인</td>\n",
       "      <td>장애인거주시설</td>\n",
       "      <td>장애인단기거주시설</td>\n",
       "      <td>대한예수교장로회연합회</td>\n",
       "      <td>나건용</td>\n",
       "      <td>02-2605-7980</td>\n",
       "      <td>02-2691-4682</td>\n",
       "      <td>서울특별시 강서구 강서로34길 36</td>\n",
       "      <td></td>\n",
       "      <td>10</td>\n",
       "      <td>서울특별시 복지정책실 복지기획관 장애인복지정책과</td>\n",
       "    </tr>\n",
       "    <tr>\n",
       "      <th>3</th>\n",
       "      <td>헬렌의집장애인단기보호시설</td>\n",
       "      <td>법인</td>\n",
       "      <td>장애인거주시설</td>\n",
       "      <td>장애인단기거주시설</td>\n",
       "      <td>성프란치스꼬수녀회</td>\n",
       "      <td>조병희</td>\n",
       "      <td>02-830-8807</td>\n",
       "      <td>02-859-8807</td>\n",
       "      <td>서울특별시 구로구 구로중앙로27나길 18</td>\n",
       "      <td></td>\n",
       "      <td>12</td>\n",
       "      <td>서울특별시 복지정책실 복지기획관 장애인복지정책과</td>\n",
       "    </tr>\n",
       "    <tr>\n",
       "      <th>4</th>\n",
       "      <td>꿈손단기거주시설</td>\n",
       "      <td>법인</td>\n",
       "      <td>장애인거주시설</td>\n",
       "      <td>장애인단기거주시설</td>\n",
       "      <td>서울가톨릭사회복지회</td>\n",
       "      <td>유경촌</td>\n",
       "      <td>02-904-0502</td>\n",
       "      <td>02-908-0501</td>\n",
       "      <td>서울특별시 강북구 인수봉로61길</td>\n",
       "      <td></td>\n",
       "      <td>11</td>\n",
       "      <td>서울특별시 복지정책실 복지기획관 장애인복지정책과</td>\n",
       "    </tr>\n",
       "    <tr>\n",
       "      <th>5</th>\n",
       "      <td>송파치매케어센터</td>\n",
       "      <td>법인</td>\n",
       "      <td>노인의료복지시설</td>\n",
       "      <td>노인요양시설</td>\n",
       "      <td>청암노인복지재단</td>\n",
       "      <td>이성희</td>\n",
       "      <td>02-2203-9401</td>\n",
       "      <td>02-2203-9402</td>\n",
       "      <td>서울특별시 송파구 백제고분로32길 41</td>\n",
       "      <td></td>\n",
       "      <td>28</td>\n",
       "      <td>서울특별시 복지정책실 복지기획관 어르신복지과</td>\n",
       "    </tr>\n",
       "    <tr>\n",
       "      <th>6</th>\n",
       "      <td>강남구립 논현요양센터</td>\n",
       "      <td>법인</td>\n",
       "      <td>노인의료복지시설</td>\n",
       "      <td>노인요양시설</td>\n",
       "      <td>남서울복지재단</td>\n",
       "      <td>화종부</td>\n",
       "      <td>02-541-0226</td>\n",
       "      <td>02-541-0116</td>\n",
       "      <td>서울특별시 강남구 강남대로128길 59</td>\n",
       "      <td></td>\n",
       "      <td>29</td>\n",
       "      <td>서울특별시 복지정책실 복지기획관 어르신복지과</td>\n",
       "    </tr>\n",
       "    <tr>\n",
       "      <th>7</th>\n",
       "      <td>노원실버센터</td>\n",
       "      <td>법인</td>\n",
       "      <td>노인의료복지시설</td>\n",
       "      <td>노인요양시설</td>\n",
       "      <td>평화복지재단</td>\n",
       "      <td>이수남</td>\n",
       "      <td>02-978-7722</td>\n",
       "      <td>02-975-3524</td>\n",
       "      <td>서울특별시 노원구 동일로 1097</td>\n",
       "      <td>www.peacewelfare.or.kr</td>\n",
       "      <td>82</td>\n",
       "      <td>서울특별시 복지정책실 복지기획관 어르신복지과</td>\n",
       "    </tr>\n",
       "    <tr>\n",
       "      <th>8</th>\n",
       "      <td>상봉요양원</td>\n",
       "      <td>개인</td>\n",
       "      <td>노인의료복지시설</td>\n",
       "      <td>노인요양시설</td>\n",
       "      <td>상봉요양원</td>\n",
       "      <td>박서현</td>\n",
       "      <td>02-2207-8803</td>\n",
       "      <td>02-2209-8803</td>\n",
       "      <td>서울특별시 중랑구 용마산로 494</td>\n",
       "      <td></td>\n",
       "      <td>23</td>\n",
       "      <td>서울특별시 복지정책실 복지기획관 어르신복지과</td>\n",
       "    </tr>\n",
       "    <tr>\n",
       "      <th>9</th>\n",
       "      <td>봄날서울요양원</td>\n",
       "      <td>개인</td>\n",
       "      <td>노인의료복지시설</td>\n",
       "      <td>노인요양시설</td>\n",
       "      <td>봄날서울요양원</td>\n",
       "      <td>이송</td>\n",
       "      <td>02-2661-8600</td>\n",
       "      <td>02-2661-8602</td>\n",
       "      <td>서울특별시 강서구 양천로1길 100</td>\n",
       "      <td></td>\n",
       "      <td>121</td>\n",
       "      <td>서울특별시 복지정책실 복지기획관 어르신복지과</td>\n",
       "    </tr>\n",
       "    <tr>\n",
       "      <th>10</th>\n",
       "      <td>효원노인복지센터D</td>\n",
       "      <td>개인</td>\n",
       "      <td>노인의료복지시설</td>\n",
       "      <td>노인요양공동생활가정</td>\n",
       "      <td></td>\n",
       "      <td>손형곤</td>\n",
       "      <td>024380606</td>\n",
       "      <td>024333651</td>\n",
       "      <td>서울특별시 중랑구 상봉1동</td>\n",
       "      <td></td>\n",
       "      <td>9</td>\n",
       "      <td>서울특별시 복지정책실 복지기획관 어르신복지과</td>\n",
       "    </tr>\n",
       "    <tr>\n",
       "      <th>11</th>\n",
       "      <td>두레노인요양원C</td>\n",
       "      <td>개인</td>\n",
       "      <td>노인의료복지시설</td>\n",
       "      <td>노인요양공동생활가정</td>\n",
       "      <td></td>\n",
       "      <td>이병기</td>\n",
       "      <td>0222077500</td>\n",
       "      <td>02-493-0676</td>\n",
       "      <td>서울특별시 중랑구 신내로 45</td>\n",
       "      <td></td>\n",
       "      <td>9</td>\n",
       "      <td>서울특별시 복지정책실 복지기획관 어르신복지과</td>\n",
       "    </tr>\n",
       "    <tr>\n",
       "      <th>12</th>\n",
       "      <td>효심원 노인요양공동생활가정</td>\n",
       "      <td>법인</td>\n",
       "      <td>노인의료복지시설</td>\n",
       "      <td>노인요양공동생활가정</td>\n",
       "      <td>효도본부</td>\n",
       "      <td>김응종</td>\n",
       "      <td>02-2254-0833</td>\n",
       "      <td>02-2254-0837</td>\n",
       "      <td>서울특별시 중구 청구로17길</td>\n",
       "      <td>http://cafe.daum.net/hyodo4u</td>\n",
       "      <td>9</td>\n",
       "      <td>서울특별시 복지정책실 복지기획관 어르신복지과</td>\n",
       "    </tr>\n",
       "    <tr>\n",
       "      <th>13</th>\n",
       "      <td>주사랑노인종합복지센터</td>\n",
       "      <td>개인</td>\n",
       "      <td>노인의료복지시설</td>\n",
       "      <td>노인요양공동생활가정</td>\n",
       "      <td></td>\n",
       "      <td>박신광</td>\n",
       "      <td>02-943-7718</td>\n",
       "      <td>02-910-7717</td>\n",
       "      <td>서울특별시 노원구 광운로 48</td>\n",
       "      <td></td>\n",
       "      <td>9</td>\n",
       "      <td>서울특별시 복지정책실 복지기획관 어르신복지과</td>\n",
       "    </tr>\n",
       "    <tr>\n",
       "      <th>14</th>\n",
       "      <td>평창동시니어센터</td>\n",
       "      <td>개인</td>\n",
       "      <td>노인의료복지시설</td>\n",
       "      <td>노인요양시설</td>\n",
       "      <td>평창동시니어센터</td>\n",
       "      <td>손양순</td>\n",
       "      <td>02-391-7936</td>\n",
       "      <td>02-3217-2488</td>\n",
       "      <td>서울특별시 종로구 평창15길 10</td>\n",
       "      <td></td>\n",
       "      <td>68</td>\n",
       "      <td>서울특별시 복지정책실 복지기획관 어르신복지과</td>\n",
       "    </tr>\n",
       "    <tr>\n",
       "      <th>15</th>\n",
       "      <td>등촌4종합사회복지관</td>\n",
       "      <td>법인</td>\n",
       "      <td>일반사회복지시설</td>\n",
       "      <td>사회복지관</td>\n",
       "      <td>훼미피아</td>\n",
       "      <td>정은주</td>\n",
       "      <td>02-2658-8800</td>\n",
       "      <td>02-2658-3325</td>\n",
       "      <td>서울특별시 강서구 공항대로39길 59</td>\n",
       "      <td></td>\n",
       "      <td>877</td>\n",
       "      <td>서울특별시 복지정책실 복지기획관 지역돌봄복지과</td>\n",
       "    </tr>\n",
       "    <tr>\n",
       "      <th>16</th>\n",
       "      <td>등촌7종합사회복지관</td>\n",
       "      <td>법인</td>\n",
       "      <td>일반사회복지시설</td>\n",
       "      <td>사회복지관</td>\n",
       "      <td>서울가톨릭사회복지회</td>\n",
       "      <td>유경촌</td>\n",
       "      <td>02-2658-6521</td>\n",
       "      <td>02-2658-6525</td>\n",
       "      <td>서울특별시 강서구 공항대로43길 104</td>\n",
       "      <td></td>\n",
       "      <td>554</td>\n",
       "      <td>서울특별시 복지정책실 복지기획관 지역돌봄복지과</td>\n",
       "    </tr>\n",
       "    <tr>\n",
       "      <th>17</th>\n",
       "      <td>등촌9종합사회복지관</td>\n",
       "      <td>법인</td>\n",
       "      <td>일반사회복지시설</td>\n",
       "      <td>사회복지관</td>\n",
       "      <td>우리모두복지재단</td>\n",
       "      <td>김춘상</td>\n",
       "      <td>02-2658-4129</td>\n",
       "      <td>02-2658-0557</td>\n",
       "      <td>서울특별시 강서구 화곡로 63가길 92</td>\n",
       "      <td></td>\n",
       "      <td>510</td>\n",
       "      <td>서울특별시 복지정책실 복지기획관 지역돌봄복지과</td>\n",
       "    </tr>\n",
       "    <tr>\n",
       "      <th>18</th>\n",
       "      <td>마들종합사회복지관</td>\n",
       "      <td>법인</td>\n",
       "      <td>일반사회복지시설</td>\n",
       "      <td>사회복지관</td>\n",
       "      <td>성민</td>\n",
       "      <td>유재필</td>\n",
       "      <td>029718387</td>\n",
       "      <td>02-976-4970</td>\n",
       "      <td>서울특별시 노원구 동일로210길 22</td>\n",
       "      <td></td>\n",
       "      <td>1000</td>\n",
       "      <td>서울특별시 복지정책실 복지기획관 지역돌봄복지과</td>\n",
       "    </tr>\n",
       "    <tr>\n",
       "      <th>19</th>\n",
       "      <td>면목종합사회복지관</td>\n",
       "      <td>법인</td>\n",
       "      <td>일반사회복지시설</td>\n",
       "      <td>사회복지관</td>\n",
       "      <td>자광재단</td>\n",
       "      <td>김성이</td>\n",
       "      <td>02-436-0500</td>\n",
       "      <td>02-439-5111</td>\n",
       "      <td>서울특별시 중랑구 용마산로 228</td>\n",
       "      <td>http://www.truem.or.kr</td>\n",
       "      <td>450</td>\n",
       "      <td>서울특별시 복지정책실 복지기획관 지역돌봄복지과</td>\n",
       "    </tr>\n",
       "  </tbody>\n",
       "</table>\n",
       "</div>"
      ],
      "text/plain": [
       "               시설명 운영주체구분명     시설유형명       시설종류명          법인명 법인대표자명  \\\n",
       "0              우리집      법인   장애인거주시설   장애인단기거주시설  대한예수교장로회연합회    유영섭   \n",
       "1              선린원      법인   장애인거주시설   장애인단기거주시설    대한기독교총연합회     이선   \n",
       "2           강서희망의집      법인   장애인거주시설   장애인단기거주시설  대한예수교장로회연합회    나건용   \n",
       "3    헬렌의집장애인단기보호시설      법인   장애인거주시설   장애인단기거주시설    성프란치스꼬수녀회    조병희   \n",
       "4         꿈손단기거주시설      법인   장애인거주시설   장애인단기거주시설   서울가톨릭사회복지회    유경촌   \n",
       "5         송파치매케어센터      법인  노인의료복지시설      노인요양시설     청암노인복지재단    이성희   \n",
       "6      강남구립 논현요양센터      법인  노인의료복지시설      노인요양시설      남서울복지재단    화종부   \n",
       "7           노원실버센터      법인  노인의료복지시설      노인요양시설       평화복지재단    이수남   \n",
       "8            상봉요양원      개인  노인의료복지시설      노인요양시설        상봉요양원    박서현   \n",
       "9          봄날서울요양원      개인  노인의료복지시설      노인요양시설      봄날서울요양원     이송   \n",
       "10       효원노인복지센터D      개인  노인의료복지시설  노인요양공동생활가정                 손형곤   \n",
       "11        두레노인요양원C      개인  노인의료복지시설  노인요양공동생활가정                 이병기   \n",
       "12  효심원 노인요양공동생활가정      법인  노인의료복지시설  노인요양공동생활가정         효도본부    김응종   \n",
       "13     주사랑노인종합복지센터      개인  노인의료복지시설  노인요양공동생활가정                 박신광   \n",
       "14        평창동시니어센터      개인  노인의료복지시설      노인요양시설     평창동시니어센터    손양순   \n",
       "15      등촌4종합사회복지관      법인  일반사회복지시설       사회복지관         훼미피아    정은주   \n",
       "16      등촌7종합사회복지관      법인  일반사회복지시설       사회복지관   서울가톨릭사회복지회    유경촌   \n",
       "17      등촌9종합사회복지관      법인  일반사회복지시설       사회복지관     우리모두복지재단    김춘상   \n",
       "18       마들종합사회복지관      법인  일반사회복지시설       사회복지관           성민    유재필   \n",
       "19       면목종합사회복지관      법인  일반사회복지시설       사회복지관         자광재단    김성이   \n",
       "\n",
       "            전화번호          팩스번호                    시설주소  \\\n",
       "0   02-2658-7503  02-3665-9408   서울특별시 강서구 양천로47길 70-6   \n",
       "1   02-2654-3372  02-2699-3372  서울특별시 강서구 까치산로22길 35-5   \n",
       "2   02-2605-7980  02-2691-4682     서울특별시 강서구 강서로34길 36   \n",
       "3    02-830-8807   02-859-8807  서울특별시 구로구 구로중앙로27나길 18   \n",
       "4    02-904-0502   02-908-0501       서울특별시 강북구 인수봉로61길   \n",
       "5   02-2203-9401  02-2203-9402   서울특별시 송파구 백제고분로32길 41   \n",
       "6    02-541-0226   02-541-0116   서울특별시 강남구 강남대로128길 59   \n",
       "7    02-978-7722   02-975-3524      서울특별시 노원구 동일로 1097   \n",
       "8   02-2207-8803  02-2209-8803      서울특별시 중랑구 용마산로 494   \n",
       "9   02-2661-8600  02-2661-8602     서울특별시 강서구 양천로1길 100   \n",
       "10     024380606     024333651          서울특별시 중랑구 상봉1동   \n",
       "11    0222077500   02-493-0676        서울특별시 중랑구 신내로 45   \n",
       "12  02-2254-0833  02-2254-0837         서울특별시 중구 청구로17길   \n",
       "13   02-943-7718   02-910-7717        서울특별시 노원구 광운로 48   \n",
       "14   02-391-7936  02-3217-2488      서울특별시 종로구 평창15길 10   \n",
       "15  02-2658-8800  02-2658-3325    서울특별시 강서구 공항대로39길 59   \n",
       "16  02-2658-6521  02-2658-6525   서울특별시 강서구 공항대로43길 104   \n",
       "17  02-2658-4129  02-2658-0557   서울특별시 강서구 화곡로 63가길 92   \n",
       "18     029718387   02-976-4970    서울특별시 노원구 동일로210길 22   \n",
       "19   02-436-0500   02-439-5111      서울특별시 중랑구 용마산로 228   \n",
       "\n",
       "                         홈페이지 주소 이용(생활)인원(실인원)                       시소관부서  \n",
       "0              www.woorilove.org            10  서울특별시 복지정책실 복지기획관 장애인복지정책과  \n",
       "1                     www.선린원.kr            10  서울특별시 복지정책실 복지기획관 장애인복지정책과  \n",
       "2                                           10  서울특별시 복지정책실 복지기획관 장애인복지정책과  \n",
       "3                                           12  서울특별시 복지정책실 복지기획관 장애인복지정책과  \n",
       "4                                           11  서울특별시 복지정책실 복지기획관 장애인복지정책과  \n",
       "5                                           28    서울특별시 복지정책실 복지기획관 어르신복지과  \n",
       "6                                           29    서울특별시 복지정책실 복지기획관 어르신복지과  \n",
       "7         www.peacewelfare.or.kr            82    서울특별시 복지정책실 복지기획관 어르신복지과  \n",
       "8                                           23    서울특별시 복지정책실 복지기획관 어르신복지과  \n",
       "9                                          121    서울특별시 복지정책실 복지기획관 어르신복지과  \n",
       "10                                           9    서울특별시 복지정책실 복지기획관 어르신복지과  \n",
       "11                                           9    서울특별시 복지정책실 복지기획관 어르신복지과  \n",
       "12  http://cafe.daum.net/hyodo4u             9    서울특별시 복지정책실 복지기획관 어르신복지과  \n",
       "13                                           9    서울특별시 복지정책실 복지기획관 어르신복지과  \n",
       "14                                          68    서울특별시 복지정책실 복지기획관 어르신복지과  \n",
       "15                                         877   서울특별시 복지정책실 복지기획관 지역돌봄복지과  \n",
       "16                                         554   서울특별시 복지정책실 복지기획관 지역돌봄복지과  \n",
       "17                                         510   서울특별시 복지정책실 복지기획관 지역돌봄복지과  \n",
       "18                                        1000   서울특별시 복지정책실 복지기획관 지역돌봄복지과  \n",
       "19        http://www.truem.or.kr           450   서울특별시 복지정책실 복지기획관 지역돌봄복지과  "
      ]
     },
     "execution_count": 75,
     "metadata": {},
     "output_type": "execute_result"
    }
   ],
   "source": [
    "center_df = pd.DataFrame(center_list)\n",
    "center_df"
   ]
  },
  {
   "cell_type": "markdown",
   "id": "831ee7c2",
   "metadata": {
    "slideshow": {
     "slide_type": "subslide"
    }
   },
   "source": [
    "### csv"
   ]
  },
  {
   "cell_type": "code",
   "execution_count": 14,
   "id": "4ad69894",
   "metadata": {
    "slideshow": {
     "slide_type": "fragment"
    }
   },
   "outputs": [
    {
     "name": "stdout",
     "output_type": "stream",
     "text": [
      "processing page 1\n",
      "processing page 2\n"
     ]
    }
   ],
   "source": [
    "import csv\n",
    "\n",
    "\n",
    "file_name = \"서울시복지시설.csv\"\n",
    "f = open(file_name, 'w', encoding='utf-8-sig', newline='')\n",
    "writer = csv.writer(f)\n",
    "\n",
    "current_page_n = 1\n",
    "while current_page_n < 3:\n",
    "    driver.execute_script(f'pagedIng({current_page_n});')\n",
    "    print(f'processing page {current_page_n}')\n",
    "    time.sleep(3)\n",
    "\n",
    "    soup = BeautifulSoup(driver.page_source, 'html.parser')\n",
    "    centers = soup.select('#content > div.sub_content > div.board_t1.no_out > dl')\n",
    "    for center in centers:\n",
    "        tds = center.select('td')\n",
    "        content = [td.text for td in tds]\n",
    "    current_page_n += 1\n",
    "    \n",
    "f.close()"
   ]
  },
  {
   "cell_type": "markdown",
   "id": "c540203b",
   "metadata": {
    "slideshow": {
     "slide_type": "slide"
    }
   },
   "source": [
    "# 비교: 나라일터\n",
    "\n",
    "https://www.gojobs.go.kr/frameMenu.do?url=apmList.do%3FsearchJobsecode%3D050%26searchEmpmnsecode%3De05&menuNo=47&mngrMenuYn=N&message="
   ]
  },
  {
   "cell_type": "code",
   "execution_count": null,
   "id": "6e04ef0a",
   "metadata": {
    "slideshow": {
     "slide_type": "fragment"
    }
   },
   "outputs": [],
   "source": [
    "# https://www.gojobs.go.kr/apmList.do?searchJobsecode=050&amp;searchEmpmnsecode=e05&menuNo=47&empmnsn=0&searchJobsecode=&searchBbssecode=0&searchBbssn=0\n",
    "# https://www.gojobs.go.kr/apmList.do?searchJobsecode=050&amp;searchEmpmnsecode=e05&menuNo=47&empmnsn=0&searchJobsecode=&searchBbssecode=0&searchBbssn=0&pageIndex=2\n",
    "# https://www.gojobs.go.kr/apmView.do?empmnsn=135922&searchJobsecode=050"
   ]
  },
  {
   "cell_type": "markdown",
   "id": "68b7bc25",
   "metadata": {
    "slideshow": {
     "slide_type": "slide"
    }
   },
   "source": [
    "# 연습: Daum 댓글"
   ]
  },
  {
   "cell_type": "code",
   "execution_count": 76,
   "id": "231869d5",
   "metadata": {
    "slideshow": {
     "slide_type": "fragment"
    }
   },
   "outputs": [],
   "source": [
    "from selenium import webdriver\n",
    "import pandas as pd\n",
    "import time\n",
    "\n",
    "driver = webdriver.Chrome('./chromedriver.exe')"
   ]
  },
  {
   "cell_type": "code",
   "execution_count": 78,
   "id": "eb9c195c",
   "metadata": {
    "slideshow": {
     "slide_type": "fragment"
    }
   },
   "outputs": [],
   "source": [
    "driver.get('https://news.v.daum.net/v/20210811213002144')\n",
    "time.sleep(2)\n",
    "driver.execute_script(\"window.scrollTo(0, document.body.scrollHeight)\")"
   ]
  },
  {
   "cell_type": "code",
   "execution_count": 79,
   "id": "8f131099",
   "metadata": {
    "slideshow": {
     "slide_type": "fragment"
    }
   },
   "outputs": [],
   "source": [
    "chrono_btn = driver.find_element_by_xpath('//*[@id=\"alex-area\"]/div/div/div/div[3]/ul[1]/li[4]/button')\n",
    "chrono_btn.click()"
   ]
  },
  {
   "cell_type": "code",
   "execution_count": 80,
   "id": "dd1c3d83",
   "metadata": {
    "slideshow": {
     "slide_type": "subslide"
    }
   },
   "outputs": [],
   "source": [
    "click_count = 0\n",
    "while True:\n",
    "    try:\n",
    "        more_btn = driver.find_element_by_xpath('//*[@id=\"alex-area\"]/div/div/div/div[3]/div[3]')\n",
    "        more_btn.click()\n",
    "        \n",
    "        time.sleep(5)\n",
    "        click_count += 1\n",
    "        \n",
    "        if click_count == 3:\n",
    "            break\n",
    "    except:\n",
    "        break"
   ]
  },
  {
   "cell_type": "code",
   "execution_count": 81,
   "id": "99165a1d",
   "metadata": {
    "slideshow": {
     "slide_type": "fragment"
    }
   },
   "outputs": [],
   "source": [
    "cmts = driver.find_elements_by_css_selector('div.cmt_box > ul.list_comment > li')"
   ]
  },
  {
   "cell_type": "code",
   "execution_count": 82,
   "id": "5f591e86",
   "metadata": {},
   "outputs": [
    {
     "data": {
      "text/plain": [
       "33"
      ]
     },
     "execution_count": 82,
     "metadata": {},
     "output_type": "execute_result"
    }
   ],
   "source": [
    "len(cmts)"
   ]
  },
  {
   "cell_type": "code",
   "execution_count": null,
   "id": "b73a7445",
   "metadata": {},
   "outputs": [],
   "source": [
    "div > strong > span > a > span:nth-child(2)"
   ]
  },
  {
   "cell_type": "code",
   "execution_count": 83,
   "id": "ddba4b36",
   "metadata": {
    "slideshow": {
     "slide_type": "subslide"
    }
   },
   "outputs": [],
   "source": [
    "cmt_list = []\n",
    "for cmt in cmts:\n",
    "    cmt_list.append({\n",
    "        'cmt_name': cmt.find_element_by_css_selector('div > strong > span > a').text,\n",
    "        'cmt_body': cmt.find_element_by_css_selector('div > p').text,\n",
    "        'cmt_like': cmt.find_element_by_css_selector('button.btn_g.btn_recomm.\\#like > span.num_txt').text,\n",
    "        'cmt_dislike': cmt.find_element_by_css_selector('button.btn_g.btn_oppose.\\#dislike > span.num_txt').text\n",
    "    })"
   ]
  },
  {
   "cell_type": "code",
   "execution_count": 84,
   "id": "f9046609",
   "metadata": {
    "slideshow": {
     "slide_type": "fragment"
    }
   },
   "outputs": [
    {
     "data": {
      "text/plain": [
       "[{'cmt_name': 'Ggoirt',\n",
       "  'cmt_body': '인간종족때문에 애먼 동물들이 가장 먼저 희생되는 게 안타까울 뿐이다.',\n",
       "  'cmt_like': '199',\n",
       "  'cmt_dislike': '12'},\n",
       " {'cmt_name': 'sun', 'cmt_body': '지구야…', 'cmt_like': '50', 'cmt_dislike': '7'},\n",
       " {'cmt_name': '동백',\n",
       "  'cmt_body': '표현도 참\\n지옥이 있냐\\n헤드라이 제목 자체가 지옥이네',\n",
       "  'cmt_like': '0',\n",
       "  'cmt_dislike': '8'},\n",
       " {'cmt_name': 'sungyun',\n",
       "  'cmt_body': '.......인간 벌받나봐',\n",
       "  'cmt_like': '119',\n",
       "  'cmt_dislike': '3'},\n",
       " {'cmt_name': '균',\n",
       "  'cmt_body': '인간멸종 지구멸망',\n",
       "  'cmt_like': '43',\n",
       "  'cmt_dislike': '8'},\n",
       " {'cmt_name': '2021년',\n",
       "  'cmt_body': '자연이 파괴되든 샤람이 죽어나가든 돈은 돌고 주가는 최고가 행진인 세상에 누가 그런거 신경쓰나^^  죽은 놈만 바보지',\n",
       "  'cmt_like': '1',\n",
       "  'cmt_dislike': '1'},\n",
       " {'cmt_name': '.',\n",
       "  'cmt_body': '내가 살고 있는 곳도 아닌데 사진 보니까 뭔가 눈물난다 ㅠㅠ 무섭고 안됫고......',\n",
       "  'cmt_like': '200',\n",
       "  'cmt_dislike': '8'},\n",
       " {'cmt_name': '그 무엇 보다',\n",
       "  'cmt_body': '화석연료와 원전 사용을 대폭 줄여야 합니다. 그리고 대체 에너지를 개발합니다.  또한 아나바다 운동을 생활화합니다. 아껴쓰고 나눠쓰고 바꿔쓰고 다시 쓰는 운동을 적극적으로 전개해야 합니다.',\n",
       "  'cmt_like': '260',\n",
       "  'cmt_dislike': '24'},\n",
       " {'cmt_name': '조성얼라',\n",
       "  'cmt_body': '디지는 사람만 디지지 아작도 걱정조차 안하고 지구 종말을 향하여 여전히 돈벌이에 급급하다.',\n",
       "  'cmt_like': '132',\n",
       "  'cmt_dislike': '5'},\n",
       " {'cmt_name': 'Kevin',\n",
       "  'cmt_body': '개념 훈련이 되지 않고 그 동안 막살아온 댓가.\\n개개인이 윤리와 도덕을 배웠으면 훈련이 되었겠지만 언제부터인가 지구 곳곳에서 개념없이\\n살아온 인간들로 시궁창 냄새가 나기 시작했다.\\n지구의 재앙 그리고 종말이 오는 것은 인간들이 개념훈련이 되어 있지 않았기 때문에\\n서서히 망가져 가는 것이다.\\n우리는 그동안 배속만 채우기 바빴지 개념을 채우며 살아오지 않았다는 것!\\n그래서 이제 인간들이 고통을 받을 심판의 날이 머지 않았다는 것을 자연이 우리에게 경고하는 것이다.',\n",
       "  'cmt_like': '179',\n",
       "  'cmt_dislike': '6'},\n",
       " {'cmt_name': '12343',\n",
       "  'cmt_body': '종말이다가오면\\n갖은자는 못갖은자의\\n눈빛을 두려워할것이다',\n",
       "  'cmt_like': '8',\n",
       "  'cmt_dislike': '9'},\n",
       " {'cmt_name': '춤추는방랑자',\n",
       "  'cmt_body': '지구도 살아있는 생명체이다.\\n지금 지구는 자기 너무 아프다고 자기를 좀 살려달라고 울고 불고 애원하고 있는 중이다.\\n코로나도 대형 산불도 모든 자연 재해들도...\\n우리 인간들은 빨리 현실을 직시하고 대책을 세워야 한다',\n",
       "  'cmt_like': '576',\n",
       "  'cmt_dislike': '5'},\n",
       " {'cmt_name': '다케조ing',\n",
       "  'cmt_body': '종말과 재앙은 이미 시작되었다고 볼수 있지',\n",
       "  'cmt_like': '127',\n",
       "  'cmt_dislike': '9'},\n",
       " {'cmt_name': '여름향기',\n",
       "  'cmt_body': '인간의 욕심이 기후온난화에 대한 두려움을 앞서기 때문에 현대문명은 필연적으로 붕괴 됨.\\n통장 잔액 신경 안쓰고 돈 쓰면 파산되는 것과 같음.\\n풍족한 삶에 대한 환상과 희망을 버리고 소박한 생활양식으로 돌아가야 하는데 물질문명이라는 마약에 취해있음.\\n잘살고 못살고 많이 배우고 적게 배우고가 문제가 아니라 생존하느냐 마느냐의 갈림길에 서있음.\\n문명전환을 20년 안에 하려면 인류가 각성해야 하는데 그건 수행자들이나 가능한 일이기에 기후변화 막는 건 물가능.\\n애를 낳는 건 무지일까 용기일까.',\n",
       "  'cmt_like': '296',\n",
       "  'cmt_dislike': '16'},\n",
       " {'cmt_name': '박우용',\n",
       "  'cmt_body': '언젠가 종말은 온다\\n멀지 않았다',\n",
       "  'cmt_like': '107',\n",
       "  'cmt_dislike': '19'},\n",
       " {'cmt_name': '김간',\n",
       "  'cmt_body': '비라도 내려서 불이 꺼졌으면 좋겠다...',\n",
       "  'cmt_like': '220',\n",
       "  'cmt_dislike': '3'},\n",
       " {'cmt_name': 'mrh22',\n",
       "  'cmt_body': '기후변화  코로나  이 두가지만봐도 각 나라 혼자 잘 살아서 되는게  아닌거같다  이제는 서로 공존하며 돕고 살지 않으면 지구는 멸망한다',\n",
       "  'cmt_like': '423',\n",
       "  'cmt_dislike': '4'},\n",
       " {'cmt_name': 'KPSONG',\n",
       "  'cmt_body': '자연에 고마움 느끼면서 , 자연보호 합시다',\n",
       "  'cmt_like': '187',\n",
       "  'cmt_dislike': '4'},\n",
       " {'cmt_name': '댓글경찰1',\n",
       "  'cmt_body': '인간의 뿌린거다 인간의 동굴에들어가서 살아야할거다',\n",
       "  'cmt_like': '0',\n",
       "  'cmt_dislike': '0'},\n",
       " {'cmt_name': '김 동석 (Andrew)',\n",
       "  'cmt_body': '이제 머 ㅋㅋㅋㅋ 잘 놀다갑니다 ㅋㅋㅋ',\n",
       "  'cmt_like': '0',\n",
       "  'cmt_dislike': '2'},\n",
       " {'cmt_name': '허연우',\n",
       "  'cmt_body': '지구 멸망',\n",
       "  'cmt_like': '40',\n",
       "  'cmt_dislike': '6'},\n",
       " {'cmt_name': 'Paulos',\n",
       "  'cmt_body': '하나님이 자연은총을 거두시는 날이 있을 것이다. \\n지금 진행되고 있다. \\n예전의 삶을 그리워하지만 돌아갈 수 없을 지도 모른다. \\n설상가상.',\n",
       "  'cmt_like': '4',\n",
       "  'cmt_dislike': '5'},\n",
       " {'cmt_name': 'modan',\n",
       "  'cmt_body': '하나뿐인 지구의 온난화로 숨쉬고 살기 힘들정도의 시대가 왔다 \\n대기가 맑은 날이라도 번개로 인한 산불이 발생하고 남긍이나 북극에 얼음이 녹아 내리며 수천년간 얼음속에 있던 박테리아가 다시 기생을 하며 인간에게 치명상을 입히는 세상이 돌아온 것이다',\n",
       "  'cmt_like': '153',\n",
       "  'cmt_dislike': '4'},\n",
       " {'cmt_name': '샛별',\n",
       "  'cmt_body': '글로벌리스트 카발 딥스테이트 일루미나티 외계 파충류가 함을  합쳐 지구를 파괴하는 구나, 그들의 최후 발악은 곧 패전으로 끝날 것이다',\n",
       "  'cmt_like': '1',\n",
       "  'cmt_dislike': '0'},\n",
       " {'cmt_name': '푸른솔',\n",
       "  'cmt_body': '산을 사서 굴을파고  자력방위 시설을 갖추라~  물론  오래 못가겠지만 ㅠ',\n",
       "  'cmt_like': '0',\n",
       "  'cmt_dislike': '0'},\n",
       " {'cmt_name': '까칠줌마',\n",
       "  'cmt_body': '인간이 임신.출산을 멈춰야 지구는 살아나는 딜레마 상황입니다',\n",
       "  'cmt_like': '5',\n",
       "  'cmt_dislike': '0'},\n",
       " {'cmt_name': '나무꾼',\n",
       "  'cmt_body': '1회용 사용 줄이고 \\n\\n분리수거 잘하고\\n\\n전기 물 등 등 절약하고 \\n\\n육류고기 조금 줄이고',\n",
       "  'cmt_like': '3',\n",
       "  'cmt_dislike': '0'},\n",
       " {'cmt_name': '제칠일안식일예수재림교회',\n",
       "  'cmt_body': '사람들은 하나님의 심판이 세상에 임하고 있음을 깨달아야 할것이다. 화재와 홍수와 지진으로 그분께서는 당신이 가까이 오고 계심을 세상의 거민들에게 경고하고 계신다. 세상 역사에서 큰 위기가 다가올 때, 하나님의 정부의 모든 움직임이 비상한 관심과 말할 수 없는 두려움으로 주시될 때가 가까이 이르고 있다. 하나님의 심판인 \\xad화재와 홍수와 지진이 신속히 꼬리를 물고 전쟁과 유혈 사태와 함께 이어질 것이다. 사람들은 예수그리스도께서 머지않아 오신다는걸 알아야 하며 믿으면 구원을 얻을것이다.',\n",
       "  'cmt_like': '2',\n",
       "  'cmt_dislike': '2'},\n",
       " {'cmt_name': '까칠줌마',\n",
       "  'cmt_body': '인구과밀로 과부하 상태',\n",
       "  'cmt_like': '1',\n",
       "  'cmt_dislike': '0'},\n",
       " {'cmt_name': '김민재',\n",
       "  'cmt_body': '지구 종말 오는 것 같다 ㅠ 코로나, 가뭄, 홍수, 산불, 태풍, 고온 ;;',\n",
       "  'cmt_like': '1',\n",
       "  'cmt_dislike': '0'},\n",
       " {'cmt_name': '지랄',\n",
       "  'cmt_body': '지구멸망 없음 자정능력이 있어서\\n걍 인간만 사라질것',\n",
       "  'cmt_like': '1',\n",
       "  'cmt_dislike': '0'},\n",
       " {'cmt_name': '검도',\n",
       "  'cmt_body': '예수님 재림하시리라. 부활체가 되리라.',\n",
       "  'cmt_like': '0',\n",
       "  'cmt_dislike': '1'},\n",
       " {'cmt_name': '제칠일안식일예수재림교회',\n",
       "  'cmt_body': '\"또 보니 다른 천사가 공중에 날아가는데 땅에 거주하는 자들 곧 모든 민족과 종족과 방언과 백성에게 전할 영원한 복음을 가졌더라 그가 큰 음성으로 이르되 하나님을 두려워하며 그에게 영광을 돌리라 이는 그의 심판의 시간이 이르렀음이니 하늘과 땅과 바다와 물들의 근원을 만드신 이를 경배하라 하더라\"(요한계시록 14:6~7)',\n",
       "  'cmt_like': '2',\n",
       "  'cmt_dislike': '2'}]"
      ]
     },
     "execution_count": 84,
     "metadata": {},
     "output_type": "execute_result"
    }
   ],
   "source": [
    "cmt_list"
   ]
  },
  {
   "cell_type": "code",
   "execution_count": 85,
   "id": "a4513c41",
   "metadata": {
    "slideshow": {
     "slide_type": "subslide"
    }
   },
   "outputs": [],
   "source": [
    "cmt_df = pd.DataFrame(cmt_list)"
   ]
  },
  {
   "cell_type": "code",
   "execution_count": 86,
   "id": "f25e6a4c",
   "metadata": {
    "scrolled": true,
    "slideshow": {
     "slide_type": "fragment"
    }
   },
   "outputs": [
    {
     "data": {
      "text/html": [
       "<div>\n",
       "<style scoped>\n",
       "    .dataframe tbody tr th:only-of-type {\n",
       "        vertical-align: middle;\n",
       "    }\n",
       "\n",
       "    .dataframe tbody tr th {\n",
       "        vertical-align: top;\n",
       "    }\n",
       "\n",
       "    .dataframe thead th {\n",
       "        text-align: right;\n",
       "    }\n",
       "</style>\n",
       "<table border=\"1\" class=\"dataframe\">\n",
       "  <thead>\n",
       "    <tr style=\"text-align: right;\">\n",
       "      <th></th>\n",
       "      <th>cmt_name</th>\n",
       "      <th>cmt_body</th>\n",
       "      <th>cmt_like</th>\n",
       "      <th>cmt_dislike</th>\n",
       "    </tr>\n",
       "  </thead>\n",
       "  <tbody>\n",
       "    <tr>\n",
       "      <th>0</th>\n",
       "      <td>Ggoirt</td>\n",
       "      <td>인간종족때문에 애먼 동물들이 가장 먼저 희생되는 게 안타까울 뿐이다.</td>\n",
       "      <td>199</td>\n",
       "      <td>12</td>\n",
       "    </tr>\n",
       "    <tr>\n",
       "      <th>1</th>\n",
       "      <td>sun</td>\n",
       "      <td>지구야…</td>\n",
       "      <td>50</td>\n",
       "      <td>7</td>\n",
       "    </tr>\n",
       "    <tr>\n",
       "      <th>2</th>\n",
       "      <td>동백</td>\n",
       "      <td>표현도 참\\n지옥이 있냐\\n헤드라이 제목 자체가 지옥이네</td>\n",
       "      <td>0</td>\n",
       "      <td>8</td>\n",
       "    </tr>\n",
       "    <tr>\n",
       "      <th>3</th>\n",
       "      <td>sungyun</td>\n",
       "      <td>.......인간 벌받나봐</td>\n",
       "      <td>119</td>\n",
       "      <td>3</td>\n",
       "    </tr>\n",
       "    <tr>\n",
       "      <th>4</th>\n",
       "      <td>균</td>\n",
       "      <td>인간멸종 지구멸망</td>\n",
       "      <td>43</td>\n",
       "      <td>8</td>\n",
       "    </tr>\n",
       "    <tr>\n",
       "      <th>5</th>\n",
       "      <td>2021년</td>\n",
       "      <td>자연이 파괴되든 샤람이 죽어나가든 돈은 돌고 주가는 최고가 행진인 세상에 누가 그런...</td>\n",
       "      <td>1</td>\n",
       "      <td>1</td>\n",
       "    </tr>\n",
       "    <tr>\n",
       "      <th>6</th>\n",
       "      <td>.</td>\n",
       "      <td>내가 살고 있는 곳도 아닌데 사진 보니까 뭔가 눈물난다 ㅠㅠ 무섭고 안됫고......</td>\n",
       "      <td>200</td>\n",
       "      <td>8</td>\n",
       "    </tr>\n",
       "    <tr>\n",
       "      <th>7</th>\n",
       "      <td>그 무엇 보다</td>\n",
       "      <td>화석연료와 원전 사용을 대폭 줄여야 합니다. 그리고 대체 에너지를 개발합니다.  또...</td>\n",
       "      <td>260</td>\n",
       "      <td>24</td>\n",
       "    </tr>\n",
       "    <tr>\n",
       "      <th>8</th>\n",
       "      <td>조성얼라</td>\n",
       "      <td>디지는 사람만 디지지 아작도 걱정조차 안하고 지구 종말을 향하여 여전히 돈벌이에 급...</td>\n",
       "      <td>132</td>\n",
       "      <td>5</td>\n",
       "    </tr>\n",
       "    <tr>\n",
       "      <th>9</th>\n",
       "      <td>Kevin</td>\n",
       "      <td>개념 훈련이 되지 않고 그 동안 막살아온 댓가.\\n개개인이 윤리와 도덕을 배웠으면 ...</td>\n",
       "      <td>179</td>\n",
       "      <td>6</td>\n",
       "    </tr>\n",
       "    <tr>\n",
       "      <th>10</th>\n",
       "      <td>12343</td>\n",
       "      <td>종말이다가오면\\n갖은자는 못갖은자의\\n눈빛을 두려워할것이다</td>\n",
       "      <td>8</td>\n",
       "      <td>9</td>\n",
       "    </tr>\n",
       "    <tr>\n",
       "      <th>11</th>\n",
       "      <td>춤추는방랑자</td>\n",
       "      <td>지구도 살아있는 생명체이다.\\n지금 지구는 자기 너무 아프다고 자기를 좀 살려달라고...</td>\n",
       "      <td>576</td>\n",
       "      <td>5</td>\n",
       "    </tr>\n",
       "    <tr>\n",
       "      <th>12</th>\n",
       "      <td>다케조ing</td>\n",
       "      <td>종말과 재앙은 이미 시작되었다고 볼수 있지</td>\n",
       "      <td>127</td>\n",
       "      <td>9</td>\n",
       "    </tr>\n",
       "    <tr>\n",
       "      <th>13</th>\n",
       "      <td>여름향기</td>\n",
       "      <td>인간의 욕심이 기후온난화에 대한 두려움을 앞서기 때문에 현대문명은 필연적으로 붕괴 ...</td>\n",
       "      <td>296</td>\n",
       "      <td>16</td>\n",
       "    </tr>\n",
       "    <tr>\n",
       "      <th>14</th>\n",
       "      <td>박우용</td>\n",
       "      <td>언젠가 종말은 온다\\n멀지 않았다</td>\n",
       "      <td>107</td>\n",
       "      <td>19</td>\n",
       "    </tr>\n",
       "    <tr>\n",
       "      <th>15</th>\n",
       "      <td>김간</td>\n",
       "      <td>비라도 내려서 불이 꺼졌으면 좋겠다...</td>\n",
       "      <td>220</td>\n",
       "      <td>3</td>\n",
       "    </tr>\n",
       "    <tr>\n",
       "      <th>16</th>\n",
       "      <td>mrh22</td>\n",
       "      <td>기후변화  코로나  이 두가지만봐도 각 나라 혼자 잘 살아서 되는게  아닌거같다  ...</td>\n",
       "      <td>423</td>\n",
       "      <td>4</td>\n",
       "    </tr>\n",
       "    <tr>\n",
       "      <th>17</th>\n",
       "      <td>KPSONG</td>\n",
       "      <td>자연에 고마움 느끼면서 , 자연보호 합시다</td>\n",
       "      <td>187</td>\n",
       "      <td>4</td>\n",
       "    </tr>\n",
       "    <tr>\n",
       "      <th>18</th>\n",
       "      <td>댓글경찰1</td>\n",
       "      <td>인간의 뿌린거다 인간의 동굴에들어가서 살아야할거다</td>\n",
       "      <td>0</td>\n",
       "      <td>0</td>\n",
       "    </tr>\n",
       "    <tr>\n",
       "      <th>19</th>\n",
       "      <td>김 동석 (Andrew)</td>\n",
       "      <td>이제 머 ㅋㅋㅋㅋ 잘 놀다갑니다 ㅋㅋㅋ</td>\n",
       "      <td>0</td>\n",
       "      <td>2</td>\n",
       "    </tr>\n",
       "    <tr>\n",
       "      <th>20</th>\n",
       "      <td>허연우</td>\n",
       "      <td>지구 멸망</td>\n",
       "      <td>40</td>\n",
       "      <td>6</td>\n",
       "    </tr>\n",
       "    <tr>\n",
       "      <th>21</th>\n",
       "      <td>Paulos</td>\n",
       "      <td>하나님이 자연은총을 거두시는 날이 있을 것이다. \\n지금 진행되고 있다. \\n예전의...</td>\n",
       "      <td>4</td>\n",
       "      <td>5</td>\n",
       "    </tr>\n",
       "    <tr>\n",
       "      <th>22</th>\n",
       "      <td>modan</td>\n",
       "      <td>하나뿐인 지구의 온난화로 숨쉬고 살기 힘들정도의 시대가 왔다 \\n대기가 맑은 날이라...</td>\n",
       "      <td>153</td>\n",
       "      <td>4</td>\n",
       "    </tr>\n",
       "    <tr>\n",
       "      <th>23</th>\n",
       "      <td>샛별</td>\n",
       "      <td>글로벌리스트 카발 딥스테이트 일루미나티 외계 파충류가 함을  합쳐 지구를 파괴하는 ...</td>\n",
       "      <td>1</td>\n",
       "      <td>0</td>\n",
       "    </tr>\n",
       "    <tr>\n",
       "      <th>24</th>\n",
       "      <td>푸른솔</td>\n",
       "      <td>산을 사서 굴을파고  자력방위 시설을 갖추라~  물론  오래 못가겠지만 ㅠ</td>\n",
       "      <td>0</td>\n",
       "      <td>0</td>\n",
       "    </tr>\n",
       "    <tr>\n",
       "      <th>25</th>\n",
       "      <td>까칠줌마</td>\n",
       "      <td>인간이 임신.출산을 멈춰야 지구는 살아나는 딜레마 상황입니다</td>\n",
       "      <td>5</td>\n",
       "      <td>0</td>\n",
       "    </tr>\n",
       "    <tr>\n",
       "      <th>26</th>\n",
       "      <td>나무꾼</td>\n",
       "      <td>1회용 사용 줄이고 \\n\\n분리수거 잘하고\\n\\n전기 물 등 등 절약하고 \\n\\n육...</td>\n",
       "      <td>3</td>\n",
       "      <td>0</td>\n",
       "    </tr>\n",
       "    <tr>\n",
       "      <th>27</th>\n",
       "      <td>제칠일안식일예수재림교회</td>\n",
       "      <td>사람들은 하나님의 심판이 세상에 임하고 있음을 깨달아야 할것이다. 화재와 홍수와 지...</td>\n",
       "      <td>2</td>\n",
       "      <td>2</td>\n",
       "    </tr>\n",
       "    <tr>\n",
       "      <th>28</th>\n",
       "      <td>까칠줌마</td>\n",
       "      <td>인구과밀로 과부하 상태</td>\n",
       "      <td>1</td>\n",
       "      <td>0</td>\n",
       "    </tr>\n",
       "    <tr>\n",
       "      <th>29</th>\n",
       "      <td>김민재</td>\n",
       "      <td>지구 종말 오는 것 같다 ㅠ 코로나, 가뭄, 홍수, 산불, 태풍, 고온 ;;</td>\n",
       "      <td>1</td>\n",
       "      <td>0</td>\n",
       "    </tr>\n",
       "    <tr>\n",
       "      <th>30</th>\n",
       "      <td>지랄</td>\n",
       "      <td>지구멸망 없음 자정능력이 있어서\\n걍 인간만 사라질것</td>\n",
       "      <td>1</td>\n",
       "      <td>0</td>\n",
       "    </tr>\n",
       "    <tr>\n",
       "      <th>31</th>\n",
       "      <td>검도</td>\n",
       "      <td>예수님 재림하시리라. 부활체가 되리라.</td>\n",
       "      <td>0</td>\n",
       "      <td>1</td>\n",
       "    </tr>\n",
       "    <tr>\n",
       "      <th>32</th>\n",
       "      <td>제칠일안식일예수재림교회</td>\n",
       "      <td>\"또 보니 다른 천사가 공중에 날아가는데 땅에 거주하는 자들 곧 모든 민족과 종족과...</td>\n",
       "      <td>2</td>\n",
       "      <td>2</td>\n",
       "    </tr>\n",
       "  </tbody>\n",
       "</table>\n",
       "</div>"
      ],
      "text/plain": [
       "         cmt_name                                           cmt_body cmt_like  \\\n",
       "0          Ggoirt             인간종족때문에 애먼 동물들이 가장 먼저 희생되는 게 안타까울 뿐이다.      199   \n",
       "1             sun                                               지구야…       50   \n",
       "2              동백                    표현도 참\\n지옥이 있냐\\n헤드라이 제목 자체가 지옥이네        0   \n",
       "3         sungyun                                     .......인간 벌받나봐      119   \n",
       "4               균                                          인간멸종 지구멸망       43   \n",
       "5           2021년  자연이 파괴되든 샤람이 죽어나가든 돈은 돌고 주가는 최고가 행진인 세상에 누가 그런...        1   \n",
       "6               .    내가 살고 있는 곳도 아닌데 사진 보니까 뭔가 눈물난다 ㅠㅠ 무섭고 안됫고......      200   \n",
       "7         그 무엇 보다  화석연료와 원전 사용을 대폭 줄여야 합니다. 그리고 대체 에너지를 개발합니다.  또...      260   \n",
       "8            조성얼라  디지는 사람만 디지지 아작도 걱정조차 안하고 지구 종말을 향하여 여전히 돈벌이에 급...      132   \n",
       "9           Kevin  개념 훈련이 되지 않고 그 동안 막살아온 댓가.\\n개개인이 윤리와 도덕을 배웠으면 ...      179   \n",
       "10          12343                   종말이다가오면\\n갖은자는 못갖은자의\\n눈빛을 두려워할것이다        8   \n",
       "11         춤추는방랑자  지구도 살아있는 생명체이다.\\n지금 지구는 자기 너무 아프다고 자기를 좀 살려달라고...      576   \n",
       "12         다케조ing                            종말과 재앙은 이미 시작되었다고 볼수 있지      127   \n",
       "13           여름향기  인간의 욕심이 기후온난화에 대한 두려움을 앞서기 때문에 현대문명은 필연적으로 붕괴 ...      296   \n",
       "14            박우용                                 언젠가 종말은 온다\\n멀지 않았다      107   \n",
       "15             김간                             비라도 내려서 불이 꺼졌으면 좋겠다...      220   \n",
       "16          mrh22  기후변화  코로나  이 두가지만봐도 각 나라 혼자 잘 살아서 되는게  아닌거같다  ...      423   \n",
       "17         KPSONG                            자연에 고마움 느끼면서 , 자연보호 합시다      187   \n",
       "18          댓글경찰1                        인간의 뿌린거다 인간의 동굴에들어가서 살아야할거다        0   \n",
       "19  김 동석 (Andrew)                              이제 머 ㅋㅋㅋㅋ 잘 놀다갑니다 ㅋㅋㅋ        0   \n",
       "20            허연우                                              지구 멸망       40   \n",
       "21         Paulos  하나님이 자연은총을 거두시는 날이 있을 것이다. \\n지금 진행되고 있다. \\n예전의...        4   \n",
       "22          modan  하나뿐인 지구의 온난화로 숨쉬고 살기 힘들정도의 시대가 왔다 \\n대기가 맑은 날이라...      153   \n",
       "23             샛별  글로벌리스트 카발 딥스테이트 일루미나티 외계 파충류가 함을  합쳐 지구를 파괴하는 ...        1   \n",
       "24            푸른솔          산을 사서 굴을파고  자력방위 시설을 갖추라~  물론  오래 못가겠지만 ㅠ        0   \n",
       "25           까칠줌마                  인간이 임신.출산을 멈춰야 지구는 살아나는 딜레마 상황입니다        5   \n",
       "26            나무꾼  1회용 사용 줄이고 \\n\\n분리수거 잘하고\\n\\n전기 물 등 등 절약하고 \\n\\n육...        3   \n",
       "27   제칠일안식일예수재림교회  사람들은 하나님의 심판이 세상에 임하고 있음을 깨달아야 할것이다. 화재와 홍수와 지...        2   \n",
       "28           까칠줌마                                       인구과밀로 과부하 상태        1   \n",
       "29            김민재         지구 종말 오는 것 같다 ㅠ 코로나, 가뭄, 홍수, 산불, 태풍, 고온 ;;        1   \n",
       "30             지랄                      지구멸망 없음 자정능력이 있어서\\n걍 인간만 사라질것        1   \n",
       "31             검도                              예수님 재림하시리라. 부활체가 되리라.        0   \n",
       "32   제칠일안식일예수재림교회  \"또 보니 다른 천사가 공중에 날아가는데 땅에 거주하는 자들 곧 모든 민족과 종족과...        2   \n",
       "\n",
       "   cmt_dislike  \n",
       "0           12  \n",
       "1            7  \n",
       "2            8  \n",
       "3            3  \n",
       "4            8  \n",
       "5            1  \n",
       "6            8  \n",
       "7           24  \n",
       "8            5  \n",
       "9            6  \n",
       "10           9  \n",
       "11           5  \n",
       "12           9  \n",
       "13          16  \n",
       "14          19  \n",
       "15           3  \n",
       "16           4  \n",
       "17           4  \n",
       "18           0  \n",
       "19           2  \n",
       "20           6  \n",
       "21           5  \n",
       "22           4  \n",
       "23           0  \n",
       "24           0  \n",
       "25           0  \n",
       "26           0  \n",
       "27           2  \n",
       "28           0  \n",
       "29           0  \n",
       "30           0  \n",
       "31           1  \n",
       "32           2  "
      ]
     },
     "execution_count": 86,
     "metadata": {},
     "output_type": "execute_result"
    }
   ],
   "source": [
    "cmt_df"
   ]
  },
  {
   "cell_type": "code",
   "execution_count": null,
   "id": "648838e9",
   "metadata": {},
   "outputs": [],
   "source": []
  }
 ],
 "metadata": {
  "celltoolbar": "Slideshow",
  "kernelspec": {
   "display_name": "Python 3",
   "language": "python",
   "name": "python3"
  },
  "language_info": {
   "codemirror_mode": {
    "name": "ipython",
    "version": 3
   },
   "file_extension": ".py",
   "mimetype": "text/x-python",
   "name": "python",
   "nbconvert_exporter": "python",
   "pygments_lexer": "ipython3",
   "version": "3.8.11"
  },
  "toc-autonumbering": false,
  "toc-showcode": false,
  "toc-showmarkdowntxt": false,
  "toc-showtags": false
 },
 "nbformat": 4,
 "nbformat_minor": 5
}
