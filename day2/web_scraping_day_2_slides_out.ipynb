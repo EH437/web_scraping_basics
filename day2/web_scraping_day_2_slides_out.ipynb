{
 "cells": [
  {
   "cell_type": "markdown",
   "id": "b7e57141",
   "metadata": {
    "slideshow": {
     "slide_type": "slide"
    },
    "tags": []
   },
   "source": [
    "# Python을 활용한 web scraping 기초\n",
    "\n",
    "2021.08.12"
   ]
  },
  {
   "cell_type": "markdown",
   "id": "b508dbfb-3dd6-498d-97af-5ab8a7be660f",
   "metadata": {
    "slideshow": {
     "slide_type": "-"
    }
   },
   "source": [
    "---"
   ]
  },
  {
   "cell_type": "markdown",
   "id": "e95686d2",
   "metadata": {
    "slideshow": {
     "slide_type": "slide"
    }
   },
   "source": [
    "# Introduction\n",
    "\n",
    "* 초보자 대상\n",
    "* 기본 구조를 이해하고 활용하기 위한 기초 단계 \n",
    "* 가장 기본적인 방법을 통해 데이터 가져오기"
   ]
  },
  {
   "cell_type": "markdown",
   "id": "a0305946",
   "metadata": {
    "slideshow": {
     "slide_type": "slide"
    }
   },
   "source": [
    "# Responsible web scraping\n",
    "\n",
    "* Terms of Service, robots.txt\n",
    "* Open API\n",
    "* Adequate request rate"
   ]
  },
  {
   "cell_type": "markdown",
   "id": "c41800af",
   "metadata": {
    "slideshow": {
     "slide_type": "slide"
    }
   },
   "source": [
    "# 예제 2: Job-Alio 공공기관정보\n",
    "\n",
    "공공기관정보: https://job.alio.go.kr/orginfo.do"
   ]
  },
  {
   "cell_type": "code",
   "execution_count": null,
   "id": "0cdb88f6",
   "metadata": {
    "slideshow": {
     "slide_type": "fragment"
    }
   },
   "outputs": [],
   "source": [
    "from selenium import webdriver\n",
    "import pandas as pd\n",
    "import time\n",
    "\n",
    "driver = webdriver.Chrome('./chromedriver')"
   ]
  },
  {
   "cell_type": "code",
   "execution_count": null,
   "id": "19271383",
   "metadata": {
    "slideshow": {
     "slide_type": "fragment"
    }
   },
   "outputs": [],
   "source": [
    "url = 'https://job.alio.go.kr/orginfo.do'\n",
    "driver.get(url)"
   ]
  },
  {
   "cell_type": "markdown",
   "id": "942a535e",
   "metadata": {
    "slideshow": {
     "slide_type": "subslide"
    }
   },
   "source": [
    "## 브라우저 제어"
   ]
  },
  {
   "cell_type": "markdown",
   "id": "6a60b940",
   "metadata": {
    "slideshow": {
     "slide_type": "fragment"
    }
   },
   "source": [
    "### Checkbox"
   ]
  },
  {
   "cell_type": "code",
   "execution_count": null,
   "id": "39e48bac",
   "metadata": {
    "slideshow": {
     "slide_type": "fragment"
    }
   },
   "outputs": [],
   "source": [
    "checkbox1 = driver.find_element_by_xpath('//*[@id=\"so01\"]')\n",
    "checkbox1.click()"
   ]
  },
  {
   "cell_type": "markdown",
   "id": "3c304711",
   "metadata": {
    "slideshow": {
     "slide_type": "subslide"
    }
   },
   "source": [
    "### Dropdown"
   ]
  },
  {
   "cell_type": "code",
   "execution_count": null,
   "id": "a9d08de4",
   "metadata": {
    "slideshow": {
     "slide_type": "fragment"
    }
   },
   "outputs": [],
   "source": [
    "from selenium.webdriver.support.ui import Select\n",
    "dropdown1 = Select(driver.find_element_by_xpath('//*[@id=\"jumu01\"]'))\n",
    "dropdown1.select_by_value('A1003')"
   ]
  },
  {
   "cell_type": "markdown",
   "id": "816421a0",
   "metadata": {
    "slideshow": {
     "slide_type": "subslide"
    }
   },
   "source": [
    "### Search & Reset"
   ]
  },
  {
   "cell_type": "code",
   "execution_count": null,
   "id": "598e9b07",
   "metadata": {
    "slideshow": {
     "slide_type": "fragment"
    }
   },
   "outputs": [],
   "source": [
    "driver.execute_script('javascript:fn_search();')"
   ]
  },
  {
   "cell_type": "code",
   "execution_count": null,
   "id": "e072a4d0",
   "metadata": {
    "slideshow": {
     "slide_type": "fragment"
    }
   },
   "outputs": [],
   "source": [
    "driver.execute_script('javascript:fn_reset();')"
   ]
  },
  {
   "cell_type": "markdown",
   "id": "87746156",
   "metadata": {
    "slideshow": {
     "slide_type": "subslide"
    }
   },
   "source": [
    "## 리스트 수집 - 방식 1"
   ]
  },
  {
   "cell_type": "code",
   "execution_count": 1,
   "id": "295dd377",
   "metadata": {
    "slideshow": {
     "slide_type": "fragment"
    }
   },
   "outputs": [],
   "source": [
    "from selenium import webdriver\n",
    "import pandas as pd\n",
    "import time\n",
    "\n",
    "driver = webdriver.Chrome('./chromedriver')\n",
    "url = 'https://job.alio.go.kr/orginfo.do'\n",
    "driver.get(url)"
   ]
  },
  {
   "cell_type": "code",
   "execution_count": 2,
   "id": "bb50a6c5",
   "metadata": {
    "slideshow": {
     "slide_type": "subslide"
    }
   },
   "outputs": [
    {
     "name": "stdout",
     "output_type": "stream",
     "text": [
      "processing page 1\n"
     ]
    }
   ],
   "source": [
    "page_number = 1\n",
    "more_page = True\n",
    "\n",
    "pub_name = []\n",
    "pub_gov = []\n",
    "pub_type = []\n",
    "pub_homepage = []\n",
    "pub_url = []\n",
    "\n",
    "while more_page:\n",
    "    driver.execute_script(f'goPage({page_number});return false;')\n",
    "    time.sleep(2)\n",
    "    print(f'processing page {page_number}')\n",
    "    \n",
    "    rows = driver.find_elements_by_xpath('//*[@id=\"txt\"]/table/tbody/tr')\n",
    "    \n",
    "    for r in rows:\n",
    "        pub_name.append(r.find_element_by_xpath('td[2]').text)\n",
    "        pub_gov.append(r.find_element_by_xpath('td[3]').text)\n",
    "        pub_type.append(r.find_element_by_xpath('td[4]').text)\n",
    "        pub_homepage.append(r.find_element_by_xpath('td[5]').text)\n",
    "        pub_url.append(r.find_element_by_xpath('td[2]/a').get_attribute('onclick'))\n",
    "    \n",
    "    page_number += 1\n",
    "    if page_number == 2:\n",
    "        more_page = False"
   ]
  },
  {
   "cell_type": "code",
   "execution_count": 3,
   "id": "25f0b74a",
   "metadata": {
    "slideshow": {
     "slide_type": "subslide"
    }
   },
   "outputs": [],
   "source": [
    "pub_df = pd.DataFrame(list(zip(pub_name, pub_gov, pub_type, pub_homepage, pub_url)), \n",
    "                      columns=['name', 'gov', 'type', 'homepage', 'url'])"
   ]
  },
  {
   "cell_type": "code",
   "execution_count": 4,
   "id": "73a1f54c",
   "metadata": {
    "slideshow": {
     "slide_type": "fragment"
    }
   },
   "outputs": [
    {
     "data": {
      "text/html": [
       "<div>\n",
       "<style scoped>\n",
       "    .dataframe tbody tr th:only-of-type {\n",
       "        vertical-align: middle;\n",
       "    }\n",
       "\n",
       "    .dataframe tbody tr th {\n",
       "        vertical-align: top;\n",
       "    }\n",
       "\n",
       "    .dataframe thead th {\n",
       "        text-align: right;\n",
       "    }\n",
       "</style>\n",
       "<table border=\"1\" class=\"dataframe\">\n",
       "  <thead>\n",
       "    <tr style=\"text-align: right;\">\n",
       "      <th></th>\n",
       "      <th>name</th>\n",
       "      <th>gov</th>\n",
       "      <th>type</th>\n",
       "      <th>homepage</th>\n",
       "      <th>url</th>\n",
       "    </tr>\n",
       "  </thead>\n",
       "  <tbody>\n",
       "    <tr>\n",
       "      <th>0</th>\n",
       "      <td>(사)남북교류협력지원협회</td>\n",
       "      <td>통일부</td>\n",
       "      <td>기타공공기관</td>\n",
       "      <td>http://www.sonosa.or.kr</td>\n",
       "      <td>javascript:fnDetail('C0847');</td>\n",
       "    </tr>\n",
       "    <tr>\n",
       "      <th>1</th>\n",
       "      <td>(재)APEC기후센터</td>\n",
       "      <td>기상청</td>\n",
       "      <td>기타공공기관</td>\n",
       "      <td>http://www.apcc21.org</td>\n",
       "      <td>javascript:fnDetail('C0918');</td>\n",
       "    </tr>\n",
       "    <tr>\n",
       "      <th>2</th>\n",
       "      <td>(재)국제원산지정보원</td>\n",
       "      <td>관세청</td>\n",
       "      <td>기타공공기관</td>\n",
       "      <td>http://www.origin.or.kr</td>\n",
       "      <td>javascript:fnDetail('C0916');</td>\n",
       "    </tr>\n",
       "    <tr>\n",
       "      <th>3</th>\n",
       "      <td>(재)예술경영지원센터</td>\n",
       "      <td>문화체육관광부</td>\n",
       "      <td>기타공공기관</td>\n",
       "      <td>http://www.gokams.or.kr</td>\n",
       "      <td>javascript:fnDetail('C0454');</td>\n",
       "    </tr>\n",
       "    <tr>\n",
       "      <th>4</th>\n",
       "      <td>(재)우체국금융개발원</td>\n",
       "      <td>과학기술정보통신부</td>\n",
       "      <td>준정부기관(위탁집행형)</td>\n",
       "      <td>http://www.posid.or.kr</td>\n",
       "      <td>javascript:fnDetail('C0352');</td>\n",
       "    </tr>\n",
       "    <tr>\n",
       "      <th>5</th>\n",
       "      <td>(재)우체국물류지원단</td>\n",
       "      <td>과학기술정보통신부</td>\n",
       "      <td>준정부기관(위탁집행형)</td>\n",
       "      <td>http://www.pola.or.kr</td>\n",
       "      <td>javascript:fnDetail('C0331');</td>\n",
       "    </tr>\n",
       "    <tr>\n",
       "      <th>6</th>\n",
       "      <td>(재)우체국시설관리단</td>\n",
       "      <td>과학기술정보통신부</td>\n",
       "      <td>기타공공기관</td>\n",
       "      <td>http://www.poma.or.kr</td>\n",
       "      <td>javascript:fnDetail('C0368');</td>\n",
       "    </tr>\n",
       "    <tr>\n",
       "      <th>7</th>\n",
       "      <td>(재)일제강제동원피해자지원재단</td>\n",
       "      <td>행정안전부</td>\n",
       "      <td>기타공공기관</td>\n",
       "      <td>https://www.ilje.or.kr/</td>\n",
       "      <td>javascript:fnDetail('C0931');</td>\n",
       "    </tr>\n",
       "    <tr>\n",
       "      <th>8</th>\n",
       "      <td>(재)축산환경관리원</td>\n",
       "      <td>농림축산식품부</td>\n",
       "      <td>기타공공기관</td>\n",
       "      <td>http://www.lemi.or.kr/</td>\n",
       "      <td>javascript:fnDetail('C1030');</td>\n",
       "    </tr>\n",
       "    <tr>\n",
       "      <th>9</th>\n",
       "      <td>(재)한국우편사업진흥원</td>\n",
       "      <td>과학기술정보통신부</td>\n",
       "      <td>준정부기관(위탁집행형)</td>\n",
       "      <td>http://www.posa.or.kr</td>\n",
       "      <td>javascript:fnDetail('C0354');</td>\n",
       "    </tr>\n",
       "  </tbody>\n",
       "</table>\n",
       "</div>"
      ],
      "text/plain": [
       "               name        gov          type                 homepage  \\\n",
       "0     (사)남북교류협력지원협회        통일부        기타공공기관  http://www.sonosa.or.kr   \n",
       "1       (재)APEC기후센터        기상청        기타공공기관    http://www.apcc21.org   \n",
       "2       (재)국제원산지정보원        관세청        기타공공기관  http://www.origin.or.kr   \n",
       "3       (재)예술경영지원센터    문화체육관광부        기타공공기관  http://www.gokams.or.kr   \n",
       "4       (재)우체국금융개발원  과학기술정보통신부  준정부기관(위탁집행형)   http://www.posid.or.kr   \n",
       "5       (재)우체국물류지원단  과학기술정보통신부  준정부기관(위탁집행형)    http://www.pola.or.kr   \n",
       "6       (재)우체국시설관리단  과학기술정보통신부        기타공공기관    http://www.poma.or.kr   \n",
       "7  (재)일제강제동원피해자지원재단      행정안전부        기타공공기관  https://www.ilje.or.kr/   \n",
       "8        (재)축산환경관리원    농림축산식품부        기타공공기관   http://www.lemi.or.kr/   \n",
       "9      (재)한국우편사업진흥원  과학기술정보통신부  준정부기관(위탁집행형)    http://www.posa.or.kr   \n",
       "\n",
       "                             url  \n",
       "0  javascript:fnDetail('C0847');  \n",
       "1  javascript:fnDetail('C0918');  \n",
       "2  javascript:fnDetail('C0916');  \n",
       "3  javascript:fnDetail('C0454');  \n",
       "4  javascript:fnDetail('C0352');  \n",
       "5  javascript:fnDetail('C0331');  \n",
       "6  javascript:fnDetail('C0368');  \n",
       "7  javascript:fnDetail('C0931');  \n",
       "8  javascript:fnDetail('C1030');  \n",
       "9  javascript:fnDetail('C0354');  "
      ]
     },
     "execution_count": 4,
     "metadata": {},
     "output_type": "execute_result"
    }
   ],
   "source": [
    "pub_df"
   ]
  },
  {
   "cell_type": "markdown",
   "id": "23ba74a4",
   "metadata": {
    "slideshow": {
     "slide_type": "subslide"
    }
   },
   "source": [
    "## 리스트 수집 - 방식 2"
   ]
  },
  {
   "cell_type": "code",
   "execution_count": null,
   "id": "5a56b72c",
   "metadata": {
    "slideshow": {
     "slide_type": "fragment"
    }
   },
   "outputs": [],
   "source": [
    "page_number = 1\n",
    "pub_list = []\n",
    "\n",
    "while True:\n",
    "    driver.execute_script(f'goPage({page_number});return false;')\n",
    "    time.sleep(2)\n",
    "    print(f'processing page {page_number}')\n",
    "    \n",
    "    table = driver.find_element_by_css_selector('#txt > table > tbody')\n",
    "    rows = table.find_elements_by_tag_name('tr')\n",
    "    \n",
    "    for r in rows:\n",
    "        pub_list.append({\n",
    "            'name':r.find_elements_by_css_selector('td')[1].text,\n",
    "            'gov':r.find_elements_by_css_selector('td')[2].text,\n",
    "            'type':r.find_elements_by_css_selector('td')[3].text,\n",
    "            'homepage':r.find_elements_by_css_selector('td')[4].text,\n",
    "            'url':r.find_element_by_css_selector('td.left > a').get_attribute('onclick')\n",
    "        })\n",
    "    page_number += 1\n",
    "    if page_number == 2:\n",
    "        break"
   ]
  },
  {
   "cell_type": "code",
   "execution_count": null,
   "id": "3ab44349",
   "metadata": {
    "slideshow": {
     "slide_type": "subslide"
    }
   },
   "outputs": [],
   "source": [
    "pub_df = pd.DataFrame(pub_list)"
   ]
  },
  {
   "cell_type": "code",
   "execution_count": null,
   "id": "ae45536d",
   "metadata": {
    "slideshow": {
     "slide_type": "fragment"
    }
   },
   "outputs": [],
   "source": [
    "pub_df"
   ]
  },
  {
   "cell_type": "markdown",
   "id": "af622e29",
   "metadata": {
    "slideshow": {
     "slide_type": "subslide"
    }
   },
   "source": [
    "## 본문 수집 - 방식 1"
   ]
  },
  {
   "cell_type": "code",
   "execution_count": null,
   "id": "06fab91c",
   "metadata": {
    "slideshow": {
     "slide_type": "fragment"
    }
   },
   "outputs": [],
   "source": [
    "pub_contents = []\n",
    "\n",
    "for u in pub_df['url']:\n",
    "    driver.execute_script(u)\n",
    "    time.sleep(2)\n",
    "    \n",
    "    table = driver.find_element_by_css_selector('#txt > table')\n",
    "    headers = table.find_elements_by_tag_name('th')\n",
    "    contents = table.find_elements_by_tag_name('td')\n",
    "    header_list = []\n",
    "    content_list = []\n",
    "    \n",
    "    for h in range(len(headers)):\n",
    "        header_list.append(headers[h].text)\n",
    "        content_list.append(contents[h].text)\n",
    "        \n",
    "    alio_dict = {}\n",
    "    \n",
    "    for n in range(len(header_list)):\n",
    "        alio_dict[header_list[n]] = content_list[n]\n",
    "        \n",
    "    pub_contents.append(alio_dict)\n",
    "    \n",
    "    driver.back()\n",
    "    time.sleep(2)"
   ]
  },
  {
   "cell_type": "code",
   "execution_count": null,
   "id": "92c0184f",
   "metadata": {
    "slideshow": {
     "slide_type": "subslide"
    }
   },
   "outputs": [],
   "source": [
    "pub_content_df = pd.DataFrame(pub_contents)\n",
    "pub_content_df"
   ]
  },
  {
   "cell_type": "code",
   "execution_count": null,
   "id": "6eb8eca2",
   "metadata": {
    "slideshow": {
     "slide_type": "subslide"
    }
   },
   "outputs": [],
   "source": [
    "pub_df_merge = pd.merge(pub_df, pub_content_df, left_on='name', right_on='기관명', how='left')"
   ]
  },
  {
   "cell_type": "code",
   "execution_count": null,
   "id": "18ea70b5",
   "metadata": {
    "slideshow": {
     "slide_type": "fragment"
    }
   },
   "outputs": [],
   "source": [
    "pub_df_merge"
   ]
  },
  {
   "cell_type": "code",
   "execution_count": null,
   "id": "31937cc3",
   "metadata": {
    "slideshow": {
     "slide_type": "subslide"
    }
   },
   "outputs": [],
   "source": [
    "pub_df_concat = pd.concat([pub_df, pub_content_df], axis=1)"
   ]
  },
  {
   "cell_type": "code",
   "execution_count": null,
   "id": "49c68f50",
   "metadata": {
    "slideshow": {
     "slide_type": "fragment"
    }
   },
   "outputs": [],
   "source": [
    "pub_df_concat"
   ]
  },
  {
   "cell_type": "markdown",
   "id": "51c5e058",
   "metadata": {
    "slideshow": {
     "slide_type": "subslide"
    }
   },
   "source": [
    "## 본문 수집 - 방식 2"
   ]
  },
  {
   "cell_type": "markdown",
   "id": "e8cb5d73",
   "metadata": {
    "slideshow": {
     "slide_type": "fragment"
    }
   },
   "source": [
    "### url 구성에 필요한 정보 추출"
   ]
  },
  {
   "cell_type": "code",
   "execution_count": null,
   "id": "13baca8d",
   "metadata": {
    "slideshow": {
     "slide_type": "fragment"
    }
   },
   "outputs": [],
   "source": [
    "pub_url[0]"
   ]
  },
  {
   "cell_type": "code",
   "execution_count": null,
   "id": "1f8b830c",
   "metadata": {
    "slideshow": {
     "slide_type": "fragment"
    }
   },
   "outputs": [],
   "source": [
    "apba_id = pub_url[0].split(\"'\")[1]\n",
    "print(apba_id)"
   ]
  },
  {
   "cell_type": "code",
   "execution_count": null,
   "id": "af5dbde5",
   "metadata": {
    "slideshow": {
     "slide_type": "fragment"
    }
   },
   "outputs": [],
   "source": [
    "url = 'https://job.alio.go.kr/orginfoview.do?apba_id=' + apba_id\n",
    "print(url)"
   ]
  },
  {
   "cell_type": "code",
   "execution_count": null,
   "id": "e89a642a",
   "metadata": {
    "slideshow": {
     "slide_type": "fragment"
    }
   },
   "outputs": [],
   "source": [
    "pub_real_url"
   ]
  },
  {
   "cell_type": "code",
   "execution_count": null,
   "id": "e449f84d",
   "metadata": {
    "slideshow": {
     "slide_type": "subslide"
    }
   },
   "outputs": [],
   "source": [
    "pub_contents = []\n",
    "for u in pub_real_urls:\n",
    "    driver.get(u)\n",
    "    time.sleep(2)\n",
    "    \n",
    "    rows = driver.find_elements_by_xpath('//*[@id=\"txt\"]/table/tbody/tr')\n",
    "    alio_dict = {}\n",
    "    for r in rows:\n",
    "        header = r.find_element_by_tag_name('th').text\n",
    "        content = r.find_element_by_tag_name('td').text\n",
    "        alio_dict[header]=content\n",
    "        \n",
    "    pub_contents.append(alio_dict)"
   ]
  },
  {
   "cell_type": "code",
   "execution_count": null,
   "id": "e31f4913",
   "metadata": {
    "slideshow": {
     "slide_type": "subslide"
    }
   },
   "outputs": [],
   "source": [
    "pub_content_df = pd.DataFrame(pub_contents)\n",
    "pub_content_df"
   ]
  },
  {
   "cell_type": "markdown",
   "id": "52f1a025",
   "metadata": {},
   "source": [
    "### 정리 1"
   ]
  },
  {
   "cell_type": "code",
   "execution_count": 5,
   "id": "6fe433d0",
   "metadata": {
    "slideshow": {
     "slide_type": "subslide"
    }
   },
   "outputs": [],
   "source": [
    "pub_contents = []\n",
    "\n",
    "for u in pub_url:\n",
    "    apba_id = u.split(\"'\")[1]\n",
    "    pub_real_url = 'https://job.alio.go.kr/orginfoview.do?apba_id=' + apba_id\n",
    "    \n",
    "    driver.get(pub_real_url)\n",
    "    time.sleep(2)\n",
    "    \n",
    "    rows = driver.find_elements_by_xpath('//*[@id=\"txt\"]/table/tbody/tr')\n",
    "    \n",
    "    alio_dict = {}\n",
    "    for r in rows:\n",
    "        header = r.find_element_by_tag_name('th').text\n",
    "        content = r.find_element_by_tag_name('td').text\n",
    "        alio_dict[header]=content\n",
    "        \n",
    "    pub_contents.append(alio_dict)"
   ]
  },
  {
   "cell_type": "code",
   "execution_count": 6,
   "id": "e81c8e07",
   "metadata": {
    "slideshow": {
     "slide_type": "subslide"
    }
   },
   "outputs": [
    {
     "data": {
      "text/html": [
       "<div>\n",
       "<style scoped>\n",
       "    .dataframe tbody tr th:only-of-type {\n",
       "        vertical-align: middle;\n",
       "    }\n",
       "\n",
       "    .dataframe tbody tr th {\n",
       "        vertical-align: top;\n",
       "    }\n",
       "\n",
       "    .dataframe thead th {\n",
       "        text-align: right;\n",
       "    }\n",
       "</style>\n",
       "<table border=\"1\" class=\"dataframe\">\n",
       "  <thead>\n",
       "    <tr style=\"text-align: right;\">\n",
       "      <th></th>\n",
       "      <th>기관명</th>\n",
       "      <th>기관소개</th>\n",
       "      <th>주무기관</th>\n",
       "      <th>설립근거</th>\n",
       "      <th>주요기능 및 역할</th>\n",
       "      <th>기관연혁</th>\n",
       "      <th>경영목표 및 전략</th>\n",
       "      <th>기관장</th>\n",
       "      <th>소재지</th>\n",
       "    </tr>\n",
       "  </thead>\n",
       "  <tbody>\n",
       "    <tr>\n",
       "      <th>0</th>\n",
       "      <td>(사)남북교류협력지원협회</td>\n",
       "      <td>정부 위탁업무 수행, 정책건의, 남북교류협력 관련 조사·연구 및 분석 등을 통한 남...</td>\n",
       "      <td>통일부</td>\n",
       "      <td>민법 32조</td>\n",
       "      <td>o 남북교류협력과 관련한 정부 위탁사업 수행\\no 정부에 대한 남북교류협력 활성화 ...</td>\n",
       "      <td>o 2007.05.22 법인설립 인가(통일부)\\no 2007.05.28「남북 경공업...</td>\n",
       "      <td>o 남북교류협력 활력 제고 및 성장동력 확보\\n- 남북교류협력 원스톱 서비스 체계 ...</td>\n",
       "      <td>강영식</td>\n",
       "      <td>중구 퇴계로 97, 601호</td>\n",
       "    </tr>\n",
       "    <tr>\n",
       "      <th>1</th>\n",
       "      <td>(재)APEC기후센터</td>\n",
       "      <td>기후예측과 그 관련 연구를 통해 기후변화 및 변동의 영향에 효과적으로 대응할 수 있...</td>\n",
       "      <td>기상청</td>\n",
       "      <td>민법 제32조, 공익법인의 설립·운영에 관한 법률</td>\n",
       "      <td>○ 기후변동 및 변화의 진단, 예측 관련 정보의 수집, 생산 및 유통\\n○ 기후변동...</td>\n",
       "      <td>○ 2004.03 제4차 APEC 과학기술장관회의에서 설립 제안\\n○ 2005.03...</td>\n",
       "      <td>○ 기후예측 전문성 강화 및 국내 기여 확대\\n○ 기후예측 기술 개발 및 기후 감시...</td>\n",
       "      <td>권원태</td>\n",
       "      <td>해운대구 센텀7로 12</td>\n",
       "    </tr>\n",
       "    <tr>\n",
       "      <th>2</th>\n",
       "      <td>(재)국제원산지정보원</td>\n",
       "      <td>자유무역협정 및 원산지 관련 연구ㆍ조사ㆍ정보 보급 확대 등을 통하여 우리 기업의&lt;b...</td>\n",
       "      <td>관세청</td>\n",
       "      <td>민법 제32조(비영리법인의 설립과 허가)</td>\n",
       "      <td>1. 자유무역협정ㆍ원산지 정보의 수집ㆍ분석 수탁 사업\\n2. 자유무역협정ㆍ원산지 정...</td>\n",
       "      <td>2009. 1 원산지정보 수집· 분석 전문기관 지정(관세청)\\n2009. 2 「한국...</td>\n",
       "      <td>미션 : FTA 및 원산지 연구· 조사와 정보보급을 통해 기업경쟁력 강화와 국민경제...</td>\n",
       "      <td>박병진</td>\n",
       "      <td>성남시 분당구 야탑로 205번길8</td>\n",
       "    </tr>\n",
       "    <tr>\n",
       "      <th>3</th>\n",
       "      <td>(재)예술경영지원센터</td>\n",
       "      <td>예술유통의 활성화와 예술기관의 경쟁력 강화를 종합적이고 체계적으로 지원함으로써, 예...</td>\n",
       "      <td>문화체육관광부</td>\n",
       "      <td>민법 제32조에 의한 재단법인</td>\n",
       "      <td>1. 예술 유통구조의 체계화 및 활성화 지원\\n2. 예술기관·단체 운영 및 경영 관...</td>\n",
       "      <td>○ 2006년 재단법인 예술경영지원센터 설립 (2006.1.12.), 제1기 이사회...</td>\n",
       "      <td>○ 비전 : 예술시장 활성화로 예술현장의 지속성장을 이끌어가는 기관\\n○ 핵심가치 ...</td>\n",
       "      <td>김도일</td>\n",
       "      <td>종로구 대학로 57(연건동) 홍익대학교 대학로캠퍼스 교육동 3층, 12층</td>\n",
       "    </tr>\n",
       "    <tr>\n",
       "      <th>4</th>\n",
       "      <td>(재)우체국금융개발원</td>\n",
       "      <td>우체국금융 업무를 효과적으로 지원함으로써 우체국예금보험사업의 향상·발전에 기여\\n홈...</td>\n",
       "      <td>과학기술정보통신부</td>\n",
       "      <td>민법 제32조(비영리법인의 설립과 허가) 학술, 종교, 자선, 기예, 사교 기타 영...</td>\n",
       "      <td>ㅇ 국내외 금융시장에 대한 조사·연구\\nㅇ 우체국금융 신서비스 도입 및 마케팅 방안...</td>\n",
       "      <td>1966.04. 재단법인 체신저축장려회 설립\\n1976.12. 재단법인 체신장려회로...</td>\n",
       "      <td>◎ 미션 : 안전하고 편리한 금융서비스를 통해 국민의 삶의 질 향상에 기여한다\\n\\...</td>\n",
       "      <td>유대선</td>\n",
       "      <td>영등포구 경인로 841(영등포동4가)</td>\n",
       "    </tr>\n",
       "    <tr>\n",
       "      <th>5</th>\n",
       "      <td>(재)우체국물류지원단</td>\n",
       "      <td>안전ㆍ신속ㆍ정확한 우편물류서비스를 효율적으로 제공함으로써 국민의 편익 &lt;br /&gt;증...</td>\n",
       "      <td>과학기술정보통신부</td>\n",
       "      <td>민법 제32조</td>\n",
       "      <td>'우체국물류지원단'은 전국 우편물 운송, 배달, 분류, 국제우편물 포워딩 등 종합우...</td>\n",
       "      <td>□ 1980.08.26 법인설립 (재)체신복지회\\n□ 1981.03.01 수도권 우...</td>\n",
       "      <td>□ (기관미션) 안전ㆍ 신속ㆍ 정확한 우편물류서비스를 효율적으로 제공함으로써\\n국민...</td>\n",
       "      <td>천장수</td>\n",
       "      <td>광진구 자양로 76</td>\n",
       "    </tr>\n",
       "    <tr>\n",
       "      <th>6</th>\n",
       "      <td>(재)우체국시설관리단</td>\n",
       "      <td>우정사업조직에 속한 부동산의 효율적 관리ㆍ운영으로 우정자산의 적극적 활용 및 가치향...</td>\n",
       "      <td>과학기술정보통신부</td>\n",
       "      <td>민법 제32조(비영리법인의 설립과 허가)</td>\n",
       "      <td>o 우정재산의 사용ㆍ수익 허가 및 대부업무 지원사업\\no 우정사업 부동산 시설 유지...</td>\n",
       "      <td>o 2001. 11. 23. 법인 설립\\no 2006. 12. 28. 우체국사 관리...</td>\n",
       "      <td>⊙ 미션 : 전문적이고 효율적인 우정시설 및 자산관리를 통해 공공의 복리 증진에 기...</td>\n",
       "      <td>김성칠</td>\n",
       "      <td>광진구 강벽역로 2(구의동, 우체국시설관리단)</td>\n",
       "    </tr>\n",
       "    <tr>\n",
       "      <th>7</th>\n",
       "      <td>(재)일제강제동원피해자지원재단</td>\n",
       "      <td>일제강제동원 피해·희생자 및 유족 등에 대한 복지지원사업, 추념사업 및 강제동원 피...</td>\n",
       "      <td>행정안전부</td>\n",
       "      <td>- 설립근거「민법」제32조(비영리 법인의 설립과 허가),「공익법인의 설립·운영에 관...</td>\n",
       "      <td>- 일제 강제동원 희생자에 대한 추도순례 등 위령사업- 해외 추도공간 조성 및 일제...</td>\n",
       "      <td>- 2014. 6. 2. / 3. 재단 설립허가/등기- 2015. 1. 29. 기타...</td>\n",
       "      <td>- 미션: 과거의 기억, 현재의 통합, 미래의 평화- 비젼: 국민과 함께 평화와 인...</td>\n",
       "      <td>김용덕</td>\n",
       "      <td>종로구 종로1길 42, 603호(수송동, 이마빌딩)</td>\n",
       "    </tr>\n",
       "    <tr>\n",
       "      <th>8</th>\n",
       "      <td>(재)축산환경관리원</td>\n",
       "      <td>친환경적인 가축사육환경 조성 및 가축분뇨의 자원화를 효율적으로 수행함으로써&lt;br /...</td>\n",
       "      <td>농림축산식품부</td>\n",
       "      <td>「가축분뇨의 관리 및 이용에 관한 법률」제38조의2(축산환경관리원의 설립·운영)</td>\n",
       "      <td>o 배출시설 또는 처리시설 컨설팅, 지도 및 교육, 퇴비·액비의 품질관리\\no 가축...</td>\n",
       "      <td>o 민간관리기구 도입검토('10.7월, 국무총리실 주관 T/F팀)o '가축분뇨의 효...</td>\n",
       "      <td>o (비전) 국민에게 신뢰받는 세계 최고의 축산환경개선 선도기관\\no (미션) 지속...</td>\n",
       "      <td>이영희</td>\n",
       "      <td>한누리대로 219, 7층(나성동, 한림프라자)</td>\n",
       "    </tr>\n",
       "    <tr>\n",
       "      <th>9</th>\n",
       "      <td>(재)한국우편사업진흥원</td>\n",
       "      <td>우편서비스의 질적 향상 및 우정문화를 창달함으로써 우정사업 발전과 국민문화 생활에 ...</td>\n",
       "      <td>과학기술정보통신부</td>\n",
       "      <td>민법 제32조(비영리법인의 설립과 허가)</td>\n",
       "      <td>1. 문화우편상품과 우표류 보급 및 콘텐츠를 통한 우정문화 확산\\n2. 우정 및 그...</td>\n",
       "      <td>ㅇ 1930. 12. 03 우편소청사협회 설립\\nㅇ 1939. 11. 06 조선체신...</td>\n",
       "      <td>ㅇ 미션: 우정문화의 가치혁신과 선진 우편서비스의 제공으로 국민의 행복과 공익실현에...</td>\n",
       "      <td>민재석</td>\n",
       "      <td>영등포구 영중로 83</td>\n",
       "    </tr>\n",
       "  </tbody>\n",
       "</table>\n",
       "</div>"
      ],
      "text/plain": [
       "                기관명                                               기관소개  \\\n",
       "0     (사)남북교류협력지원협회  정부 위탁업무 수행, 정책건의, 남북교류협력 관련 조사·연구 및 분석 등을 통한 남...   \n",
       "1       (재)APEC기후센터  기후예측과 그 관련 연구를 통해 기후변화 및 변동의 영향에 효과적으로 대응할 수 있...   \n",
       "2       (재)국제원산지정보원  자유무역협정 및 원산지 관련 연구ㆍ조사ㆍ정보 보급 확대 등을 통하여 우리 기업의<b...   \n",
       "3       (재)예술경영지원센터  예술유통의 활성화와 예술기관의 경쟁력 강화를 종합적이고 체계적으로 지원함으로써, 예...   \n",
       "4       (재)우체국금융개발원  우체국금융 업무를 효과적으로 지원함으로써 우체국예금보험사업의 향상·발전에 기여\\n홈...   \n",
       "5       (재)우체국물류지원단  안전ㆍ신속ㆍ정확한 우편물류서비스를 효율적으로 제공함으로써 국민의 편익 <br />증...   \n",
       "6       (재)우체국시설관리단  우정사업조직에 속한 부동산의 효율적 관리ㆍ운영으로 우정자산의 적극적 활용 및 가치향...   \n",
       "7  (재)일제강제동원피해자지원재단  일제강제동원 피해·희생자 및 유족 등에 대한 복지지원사업, 추념사업 및 강제동원 피...   \n",
       "8        (재)축산환경관리원  친환경적인 가축사육환경 조성 및 가축분뇨의 자원화를 효율적으로 수행함으로써<br /...   \n",
       "9      (재)한국우편사업진흥원  우편서비스의 질적 향상 및 우정문화를 창달함으로써 우정사업 발전과 국민문화 생활에 ...   \n",
       "\n",
       "        주무기관                                               설립근거  \\\n",
       "0        통일부                                             민법 32조   \n",
       "1        기상청                        민법 제32조, 공익법인의 설립·운영에 관한 법률   \n",
       "2        관세청                             민법 제32조(비영리법인의 설립과 허가)   \n",
       "3    문화체육관광부                                   민법 제32조에 의한 재단법인   \n",
       "4  과학기술정보통신부  민법 제32조(비영리법인의 설립과 허가) 학술, 종교, 자선, 기예, 사교 기타 영...   \n",
       "5  과학기술정보통신부                                            민법 제32조   \n",
       "6  과학기술정보통신부                             민법 제32조(비영리법인의 설립과 허가)   \n",
       "7      행정안전부  - 설립근거「민법」제32조(비영리 법인의 설립과 허가),「공익법인의 설립·운영에 관...   \n",
       "8    농림축산식품부       「가축분뇨의 관리 및 이용에 관한 법률」제38조의2(축산환경관리원의 설립·운영)   \n",
       "9  과학기술정보통신부                             민법 제32조(비영리법인의 설립과 허가)   \n",
       "\n",
       "                                           주요기능 및 역할  \\\n",
       "0  o 남북교류협력과 관련한 정부 위탁사업 수행\\no 정부에 대한 남북교류협력 활성화 ...   \n",
       "1  ○ 기후변동 및 변화의 진단, 예측 관련 정보의 수집, 생산 및 유통\\n○ 기후변동...   \n",
       "2  1. 자유무역협정ㆍ원산지 정보의 수집ㆍ분석 수탁 사업\\n2. 자유무역협정ㆍ원산지 정...   \n",
       "3  1. 예술 유통구조의 체계화 및 활성화 지원\\n2. 예술기관·단체 운영 및 경영 관...   \n",
       "4  ㅇ 국내외 금융시장에 대한 조사·연구\\nㅇ 우체국금융 신서비스 도입 및 마케팅 방안...   \n",
       "5  '우체국물류지원단'은 전국 우편물 운송, 배달, 분류, 국제우편물 포워딩 등 종합우...   \n",
       "6  o 우정재산의 사용ㆍ수익 허가 및 대부업무 지원사업\\no 우정사업 부동산 시설 유지...   \n",
       "7  - 일제 강제동원 희생자에 대한 추도순례 등 위령사업- 해외 추도공간 조성 및 일제...   \n",
       "8  o 배출시설 또는 처리시설 컨설팅, 지도 및 교육, 퇴비·액비의 품질관리\\no 가축...   \n",
       "9  1. 문화우편상품과 우표류 보급 및 콘텐츠를 통한 우정문화 확산\\n2. 우정 및 그...   \n",
       "\n",
       "                                                기관연혁  \\\n",
       "0  o 2007.05.22 법인설립 인가(통일부)\\no 2007.05.28「남북 경공업...   \n",
       "1  ○ 2004.03 제4차 APEC 과학기술장관회의에서 설립 제안\\n○ 2005.03...   \n",
       "2  2009. 1 원산지정보 수집· 분석 전문기관 지정(관세청)\\n2009. 2 「한국...   \n",
       "3  ○ 2006년 재단법인 예술경영지원센터 설립 (2006.1.12.), 제1기 이사회...   \n",
       "4  1966.04. 재단법인 체신저축장려회 설립\\n1976.12. 재단법인 체신장려회로...   \n",
       "5  □ 1980.08.26 법인설립 (재)체신복지회\\n□ 1981.03.01 수도권 우...   \n",
       "6  o 2001. 11. 23. 법인 설립\\no 2006. 12. 28. 우체국사 관리...   \n",
       "7  - 2014. 6. 2. / 3. 재단 설립허가/등기- 2015. 1. 29. 기타...   \n",
       "8  o 민간관리기구 도입검토('10.7월, 국무총리실 주관 T/F팀)o '가축분뇨의 효...   \n",
       "9  ㅇ 1930. 12. 03 우편소청사협회 설립\\nㅇ 1939. 11. 06 조선체신...   \n",
       "\n",
       "                                           경영목표 및 전략  기관장  \\\n",
       "0  o 남북교류협력 활력 제고 및 성장동력 확보\\n- 남북교류협력 원스톱 서비스 체계 ...  강영식   \n",
       "1  ○ 기후예측 전문성 강화 및 국내 기여 확대\\n○ 기후예측 기술 개발 및 기후 감시...  권원태   \n",
       "2  미션 : FTA 및 원산지 연구· 조사와 정보보급을 통해 기업경쟁력 강화와 국민경제...  박병진   \n",
       "3  ○ 비전 : 예술시장 활성화로 예술현장의 지속성장을 이끌어가는 기관\\n○ 핵심가치 ...  김도일   \n",
       "4  ◎ 미션 : 안전하고 편리한 금융서비스를 통해 국민의 삶의 질 향상에 기여한다\\n\\...  유대선   \n",
       "5  □ (기관미션) 안전ㆍ 신속ㆍ 정확한 우편물류서비스를 효율적으로 제공함으로써\\n국민...  천장수   \n",
       "6  ⊙ 미션 : 전문적이고 효율적인 우정시설 및 자산관리를 통해 공공의 복리 증진에 기...  김성칠   \n",
       "7  - 미션: 과거의 기억, 현재의 통합, 미래의 평화- 비젼: 국민과 함께 평화와 인...  김용덕   \n",
       "8  o (비전) 국민에게 신뢰받는 세계 최고의 축산환경개선 선도기관\\no (미션) 지속...  이영희   \n",
       "9  ㅇ 미션: 우정문화의 가치혁신과 선진 우편서비스의 제공으로 국민의 행복과 공익실현에...  민재석   \n",
       "\n",
       "                                        소재지  \n",
       "0                           중구 퇴계로 97, 601호  \n",
       "1                              해운대구 센텀7로 12  \n",
       "2                        성남시 분당구 야탑로 205번길8  \n",
       "3  종로구 대학로 57(연건동) 홍익대학교 대학로캠퍼스 교육동 3층, 12층  \n",
       "4                      영등포구 경인로 841(영등포동4가)  \n",
       "5                                광진구 자양로 76  \n",
       "6                 광진구 강벽역로 2(구의동, 우체국시설관리단)  \n",
       "7              종로구 종로1길 42, 603호(수송동, 이마빌딩)  \n",
       "8                 한누리대로 219, 7층(나성동, 한림프라자)  \n",
       "9                               영등포구 영중로 83  "
      ]
     },
     "execution_count": 6,
     "metadata": {},
     "output_type": "execute_result"
    }
   ],
   "source": [
    "pub_content_df = pd.DataFrame(pub_contents)\n",
    "pub_content_df"
   ]
  },
  {
   "cell_type": "markdown",
   "id": "177dde47",
   "metadata": {},
   "source": [
    "### 정리 2"
   ]
  },
  {
   "cell_type": "code",
   "execution_count": 9,
   "id": "6deac58d",
   "metadata": {},
   "outputs": [],
   "source": [
    "import csv\n",
    "\n",
    "file_name = \"공공기관정보(job-alio).csv\"\n",
    "f = open(file_name, 'w', encoding='utf-8-sig', newline='')\n",
    "writer = csv.writer(f)\n",
    "\n",
    "for u in pub_url:\n",
    "    apba_id = u.split(\"'\")[1]\n",
    "    pub_real_url = 'https://job.alio.go.kr/orginfoview.do?apba_id=' + apba_id\n",
    "    \n",
    "    driver.get(pub_real_url)\n",
    "    time.sleep(2)\n",
    "    \n",
    "    rows = driver.find_elements_by_xpath('//*[@id=\"txt\"]/table/tbody/tr')\n",
    "    \n",
    "    content = []\n",
    "    for r in rows:\n",
    "        content.append(r.find_element_by_tag_name('td').text)\n",
    "    writer.writerow(content)    \n",
    "f.close()"
   ]
  },
  {
   "cell_type": "markdown",
   "id": "e176f38a",
   "metadata": {
    "slideshow": {
     "slide_type": "slide"
    }
   },
   "source": [
    "## Headless Chrome"
   ]
  },
  {
   "cell_type": "markdown",
   "id": "395b506a",
   "metadata": {
    "slideshow": {
     "slide_type": "fragment"
    }
   },
   "source": [
    "### User Agents\n",
    "\n",
    "웹사이트에 접속할 때 어느 브라우저를 쓰는지, OS를 쓰는지, 컴퓨터로 접속하는지, 스마트폰으로 접속하는지 등 정보를 서버가 알 수 있음  \n",
    "사람이 접속하는 것이 아니라 컴퓨터가 접속하는 경우 사이트에서는 접속을 차단할 수 있음  \n",
    "\n",
    "https://www.whatismybrowser.com/detect/what-is-my-user-agent"
   ]
  },
  {
   "cell_type": "code",
   "execution_count": null,
   "id": "f3b8e5a4",
   "metadata": {
    "slideshow": {
     "slide_type": "subslide"
    }
   },
   "outputs": [],
   "source": [
    "headless_options = webdriver.ChromeOptions()\n",
    "headless_options.headless = True\n",
    "headless_options.add_argument('window-size=1920x1080')  \n",
    "headless_options.add_argument('User-Agent: Mozilla/5.0 (Windows NT 10.0; Win64; x64) AppleWebKit/537.36 (KHTML, like Gecko) Chrome/92.0.4515.131 Safari/537.36')  \n",
    "headless_options.add_argument('lang=ko_KR')  \n",
    "headless_options.add_argument('disable-gpu')  "
   ]
  },
  {
   "cell_type": "code",
   "execution_count": null,
   "id": "3d5827f3",
   "metadata": {
    "slideshow": {
     "slide_type": "subslide"
    }
   },
   "outputs": [],
   "source": [
    "from selenium import webdriver\n",
    "import pandas as pd\n",
    "import time\n",
    "\n",
    "headless_driver = webdriver.Chrome('./chromedriver', options=headless_options)\n",
    "url = 'https://job.alio.go.kr/orginfo.do'\n",
    "headless_driver.get(url)"
   ]
  },
  {
   "cell_type": "code",
   "execution_count": null,
   "id": "210cdba5",
   "metadata": {
    "slideshow": {
     "slide_type": "fragment"
    }
   },
   "outputs": [],
   "source": [
    "headless_driver.get_screenshot_as_file(\"./img/Job-Alio_first.png\")"
   ]
  },
  {
   "cell_type": "markdown",
   "id": "d9cb81bb",
   "metadata": {
    "slideshow": {
     "slide_type": "subslide"
    }
   },
   "source": [
    "screenshot \n",
    "\n",
    "![screenshot_1](./img/Job-Alio_first.png)"
   ]
  },
  {
   "cell_type": "code",
   "execution_count": null,
   "id": "e468cc2a",
   "metadata": {
    "slideshow": {
     "slide_type": "subslide"
    }
   },
   "outputs": [],
   "source": [
    "checkbox1 = headless_driver.find_element_by_xpath('//*[@id=\"so01\"]')\n",
    "checkbox1.click()"
   ]
  },
  {
   "cell_type": "code",
   "execution_count": null,
   "id": "6165fd4b",
   "metadata": {
    "slideshow": {
     "slide_type": "fragment"
    }
   },
   "outputs": [],
   "source": [
    "headless_driver.get_screenshot_as_file(\"./img/Job-Alio_checkbox.png\")"
   ]
  },
  {
   "cell_type": "markdown",
   "id": "ea270339",
   "metadata": {
    "slideshow": {
     "slide_type": "subslide"
    }
   },
   "source": [
    "screenshot2 \n",
    "\n",
    "![screenshot_2](./img/Job-Alio_checkbox.png)"
   ]
  },
  {
   "cell_type": "code",
   "execution_count": null,
   "id": "91c1c353",
   "metadata": {
    "slideshow": {
     "slide_type": "subslide"
    }
   },
   "outputs": [],
   "source": [
    "pub_contents = []\n",
    "\n",
    "for u in pub_url:\n",
    "    apba_id = u.split(\"'\")[1]\n",
    "    pub_real_url = 'https://job.alio.go.kr/orginfoview.do?apba_id=' + apba_id\n",
    "\n",
    "    headless_driver.get(pub_real_url)\n",
    "    time.sleep(2)\n",
    "    print(f'processing {apba_id}')\n",
    "    \n",
    "    rows = headless_driver.find_elements_by_xpath('//*[@id=\"txt\"]/table/tbody/tr')\n",
    "    alio_dict = {}\n",
    "    for r in rows:\n",
    "        header = r.find_element_by_tag_name('th').text\n",
    "        content = r.find_element_by_tag_name('td').text\n",
    "        alio_dict[header]=content\n",
    "        \n",
    "    pub_contents.append(alio_dict)"
   ]
  },
  {
   "cell_type": "code",
   "execution_count": null,
   "id": "067dab35",
   "metadata": {
    "slideshow": {
     "slide_type": "subslide"
    }
   },
   "outputs": [],
   "source": [
    "pub_content_df1 = pd.DataFrame(pub_contents)\n",
    "pub_content_df1"
   ]
  },
  {
   "cell_type": "code",
   "execution_count": null,
   "id": "d5ca0b9f",
   "metadata": {
    "slideshow": {
     "slide_type": "fragment"
    }
   },
   "outputs": [],
   "source": [
    "headless_driver.quit()"
   ]
  },
  {
   "cell_type": "markdown",
   "id": "4e0adc67",
   "metadata": {
    "slideshow": {
     "slide_type": "slide"
    }
   },
   "source": [
    "## Requests & BeautifulSoup"
   ]
  },
  {
   "cell_type": "code",
   "execution_count": null,
   "id": "f9673c9b",
   "metadata": {
    "slideshow": {
     "slide_type": "subslide"
    }
   },
   "outputs": [],
   "source": [
    "import requests\n",
    "from bs4 import BeautifulSoup\n",
    "\n",
    "pub_contents = []\n",
    "for u in pub_url:\n",
    "    apba_id = u.split(\"'\")[1]\n",
    "    pub_real_url = 'https://job.alio.go.kr/orginfoview.do?apba_id=' + apba_id\n",
    "\n",
    "    res = requests.get(pub_real_url)\n",
    "    time.sleep(2)\n",
    "    print(f'processing {apba_id}')\n",
    "    \n",
    "    soup = BeautifulSoup(res.text, 'html.parser')\n",
    "    rows = soup.select('#txt > table > tbody > tr')\n",
    "    \n",
    "    alio_dict = {}\n",
    "    for r in rows:\n",
    "        header = r.select_one('th').get_text()\n",
    "        content = r.select_one('td').get_text()\n",
    "        alio_dict[header]=content\n",
    "        \n",
    "    pub_contents.append(alio_dict)"
   ]
  },
  {
   "cell_type": "code",
   "execution_count": null,
   "id": "fda885e4",
   "metadata": {
    "slideshow": {
     "slide_type": "subslide"
    }
   },
   "outputs": [],
   "source": [
    "pub_content_df_request = pd.DataFrame(pub_contents)\n",
    "pub_content_df_request"
   ]
  },
  {
   "cell_type": "markdown",
   "id": "9ef590e3",
   "metadata": {
    "slideshow": {
     "slide_type": "subslide"
    }
   },
   "source": [
    "### HTTP response code\n",
    "\n",
    "HTTP라는 프로토콜 규격에 따라서 응답 데이터에 응답 코드를 함께 받음  \n",
    "https://www.w3.org/Protocols/rfc2616/rfc2616-sec10.html\n",
    "\n",
    "응답코드가 200인 경우는 정상 응답"
   ]
  },
  {
   "cell_type": "code",
   "execution_count": null,
   "id": "555a3ac9",
   "metadata": {
    "slideshow": {
     "slide_type": "fragment"
    }
   },
   "outputs": [],
   "source": [
    "res = requests.get('https://job.alio.go.kr/orginfoview.do?apba_id=C0847')\n",
    "print(res.status_code)"
   ]
  },
  {
   "cell_type": "code",
   "execution_count": null,
   "id": "a69885b1",
   "metadata": {
    "slideshow": {
     "slide_type": "fragment"
    }
   },
   "outputs": [],
   "source": [
    "import requests\n",
    "from bs4 import BeautifulSoup\n",
    "\n",
    "pub_contents = []\n",
    "for u in pub_url:\n",
    "    apba_id = u.split(\"'\")[1]\n",
    "    pub_real_url = 'https://job.alio.go.kr/orginfoview.do?apba_id=' + apba_id\n",
    "\n",
    "    res = requests.get(pub_real_url)\n",
    "    time.sleep(2)\n",
    "    \n",
    "    if res.status_code == 200:\n",
    "        print(f'processing {apba_id}')\n",
    "\n",
    "        soup = BeautifulSoup(res.text, 'html.parser')\n",
    "        rows = soup.select('#txt > table > tbody > tr')\n",
    "        alio_dict = {}\n",
    "        \n",
    "        for r in rows:\n",
    "            header = r.select_one('th').get_text()\n",
    "            content = r.select_one('td').get_text()\n",
    "            alio_dict[header]=content\n",
    "\n",
    "        pub_contents.append(alio_dict)\n",
    "    else:\n",
    "        print(f'{apba_id}: {res.status_code}')"
   ]
  },
  {
   "cell_type": "markdown",
   "id": "085b9891",
   "metadata": {
    "slideshow": {
     "slide_type": "subslide"
    }
   },
   "source": [
    "### User Agents"
   ]
  },
  {
   "cell_type": "code",
   "execution_count": null,
   "id": "a592b5cb",
   "metadata": {
    "slideshow": {
     "slide_type": "fragment"
    }
   },
   "outputs": [],
   "source": [
    "import requests\n",
    "\n",
    "res = requests.get('https://naver.com')\n",
    "res.request.headers"
   ]
  },
  {
   "cell_type": "code",
   "execution_count": 8,
   "id": "ca027fef",
   "metadata": {
    "slideshow": {
     "slide_type": "fragment"
    }
   },
   "outputs": [
    {
     "data": {
      "text/plain": [
       "{'User-Agent': 'Mozilla/5.0 (Windows NT 10.0; Win64; x64) AppleWebKit/537.36 (KHTML, like Gecko) Chrome/92.0.4515.131 Safari/537.36', 'Accept-Encoding': 'gzip, deflate', 'Accept': '*/*', 'Connection': 'keep-alive'}"
      ]
     },
     "execution_count": 8,
     "metadata": {},
     "output_type": "execute_result"
    }
   ],
   "source": [
    "import requests\n",
    "\n",
    "headers = {\"User-Agent\":\"Mozilla/5.0 (Windows NT 10.0; Win64; x64) AppleWebKit/537.36 (KHTML, like Gecko) Chrome/92.0.4515.131 Safari/537.36\"}\n",
    "\n",
    "res = requests.get('https://naver.com', headers=headers)\n",
    "res.request.headers"
   ]
  },
  {
   "cell_type": "markdown",
   "id": "d1a8aebb",
   "metadata": {
    "slideshow": {
     "slide_type": "slide"
    }
   },
   "source": [
    "# 동적 웹페이지 구조"
   ]
  },
  {
   "cell_type": "markdown",
   "id": "f6855f85",
   "metadata": {
    "slideshow": {
     "slide_type": "fragment"
    }
   },
   "source": [
    "![network image2](./img/network_2.jpg)"
   ]
  },
  {
   "cell_type": "markdown",
   "id": "a186ed38",
   "metadata": {
    "slideshow": {
     "slide_type": "fragment"
    }
   },
   "source": [
    "![network image3](./img/network_3.jpg)"
   ]
  },
  {
   "cell_type": "markdown",
   "id": "4e47521a-89f7-4795-9f4a-c62ca9d38b78",
   "metadata": {
    "slideshow": {
     "slide_type": "slide"
    }
   },
   "source": [
    "# 예제 3: 서울복지포털\n",
    "\n",
    "https://wis.seoul.go.kr/hope/customizedSearch.do"
   ]
  },
  {
   "cell_type": "code",
   "execution_count": null,
   "id": "4e05abe7-f634-4299-b8e8-199d7e6cff39",
   "metadata": {
    "slideshow": {
     "slide_type": "fragment"
    }
   },
   "outputs": [],
   "source": [
    "from selenium import webdriver\n",
    "import pandas as pd\n",
    "import time"
   ]
  },
  {
   "cell_type": "code",
   "execution_count": null,
   "id": "50c2cd4a-437e-4946-9251-737ffe6bc88e",
   "metadata": {
    "slideshow": {
     "slide_type": "fragment"
    }
   },
   "outputs": [],
   "source": [
    "driver = webdriver.Chrome('./chromedriver.exe')\n",
    "url = 'https://wis.seoul.go.kr/hope/customizedSearch.do'\n",
    "driver.get(url)"
   ]
  },
  {
   "cell_type": "markdown",
   "id": "8b07905e",
   "metadata": {
    "slideshow": {
     "slide_type": "subslide"
    }
   },
   "source": [
    "## 방식 1"
   ]
  },
  {
   "cell_type": "code",
   "execution_count": null,
   "id": "325ab2a5",
   "metadata": {
    "scrolled": true,
    "slideshow": {
     "slide_type": "fragment"
    }
   },
   "outputs": [],
   "source": [
    "# //*[@id=\"content\"]/div[1]/div[2]/dl[1]/dd/div/div/table\n",
    "# //*[@id=\"content\"]/div[1]/div[2]/dl[2]/dd/div/div/table\n",
    "\n",
    "center_info = driver.find_elements_by_tag_name('table')\n",
    "print(len(center_info))\n",
    "for c in center_info:\n",
    "    print(c.text)"
   ]
  },
  {
   "cell_type": "markdown",
   "id": "8229a1fd",
   "metadata": {
    "slideshow": {
     "slide_type": "subslide"
    }
   },
   "source": [
    "## 방식 2"
   ]
  },
  {
   "cell_type": "code",
   "execution_count": null,
   "id": "b610b64e",
   "metadata": {
    "slideshow": {
     "slide_type": "fragment"
    }
   },
   "outputs": [],
   "source": [
    "center_list = []\n",
    "centers = driver.find_elements_by_xpath('//*[@id=\"content\"]/div[1]/div[2]/dl')\n",
    "for center in centers:\n",
    "    drop_btn = center.find_element_by_xpath('dt/button')\n",
    "    drop_btn.click()\n",
    "    time.sleep(2)\n",
    "    center_info = {}\n",
    "    ths = center.find_elements_by_tag_name('th')\n",
    "    tds = center.find_elements_by_tag_name('td')\n",
    "    for n in range(len(ths)):\n",
    "        center_info[ths[n].text]=tds[n].text\n",
    "    center_list.append(center_info)"
   ]
  },
  {
   "cell_type": "code",
   "execution_count": null,
   "id": "80386c9e",
   "metadata": {
    "slideshow": {
     "slide_type": "fragment"
    }
   },
   "outputs": [],
   "source": [
    "center_df = pd.DataFrame(center_list)\n",
    "center_df"
   ]
  },
  {
   "cell_type": "markdown",
   "id": "e368cd28",
   "metadata": {
    "slideshow": {
     "slide_type": "subslide"
    }
   },
   "source": [
    "## 방식 3"
   ]
  },
  {
   "cell_type": "code",
   "execution_count": null,
   "id": "49d9209b",
   "metadata": {
    "slideshow": {
     "slide_type": "fragment"
    }
   },
   "outputs": [],
   "source": [
    "from bs4 import BeautifulSoup\n",
    "\n",
    "soup = BeautifulSoup(driver.page_source, 'html.parser')\n",
    "centers = soup.select('#content > div.sub_content > div.board_t1.no_out > dl')\n",
    "center_list = []\n",
    "for center in centers:\n",
    "    center_info = {}\n",
    "    ths = center.select('th')\n",
    "    tds = center.select('td')\n",
    "    for n in range(len(ths)):\n",
    "        center_info[ths[n].get_text()]=tds[n].get_text()\n",
    "    center_list.append(center_info)"
   ]
  },
  {
   "cell_type": "code",
   "execution_count": null,
   "id": "2200cccf",
   "metadata": {
    "slideshow": {
     "slide_type": "fragment"
    }
   },
   "outputs": [],
   "source": [
    "center_df = pd.DataFrame(center_list)\n",
    "center_df"
   ]
  },
  {
   "cell_type": "markdown",
   "id": "393f7984",
   "metadata": {
    "slideshow": {
     "slide_type": "subslide"
    }
   },
   "source": [
    "## Pagination"
   ]
  },
  {
   "cell_type": "code",
   "execution_count": null,
   "id": "a3715406",
   "metadata": {
    "slideshow": {
     "slide_type": "fragment"
    }
   },
   "outputs": [],
   "source": [
    "from selenium import webdriver\n",
    "from bs4 import BeautifulSoup\n",
    "import pandas as pd\n",
    "import time"
   ]
  },
  {
   "cell_type": "code",
   "execution_count": null,
   "id": "94b33d38",
   "metadata": {
    "slideshow": {
     "slide_type": "fragment"
    }
   },
   "outputs": [],
   "source": [
    "driver = webdriver.Chrome('./chromedriver.exe')\n",
    "url = 'https://wis.seoul.go.kr/hope/customizedSearch.do'\n",
    "driver.get(url)"
   ]
  },
  {
   "cell_type": "code",
   "execution_count": null,
   "id": "2520b2e0",
   "metadata": {
    "slideshow": {
     "slide_type": "subslide"
    }
   },
   "outputs": [],
   "source": [
    "current_page_n = 1\n",
    "center_list = []\n",
    "while current_page_n < 3:\n",
    "    driver.execute_script(f'pagedIng({current_page_n});')\n",
    "    print(f'processing page {current_page_n}')\n",
    "    time.sleep(3)\n",
    "\n",
    "    soup = BeautifulSoup(driver.page_source, 'html.parser')\n",
    "    centers = soup.select('#content > div.sub_content > div.board_t1.no_out > dl')\n",
    "    \n",
    "    for center in centers:\n",
    "        center_info = {}\n",
    "        ths = center.select('th')\n",
    "        tds = center.select('td')\n",
    "        for n in range(len(ths)):\n",
    "            center_info[ths[n].get_text()]=tds[n].get_text().strip(' \\t')\n",
    "        center_list.append(center_info)\n",
    "        \n",
    "    current_page_n += 1"
   ]
  },
  {
   "cell_type": "code",
   "execution_count": null,
   "id": "74dbdcb5",
   "metadata": {
    "slideshow": {
     "slide_type": "fragment"
    }
   },
   "outputs": [],
   "source": [
    "center_df = pd.DataFrame(center_list)\n",
    "center_df"
   ]
  },
  {
   "cell_type": "markdown",
   "id": "c540203b",
   "metadata": {
    "slideshow": {
     "slide_type": "slide"
    }
   },
   "source": [
    "# 비교: 나라일터\n",
    "\n",
    "https://www.gojobs.go.kr/frameMenu.do?url=apmList.do%3FsearchJobsecode%3D050%26searchEmpmnsecode%3De05&menuNo=47&mngrMenuYn=N&message="
   ]
  }
 ],
 "metadata": {
  "celltoolbar": "Slideshow",
  "kernelspec": {
   "display_name": "Python 3",
   "language": "python",
   "name": "python3"
  },
  "language_info": {
   "codemirror_mode": {
    "name": "ipython",
    "version": 3
   },
   "file_extension": ".py",
   "mimetype": "text/x-python",
   "name": "python",
   "nbconvert_exporter": "python",
   "pygments_lexer": "ipython3",
   "version": "3.8.11"
  },
  "toc-autonumbering": false,
  "toc-showcode": false,
  "toc-showmarkdowntxt": false,
  "toc-showtags": false
 },
 "nbformat": 4,
 "nbformat_minor": 5
}
